{
 "cells": [
  {
   "cell_type": "markdown",
   "metadata": {},
   "source": [
    "<div style=\"line-height:0.5\">\n",
    "<h1 style=\"color:#F3F326 \"> Multioutput classification 1 </h1>\n",
    "</div>\n",
    "<div style=\"line-height:1.5\">\n",
    "<h4> Example of multilabel classification with various classifiers as basis. \n",
    "</h4>\n",
    "<br>\n",
    "<div style=\"margin-top: -50px;\">\n",
    "<span style=\"display: inline-block;\">\n",
    "    <h3 style=\"color: lightblue; display: inline;\">Keywords:</h3> jaccard_score + zero_one_loss + zero_division=1 option \n",
    "</span>\n",
    "</div>\n",
    "</div>"
   ]
  },
  {
   "cell_type": "code",
   "execution_count": 56,
   "metadata": {},
   "outputs": [
    {
     "name": "stdout",
     "output_type": "stream",
     "text": [
      "Skipping since already installed\n"
     ]
    }
   ],
   "source": [
    "%%script echo Skipping since already installed\n",
    "!pip install -U scikit-learn"
   ]
  },
  {
   "cell_type": "code",
   "execution_count": 57,
   "metadata": {},
   "outputs": [],
   "source": [
    "import numpy as np\n",
    "\n",
    "from sklearn.svm import SVC \n",
    "from sklearn.metrics import accuracy_score\n",
    "from sklearn.tree import DecisionTreeClassifier\n",
    "from sklearn.neighbors import KNeighborsClassifier\n",
    "from sklearn.linear_model import LogisticRegression\n",
    "from sklearn.ensemble import RandomForestClassifier, GradientBoostingClassifier\n",
    "from sklearn.multioutput import MultiOutputClassifier\n",
    "\n",
    "from sklearn.model_selection import train_test_split\n",
    "from sklearn.datasets import make_multilabel_classification\n",
    "from sklearn.metrics import hamming_loss, jaccard_score, f1_score, classification_report, zero_one_loss"
   ]
  },
  {
   "cell_type": "code",
   "execution_count": 58,
   "metadata": {},
   "outputs": [
    {
     "data": {
      "text/plain": [
       "(numpy.ndarray,\n",
       " array([[0., 1., 0., 0., 0., 3., 2., 8., 4., 1., 4., 0., 0., 5., 2., 0.,\n",
       "         6., 5., 0., 5.],\n",
       "        [2., 3., 0., 2., 0., 1., 2., 6., 3., 2., 7., 0., 0., 7., 2., 0.,\n",
       "         6., 2., 0., 1.],\n",
       "        [1., 0., 7., 0., 1., 3., 0., 1., 0., 2., 5., 2., 1., 1., 2., 2.,\n",
       "         3., 4., 2., 4.],\n",
       "        [3., 4., 3., 4., 1., 5., 3., 1., 4., 1., 4., 2., 1., 0., 5., 5.,\n",
       "         6., 3., 1., 6.],\n",
       "        [2., 3., 0., 0., 1., 1., 1., 1., 1., 2., 7., 0., 0., 4., 2., 1.,\n",
       "         6., 5., 0., 2.],\n",
       "        [0., 5., 1., 4., 2., 3., 0., 1., 2., 1., 6., 0., 0., 1., 2., 2.,\n",
       "         3., 4., 0., 0.]]),\n",
       " array([[0, 1, 0],\n",
       "        [0, 0, 0],\n",
       "        [1, 1, 1],\n",
       "        ...,\n",
       "        [0, 0, 0],\n",
       "        [0, 1, 0],\n",
       "        [0, 0, 0]]))"
      ]
     },
     "execution_count": 58,
     "metadata": {},
     "output_type": "execute_result"
    }
   ],
   "source": [
    "# Generate a synthetic dataset\n",
    "X, y = make_multilabel_classification(n_samples=10000, n_features=20, n_classes=3, n_labels=2, random_state=42)\n",
    "# Split the dataset\n",
    "X_train, X_test, y_train, y_test = train_test_split(X, y, test_size=0.2, random_state=98)\n",
    "type(X_train), X_test[:6], y"
   ]
  },
  {
   "cell_type": "code",
   "execution_count": 59,
   "metadata": {},
   "outputs": [
    {
     "data": {
      "text/plain": [
       "(array([[0, 1, 0],\n",
       "        [0, 0, 0],\n",
       "        [1, 1, 1],\n",
       "        [1, 1, 0],\n",
       "        [0, 1, 0],\n",
       "        [1, 1, 0],\n",
       "        [1, 1, 1],\n",
       "        [0, 0, 0],\n",
       "        [1, 1, 1],\n",
       "        [0, 1, 1]]),\n",
       " array([False,  True, False, False, False, False, False,  True, False,\n",
       "        False]),\n",
       " array([1, 7]))"
      ]
     },
     "execution_count": 59,
     "metadata": {},
     "output_type": "execute_result"
    }
   ],
   "source": [
    "# Find the sum along axis 1 (columns) and compare it to 0 to create a boolean array\n",
    "zero_rows = np.sum(y, axis=1) == 0\n",
    "zero_row_indices = np.where(zero_rows)[0]\n",
    "\n",
    "y[:10], zero_rows[:10], zero_row_indices[:2]"
   ]
  },
  {
   "cell_type": "markdown",
   "metadata": {},
   "source": [
    "<h2 style=\"color:#F3F326 \"> #1 with K-Nearest Neighbors </h2>"
   ]
  },
  {
   "cell_type": "code",
   "execution_count": 60,
   "metadata": {},
   "outputs": [],
   "source": [
    "# Initialize the base classifier\n",
    "knn = KNeighborsClassifier(n_neighbors=3)\n",
    "# Create the MultiOutputClassifier\n",
    "multi_target_knn = MultiOutputClassifier(knn, n_jobs=-1)"
   ]
  },
  {
   "cell_type": "code",
   "execution_count": 61,
   "metadata": {},
   "outputs": [
    {
     "data": {
      "text/plain": [
       "array([[0, 1, 0],\n",
       "       [0, 1, 0],\n",
       "       [1, 0, 1],\n",
       "       [1, 0, 1],\n",
       "       [0, 1, 0],\n",
       "       [1, 1, 1],\n",
       "       [1, 1, 1]])"
      ]
     },
     "execution_count": 61,
     "metadata": {},
     "output_type": "execute_result"
    }
   ],
   "source": [
    "# Train the MultiOutputClassifier\n",
    "multi_target_knn.fit(X_train, y_train)\n",
    "\n",
    "# Predicting\n",
    "predictions = multi_target_knn.predict(X_test)\n",
    "predictions[:7]"
   ]
  },
  {
   "cell_type": "markdown",
   "metadata": {},
   "source": [
    "<h4 style=\"color:#F3F326 \"> => Model evaluation with metrics #1 </h4>"
   ]
  },
  {
   "cell_type": "code",
   "execution_count": 62,
   "metadata": {},
   "outputs": [
    {
     "name": "stdout",
     "output_type": "stream",
     "text": [
      "Model Accuracy is: 66.35%\n",
      "Hamming Loss is: 0.15\n",
      "Jaccard Score is: 0.81\n",
      "F1 Score is: 0.85\n",
      "Zero-one Loss is: 0.34\n"
     ]
    }
   ],
   "source": [
    "# Accuracy \n",
    "accuracy = accuracy_score(y_test, predictions)\n",
    "# Hamming Loss\n",
    "hamming_loss_value = hamming_loss(y_test, predictions)\n",
    "# Jaccard Score\n",
    "jaccard_score_value = jaccard_score(y_test, predictions, average='samples', zero_division=1)\n",
    "# F1 Score\n",
    "f1_score_value = f1_score(y_test, predictions, average='micro', zero_division=1)\n",
    "# Zero-one Loss\n",
    "zero_one_loss_value = zero_one_loss(y_test, predictions)\n",
    "\n",
    "print(f\"Model Accuracy is: {accuracy * 100:.2f}%\")\n",
    "print(f\"Hamming Loss is: {hamming_loss_value:.2f}\")\n",
    "print(f\"Jaccard Score is: {jaccard_score_value:.2f}\")\n",
    "print(f\"F1 Score is: {f1_score_value:.2f}\")\n",
    "print(f\"Zero-one Loss is: {zero_one_loss_value:.2f}\")"
   ]
  },
  {
   "cell_type": "code",
   "execution_count": 63,
   "metadata": {},
   "outputs": [
    {
     "name": "stdout",
     "output_type": "stream",
     "text": [
      "Classification Report:\n",
      "              precision    recall  f1-score   support\n",
      "\n",
      "           0       0.77      0.76      0.77       828\n",
      "           1       0.88      0.94      0.91      1184\n",
      "           2       0.84      0.88      0.86      1098\n",
      "\n",
      "   micro avg       0.84      0.87      0.85      3110\n",
      "   macro avg       0.83      0.86      0.84      3110\n",
      "weighted avg       0.84      0.87      0.85      3110\n",
      " samples avg       0.89      0.92      0.85      3110\n",
      "\n"
     ]
    }
   ],
   "source": [
    "# Classification Report\n",
    "report = classification_report(y_test, predictions, zero_division=1)\n",
    "print(\"Classification Report:\")\n",
    "print(report)"
   ]
  },
  {
   "cell_type": "markdown",
   "metadata": {},
   "source": [
    "<h3 style=\"color:#F3F326 \"> Notes: </h3> \n",
    "<div style=\"margin-top: -20px;\">\n",
    "Certain metrics like Jaccard, Precision, Recall, and F-score can be undefined in multilabel classification scenarios. <br>\n",
    "Undefined scenarios in multilabel classification are quite common in multilabel classification tasks due to the complexity and imbalance often present in the label space. <br>\n",
    "In fact, the presence of samples with all-zero labels (either in prediction or ground truth) makes the denominators of the formulas zero, due to the lacking of TP / TN or FP / FN. <br>\n",
    "Moreover, there are cases where there’s no intersection or union between the predicted and true labels. <br>\n",
    "\n",
    "Since those metrics can be be misleading, the 'UndefinedMetricWarning' is triggered! <br> \n",
    "To avoid the warning...set 'zero_division' option to 1!\n",
    "</div>"
   ]
  },
  {
   "cell_type": "markdown",
   "metadata": {},
   "source": [
    "<h2 style=\"color:#F3F326 \"> #2 with Decision Tree </h2>"
   ]
  },
  {
   "cell_type": "code",
   "execution_count": 64,
   "metadata": {},
   "outputs": [
    {
     "data": {
      "text/html": [
       "<style>#sk-container-id-7 {color: black;background-color: white;}#sk-container-id-7 pre{padding: 0;}#sk-container-id-7 div.sk-toggleable {background-color: white;}#sk-container-id-7 label.sk-toggleable__label {cursor: pointer;display: block;width: 100%;margin-bottom: 0;padding: 0.3em;box-sizing: border-box;text-align: center;}#sk-container-id-7 label.sk-toggleable__label-arrow:before {content: \"▸\";float: left;margin-right: 0.25em;color: #696969;}#sk-container-id-7 label.sk-toggleable__label-arrow:hover:before {color: black;}#sk-container-id-7 div.sk-estimator:hover label.sk-toggleable__label-arrow:before {color: black;}#sk-container-id-7 div.sk-toggleable__content {max-height: 0;max-width: 0;overflow: hidden;text-align: left;background-color: #f0f8ff;}#sk-container-id-7 div.sk-toggleable__content pre {margin: 0.2em;color: black;border-radius: 0.25em;background-color: #f0f8ff;}#sk-container-id-7 input.sk-toggleable__control:checked~div.sk-toggleable__content {max-height: 200px;max-width: 100%;overflow: auto;}#sk-container-id-7 input.sk-toggleable__control:checked~label.sk-toggleable__label-arrow:before {content: \"▾\";}#sk-container-id-7 div.sk-estimator input.sk-toggleable__control:checked~label.sk-toggleable__label {background-color: #d4ebff;}#sk-container-id-7 div.sk-label input.sk-toggleable__control:checked~label.sk-toggleable__label {background-color: #d4ebff;}#sk-container-id-7 input.sk-hidden--visually {border: 0;clip: rect(1px 1px 1px 1px);clip: rect(1px, 1px, 1px, 1px);height: 1px;margin: -1px;overflow: hidden;padding: 0;position: absolute;width: 1px;}#sk-container-id-7 div.sk-estimator {font-family: monospace;background-color: #f0f8ff;border: 1px dotted black;border-radius: 0.25em;box-sizing: border-box;margin-bottom: 0.5em;}#sk-container-id-7 div.sk-estimator:hover {background-color: #d4ebff;}#sk-container-id-7 div.sk-parallel-item::after {content: \"\";width: 100%;border-bottom: 1px solid gray;flex-grow: 1;}#sk-container-id-7 div.sk-label:hover label.sk-toggleable__label {background-color: #d4ebff;}#sk-container-id-7 div.sk-serial::before {content: \"\";position: absolute;border-left: 1px solid gray;box-sizing: border-box;top: 0;bottom: 0;left: 50%;z-index: 0;}#sk-container-id-7 div.sk-serial {display: flex;flex-direction: column;align-items: center;background-color: white;padding-right: 0.2em;padding-left: 0.2em;position: relative;}#sk-container-id-7 div.sk-item {position: relative;z-index: 1;}#sk-container-id-7 div.sk-parallel {display: flex;align-items: stretch;justify-content: center;background-color: white;position: relative;}#sk-container-id-7 div.sk-item::before, #sk-container-id-7 div.sk-parallel-item::before {content: \"\";position: absolute;border-left: 1px solid gray;box-sizing: border-box;top: 0;bottom: 0;left: 50%;z-index: -1;}#sk-container-id-7 div.sk-parallel-item {display: flex;flex-direction: column;z-index: 1;position: relative;background-color: white;}#sk-container-id-7 div.sk-parallel-item:first-child::after {align-self: flex-end;width: 50%;}#sk-container-id-7 div.sk-parallel-item:last-child::after {align-self: flex-start;width: 50%;}#sk-container-id-7 div.sk-parallel-item:only-child::after {width: 0;}#sk-container-id-7 div.sk-dashed-wrapped {border: 1px dashed gray;margin: 0 0.4em 0.5em 0.4em;box-sizing: border-box;padding-bottom: 0.4em;background-color: white;}#sk-container-id-7 div.sk-label label {font-family: monospace;font-weight: bold;display: inline-block;line-height: 1.2em;}#sk-container-id-7 div.sk-label-container {text-align: center;}#sk-container-id-7 div.sk-container {/* jupyter's `normalize.less` sets `[hidden] { display: none; }` but bootstrap.min.css set `[hidden] { display: none !important; }` so we also need the `!important` here to be able to override the default hidden behavior on the sphinx rendered scikit-learn.org. See: https://github.com/scikit-learn/scikit-learn/issues/21755 */display: inline-block !important;position: relative;}#sk-container-id-7 div.sk-text-repr-fallback {display: none;}</style><div id=\"sk-container-id-7\" class=\"sk-top-container\"><div class=\"sk-text-repr-fallback\"><pre>MultiOutputClassifier(estimator=DecisionTreeClassifier(random_state=42))</pre><b>In a Jupyter environment, please rerun this cell to show the HTML representation or trust the notebook. <br />On GitHub, the HTML representation is unable to render, please try loading this page with nbviewer.org.</b></div><div class=\"sk-container\" hidden><div class=\"sk-item sk-dashed-wrapped\"><div class=\"sk-label-container\"><div class=\"sk-label sk-toggleable\"><input class=\"sk-toggleable__control sk-hidden--visually\" id=\"sk-estimator-id-19\" type=\"checkbox\" ><label for=\"sk-estimator-id-19\" class=\"sk-toggleable__label sk-toggleable__label-arrow\">MultiOutputClassifier</label><div class=\"sk-toggleable__content\"><pre>MultiOutputClassifier(estimator=DecisionTreeClassifier(random_state=42))</pre></div></div></div><div class=\"sk-parallel\"><div class=\"sk-parallel-item\"><div class=\"sk-item\"><div class=\"sk-label-container\"><div class=\"sk-label sk-toggleable\"><input class=\"sk-toggleable__control sk-hidden--visually\" id=\"sk-estimator-id-20\" type=\"checkbox\" ><label for=\"sk-estimator-id-20\" class=\"sk-toggleable__label sk-toggleable__label-arrow\">estimator: DecisionTreeClassifier</label><div class=\"sk-toggleable__content\"><pre>DecisionTreeClassifier(random_state=42)</pre></div></div></div><div class=\"sk-serial\"><div class=\"sk-item\"><div class=\"sk-estimator sk-toggleable\"><input class=\"sk-toggleable__control sk-hidden--visually\" id=\"sk-estimator-id-21\" type=\"checkbox\" ><label for=\"sk-estimator-id-21\" class=\"sk-toggleable__label sk-toggleable__label-arrow\">DecisionTreeClassifier</label><div class=\"sk-toggleable__content\"><pre>DecisionTreeClassifier(random_state=42)</pre></div></div></div></div></div></div></div></div></div></div>"
      ],
      "text/plain": [
       "MultiOutputClassifier(estimator=DecisionTreeClassifier(random_state=42))"
      ]
     },
     "execution_count": 64,
     "metadata": {},
     "output_type": "execute_result"
    }
   ],
   "source": [
    "# Initialize the base classifier\n",
    "dt_classifier = DecisionTreeClassifier(random_state=42)\n",
    "# Initialize the multi-output classifier\n",
    "dt_multioutput = MultiOutputClassifier(dt_classifier)\n",
    "\n",
    "# Train\n",
    "dt_multioutput.fit(X_train, y_train)"
   ]
  },
  {
   "cell_type": "code",
   "execution_count": 65,
   "metadata": {},
   "outputs": [
    {
     "data": {
      "text/plain": [
       "array([[0, 1, 0],\n",
       "       [0, 1, 0],\n",
       "       [1, 0, 1],\n",
       "       [1, 1, 1],\n",
       "       [0, 1, 0],\n",
       "       [1, 1, 0],\n",
       "       [1, 1, 1],\n",
       "       [1, 1, 0],\n",
       "       [1, 1, 1]])"
      ]
     },
     "execution_count": 65,
     "metadata": {},
     "output_type": "execute_result"
    }
   ],
   "source": [
    "y_pred = dt_multioutput.predict(X_test)\n",
    "y_pred[:9]"
   ]
  },
  {
   "cell_type": "markdown",
   "metadata": {},
   "source": [
    "<h4 style=\"color:#F3F326 \"> => Model evaluation with metrics #2 </h4>"
   ]
  },
  {
   "cell_type": "code",
   "execution_count": 66,
   "metadata": {},
   "outputs": [
    {
     "name": "stdout",
     "output_type": "stream",
     "text": [
      "Model Accuracy is: 52.10%\n",
      "Hamming Loss is: 0.21\n",
      "Jaccard Score is: 0.71\n",
      "F1 Score is: 0.80\n",
      "Zero-one Loss is: 0.48\n"
     ]
    }
   ],
   "source": [
    "# Accuracy \n",
    "accuracy = accuracy_score(y_test, y_pred)\n",
    "# Hamming Loss\n",
    "hamming_loss_value = hamming_loss(y_test, y_pred)\n",
    "# Jaccard Score\n",
    "jaccard_score_value = jaccard_score(y_test, y_pred, average='samples', zero_division=1)\n",
    "# F1 Score\n",
    "f1_score_value = f1_score(y_test, y_pred, average='micro', zero_division=1)\n",
    "# Zero-one Loss\n",
    "zero_one_loss_value = zero_one_loss(y_test, y_pred)\n",
    "\n",
    "print(f\"Model Accuracy is: {accuracy * 100:.2f}%\")\n",
    "print(f\"Hamming Loss is: {hamming_loss_value:.2f}\")\n",
    "print(f\"Jaccard Score is: {jaccard_score_value:.2f}\")\n",
    "print(f\"F1 Score is: {f1_score_value:.2f}\")\n",
    "print(f\"Zero-one Loss is: {zero_one_loss_value:.2f}\")"
   ]
  },
  {
   "cell_type": "code",
   "execution_count": 67,
   "metadata": {},
   "outputs": [
    {
     "name": "stdout",
     "output_type": "stream",
     "text": [
      "Classification Report:\n",
      "              precision    recall  f1-score   support\n",
      "\n",
      "           0       0.69      0.69      0.69       828\n",
      "           1       0.85      0.88      0.86      1184\n",
      "           2       0.79      0.81      0.80      1098\n",
      "\n",
      "   micro avg       0.79      0.80      0.80      3110\n",
      "   macro avg       0.78      0.79      0.78      3110\n",
      "weighted avg       0.79      0.80      0.80      3110\n",
      " samples avg       0.82      0.87      0.76      3110\n",
      "\n"
     ]
    }
   ],
   "source": [
    "# Classification Report\n",
    "report = classification_report(y_test, y_pred, zero_division=1)\n",
    "print(\"Classification Report:\")\n",
    "print(report)"
   ]
  },
  {
   "cell_type": "markdown",
   "metadata": {},
   "source": [
    "<h2 style=\"color:#F3F326 \"> #3 with Support Vector Machine </h2>"
   ]
  },
  {
   "cell_type": "code",
   "execution_count": 68,
   "metadata": {},
   "outputs": [],
   "source": [
    "# Initialize the base classifier\n",
    "svc_classifier = SVC(probability=True, random_state=42)\n",
    "\n",
    "# Initialize the multi-output classifier\n",
    "svc_multioutput = MultiOutputClassifier(svc_classifier)\n",
    "\n",
    "# Train \n",
    "svc_multioutput.fit(X_train, y_train);  #add semicolon to avoid output "
   ]
  },
  {
   "cell_type": "code",
   "execution_count": 69,
   "metadata": {},
   "outputs": [
    {
     "data": {
      "text/plain": [
       "array([[0, 1, 0],\n",
       "       [0, 1, 0],\n",
       "       [1, 0, 1],\n",
       "       [1, 1, 1],\n",
       "       [0, 1, 0],\n",
       "       [1, 1, 0],\n",
       "       [1, 1, 1],\n",
       "       [1, 1, 0],\n",
       "       [1, 1, 1]])"
      ]
     },
     "execution_count": 69,
     "metadata": {},
     "output_type": "execute_result"
    }
   ],
   "source": [
    "y_pred = dt_multioutput.predict(X_test)\n",
    "y_pred[:9]"
   ]
  },
  {
   "cell_type": "markdown",
   "metadata": {},
   "source": [
    "<h4 style=\"color:#F3F326 \"> => Model evaluation with metrics </h4>"
   ]
  },
  {
   "cell_type": "code",
   "execution_count": 70,
   "metadata": {},
   "outputs": [
    {
     "name": "stdout",
     "output_type": "stream",
     "text": [
      "Model Accuracy is: 66.35%\n",
      "Hamming Loss is: 0.15\n",
      "Jaccard Score is: 0.81\n",
      "F1 Score is: 0.85\n",
      "Zero-one Loss is: 0.34\n"
     ]
    }
   ],
   "source": [
    "# Accuracy \n",
    "accuracy = accuracy_score(y_test, predictions)\n",
    "# Hamming Loss\n",
    "hamming_loss_value = hamming_loss(y_test, predictions)\n",
    "# Jaccard Score\n",
    "jaccard_score_value = jaccard_score(y_test, predictions, average='samples', zero_division=1)\n",
    "# F1 Score\n",
    "f1_score_value = f1_score(y_test, predictions, average='micro', zero_division=1)\n",
    "# Zero-one Loss\n",
    "zero_one_loss_value = zero_one_loss(y_test, predictions)\n",
    "\n",
    "print(f\"Model Accuracy is: {accuracy * 100:.2f}%\")\n",
    "print(f\"Hamming Loss is: {hamming_loss_value:.2f}\")\n",
    "print(f\"Jaccard Score is: {jaccard_score_value:.2f}\")\n",
    "print(f\"F1 Score is: {f1_score_value:.2f}\")\n",
    "print(f\"Zero-one Loss is: {zero_one_loss_value:.2f}\")"
   ]
  },
  {
   "cell_type": "code",
   "execution_count": 71,
   "metadata": {},
   "outputs": [
    {
     "name": "stdout",
     "output_type": "stream",
     "text": [
      "Classification Report:\n",
      "              precision    recall  f1-score   support\n",
      "\n",
      "           0       0.69      0.69      0.69       828\n",
      "           1       0.85      0.88      0.86      1184\n",
      "           2       0.79      0.81      0.80      1098\n",
      "\n",
      "   micro avg       0.79      0.80      0.80      3110\n",
      "   macro avg       0.78      0.79      0.78      3110\n",
      "weighted avg       0.79      0.80      0.80      3110\n",
      " samples avg       0.82      0.87      0.76      3110\n",
      "\n"
     ]
    }
   ],
   "source": [
    "report = classification_report(y_test, y_pred, zero_division=1)\n",
    "print(\"Classification Report:\")\n",
    "print(report)"
   ]
  },
  {
   "cell_type": "markdown",
   "metadata": {},
   "source": [
    "<h2 style=\"color:#F3F326 \"> #4 with Logistic Regression </h2>"
   ]
  },
  {
   "cell_type": "code",
   "execution_count": 72,
   "metadata": {},
   "outputs": [],
   "source": [
    "# Initialize the base classifier\n",
    "lr_classifier = LogisticRegression(solver='lbfgs', random_state=42)\n",
    "# Initialize the multi-output classifier\n",
    "lr_multioutput = MultiOutputClassifier(lr_classifier)\n",
    "# Train the classifier\n",
    "lr_multioutput.fit(X_train, y_train);"
   ]
  },
  {
   "cell_type": "code",
   "execution_count": 73,
   "metadata": {},
   "outputs": [
    {
     "data": {
      "text/plain": [
       "array([[0, 1, 0],\n",
       "       [0, 1, 0],\n",
       "       [1, 0, 1],\n",
       "       [1, 1, 1],\n",
       "       [0, 1, 0],\n",
       "       [1, 1, 0],\n",
       "       [1, 1, 1],\n",
       "       [1, 1, 0],\n",
       "       [1, 1, 1]])"
      ]
     },
     "execution_count": 73,
     "metadata": {},
     "output_type": "execute_result"
    }
   ],
   "source": [
    "y_pred = dt_multioutput.predict(X_test)\n",
    "y_pred[:9]"
   ]
  },
  {
   "cell_type": "markdown",
   "metadata": {},
   "source": [
    "<h4 style=\"color:#F3F326 \"> => Model evaluation with metrics #4 </h4>"
   ]
  },
  {
   "cell_type": "code",
   "execution_count": 74,
   "metadata": {},
   "outputs": [
    {
     "name": "stdout",
     "output_type": "stream",
     "text": [
      "Model Accuracy is: 66.35%\n",
      "Hamming Loss is: 0.15\n",
      "Jaccard Score is: 0.81\n",
      "F1 Score is: 0.85\n",
      "Zero-one Loss is: 0.34\n"
     ]
    }
   ],
   "source": [
    "# Accuracy \n",
    "accuracy = accuracy_score(y_test, predictions)\n",
    "# Hamming Loss\n",
    "hamming_loss_value = hamming_loss(y_test, predictions)\n",
    "# Jaccard Score\n",
    "jaccard_score_value = jaccard_score(y_test, predictions, average='samples', zero_division=1)\n",
    "# F1 Score\n",
    "f1_score_value = f1_score(y_test, predictions, average='micro', zero_division=1)\n",
    "# Zero-one Loss\n",
    "zero_one_loss_value = zero_one_loss(y_test, predictions)\n",
    "\n",
    "print(f\"Model Accuracy is: {accuracy * 100:.2f}%\")\n",
    "print(f\"Hamming Loss is: {hamming_loss_value:.2f}\")\n",
    "print(f\"Jaccard Score is: {jaccard_score_value:.2f}\")\n",
    "print(f\"F1 Score is: {f1_score_value:.2f}\")\n",
    "print(f\"Zero-one Loss is: {zero_one_loss_value:.2f}\")"
   ]
  },
  {
   "cell_type": "code",
   "execution_count": 75,
   "metadata": {},
   "outputs": [
    {
     "name": "stdout",
     "output_type": "stream",
     "text": [
      "Classification Report:\n",
      "              precision    recall  f1-score   support\n",
      "\n",
      "           0       0.69      0.69      0.69       828\n",
      "           1       0.85      0.88      0.86      1184\n",
      "           2       0.79      0.81      0.80      1098\n",
      "\n",
      "   micro avg       0.79      0.80      0.80      3110\n",
      "   macro avg       0.78      0.79      0.78      3110\n",
      "weighted avg       0.79      0.80      0.80      3110\n",
      " samples avg       0.82      0.87      0.76      3110\n",
      "\n"
     ]
    }
   ],
   "source": [
    "report = classification_report(y_test, y_pred, zero_division=1)\n",
    "print(\"Classification Report:\")\n",
    "print(report)"
   ]
  },
  {
   "cell_type": "markdown",
   "metadata": {},
   "source": [
    "<h2 style=\"color:#F3F326 \"> #5 with Random Forest </h2>"
   ]
  },
  {
   "cell_type": "code",
   "execution_count": 76,
   "metadata": {},
   "outputs": [],
   "source": [
    "# Initialize the base classifier\n",
    "rf_classifier = RandomForestClassifier(n_estimators=100, random_state=42)\n",
    "\n",
    "# Initialize the multi-output classifier\n",
    "rf_multioutput = MultiOutputClassifier(rf_classifier)\n",
    "\n",
    "# Train the classifier\n",
    "rf_multioutput.fit(X_train, y_train);"
   ]
  },
  {
   "cell_type": "code",
   "execution_count": 77,
   "metadata": {},
   "outputs": [
    {
     "data": {
      "text/plain": [
       "array([[0, 1, 0],\n",
       "       [0, 1, 0],\n",
       "       [1, 0, 1],\n",
       "       [1, 1, 1],\n",
       "       [0, 1, 0],\n",
       "       [1, 1, 0],\n",
       "       [1, 1, 1],\n",
       "       [1, 1, 0],\n",
       "       [1, 1, 1]])"
      ]
     },
     "execution_count": 77,
     "metadata": {},
     "output_type": "execute_result"
    }
   ],
   "source": [
    "y_pred = dt_multioutput.predict(X_test)\n",
    "y_pred[:9]"
   ]
  },
  {
   "cell_type": "markdown",
   "metadata": {},
   "source": [
    "<h4 style=\"color:#F3F326 \"> => Model evaluation with metrics #5 </h4>"
   ]
  },
  {
   "cell_type": "code",
   "execution_count": 78,
   "metadata": {},
   "outputs": [
    {
     "name": "stdout",
     "output_type": "stream",
     "text": [
      "Model Accuracy is: 66.35%\n",
      "Hamming Loss is: 0.15\n",
      "Jaccard Score is: 0.81\n",
      "F1 Score is: 0.85\n",
      "Zero-one Loss is: 0.34\n"
     ]
    }
   ],
   "source": [
    "# Accuracy \n",
    "accuracy = accuracy_score(y_test, predictions)\n",
    "# Hamming Loss\n",
    "hamming_loss_value = hamming_loss(y_test, predictions)\n",
    "# Jaccard Score\n",
    "jaccard_score_value = jaccard_score(y_test, predictions, average='samples', zero_division=1)\n",
    "# F1 Score\n",
    "f1_score_value = f1_score(y_test, predictions, average='micro', zero_division=1)\n",
    "# Zero-one Loss\n",
    "zero_one_loss_value = zero_one_loss(y_test, predictions)\n",
    "\n",
    "print(f\"Model Accuracy is: {accuracy * 100:.2f}%\")\n",
    "print(f\"Hamming Loss is: {hamming_loss_value:.2f}\")\n",
    "print(f\"Jaccard Score is: {jaccard_score_value:.2f}\")\n",
    "print(f\"F1 Score is: {f1_score_value:.2f}\")\n",
    "print(f\"Zero-one Loss is: {zero_one_loss_value:.2f}\")"
   ]
  },
  {
   "cell_type": "code",
   "execution_count": 79,
   "metadata": {},
   "outputs": [
    {
     "name": "stdout",
     "output_type": "stream",
     "text": [
      "Classification Report:\n",
      "              precision    recall  f1-score   support\n",
      "\n",
      "           0       0.69      0.69      0.69       828\n",
      "           1       0.85      0.88      0.86      1184\n",
      "           2       0.79      0.81      0.80      1098\n",
      "\n",
      "   micro avg       0.79      0.80      0.80      3110\n",
      "   macro avg       0.78      0.79      0.78      3110\n",
      "weighted avg       0.79      0.80      0.80      3110\n",
      " samples avg       0.82      0.87      0.76      3110\n",
      "\n"
     ]
    }
   ],
   "source": [
    "report = classification_report(y_test, y_pred, zero_division=1)\n",
    "print(\"Classification Report:\")\n",
    "print(report)"
   ]
  },
  {
   "cell_type": "markdown",
   "metadata": {},
   "source": [
    "<h2 style=\"color:#F3F326 \"> #6 withGradient Boosting </h2>"
   ]
  },
  {
   "cell_type": "code",
   "execution_count": 80,
   "metadata": {},
   "outputs": [],
   "source": [
    "# Initialize the base classifier\n",
    "gb_classifier = GradientBoostingClassifier(n_estimators=100, random_state=42)\n",
    "# Initialize the multi-output classifier\n",
    "gb_multioutput = MultiOutputClassifier(gb_classifier)\n",
    "\n",
    "# Train the classifier\n",
    "gb_multioutput.fit(X_train, y_train);"
   ]
  },
  {
   "cell_type": "code",
   "execution_count": 81,
   "metadata": {},
   "outputs": [
    {
     "data": {
      "text/plain": [
       "array([[0, 1, 0],\n",
       "       [0, 1, 0],\n",
       "       [1, 0, 1],\n",
       "       [1, 1, 1],\n",
       "       [0, 1, 0],\n",
       "       [1, 1, 0],\n",
       "       [1, 1, 1],\n",
       "       [1, 1, 0],\n",
       "       [1, 1, 1]])"
      ]
     },
     "execution_count": 81,
     "metadata": {},
     "output_type": "execute_result"
    }
   ],
   "source": [
    "y_pred = dt_multioutput.predict(X_test)\n",
    "y_pred[:9]"
   ]
  },
  {
   "cell_type": "markdown",
   "metadata": {},
   "source": [
    "<h4 style=\"color:#F3F326 \"> => Model evaluation with metrics #6 </h4>"
   ]
  },
  {
   "cell_type": "code",
   "execution_count": 82,
   "metadata": {},
   "outputs": [
    {
     "name": "stdout",
     "output_type": "stream",
     "text": [
      "Model Accuracy is: 66.35%\n",
      "Hamming Loss is: 0.15\n",
      "Jaccard Score is: 0.81\n",
      "F1 Score is: 0.85\n",
      "Zero-one Loss is: 0.34\n"
     ]
    }
   ],
   "source": [
    "# Accuracy \n",
    "accuracy = accuracy_score(y_test, predictions)\n",
    "# Hamming Loss\n",
    "hamming_loss_value = hamming_loss(y_test, predictions)\n",
    "# Jaccard Score\n",
    "jaccard_score_value = jaccard_score(y_test, predictions, average='samples', zero_division=1)\n",
    "# F1 Score\n",
    "f1_score_value = f1_score(y_test, predictions, average='micro', zero_division=1)\n",
    "# Zero-one Loss\n",
    "zero_one_loss_value = zero_one_loss(y_test, predictions)\n",
    "\n",
    "print(f\"Model Accuracy is: {accuracy * 100:.2f}%\")\n",
    "print(f\"Hamming Loss is: {hamming_loss_value:.2f}\")\n",
    "print(f\"Jaccard Score is: {jaccard_score_value:.2f}\")\n",
    "print(f\"F1 Score is: {f1_score_value:.2f}\")\n",
    "print(f\"Zero-one Loss is: {zero_one_loss_value:.2f}\")"
   ]
  },
  {
   "cell_type": "code",
   "execution_count": 83,
   "metadata": {},
   "outputs": [
    {
     "name": "stdout",
     "output_type": "stream",
     "text": [
      "Classification Report:\n",
      "              precision    recall  f1-score   support\n",
      "\n",
      "           0       0.69      0.69      0.69       828\n",
      "           1       0.85      0.88      0.86      1184\n",
      "           2       0.79      0.81      0.80      1098\n",
      "\n",
      "   micro avg       0.79      0.80      0.80      3110\n",
      "   macro avg       0.78      0.79      0.78      3110\n",
      "weighted avg       0.79      0.80      0.80      3110\n",
      " samples avg       0.82      0.87      0.76      3110\n",
      "\n"
     ]
    }
   ],
   "source": [
    "report = classification_report(y_test, y_pred, zero_division=1)\n",
    "print(\"Classification Report:\")\n",
    "print(report)"
   ]
  }
 ],
 "metadata": {
  "kernelspec": {
   "display_name": "MLearning",
   "language": "python",
   "name": "python3"
  },
  "language_info": {
   "codemirror_mode": {
    "name": "ipython",
    "version": 3
   },
   "file_extension": ".py",
   "mimetype": "text/x-python",
   "name": "python",
   "nbconvert_exporter": "python",
   "pygments_lexer": "ipython3",
   "version": "3.10.9"
  },
  "orig_nbformat": 4
 },
 "nbformat": 4,
 "nbformat_minor": 2
}
