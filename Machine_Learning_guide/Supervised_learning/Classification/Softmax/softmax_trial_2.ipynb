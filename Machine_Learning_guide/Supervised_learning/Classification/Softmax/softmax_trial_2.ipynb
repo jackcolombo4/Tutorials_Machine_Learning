{
 "cells": [
  {
   "attachments": {},
   "cell_type": "markdown",
   "metadata": {},
   "source": [
    "<div style=\"line-height:0.45\">\n",
    "<h1 style=\"color:#0DB1A7  \"> Softmax example 2 </h1>\n",
    "</div>\n",
    "<div style=\"line-height:0.5\">\n",
    "<h4> Softmax Regression using \"mlxtend\" softmax on fetch_openml dataset.\n",
    "</h4>\n",
    "<div style=\"margin-top: -4px;\">\n",
    "<span style=\"display: inline-block;\">\n",
    "    <h3 style=\"color: lightblue; display: inline;\">Keywords:</h3> fetch_openml dataset + StandardScaler + numpy errstate + meshgrid\n",
    "</span>\n",
    "</div>\n",
    "<br>\n",
    "<div style=\"margin-top: 4px;\">\n",
    "<div style=\"line-height:1.2\">\n",
    "<span style=\"display: inline-block;\">\n",
    "    <h3 style=\"color: red; display: inline;\">Notes:</h3>  Softmax Regression is a Classification method!\n",
    "</span>\n",
    "</div>\n",
    "</div>"
   ]
  },
  {
   "cell_type": "code",
   "execution_count": 3,
   "metadata": {},
   "outputs": [
    {
     "name": "stdout",
     "output_type": "stream",
     "text": [
      "Skipping since mlxtend is already installed\n"
     ]
    }
   ],
   "source": [
    "%%script echo Skipping since mlxtend is already installed\n",
    "!pip install --upgrade mlxtend"
   ]
  },
  {
   "cell_type": "code",
   "execution_count": 6,
   "metadata": {},
   "outputs": [],
   "source": [
    "import numpy as np\n",
    "import pandas as pd\n",
    "import matplotlib.pyplot as plt\n",
    "from sklearn.datasets import fetch_openml\n",
    "from sklearn.preprocessing import StandardScaler\n",
    "from sklearn.model_selection import train_test_split\n",
    "from sklearn.metrics import confusion_matrix, precision_score, recall_score, f1_score\n",
    "\n",
    "from mlxtend.classifier import SoftmaxRegression"
   ]
  },
  {
   "cell_type": "code",
   "execution_count": 7,
   "metadata": {},
   "outputs": [
    {
     "data": {
      "text/plain": [
       "(sklearn.utils._bunch.Bunch,\n",
       "          V1        V2        V3        V4        V5        V6        V7  \\\n",
       " 0 -1.359807 -0.072781  2.536347  1.378155 -0.338321  0.462388  0.239599   \n",
       " 1  1.191857  0.266151  0.166480  0.448154  0.060018 -0.082361 -0.078803   \n",
       " 2 -1.358354 -1.340163  1.773209  0.379780 -0.503198  1.800499  0.791461   \n",
       " 3 -0.966272 -0.185226  1.792993 -0.863291 -0.010309  1.247203  0.237609   \n",
       " 4 -1.158233  0.877737  1.548718  0.403034 -0.407193  0.095921  0.592941   \n",
       " \n",
       "          V8        V9       V10  ...       V20       V21       V22       V23  \\\n",
       " 0  0.098698  0.363787  0.090794  ...  0.251412 -0.018307  0.277838 -0.110474   \n",
       " 1  0.085102 -0.255425 -0.166974  ... -0.069083 -0.225775 -0.638672  0.101288   \n",
       " 2  0.247676 -1.514654  0.207643  ...  0.524980  0.247998  0.771679  0.909412   \n",
       " 3  0.377436 -1.387024 -0.054952  ... -0.208038 -0.108300  0.005274 -0.190321   \n",
       " 4 -0.270533  0.817739  0.753074  ...  0.408542 -0.009431  0.798278 -0.137458   \n",
       " \n",
       "         V24       V25       V26       V27       V28  Amount  \n",
       " 0  0.066928  0.128539 -0.189115  0.133558 -0.021053  149.62  \n",
       " 1 -0.339846  0.167170  0.125895 -0.008983  0.014724    2.69  \n",
       " 2 -0.689281 -0.327642 -0.139097 -0.055353 -0.059752  378.66  \n",
       " 3 -1.175575  0.647376 -0.221929  0.062723  0.061458  123.50  \n",
       " 4  0.141267 -0.206010  0.502292  0.219422  0.215153   69.99  \n",
       " \n",
       " [5 rows x 29 columns])"
      ]
     },
     "execution_count": 7,
     "metadata": {},
     "output_type": "execute_result"
    }
   ],
   "source": [
    "## Load\n",
    "dataset_cards = fetch_openml(name='creditcard', version=1, as_frame=True, parser='auto')  #parser='auto' => to avoid the FutureWarning\n",
    "type(dataset_cards), dataset_cards.data.head()"
   ]
  },
  {
   "cell_type": "code",
   "execution_count": 8,
   "metadata": {},
   "outputs": [],
   "source": [
    "### Sampling \n",
    "X = dataset_cards.data\n",
    "y = dataset_cards.target.astype(int)\n",
    "X_train, X_test, y_train, y_test = train_test_split(X, y, test_size=0.2, random_state=42)\n",
    "\n",
    "# Normalize \n",
    "scaler = StandardScaler()\n",
    "## Train\n",
    "X_train = scaler.fit_transform(X_train)\n",
    "X_test = scaler.transform(X_test)"
   ]
  },
  {
   "cell_type": "code",
   "execution_count": 10,
   "metadata": {},
   "outputs": [
    {
     "name": "stdout",
     "output_type": "stream",
     "text": [
      "X_train.shape =  (227845, 29)\n",
      "X_test.shape =  (56962, 29)\n",
      "y_train.shape =  (227845,)\n",
      "y_test.shape =  (56962,)\n"
     ]
    }
   ],
   "source": [
    "print(\"X_train.shape = \" ,X_train.shape)\n",
    "print(\"X_test.shape = \" ,X_test.shape)\n",
    "print(\"y_train.shape = \" ,y_train.shape)\n",
    "print(\"y_test.shape = \" ,y_test.shape)"
   ]
  },
  {
   "cell_type": "code",
   "execution_count": 11,
   "metadata": {},
   "outputs": [
    {
     "name": "stdout",
     "output_type": "stream",
     "text": [
      "num_unique_X_train => 6228205\n",
      "num_unique_X_test => 1589004\n",
      "num_unique_y_train => 2\n",
      "num_unique_y_test => 2\n"
     ]
    }
   ],
   "source": [
    "num_unique_X_train = len(np.unique(X_train))\n",
    "num_unique_X_test = len(np.unique(X_test))\n",
    "num_unique_y_train = len(np.unique(y_train))\n",
    "num_unique_y_test = len(np.unique(y_test))\n",
    "\n",
    "print(f\"num_unique_X_train => {num_unique_X_train}\")\n",
    "print(f\"num_unique_X_test => {num_unique_X_test}\")\n",
    "print(f\"num_unique_y_train => {num_unique_y_train}\")\n",
    "print(f\"num_unique_y_test => {num_unique_y_test}\")"
   ]
  },
  {
   "cell_type": "code",
   "execution_count": 12,
   "metadata": {},
   "outputs": [
    {
     "data": {
      "text/plain": [
       "array([[-8.43953559e+00,  5.18252006e+00, -1.23132500e+01,\n",
       "         6.71473063e+00, -9.94103231e+00, -2.11833498e+00,\n",
       "        -1.34321838e+01,  6.32464612e+00, -7.75182381e+00,\n",
       "        -1.29838058e+01,  5.18902663e+00, -1.08139804e+01,\n",
       "         1.67873744e+00, -9.76999304e+00,  3.94728463e-01,\n",
       "        -1.12833432e+01, -2.25888621e+01, -1.00213793e+01,\n",
       "         3.80892357e+00, -1.95767041e+00,  1.62503255e+00,\n",
       "        -1.55306719e+00, -3.76135526e+00,  1.11270028e+00,\n",
       "        -2.70759003e+00, -9.58810527e-01, -5.02350367e+00,\n",
       "        -3.16294175e+00,  1.08151380e+00],\n",
       "       [ 1.73053399e-01, -1.65602032e+00, -8.79140088e-02,\n",
       "        -9.77696052e-01, -1.04665800e+00,  7.60397307e-01,\n",
       "        -4.22575724e-01,  1.88823961e-01,  8.18900234e-01,\n",
       "        -5.18804110e-01, -8.64208699e-02,  9.79145681e-01,\n",
       "         7.71702924e-02, -2.27095291e-01, -1.49729204e-01,\n",
       "        -2.44310412e+00,  1.48353899e-01,  2.09181926e+00,\n",
       "         5.31046507e-01,  6.53253563e-01, -2.91628383e-01,\n",
       "        -1.29780382e+00, -8.40363841e-01, -1.91062078e+00,\n",
       "         5.98336336e-01, -1.54724216e+00,  1.02104963e-01,\n",
       "         3.08635375e-01,  1.69317258e+00],\n",
       "       [ 7.14216785e-01, -3.56342879e-01,  1.11940779e-01,\n",
       "        -7.26413101e-01, -3.89721803e-01,  3.07129257e-02,\n",
       "        -5.73914023e-01,  2.25629927e-03, -8.86253801e-01,\n",
       "         6.97599103e-01,  5.32010591e-01,  1.13661994e-01,\n",
       "         1.08026173e+00, -2.56161991e-01,  1.97439074e-01,\n",
       "         2.01642189e+00, -6.26799096e-01, -6.35963958e-01,\n",
       "         1.46398898e+00,  2.74506252e-01,  1.39476003e-01,\n",
       "         2.33672289e-01, -2.66007392e-01, -1.33791396e+00,\n",
       "         9.69908462e-01, -4.81194147e-01,  2.84720627e-02,\n",
       "         1.32719982e-02, -2.25473882e-01]])"
      ]
     },
     "execution_count": 12,
     "metadata": {},
     "output_type": "execute_result"
    }
   ],
   "source": [
    "#X_test.head() ##no! AttributeError: 'numpy.ndarray' object has no attribute 'head'\n",
    "X_test[:3]"
   ]
  },
  {
   "cell_type": "code",
   "execution_count": 13,
   "metadata": {},
   "outputs": [
    {
     "name": "stdout",
     "output_type": "stream",
     "text": [
      "<class 'numpy.ndarray'>\n",
      "<class 'pandas.core.series.Series'>\n",
      "float64\n",
      "int64\n",
      "0\n",
      "0\n",
      "0\n",
      "0\n"
     ]
    }
   ],
   "source": [
    "print(type(X_train))\n",
    "print(type(y_train))\n",
    "print(X_train.dtype)\n",
    "print(y_train.dtype)\n",
    "\n",
    "\n",
    "print(np.isnan(X_train).sum())\n",
    "print(np.isnan(X_test).sum())\n",
    "print(np.isnan(y_train).sum())\n",
    "print(np.isnan(y_test).sum())"
   ]
  },
  {
   "cell_type": "code",
   "execution_count": 14,
   "metadata": {},
   "outputs": [
    {
     "name": "stdout",
     "output_type": "stream",
     "text": [
      "<class 'numpy.ndarray'>\n"
     ]
    },
    {
     "data": {
      "text/plain": [
       "array([0, 0, 0, ..., 0, 0, 0])"
      ]
     },
     "execution_count": 14,
     "metadata": {},
     "output_type": "execute_result"
    }
   ],
   "source": [
    "\"\"\" Tranform the target 1D pandas array to a ndarray that is the correct format to make classificator works. \"\"\"\n",
    "\n",
    "if type(y_train) != 'numpy.ndarray':\n",
    "    y_train = y_train.values\n",
    "print(type(y_train))\n",
    "y_train"
   ]
  },
  {
   "cell_type": "markdown",
   "metadata": {},
   "source": [
    "#### => Softmax Regression model"
   ]
  },
  {
   "cell_type": "code",
   "execution_count": 15,
   "metadata": {},
   "outputs": [],
   "source": [
    "softmax_reg = SoftmaxRegression(epochs=100, eta=0.1, minibatches=50, random_seed=42)\n",
    "with np.errstate(divide='ignore', invalid='ignore'):            #to avoid warnings\n",
    "    softmax_reg.fit(X_train, y_train)\n",
    "\n",
    "## Predict\n",
    "y_pred = softmax_reg.predict(X_test)"
   ]
  },
  {
   "cell_type": "code",
   "execution_count": 16,
   "metadata": {},
   "outputs": [
    {
     "name": "stdout",
     "output_type": "stream",
     "text": [
      "Accuracy: 0.9989291106351603\n"
     ]
    }
   ],
   "source": [
    "accuracy = np.mean(y_pred == y_test)\n",
    "print('Accuracy:', accuracy)"
   ]
  },
  {
   "cell_type": "code",
   "execution_count": 17,
   "metadata": {},
   "outputs": [
    {
     "name": "stdout",
     "output_type": "stream",
     "text": [
      "Confusion matrix:\n",
      " [[56826    38]\n",
      " [   23    75]]\n"
     ]
    }
   ],
   "source": [
    "cm = confusion_matrix(y_test, y_pred)\n",
    "print('Confusion matrix:\\n', cm)"
   ]
  },
  {
   "cell_type": "code",
   "execution_count": 18,
   "metadata": {},
   "outputs": [
    {
     "name": "stdout",
     "output_type": "stream",
     "text": [
      "Precision: 0.9989291106351603\n",
      "Recall: 0.9989291106351603\n",
      "F1 score: 0.9989291106351603\n"
     ]
    }
   ],
   "source": [
    "precision = precision_score(y_test, y_pred, average='micro')\n",
    "recall = recall_score(y_test, y_pred, average='micro')\n",
    "f1 = f1_score(y_test, y_pred, average='micro')\n",
    "\n",
    "print('Precision:', precision)\n",
    "print('Recall:', recall)\n",
    "print('F1 score:', f1)"
   ]
  },
  {
   "cell_type": "code",
   "execution_count": 19,
   "metadata": {},
   "outputs": [
    {
     "data": {
      "text/plain": [
       "{0, 1}"
      ]
     },
     "execution_count": 19,
     "metadata": {},
     "output_type": "execute_result"
    }
   ],
   "source": [
    "a = set(y_train)\n",
    "a"
   ]
  },
  {
   "cell_type": "markdown",
   "metadata": {},
   "source": [
    "#### => Meshgrid"
   ]
  },
  {
   "cell_type": "code",
   "execution_count": 20,
   "metadata": {},
   "outputs": [
    {
     "name": "stderr",
     "output_type": "stream",
     "text": [
      "/home/notto4/anaconda3/envs/MLearning/lib/python3.10/site-packages/sklearn/base.py:409: UserWarning: X does not have valid feature names, but StandardScaler was fitted with feature names\n",
      "  warnings.warn(\n"
     ]
    },
    {
     "data": {
      "image/png": "[encoded data removed]",
      "text/plain": [
       "<Figure size 640x480 with 1 Axes>"
      ]
     },
     "metadata": {},
     "output_type": "display_data"
    }
   ],
   "source": [
    "n_features = X_train.shape[1]\n",
    "x_min, x_max = X_test[:, 0].min() - 1, X_test[:, 0].max() + 1\n",
    "y_min, y_max = X_test[:, 1].min() - 1, X_test[:, 1].max() + 1\n",
    "xx, yy = np.meshgrid(np.linspace(x_min, x_max, 100), np.linspace(y_min, y_max, 100))\n",
    "\n",
    "## Modify the meshgrid => 29 features\n",
    "Z = np.zeros((xx.shape[0]*xx.shape[1], n_features))\n",
    "Z[:, 0] = xx.ravel()\n",
    "Z[:, 1] = yy.ravel()\n",
    "\n",
    "## Normalize the meshgrid using the same input scaler \n",
    "Z_norm = scaler.transform(Z)\n",
    "\n",
    "## Predict class labels for each point in the meshgrid\n",
    "Z_labels = softmax_reg.predict(Z_norm)\n",
    "## Reshape the predicted labels to match the shape of the meshgrid\n",
    "Z_labels = Z_labels.reshape(xx.shape)\n",
    "\n",
    "## Plot \n",
    "plt.contourf(xx, yy, Z_labels, alpha=0.5, cmap=plt.cm.RdYlBu)   #decision boundary\n",
    "plt.scatter(X_test[y_test == 0, 0], X_test[y_test == 0, 1], c='red', label='Negative', alpha=0.8, edgecolors='none')\n",
    "plt.scatter(X_test[y_test == 1, 0], X_test[y_test == 1, 1], c='blue', label='Positive', alpha=0.8, edgecolors='none')\n",
    "\n",
    "plt.xlabel('Feature 1')\n",
    "plt.ylabel('Feature 2')\n",
    "plt.title('Softmax Regression')\n",
    "plt.legend()\n",
    "plt.show()"
   ]
  }
 ],
 "metadata": {
  "kernelspec": {
   "display_name": "MLearning",
   "language": "python",
   "name": "python3"
  },
  "language_info": {
   "codemirror_mode": {
    "name": "ipython",
    "version": 3
   },
   "file_extension": ".py",
   "mimetype": "text/x-python",
   "name": "python",
   "nbconvert_exporter": "python",
   "pygments_lexer": "ipython3",
   "version": "3.10.9"
  },
  "orig_nbformat": 4
 },
 "nbformat": 4,
 "nbformat_minor": 2
}
