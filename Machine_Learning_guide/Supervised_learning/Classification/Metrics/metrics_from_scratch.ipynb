{
 "cells": [
  {
   "cell_type": "markdown",
   "metadata": {},
   "source": [
    "<div style=\"line-height:0.5\">\n",
    "<h1 style=\"color:#BAF1CF \"> Metrics for classification </h1>\n",
    "<h4> Compute classic ML classification metrics with numpy and scipy, instead of using std sklearn libraries. </h4>"
   ]
  },
  {
   "cell_type": "code",
   "execution_count": 2,
   "metadata": {},
   "outputs": [],
   "source": [
    "import numpy as np\n",
    "from scipy.integrate import simpson\n",
    "import matplotlib.pyplot as plt\n",
    "import warnings"
   ]
  },
  {
   "cell_type": "code",
   "execution_count": 3,
   "metadata": {},
   "outputs": [],
   "source": [
    "def calc_true_positives(y_true, y_pred):\n",
    "    tp = 0\n",
    "    for label, pred in zip(y_true, y_pred):\n",
    "        if pred == 1 and label == 1:\n",
    "            tp += 1\n",
    "    return tp\n",
    "\n",
    "def calc_true_negatives(y_true, y_pred):\n",
    "    tn = 0\n",
    "    for label, pred in zip(y_true, y_pred):\n",
    "        if pred == 0 and label == 0:\n",
    "            tn += 1\n",
    "    return tn\n",
    "\n",
    "def calc_false_positives(y_true, y_pred):\n",
    "    fp = 0\n",
    "    for label, pred in zip(y_true, y_pred):\n",
    "        if pred == 1 and label == 0:\n",
    "            fp += 1\n",
    "    return fp\n",
    "\n",
    "def calc_false_negatives(y_true, y_pred):\n",
    "    fn = 0\n",
    "    for label, pred in zip(y_true, y_pred):\n",
    "        if pred == 0 and label == 1:\n",
    "            fn += 1\n",
    "    return fn\n",
    "\n",
    "def binary_accuracy(y_true, y_pred):\n",
    "    tp = calc_true_positives(y_true, y_pred)\n",
    "    tn = calc_true_negatives(y_true, y_pred)\n",
    "    fp = calc_false_positives(y_true, y_pred)\n",
    "    fn = calc_false_negatives(y_true, y_pred)\n",
    "    return (tp + tn) / (tp + tn + fp + fn)\n",
    "\n",
    "def precision(y_true, y_pred):\n",
    "    \"\"\" Calculate the precision \"\"\"\n",
    "    tp = calc_true_negatives(y_true, y_pred)\n",
    "    fp = calc_false_positives(y_true, y_pred)\n",
    "    return tp / (tp + fp)\n",
    "\n",
    "def recall(y_true, y_pred):\n",
    "    \"\"\" Calculate the recall \"\"\"\n",
    "    tp = calc_true_negatives(y_true, y_pred)\n",
    "    fn = calc_false_negatives(y_true, y_pred)\n",
    "    return tp / (tp + fn)\n",
    "\n",
    "def multiclass_accuracy(y_true, y_pred):\n",
    "    \"\"\" Calculate accuracy \"\"\"\n",
    "    correct = 0\n",
    "    total = len(y_true)\n",
    "    for label, pred in zip(y_true, y_pred):\n",
    "        correct += label == pred\n",
    "    return correct/total"
   ]
  },
  {
   "cell_type": "code",
   "execution_count": 29,
   "metadata": {},
   "outputs": [],
   "source": [
    "def confusion_matrix(y_true, y_pred):\n",
    "    \"\"\" Get the confusion matrix. \"\"\"\n",
    "    y_true = np.array(y_true)\n",
    "    y_pred = np.array(y_pred)\n",
    "    assert y_true.shape == y_pred.shape\n",
    "    unique_classes = np.unique(np.concatenate([y_true, y_pred], axis=0)).shape[0]\n",
    "    cm = np.zeros((unique_classes, unique_classes), dtype=np.int64)\n",
    "    for label, pred in zip(y_true, y_pred):\n",
    "        # Convert pred to integer\n",
    "        cm[label, int(pred)] += 1  \n",
    "    return cm"
   ]
  },
  {
   "cell_type": "code",
   "execution_count": 5,
   "metadata": {},
   "outputs": [],
   "source": [
    "def accuracy_cm(cm):\n",
    "    return np.trace(cm)/np.sum(cm)\n",
    "\n",
    "def balanced_accuracy_cm(cm):\n",
    "    correctly_classified = np.diagonal(cm)\n",
    "    rows_sum = np.sum(cm, axis=1)\n",
    "    indices = np.nonzero(rows_sum)[0]\n",
    "    if rows_sum.shape[0] != indices.shape[0]:\n",
    "        warnings.warn(\"y_pred contains classes not in y_true\")\n",
    "    accuracy_per_class = correctly_classified[indices]/(rows_sum[indices])\n",
    "    \n",
    "    return np.sum(accuracy_per_class)/accuracy_per_class.shape[0]\n",
    "\n",
    "def precision_cm(cm, average=\"specific\", class_label=1, eps=1e-12):\n",
    "    tp = np.diagonal(cm)\n",
    "    fp = np.sum(cm, axis=0) - tp\n",
    "    #precisions = np.diagonal(cm)/np.maximum(np.sum(cm, axis=0), 1e-12)\n",
    "\n",
    "    if average == \"none\":\n",
    "        return tp/(tp+fp+eps)\n",
    "\n",
    "    if average == \"specific\":\n",
    "        precisions = tp / (tp + fp + eps)\n",
    "        return precisions[class_label]\n",
    "\n",
    "    if average == \"micro\":\n",
    "        # If all samples equally contribute to the average, there is a distinction between highly and poorly populated classes\n",
    "        return np.sum(tp) / (np.sum(tp) + np.sum(fp) + eps)\n",
    "\n",
    "    if average == \"macro\":\n",
    "        # If all classes equally contribute to the average, there is no distinction between highly and poorly populated classes\n",
    "        precisions = tp / (tp + fp + eps)\n",
    "        return np.sum(precisions)/precisions.shape[0]\n",
    "\n",
    "    if average == \"weighted\":\n",
    "        pass\n",
    "\n",
    "def recall_cm(cm, average=\"specific\", class_label=1, eps=1e-12):\n",
    "    tp = np.diagonal(cm)\n",
    "    fn = np.sum(cm, axis=1) - tp\n",
    "\n",
    "    if average == \"none\":\n",
    "        return tp / (tp + fn + eps)\n",
    "    if average == \"specific\":\n",
    "        recalls = tp / (tp + fn + eps)\n",
    "        return recalls[class_label]\n",
    "    if average == \"micro\":\n",
    "        return np.sum(tp) / (np.sum(tp) + np.sum(fn))\n",
    "    if average == \"macro\":\n",
    "        recalls = tp / (tp + fn + eps)\n",
    "        return np.sum(recalls)/recalls.shape[0]\n",
    "    if average == \"weighted\":\n",
    "        pass\n",
    "\n",
    "def f1score_cm(cm, average=\"specific\", class_label=1):\n",
    "    precision = precision_cm(cm, average, class_label)\n",
    "    recall = recall_cm(cm, average, class_label)\n",
    "    return 2 * (precision*recall)/(precision+recall)"
   ]
  },
  {
   "cell_type": "code",
   "execution_count": 6,
   "metadata": {},
   "outputs": [],
   "source": [
    "def custom_roc_curve(y_true, y_preds, plot_graph=True, calculate_AUC=True, threshold_step=0.01):\n",
    "    \"\"\" Create ROC.\n",
    "        - TPR ==> sensitivity ==> recall\n",
    "        - tnr ==> specificity (which is same as recall for the negative class)\n",
    "    \"\"\"\n",
    "    TPR, FPR = [], []\n",
    "\n",
    "    for threshold in np.arange(np.min(y_preds), np.max(y_preds), threshold_step):\n",
    "        predictions = (y_preds > threshold) * 1\n",
    "        cm = confusion_matrix(y_true, predictions)\n",
    "        recalls = recall_cm(cm, average=\"none\")\n",
    "        tpr = recalls[1]\n",
    "        tnr = recalls[0]\n",
    "        TPR.append(tpr)\n",
    "        FPR.append(1-tnr)\n",
    "\n",
    "    if plot_graph:\n",
    "        plt.plot(FPR, TPR)\n",
    "        plt.xlabel(\"False Positive Rate\")\n",
    "        plt.ylabel(\"True Positive Rate\")\n",
    "        plt.title(\"ROC curve\")\n",
    "        plt.show()\n",
    "\n",
    "    if calculate_AUC:\n",
    "        print(np.abs(np.trapz(TPR, FPR)))"
   ]
  },
  {
   "cell_type": "code",
   "execution_count": 7,
   "metadata": {},
   "outputs": [],
   "source": [
    "def custom_precision_recall_curve(y_true, y_preds, plot_graph=True, calculate_AUC=True, threshold_step=0.01):\n",
    "    recalls, precisions = [], []\n",
    "\n",
    "    for threshold in np.arange(np.min(y_preds), np.max(y_preds), threshold_step):\n",
    "        predictions = (y_preds > threshold) * 1\n",
    "        cm = confusion_matrix(y_true, predictions)\n",
    "        recall = recall_cm(cm, average=\"specific\", class_label=1)\n",
    "        precision = precision_cm(cm, average=\"specific\", class_label=1)\n",
    "        recalls.append(recall)\n",
    "        precisions.append(precision)\n",
    "\n",
    "    recalls.append(0)\n",
    "    precisions.append(1)\n",
    "\n",
    "    if plot_graph:\n",
    "        plt.plot(recalls, precisions)\n",
    "        plt.xlabel(\"Recall\")\n",
    "        plt.ylabel(\"Precision\")\n",
    "        plt.title(\"Precision-Recall curve\")\n",
    "        plt.show()\n",
    "\n",
    "    if calculate_AUC:\n",
    "        print(np.abs(np.trapz(precisions, recalls)))"
   ]
  },
  {
   "cell_type": "code",
   "execution_count": 31,
   "metadata": {},
   "outputs": [],
   "source": [
    "y, probs = [], []\n",
    "\n",
    "with open(\"./data_for_metrics_1.txt\") as f:\n",
    "    for line in f.readlines():\n",
    "        label, pred = line.split()\n",
    "        label = int(label)\n",
    "        pred = float(pred)\n",
    "        y.append(label)\n",
    "        probs.append(pred)"
   ]
  },
  {
   "cell_type": "code",
   "execution_count": 18,
   "metadata": {},
   "outputs": [
    {
     "data": {
      "text/plain": [
       "(10, 8, 11, 2)"
      ]
     },
     "execution_count": 18,
     "metadata": {},
     "output_type": "execute_result"
    }
   ],
   "source": [
    "tp = calc_true_positives(y, probs)\n",
    "tn = calc_true_negatives(y, probs)\n",
    "fp = calc_false_positives(y, probs)\n",
    "fn = calc_false_negatives(y, probs)\n",
    "\n",
    "tp, tn, fp, fn"
   ]
  },
  {
   "cell_type": "code",
   "execution_count": 21,
   "metadata": {},
   "outputs": [
    {
     "name": "stdout",
     "output_type": "stream",
     "text": [
      " binary accuracy\n",
      " 0.5806451612903226\n",
      " multiclass accuracy\n",
      " 0.31\n",
      " precision\n",
      " 0.42105263157894735\n",
      " recall\n",
      " 0.8\n"
     ]
    }
   ],
   "source": [
    "bc = binary_accuracy(y, probs)\n",
    "ma = multiclass_accuracy(y, probs)\n",
    "pr = precision(y, probs)\n",
    "re = recall(y, probs)\n",
    "\n",
    "print(f\" binary accuracy\\n {bc}\")\n",
    "print(f\" multiclass accuracy\\n {ma}\")\n",
    "print(f\" precision\\n {pr}\")\n",
    "print(f\" recall\\n {re}\")"
   ]
  },
  {
   "cell_type": "code",
   "execution_count": 32,
   "metadata": {},
   "outputs": [],
   "source": [
    "conf_mat = confusion_matrix(y, probs)"
   ]
  },
  {
   "cell_type": "code",
   "execution_count": 35,
   "metadata": {},
   "outputs": [
    {
     "name": "stdout",
     "output_type": "stream",
     "text": [
      " accuracy from conf matrix:\n",
      " 0.31\n",
      " balanced accuracy from conf matrix:\n",
      " 0.3290562012972879\n",
      " precision from conf matrix:\n",
      " 0.21739130434782136\n",
      " recall from conf matrix:\n",
      " 0.5263157894736565\n",
      " f1score from conf matrix:\n",
      " 0.3076923076922982\n"
     ]
    }
   ],
   "source": [
    "ac_cm = accuracy_cm(conf_mat)\n",
    "ba_cm = balanced_accuracy_cm(conf_mat)\n",
    "pr_cm = precision_cm(conf_mat)\n",
    "re_cm = recall_cm(conf_mat)\n",
    "f1_cm = f1score_cm(conf_mat)\n",
    "\n",
    "print(f\" accuracy from conf matrix:\\n {ac_cm}\")\n",
    "print(f\" balanced accuracy from conf matrix:\\n {ba_cm}\")\n",
    "print(f\" precision from conf matrix:\\n {pr_cm}\")\n",
    "print(f\" recall from conf matrix:\\n {re_cm}\")\n",
    "print(f\" f1score from conf matrix:\\n {f1_cm}\")"
   ]
  },
  {
   "cell_type": "code",
   "execution_count": 36,
   "metadata": {},
   "outputs": [],
   "source": [
    "# Use float data as predictions\n",
    "y, probs = [], []\n",
    "with open(\"./data_for_metrics_2.txt\") as f:\n",
    "    for line in f.readlines():\n",
    "        label, pred = line.split()\n",
    "        label = int(label)\n",
    "        pred = float(pred)\n",
    "        y.append(label)\n",
    "        probs.append(pred)"
   ]
  },
  {
   "cell_type": "code",
   "execution_count": 37,
   "metadata": {},
   "outputs": [
    {
     "data": {
      "image/png": "[encoded data removed]",
      "text/plain": [
       "<Figure size 640x480 with 1 Axes>"
      ]
     },
     "metadata": {},
     "output_type": "display_data"
    },
    {
     "name": "stdout",
     "output_type": "stream",
     "text": [
      "0.801800382104045\n"
     ]
    }
   ],
   "source": [
    "custom_precision_recall_curve(y, probs, threshold_step=0.001)"
   ]
  },
  {
   "cell_type": "code",
   "execution_count": 38,
   "metadata": {},
   "outputs": [
    {
     "data": {
      "image/png": "[encoded data removed]",
      "text/plain": [
       "<Figure size 640x480 with 1 Axes>"
      ]
     },
     "metadata": {},
     "output_type": "display_data"
    },
    {
     "name": "stdout",
     "output_type": "stream",
     "text": [
      "0.771999999999969\n"
     ]
    }
   ],
   "source": [
    "custom_roc_curve(y, probs)"
   ]
  }
 ],
 "metadata": {
  "kernelspec": {
   "display_name": "MLearning",
   "language": "python",
   "name": "python3"
  },
  "language_info": {
   "codemirror_mode": {
    "name": "ipython",
    "version": 3
   },
   "file_extension": ".py",
   "mimetype": "text/x-python",
   "name": "python",
   "nbconvert_exporter": "python",
   "pygments_lexer": "ipython3",
   "version": "3.10.9"
  },
  "orig_nbformat": 4
 },
 "nbformat": 4,
 "nbformat_minor": 2
}
