{
 "cells": [
  {
   "cell_type": "markdown",
   "metadata": {},
   "source": [
    "<div style=\"line-height:0.5\">\n",
    "<h1 style=\"color:#0FA345 \"> Random Forest Classification 3 </h1>\n",
    "<h4> Examples with sklearn RandomForestClassifier. Comparison with SVM and MLP. </h4>\n",
    "<div style=\"margin-top: -4px;\">\n",
    "<span style=\"display: inline-block;\">\n",
    "    <h3 style=\"color: lightblue; display: inline;\">Keywords:</h3> StandardScaler + feature_importances_ + label_binarize + roc \n",
    "</span>\n",
    "</div>"
   ]
  },
  {
   "cell_type": "code",
   "execution_count": 37,
   "metadata": {},
   "outputs": [],
   "source": [
    "import numpy as np\n",
    "import pandas as pd\n",
    "import seaborn as sns\n",
    "from copy import copy\n",
    "import matplotlib.pyplot as plt\n",
    "\n",
    "from sklearn.svm import SVC \n",
    "import sklearn.linear_model as sk\n",
    "from sklearn.neural_network import MLPClassifier\n",
    "from sklearn.ensemble import RandomForestClassifier\n",
    "from sklearn.model_selection import train_test_split, learning_curve\n",
    "from sklearn.preprocessing import StandardScaler, LabelEncoder, label_binarize\n",
    "\n",
    "from sklearn.metrics import accuracy_score, roc_curve, auc, precision_score, recall_score, f1_score, classification_report\n",
    "from sklearn.metrics import confusion_matrix\n",
    "from sklearn.multiclass import OneVsRestClassifier"
   ]
  },
  {
   "cell_type": "code",
   "execution_count": 2,
   "metadata": {},
   "outputs": [
    {
     "name": "stdout",
     "output_type": "stream",
     "text": [
      "Skipping since the file is already in its correct version.\n"
     ]
    }
   ],
   "source": [
    "%%script echo Skipping since the file is already in its correct version.\n",
    "with open('./data/simsim.csv', 'r') as f:\n",
    "    lines = f.readlines()\n",
    "\n",
    "new_lines = []\n",
    "for line in lines:\n",
    "    split_line = line.strip().split()\n",
    "    new_line = ', '.join(split_line)\n",
    "    new_lines.append(new_line)\n",
    "\n",
    "with open('./data/simsim.csv', 'w') as f:\n",
    "    f.writelines('\\n'.join(new_lines))"
   ]
  },
  {
   "cell_type": "code",
   "execution_count": 3,
   "metadata": {},
   "outputs": [
    {
     "name": "stdout",
     "output_type": "stream",
     "text": [
      "Index(['TIME', 'ID', 'MAX', 'MIN', 'AVG', 'STDEV', 'SMOOTHNESS', 'PEACKS',\n",
      "       'INTERACTION'],\n",
      "      dtype='object')\n",
      "<class 'pandas.core.indexes.base.Index'>\n"
     ]
    }
   ],
   "source": [
    "df_simply = pd.read_csv('./data/simply_dataset.csv')\n",
    "simply_column_names = df_simply.columns\n",
    "print(simply_column_names)\n",
    "print(type(simply_column_names))"
   ]
  },
  {
   "cell_type": "code",
   "execution_count": 5,
   "metadata": {},
   "outputs": [
    {
     "name": "stdout",
     "output_type": "stream",
     "text": [
      "   TIME  ID    MAX    MIN     AVG  STDEV  SMOOTHNESS  PEACKS  INTERACTION\n",
      "0  2323   0  0.000  0.000  0.0000  0.000           1       0            1\n",
      "1  2700   1  0.385  0.299  0.1967  0.004           1       0            2\n",
      "2  3323   2  2.545  1.996  2.1230  0.014           3       0            3\n",
      "3  4123   3  3.985  2.642  2.9560  0.023           4       6            4\n",
      "4  5327   4  3.553  2.347  2.9990  0.004           5       2            5\n",
      "5  6311   5  5.369  2.584  3.0210  0.004           6       8            6\n",
      "6  7743   6  5.694  4.342  4.6310  0.004           7       1            7\n",
      "7  8921   7  0.000  0.000  0.0000  0.000           1       0            1\n",
      "8  1220   8  0.396  0.277  0.1944  0.004           1       0            2\n",
      "9  1345   9  0.352  0.199  0.2520  0.005           2       0            2\n",
      "\n",
      "    TIME  ID    MAX    MIN    AVG  STDEV  SMOOTHNESS  PEACKS  INTERACTION\n",
      "0  1001  44  5.123  2.785  3.442  0.012           4       3            5\n",
      "1  1002  44  5.123  2.785  3.442  0.012           4       3            5\n",
      "2  1122  45  3.243  1.789  2.113  0.007           3       1            4\n",
      "3  1122  45  3.243  1.789  2.113  0.007           3       1            4\n",
      "4  1256  46  2.113  0.987  1.234  0.005           2       0            3\n",
      "5  1256  46  2.113  0.987  1.234  0.005           2       0            3\n",
      "6  1323  47  1.528  0.345  0.912  0.004           1       0            2\n",
      "7  1323  47  1.528  0.345  0.912  0.004           1       0            2\n",
      "8  1456  48  0.986  0.234  0.456  0.002           1       0            2\n",
      "9  1456  48  0.986  0.234  0.456  0.002           1       0            2\n"
     ]
    }
   ],
   "source": [
    "\"\"\" Get a portion of the dataframe.\n",
    "N.B.1\n",
    "'index_col' must be set to \"False\" to avoid the ValueError: The value of index_col couldn't be 'True'.\n",
    "N.B.2\n",
    "no 'index_col' parameter in case of columnns.\n",
    "\"\"\"\n",
    "df_partial0 = pd.read_csv('./data/simsim.csv', index_col=False)  \n",
    "df_partial = pd.read_csv('./data/simsim.csv', header=None, names=simply_column_names)  \n",
    "\n",
    "print(df_simply.head(10))\n",
    "print(\"\\n\", df_partial[:10])"
   ]
  },
  {
   "cell_type": "code",
   "execution_count": 6,
   "metadata": {},
   "outputs": [
    {
     "name": "stdout",
     "output_type": "stream",
     "text": [
      "     TIME  ID    MAX    MIN    AVG  STDEV  SMOOTHNESS  PEACKS  INTERACTION\n",
      "159  8789  31  2.345  1.234  1.567  0.004           2       0            3\n",
      "160  8922  32  3.456  2.345  2.789  0.006           3       0            4\n",
      "161  9056  33  4.567  3.456  3.789  0.008           4       0            5\n",
      "162  9189  34  5.678  4.567  4.789  0.009           5       0            6\n",
      "163  9323  35  2.678  1.567  2.123  0.004           3       1            3\n",
      "164  9456  36  1.567  0.456  1.234  0.003           2       0            2\n",
      "165  9589  37  0.456  0.123  0.345  0.002           1       0            1\n",
      "166  9722  38  2.345  1.234  1.567  0.004           2       0            3\n",
      "167  9856  39  3.456  2.345  2.789  0.006           3       0            4\n",
      "168  9989  40  4.567  3.456  3.789  0.008           4       0            5\n",
      "\n",
      "      TIME  ID    MAX    MIN    AVG  STDEV  SMOOTHNESS  PEACKS  INTERACTION\n",
      "159  8789  31  2.345  1.234  1.567  0.004           2       0            3\n",
      "160  8922  32  3.456  2.345  2.789  0.006           3       0            4\n",
      "161  9056  33  4.567  3.456  3.789  0.008           4       0            5\n",
      "162  9189  34  5.678  4.567  4.789  0.009           5       0            6\n",
      "163  9323  35  2.678  1.567  2.123  0.004           3       1            3\n",
      "164  9456  36  1.567  0.456  1.234  0.003           2       0            2\n",
      "165  9589  37  0.456  0.123  0.345  0.002           1       0            1\n",
      "166  9722  38  2.345  1.234  1.567  0.004           2       0            3\n",
      "167  9856  39  3.456  2.345  2.789  0.006           3       0            4\n",
      "168  9989  40  4.567  3.456  3.789  0.008           4       0            5\n",
      "\n",
      "      TIME  ID    MAX    MIN    AVG  STDEV  SMOOTHNESS  PEACKS  INTERACTION\n",
      "159  8789  31  2.345  1.234  1.567  0.004           2       0            3\n",
      "160  8922  32  3.456  2.345  2.789  0.006           3       0            4\n",
      "161  9056  33  4.567  3.456  3.789  0.008           4       0            5\n",
      "162  9189  34  5.678  4.567  4.789  0.009           5       0            6\n",
      "163  9323  35  2.678  1.567  2.123  0.004           3       1            3\n",
      "164  9456  36  1.567  0.456  1.234  0.003           2       0            2\n",
      "165  9589  37  0.456  0.123  0.345  0.002           1       0            1\n",
      "166  9722  38  2.345  1.234  1.567  0.004           2       0            3\n",
      "167  9856  39  3.456  2.345  2.789  0.006           3       0            4\n",
      "168  9989  40  4.567  3.456  3.789  0.008           4       0            5\n"
     ]
    }
   ],
   "source": [
    "final_df = pd.concat([df_simply, df_partial], ignore_index=True)\n",
    "print(final_df[159:])\n",
    "print(\"\\n\", final_df.tail(10))\n",
    "print(\"\\n\", final_df[-10:])"
   ]
  },
  {
   "cell_type": "code",
   "execution_count": 7,
   "metadata": {},
   "outputs": [
    {
     "data": {
      "text/html": [
       "<div>\n",
       "<style scoped>\n",
       "    .dataframe tbody tr th:only-of-type {\n",
       "        vertical-align: middle;\n",
       "    }\n",
       "\n",
       "    .dataframe tbody tr th {\n",
       "        vertical-align: top;\n",
       "    }\n",
       "\n",
       "    .dataframe thead th {\n",
       "        text-align: right;\n",
       "    }\n",
       "</style>\n",
       "<table border=\"1\" class=\"dataframe\">\n",
       "  <thead>\n",
       "    <tr style=\"text-align: right;\">\n",
       "      <th></th>\n",
       "      <th>TIME</th>\n",
       "      <th>ID</th>\n",
       "      <th>MAX</th>\n",
       "      <th>MIN</th>\n",
       "      <th>AVG</th>\n",
       "      <th>STDEV</th>\n",
       "      <th>SMOOTHNESS</th>\n",
       "      <th>PEACKS</th>\n",
       "      <th>INTERACTION</th>\n",
       "    </tr>\n",
       "  </thead>\n",
       "  <tbody>\n",
       "    <tr>\n",
       "      <th>43</th>\n",
       "      <td>9999</td>\n",
       "      <td>43</td>\n",
       "      <td>6.576</td>\n",
       "      <td>0.982</td>\n",
       "      <td>1.369</td>\n",
       "      <td>0.005</td>\n",
       "      <td>5</td>\n",
       "      <td>1</td>\n",
       "      <td>7</td>\n",
       "    </tr>\n",
       "    <tr>\n",
       "      <th>168</th>\n",
       "      <td>9989</td>\n",
       "      <td>40</td>\n",
       "      <td>4.567</td>\n",
       "      <td>3.456</td>\n",
       "      <td>3.789</td>\n",
       "      <td>0.008</td>\n",
       "      <td>4</td>\n",
       "      <td>0</td>\n",
       "      <td>5</td>\n",
       "    </tr>\n",
       "    <tr>\n",
       "      <th>42</th>\n",
       "      <td>9950</td>\n",
       "      <td>42</td>\n",
       "      <td>5.316</td>\n",
       "      <td>0.023</td>\n",
       "      <td>2.065</td>\n",
       "      <td>0.007</td>\n",
       "      <td>6</td>\n",
       "      <td>3</td>\n",
       "      <td>7</td>\n",
       "    </tr>\n",
       "    <tr>\n",
       "      <th>41</th>\n",
       "      <td>9912</td>\n",
       "      <td>41</td>\n",
       "      <td>2.321</td>\n",
       "      <td>2.662</td>\n",
       "      <td>2.695</td>\n",
       "      <td>0.015</td>\n",
       "      <td>1</td>\n",
       "      <td>2</td>\n",
       "      <td>7</td>\n",
       "    </tr>\n",
       "    <tr>\n",
       "      <th>40</th>\n",
       "      <td>9903</td>\n",
       "      <td>40</td>\n",
       "      <td>2.576</td>\n",
       "      <td>2.002</td>\n",
       "      <td>2.229</td>\n",
       "      <td>0.005</td>\n",
       "      <td>2</td>\n",
       "      <td>1</td>\n",
       "      <td>7</td>\n",
       "    </tr>\n",
       "    <tr>\n",
       "      <th>39</th>\n",
       "      <td>9881</td>\n",
       "      <td>39</td>\n",
       "      <td>2.576</td>\n",
       "      <td>0.045</td>\n",
       "      <td>1.252</td>\n",
       "      <td>0.011</td>\n",
       "      <td>7</td>\n",
       "      <td>2</td>\n",
       "      <td>7</td>\n",
       "    </tr>\n",
       "    <tr>\n",
       "      <th>167</th>\n",
       "      <td>9856</td>\n",
       "      <td>39</td>\n",
       "      <td>3.456</td>\n",
       "      <td>2.345</td>\n",
       "      <td>2.789</td>\n",
       "      <td>0.006</td>\n",
       "      <td>3</td>\n",
       "      <td>0</td>\n",
       "      <td>4</td>\n",
       "    </tr>\n",
       "    <tr>\n",
       "      <th>38</th>\n",
       "      <td>9802</td>\n",
       "      <td>38</td>\n",
       "      <td>2.576</td>\n",
       "      <td>2.002</td>\n",
       "      <td>2.223</td>\n",
       "      <td>0.009</td>\n",
       "      <td>3</td>\n",
       "      <td>3</td>\n",
       "      <td>7</td>\n",
       "    </tr>\n",
       "    <tr>\n",
       "      <th>166</th>\n",
       "      <td>9722</td>\n",
       "      <td>38</td>\n",
       "      <td>2.345</td>\n",
       "      <td>1.234</td>\n",
       "      <td>1.567</td>\n",
       "      <td>0.004</td>\n",
       "      <td>2</td>\n",
       "      <td>0</td>\n",
       "      <td>3</td>\n",
       "    </tr>\n",
       "    <tr>\n",
       "      <th>37</th>\n",
       "      <td>9711</td>\n",
       "      <td>37</td>\n",
       "      <td>2.576</td>\n",
       "      <td>2.002</td>\n",
       "      <td>2.223</td>\n",
       "      <td>0.011</td>\n",
       "      <td>7</td>\n",
       "      <td>8</td>\n",
       "      <td>6</td>\n",
       "    </tr>\n",
       "  </tbody>\n",
       "</table>\n",
       "</div>"
      ],
      "text/plain": [
       "     TIME  ID    MAX    MIN    AVG  STDEV  SMOOTHNESS  PEACKS  INTERACTION\n",
       "43   9999  43  6.576  0.982  1.369  0.005           5       1            7\n",
       "168  9989  40  4.567  3.456  3.789  0.008           4       0            5\n",
       "42   9950  42  5.316  0.023  2.065  0.007           6       3            7\n",
       "41   9912  41  2.321  2.662  2.695  0.015           1       2            7\n",
       "40   9903  40  2.576  2.002  2.229  0.005           2       1            7\n",
       "39   9881  39  2.576  0.045  1.252  0.011           7       2            7\n",
       "167  9856  39  3.456  2.345  2.789  0.006           3       0            4\n",
       "38   9802  38  2.576  2.002  2.223  0.009           3       3            7\n",
       "166  9722  38  2.345  1.234  1.567  0.004           2       0            3\n",
       "37   9711  37  2.576  2.002  2.223  0.011           7       8            6"
      ]
     },
     "execution_count": 7,
     "metadata": {},
     "output_type": "execute_result"
    }
   ],
   "source": [
    "\"\"\" Sort \"\"\"\n",
    "final_sorted = final_df.sort_values(by='TIME', ascending=False)\n",
    "final_sorted[:10]"
   ]
  },
  {
   "cell_type": "code",
   "execution_count": 8,
   "metadata": {},
   "outputs": [
    {
     "data": {
      "text/html": [
       "<div>\n",
       "<style scoped>\n",
       "    .dataframe tbody tr th:only-of-type {\n",
       "        vertical-align: middle;\n",
       "    }\n",
       "\n",
       "    .dataframe tbody tr th {\n",
       "        vertical-align: top;\n",
       "    }\n",
       "\n",
       "    .dataframe thead th {\n",
       "        text-align: right;\n",
       "    }\n",
       "</style>\n",
       "<table border=\"1\" class=\"dataframe\">\n",
       "  <thead>\n",
       "    <tr style=\"text-align: right;\">\n",
       "      <th></th>\n",
       "      <th>TIME</th>\n",
       "      <th>ID</th>\n",
       "      <th>MAX</th>\n",
       "      <th>MIN</th>\n",
       "      <th>AVG</th>\n",
       "      <th>STDEV</th>\n",
       "      <th>SMOOTHNESS</th>\n",
       "      <th>PEACKS</th>\n",
       "      <th>INTERACTION</th>\n",
       "    </tr>\n",
       "  </thead>\n",
       "  <tbody>\n",
       "    <tr>\n",
       "      <th>40</th>\n",
       "      <td>9903</td>\n",
       "      <td>40</td>\n",
       "      <td>2.576</td>\n",
       "      <td>2.002</td>\n",
       "      <td>2.229</td>\n",
       "      <td>0.005</td>\n",
       "      <td>2</td>\n",
       "      <td>1</td>\n",
       "      <td>7</td>\n",
       "    </tr>\n",
       "    <tr>\n",
       "      <th>39</th>\n",
       "      <td>9881</td>\n",
       "      <td>39</td>\n",
       "      <td>2.576</td>\n",
       "      <td>0.045</td>\n",
       "      <td>1.252</td>\n",
       "      <td>0.011</td>\n",
       "      <td>7</td>\n",
       "      <td>2</td>\n",
       "      <td>7</td>\n",
       "    </tr>\n",
       "    <tr>\n",
       "      <th>140</th>\n",
       "      <td>7323</td>\n",
       "      <td>20</td>\n",
       "      <td>5.678</td>\n",
       "      <td>4.567</td>\n",
       "      <td>4.789</td>\n",
       "      <td>0.009</td>\n",
       "      <td>5</td>\n",
       "      <td>0</td>\n",
       "      <td>6</td>\n",
       "    </tr>\n",
       "    <tr>\n",
       "      <th>153</th>\n",
       "      <td>8210</td>\n",
       "      <td>99</td>\n",
       "      <td>2.345</td>\n",
       "      <td>1.234</td>\n",
       "      <td>1.567</td>\n",
       "      <td>0.004</td>\n",
       "      <td>2</td>\n",
       "      <td>0</td>\n",
       "      <td>3</td>\n",
       "    </tr>\n",
       "    <tr>\n",
       "      <th>137</th>\n",
       "      <td>7143</td>\n",
       "      <td>91</td>\n",
       "      <td>0.456</td>\n",
       "      <td>0.123</td>\n",
       "      <td>0.345</td>\n",
       "      <td>0.002</td>\n",
       "      <td>1</td>\n",
       "      <td>0</td>\n",
       "      <td>1</td>\n",
       "    </tr>\n",
       "    <tr>\n",
       "      <th>23</th>\n",
       "      <td>7687</td>\n",
       "      <td>23</td>\n",
       "      <td>2.576</td>\n",
       "      <td>2.302</td>\n",
       "      <td>4.987</td>\n",
       "      <td>0.142</td>\n",
       "      <td>6</td>\n",
       "      <td>9</td>\n",
       "      <td>4</td>\n",
       "    </tr>\n",
       "    <tr>\n",
       "      <th>118</th>\n",
       "      <td>5676</td>\n",
       "      <td>80</td>\n",
       "      <td>4.567</td>\n",
       "      <td>3.456</td>\n",
       "      <td>3.789</td>\n",
       "      <td>0.008</td>\n",
       "      <td>4</td>\n",
       "      <td>0</td>\n",
       "      <td>5</td>\n",
       "    </tr>\n",
       "    <tr>\n",
       "      <th>98</th>\n",
       "      <td>4322</td>\n",
       "      <td>70</td>\n",
       "      <td>0.456</td>\n",
       "      <td>0.123</td>\n",
       "      <td>0.345</td>\n",
       "      <td>0.002</td>\n",
       "      <td>1</td>\n",
       "      <td>0</td>\n",
       "      <td>1</td>\n",
       "    </tr>\n",
       "    <tr>\n",
       "      <th>87</th>\n",
       "      <td>3656</td>\n",
       "      <td>65</td>\n",
       "      <td>3.456</td>\n",
       "      <td>2.345</td>\n",
       "      <td>2.789</td>\n",
       "      <td>0.006</td>\n",
       "      <td>3</td>\n",
       "      <td>0</td>\n",
       "      <td>4</td>\n",
       "    </tr>\n",
       "    <tr>\n",
       "      <th>61</th>\n",
       "      <td>1922</td>\n",
       "      <td>52</td>\n",
       "      <td>4.567</td>\n",
       "      <td>3.456</td>\n",
       "      <td>3.789</td>\n",
       "      <td>0.007</td>\n",
       "      <td>4</td>\n",
       "      <td>0</td>\n",
       "      <td>5</td>\n",
       "    </tr>\n",
       "  </tbody>\n",
       "</table>\n",
       "</div>"
      ],
      "text/plain": [
       "     TIME  ID    MAX    MIN    AVG  STDEV  SMOOTHNESS  PEACKS  INTERACTION\n",
       "40   9903  40  2.576  2.002  2.229  0.005           2       1            7\n",
       "39   9881  39  2.576  0.045  1.252  0.011           7       2            7\n",
       "140  7323  20  5.678  4.567  4.789  0.009           5       0            6\n",
       "153  8210  99  2.345  1.234  1.567  0.004           2       0            3\n",
       "137  7143  91  0.456  0.123  0.345  0.002           1       0            1\n",
       "23   7687  23  2.576  2.302  4.987  0.142           6       9            4\n",
       "118  5676  80  4.567  3.456  3.789  0.008           4       0            5\n",
       "98   4322  70  0.456  0.123  0.345  0.002           1       0            1\n",
       "87   3656  65  3.456  2.345  2.789  0.006           3       0            4\n",
       "61   1922  52  4.567  3.456  3.789  0.007           4       0            5"
      ]
     },
     "execution_count": 8,
     "metadata": {},
     "output_type": "execute_result"
    }
   ],
   "source": [
    "\"\"\" Shuffle the dataframe in place \"\"\"\n",
    "df_shuffled = final_sorted.reindex(np.random.permutation(final_sorted.index))\n",
    "df_shuffled[:10]"
   ]
  },
  {
   "cell_type": "code",
   "execution_count": 9,
   "metadata": {
    "scrolled": true
   },
   "outputs": [],
   "source": [
    "X_simply = df_shuffled.drop('INTERACTION', axis=1)\n",
    "y_simply = df_shuffled['INTERACTION']"
   ]
  },
  {
   "cell_type": "code",
   "execution_count": 11,
   "metadata": {},
   "outputs": [],
   "source": [
    "X_simply_train, X_simply_test, y_simply_train, y_simply_test = train_test_split(X_simply, y_simply, test_size = 0.2, random_state = 52)\n",
    "X_simply_train, X_simply_val, y_simply_train, y_simply_val = train_test_split(X_simply_train, y_simply_train, test_size = 0.2, random_state = 52)"
   ]
  },
  {
   "cell_type": "code",
   "execution_count": 16,
   "metadata": {},
   "outputs": [
    {
     "name": "stdout",
     "output_type": "stream",
     "text": [
      "X_simply_train.size is = 864\n",
      "X_simply_test.size is = 272\n",
      "X_simply_val.size is = 216\n",
      "y_simply_train.size is = 108\n",
      "y_simply_test.size is = 34\n",
      "y_simply_val.size is = 27\n",
      "\n",
      "type is => <class 'pandas.core.series.Series'>\n"
     ]
    }
   ],
   "source": [
    "print(f\"X_simply_train.size is = {X_simply_train.size}\")\n",
    "print(f\"X_simply_test.size is = {X_simply_test.size}\")\n",
    "print(f\"X_simply_val.size is = {X_simply_val.size}\")\n",
    "print(f\"y_simply_train.size is = {y_simply_train.size}\")\n",
    "print(f\"y_simply_test.size is = {y_simply_test.size}\")\n",
    "print(f\"y_simply_val.size is = {y_simply_val.size}\")\n",
    "print()\n",
    "print(f\"type is => {type(y_simply_val)}\")"
   ]
  },
  {
   "cell_type": "code",
   "execution_count": 17,
   "metadata": {},
   "outputs": [],
   "source": [
    "\"\"\" StandardScaler() transform the data calculating the mean and standard deviation of each feature => zero mean + unit variance\n",
    "    No need clearly to transform targets to continues values --> classification problem!\n",
    "\"\"\"\n",
    "sc = StandardScaler() \n",
    "X_train = sc.fit_transform(X_simply_train)\n",
    "X_test = sc.fit_transform(X_simply_test)\n",
    "X_val = sc.fit_transform(X_simply_val)\n",
    "\n",
    "#y_simply_train_2d = np.reshape(y_simply_train.values, (-1, 1))\n",
    "#y_simply_test_2d = np.reshape(y_simply_test.values, (-1, 1))\n",
    "#y_simply_val_2d = np.reshape(y_simply_val.values, (-1, 1))\n",
    "#y_train = sc.fit_transform(y_simply_train_2d)\n",
    "#y_test = sc.fit_transform(y_simply_test_2d)\n",
    "#y_val = sc.fit_transform(y_simply_val_2d)"
   ]
  },
  {
   "cell_type": "code",
   "execution_count": 18,
   "metadata": {},
   "outputs": [],
   "source": [
    "y_train = copy(y_simply_train)\n",
    "y_test = copy(y_simply_test)\n",
    "y_val = copy(y_simply_val)"
   ]
  },
  {
   "cell_type": "code",
   "execution_count": 19,
   "metadata": {},
   "outputs": [
    {
     "data": {
      "text/plain": [
       "set()"
      ]
     },
     "execution_count": 19,
     "metadata": {},
     "output_type": "execute_result"
    }
   ],
   "source": [
    "## Get the unique class labels in the training set and test set\n",
    "train_classes = np.unique(y_train)\n",
    "test_classes = np.unique(y_test)\n",
    "\n",
    "# Find the missing classes in the test set\n",
    "missing_classes = set(train_classes) - set(test_classes)\n",
    "missing_classes"
   ]
  },
  {
   "cell_type": "code",
   "execution_count": 20,
   "metadata": {},
   "outputs": [],
   "source": [
    "rfc = RandomForestClassifier(n_estimators=1000)\n",
    "rfc.fit(X_train, y_train);"
   ]
  },
  {
   "cell_type": "code",
   "execution_count": 22,
   "metadata": {},
   "outputs": [
    {
     "name": "stdout",
     "output_type": "stream",
     "text": [
      "_estimator_type\n",
      " = classifier\n",
      "classes_\n",
      " = [1 2 3 4 5 6 7]\n",
      "decision_path\n",
      " = <bound method BaseForest.decision_path of RandomForestClassifier(n_estimators=1000)>\n",
      "feature_importances_\n",
      " = [0.05300271 0.03284065 0.19048458 0.2356047  0.19732667 0.1393086\n",
      " 0.10670194 0.04473016]\n",
      "n_features_in_\n",
      " = 8\n",
      "n_classes_\n",
      " = 7\n"
     ]
    }
   ],
   "source": [
    "print(f\"_estimator_type\\n = {rfc._estimator_type}\")\n",
    "print(f\"classes_\\n = {rfc.classes_}\")\n",
    "print(f\"decision_path\\n = {rfc.decision_path}\")\n",
    "print(f\"feature_importances_\\n = {rfc.feature_importances_}\")\n",
    "print(f\"n_features_in_\\n = {rfc.n_features_in_}\")\n",
    "print(f\"n_classes_\\n = {rfc.n_classes_}\")"
   ]
  },
  {
   "cell_type": "code",
   "execution_count": 23,
   "metadata": {},
   "outputs": [
    {
     "name": "stdout",
     "output_type": "stream",
     "text": [
      "get_params:\n",
      "\n",
      "bootstrap: True\n",
      "ccp_alpha: 0.0\n",
      "class_weight: None\n",
      "criterion: gini\n",
      "max_depth: None\n",
      "max_features: sqrt\n",
      "max_leaf_nodes: None\n",
      "max_samples: None\n",
      "min_impurity_decrease: 0.0\n",
      "min_samples_leaf: 1\n",
      "min_samples_split: 2\n",
      "min_weight_fraction_leaf: 0.0\n",
      "n_estimators: 1000\n",
      "n_jobs: None\n",
      "oob_score: False\n",
      "random_state: None\n",
      "verbose: 0\n",
      "warm_start: False\n",
      "\n",
      "DecisionTreeClassifier(max_features='sqrt', random_state=561689703)\n",
      "DecisionTreeClassifier(max_features='sqrt', random_state=486706640)\n",
      "DecisionTreeClassifier(max_features='sqrt', random_state=1641947171)\n",
      "DecisionTreeClassifier(max_features='sqrt', random_state=768066650)\n",
      "DecisionTreeClassifier(max_features='sqrt', random_state=1974893053)\n"
     ]
    }
   ],
   "source": [
    "print(\"get_params:\")\n",
    "params = rfc.get_params()\n",
    "print()\n",
    "for key, value in params.items():\n",
    "    print(f\"{key}: {value}\")\n",
    "print()\n",
    "for estimator in rfc.estimators_[:5]:\n",
    "    print(estimator)"
   ]
  },
  {
   "cell_type": "code",
   "execution_count": 24,
   "metadata": {},
   "outputs": [
    {
     "data": {
      "text/plain": [
       "array([6, 3, 2, 4, 5, 3, 3, 4, 5, 6, 3, 4, 3, 1, 2, 1, 4, 5, 5, 5, 3, 1,\n",
       "       5, 1, 6, 5, 3, 3, 2, 2, 3, 2, 3, 3])"
      ]
     },
     "execution_count": 24,
     "metadata": {},
     "output_type": "execute_result"
    }
   ],
   "source": [
    "\"\"\" Prediction \"\"\"\n",
    "pred_rfc = rfc.predict(X_test)\n",
    "pred_rfc"
   ]
  },
  {
   "cell_type": "code",
   "execution_count": 25,
   "metadata": {
    "scrolled": true
   },
   "outputs": [
    {
     "name": "stdout",
     "output_type": "stream",
     "text": [
      "              precision    recall  f1-score   support\n",
      "\n",
      "           1       0.25      1.00      0.40         1\n",
      "           2       0.60      0.50      0.55         6\n",
      "           3       0.55      0.75      0.63         8\n",
      "           4       0.75      0.60      0.67         5\n",
      "           5       1.00      0.88      0.93         8\n",
      "           6       1.00      0.60      0.75         5\n",
      "           7       1.00      0.00      0.00         1\n",
      "\n",
      "    accuracy                           0.68        34\n",
      "   macro avg       0.74      0.62      0.56        34\n",
      "weighted avg       0.76      0.68      0.68        34\n",
      "\n"
     ]
    }
   ],
   "source": [
    "\"\"\"  Print the classification report with zero_division set to 1, \n",
    "so precision and recall for classes with no predicted samples will be set to 1 instead of being undefined or zero. \"\"\"\n",
    "print(classification_report(y_test, pred_rfc, zero_division=1))"
   ]
  },
  {
   "cell_type": "markdown",
   "metadata": {},
   "source": [
    "<h2 style=\"color:#0FA345 \"> OvR classifier </h2>"
   ]
  },
  {
   "cell_type": "code",
   "execution_count": 26,
   "metadata": {},
   "outputs": [
    {
     "data": {
      "text/html": [
       "<style>#sk-container-id-1 {color: black;background-color: white;}#sk-container-id-1 pre{padding: 0;}#sk-container-id-1 div.sk-toggleable {background-color: white;}#sk-container-id-1 label.sk-toggleable__label {cursor: pointer;display: block;width: 100%;margin-bottom: 0;padding: 0.3em;box-sizing: border-box;text-align: center;}#sk-container-id-1 label.sk-toggleable__label-arrow:before {content: \"▸\";float: left;margin-right: 0.25em;color: #696969;}#sk-container-id-1 label.sk-toggleable__label-arrow:hover:before {color: black;}#sk-container-id-1 div.sk-estimator:hover label.sk-toggleable__label-arrow:before {color: black;}#sk-container-id-1 div.sk-toggleable__content {max-height: 0;max-width: 0;overflow: hidden;text-align: left;background-color: #f0f8ff;}#sk-container-id-1 div.sk-toggleable__content pre {margin: 0.2em;color: black;border-radius: 0.25em;background-color: #f0f8ff;}#sk-container-id-1 input.sk-toggleable__control:checked~div.sk-toggleable__content {max-height: 200px;max-width: 100%;overflow: auto;}#sk-container-id-1 input.sk-toggleable__control:checked~label.sk-toggleable__label-arrow:before {content: \"▾\";}#sk-container-id-1 div.sk-estimator input.sk-toggleable__control:checked~label.sk-toggleable__label {background-color: #d4ebff;}#sk-container-id-1 div.sk-label input.sk-toggleable__control:checked~label.sk-toggleable__label {background-color: #d4ebff;}#sk-container-id-1 input.sk-hidden--visually {border: 0;clip: rect(1px 1px 1px 1px);clip: rect(1px, 1px, 1px, 1px);height: 1px;margin: -1px;overflow: hidden;padding: 0;position: absolute;width: 1px;}#sk-container-id-1 div.sk-estimator {font-family: monospace;background-color: #f0f8ff;border: 1px dotted black;border-radius: 0.25em;box-sizing: border-box;margin-bottom: 0.5em;}#sk-container-id-1 div.sk-estimator:hover {background-color: #d4ebff;}#sk-container-id-1 div.sk-parallel-item::after {content: \"\";width: 100%;border-bottom: 1px solid gray;flex-grow: 1;}#sk-container-id-1 div.sk-label:hover label.sk-toggleable__label {background-color: #d4ebff;}#sk-container-id-1 div.sk-serial::before {content: \"\";position: absolute;border-left: 1px solid gray;box-sizing: border-box;top: 0;bottom: 0;left: 50%;z-index: 0;}#sk-container-id-1 div.sk-serial {display: flex;flex-direction: column;align-items: center;background-color: white;padding-right: 0.2em;padding-left: 0.2em;position: relative;}#sk-container-id-1 div.sk-item {position: relative;z-index: 1;}#sk-container-id-1 div.sk-parallel {display: flex;align-items: stretch;justify-content: center;background-color: white;position: relative;}#sk-container-id-1 div.sk-item::before, #sk-container-id-1 div.sk-parallel-item::before {content: \"\";position: absolute;border-left: 1px solid gray;box-sizing: border-box;top: 0;bottom: 0;left: 50%;z-index: -1;}#sk-container-id-1 div.sk-parallel-item {display: flex;flex-direction: column;z-index: 1;position: relative;background-color: white;}#sk-container-id-1 div.sk-parallel-item:first-child::after {align-self: flex-end;width: 50%;}#sk-container-id-1 div.sk-parallel-item:last-child::after {align-self: flex-start;width: 50%;}#sk-container-id-1 div.sk-parallel-item:only-child::after {width: 0;}#sk-container-id-1 div.sk-dashed-wrapped {border: 1px dashed gray;margin: 0 0.4em 0.5em 0.4em;box-sizing: border-box;padding-bottom: 0.4em;background-color: white;}#sk-container-id-1 div.sk-label label {font-family: monospace;font-weight: bold;display: inline-block;line-height: 1.2em;}#sk-container-id-1 div.sk-label-container {text-align: center;}#sk-container-id-1 div.sk-container {/* jupyter's `normalize.less` sets `[hidden] { display: none; }` but bootstrap.min.css set `[hidden] { display: none !important; }` so we also need the `!important` here to be able to override the default hidden behavior on the sphinx rendered scikit-learn.org. See: https://github.com/scikit-learn/scikit-learn/issues/21755 */display: inline-block !important;position: relative;}#sk-container-id-1 div.sk-text-repr-fallback {display: none;}</style><div id=\"sk-container-id-1\" class=\"sk-top-container\"><div class=\"sk-text-repr-fallback\"><pre>OneVsRestClassifier(estimator=RandomForestClassifier(n_estimators=1000))</pre><b>In a Jupyter environment, please rerun this cell to show the HTML representation or trust the notebook. <br />On GitHub, the HTML representation is unable to render, please try loading this page with nbviewer.org.</b></div><div class=\"sk-container\" hidden><div class=\"sk-item sk-dashed-wrapped\"><div class=\"sk-label-container\"><div class=\"sk-label sk-toggleable\"><input class=\"sk-toggleable__control sk-hidden--visually\" id=\"sk-estimator-id-1\" type=\"checkbox\" ><label for=\"sk-estimator-id-1\" class=\"sk-toggleable__label sk-toggleable__label-arrow\">OneVsRestClassifier</label><div class=\"sk-toggleable__content\"><pre>OneVsRestClassifier(estimator=RandomForestClassifier(n_estimators=1000))</pre></div></div></div><div class=\"sk-parallel\"><div class=\"sk-parallel-item\"><div class=\"sk-item\"><div class=\"sk-label-container\"><div class=\"sk-label sk-toggleable\"><input class=\"sk-toggleable__control sk-hidden--visually\" id=\"sk-estimator-id-2\" type=\"checkbox\" ><label for=\"sk-estimator-id-2\" class=\"sk-toggleable__label sk-toggleable__label-arrow\">estimator: RandomForestClassifier</label><div class=\"sk-toggleable__content\"><pre>RandomForestClassifier(n_estimators=1000)</pre></div></div></div><div class=\"sk-serial\"><div class=\"sk-item\"><div class=\"sk-estimator sk-toggleable\"><input class=\"sk-toggleable__control sk-hidden--visually\" id=\"sk-estimator-id-3\" type=\"checkbox\" ><label for=\"sk-estimator-id-3\" class=\"sk-toggleable__label sk-toggleable__label-arrow\">RandomForestClassifier</label><div class=\"sk-toggleable__content\"><pre>RandomForestClassifier(n_estimators=1000)</pre></div></div></div></div></div></div></div></div></div></div>"
      ],
      "text/plain": [
       "OneVsRestClassifier(estimator=RandomForestClassifier(n_estimators=1000))"
      ]
     },
     "execution_count": 26,
     "metadata": {},
     "output_type": "execute_result"
    }
   ],
   "source": [
    "# Get the unique class labels in the training set and test set\n",
    "train_classes = np.unique(y_train)\n",
    "test_classes = np.unique(y_test)\n",
    "\n",
    "# Find the missing classes in the test set\n",
    "missing_classes = set(train_classes) - set(test_classes)\n",
    "\n",
    "# Remove the missing classes from the training set and test set\n",
    "for cls in missing_classes:\n",
    "    idx = np.where(y_train == cls)[0]\n",
    "    X_train = np.delete(X_train, idx, axis=0)\n",
    "    y_train = np.delete(y_train, idx, axis=0)\n",
    "    idx = np.where(y_test == cls)[0]\n",
    "    X_test = np.delete(X_test, idx, axis=0)\n",
    "    y_test = np.delete(y_test, idx, axis=0)\n",
    "\n",
    "# Binarize the test labels\n",
    "y_test_bin = label_binarize(y_test, classes=train_classes)\n",
    "\n",
    "# Fit the OvR classifier\n",
    "ovr = OneVsRestClassifier(rfc)\n",
    "ovr.fit(X_train, y_train)"
   ]
  },
  {
   "cell_type": "markdown",
   "metadata": {},
   "source": [
    "#### => Compute ROC curve and area under curve for each class"
   ]
  },
  {
   "cell_type": "code",
   "execution_count": 27,
   "metadata": {},
   "outputs": [],
   "source": [
    "y_score = ovr.predict_proba(X_test)\n",
    "fpr = dict()\n",
    "tpr = dict()\n",
    "roc_auc = dict()\n",
    "for i in range(rfc.n_classes_):\n",
    "    fpr[i], tpr[i], _ = roc_curve(y_test_bin[:, i], y_score[:, i])\n",
    "    roc_auc[i] = auc(fpr[i], tpr[i])\n",
    "\n",
    "# Compute micro-average ROC curve and area under curve\n",
    "fpr[\"micro\"], tpr[\"micro\"], _ = roc_curve(y_test_bin.ravel(), y_score.ravel())\n",
    "roc_auc[\"micro\"] = auc(fpr[\"micro\"], tpr[\"micro\"])"
   ]
  },
  {
   "cell_type": "markdown",
   "metadata": {},
   "source": [
    "#### => Metrics "
   ]
  },
  {
   "cell_type": "code",
   "execution_count": 28,
   "metadata": {},
   "outputs": [
    {
     "name": "stdout",
     "output_type": "stream",
     "text": [
      "accuracy 0.6764705882352942\n",
      "precision 0.7636363636363636\n",
      "recall 0.6764705882352942\n",
      "f1 0.6845693779904306\n"
     ]
    }
   ],
   "source": [
    "\"\"\" Calculate basic classification metrics \n",
    "#precision = precision_score(y_test, pred_rfc, average='weighted')\n",
    "Compute precision with non-zero division behavior, to avoid UndefinedMetricWarning. \"\"\"\n",
    "\n",
    "precision = precision_score(y_test, pred_rfc, average='weighted', zero_division=1)\n",
    "accuracy = accuracy_score(y_test, pred_rfc)\n",
    "recall = recall_score(y_test, pred_rfc, average='weighted')\n",
    "f1 = f1_score(y_test, pred_rfc, average='weighted')\n",
    "\n",
    "print(f\"accuracy {accuracy}\")  \n",
    "print(f\"precision {precision}\")  \n",
    "print(f\"recall {recall}\")\n",
    "print(f\"f1 {f1}\")"
   ]
  },
  {
   "cell_type": "code",
   "execution_count": 29,
   "metadata": {},
   "outputs": [
    {
     "data": {
      "image/png": "[encoded data removed]",
      "text/plain": [
       "<Figure size 640x480 with 2 Axes>"
      ]
     },
     "metadata": {},
     "output_type": "display_data"
    }
   ],
   "source": [
    "## Confusion matrix\n",
    "cm = confusion_matrix(y_test, pred_rfc)\n",
    "sns.heatmap(cm, annot=True, cmap='Blues', fmt='g')\n",
    "plt.xlabel('Predicted')\n",
    "plt.ylabel('True')\n",
    "plt.show()"
   ]
  },
  {
   "cell_type": "markdown",
   "metadata": {},
   "source": [
    "<h3 style=\"color:#0FA345 \"> Feature importances </h3>"
   ]
  },
  {
   "cell_type": "code",
   "execution_count": 30,
   "metadata": {},
   "outputs": [
    {
     "data": {
      "image/png": "[encoded data removed]",
      "text/plain": [
       "<Figure size 640x480 with 1 Axes>"
      ]
     },
     "metadata": {},
     "output_type": "display_data"
    }
   ],
   "source": [
    "importances = rfc.feature_importances_\n",
    "std = np.std([tree.feature_importances_ for tree in rfc.estimators_], axis=0)\n",
    "indices = np.argsort(importances)[::-1]\n",
    "## Plot\n",
    "plt.figure()\n",
    "plt.title(\"Feature importances\")\n",
    "plt.bar(range(X_train.shape[1]), importances[indices],\n",
    "       color=\"g\", yerr=std[indices], align=\"center\")\n",
    "plt.xticks(range(X_train.shape[1]), indices)\n",
    "plt.xlim([-1, X_train.shape[1]])\n",
    "plt.show()\n",
    "\n",
    "std = np.std([tree.feature_importances_ for tree in rfc.estimators_], axis=0)\n",
    "indices = np.argsort(importances)[::-1]"
   ]
  },
  {
   "cell_type": "code",
   "execution_count": 32,
   "metadata": {},
   "outputs": [
    {
     "data": {
      "image/png": "[encoded data removed]",
      "text/plain": [
       "<Figure size 1000x500 with 2 Axes>"
      ]
     },
     "metadata": {},
     "output_type": "display_data"
    }
   ],
   "source": [
    "fig, (ax1, ax2) = plt.subplots(nrows=1, ncols=2, figsize=(10, 5))\n",
    "\n",
    "# plot learning curve (set k=4 for cross-validation to avoid UserWarning: The least populated class \n",
    "train_sizes, train_scores, test_scores = learning_curve(rfc, X_train, y_train, cv=4, scoring='accuracy', n_jobs=-1)\n",
    "ax1.set_title('Learning curve')\n",
    "ax1.set_xlabel('Training examples')\n",
    "ax1.set_ylabel('Score')\n",
    "ax1.plot(train_sizes, np.mean(train_scores, axis=1), 'o-', color='r',\n",
    "        label='Training score')\n",
    "ax1.plot(train_sizes, np.mean(test_scores, axis=1), 'o-', color='g',\n",
    "        label='Cross-validation score')\n",
    "ax1.legend(loc='best')\n",
    "\n",
    "# plot feature importances\n",
    "importances = rfc.feature_importances_\n",
    "std = np.std([tree.feature_importances_ for tree in rfc.estimators_], axis=0)\n",
    "indices = np.argsort(importances)[::-1]\n",
    "ax2.set_title(\"Feature importances\")\n",
    "ax2.barh(range(X_train.shape[1]), importances[indices],\n",
    "        color=\"r\", xerr=std[indices], align=\"center\")\n",
    "ax2.set_yticks(range(X_train.shape[1]))\n",
    "ax2.set_yticklabels(indices)\n",
    "ax2.set_ylim([-1, X_train.shape[1]])\n",
    "\n",
    "plt.show()"
   ]
  },
  {
   "cell_type": "code",
   "execution_count": 33,
   "metadata": {},
   "outputs": [
    {
     "data": {
      "text/html": [
       "<style>#sk-container-id-2 {color: black;background-color: white;}#sk-container-id-2 pre{padding: 0;}#sk-container-id-2 div.sk-toggleable {background-color: white;}#sk-container-id-2 label.sk-toggleable__label {cursor: pointer;display: block;width: 100%;margin-bottom: 0;padding: 0.3em;box-sizing: border-box;text-align: center;}#sk-container-id-2 label.sk-toggleable__label-arrow:before {content: \"▸\";float: left;margin-right: 0.25em;color: #696969;}#sk-container-id-2 label.sk-toggleable__label-arrow:hover:before {color: black;}#sk-container-id-2 div.sk-estimator:hover label.sk-toggleable__label-arrow:before {color: black;}#sk-container-id-2 div.sk-toggleable__content {max-height: 0;max-width: 0;overflow: hidden;text-align: left;background-color: #f0f8ff;}#sk-container-id-2 div.sk-toggleable__content pre {margin: 0.2em;color: black;border-radius: 0.25em;background-color: #f0f8ff;}#sk-container-id-2 input.sk-toggleable__control:checked~div.sk-toggleable__content {max-height: 200px;max-width: 100%;overflow: auto;}#sk-container-id-2 input.sk-toggleable__control:checked~label.sk-toggleable__label-arrow:before {content: \"▾\";}#sk-container-id-2 div.sk-estimator input.sk-toggleable__control:checked~label.sk-toggleable__label {background-color: #d4ebff;}#sk-container-id-2 div.sk-label input.sk-toggleable__control:checked~label.sk-toggleable__label {background-color: #d4ebff;}#sk-container-id-2 input.sk-hidden--visually {border: 0;clip: rect(1px 1px 1px 1px);clip: rect(1px, 1px, 1px, 1px);height: 1px;margin: -1px;overflow: hidden;padding: 0;position: absolute;width: 1px;}#sk-container-id-2 div.sk-estimator {font-family: monospace;background-color: #f0f8ff;border: 1px dotted black;border-radius: 0.25em;box-sizing: border-box;margin-bottom: 0.5em;}#sk-container-id-2 div.sk-estimator:hover {background-color: #d4ebff;}#sk-container-id-2 div.sk-parallel-item::after {content: \"\";width: 100%;border-bottom: 1px solid gray;flex-grow: 1;}#sk-container-id-2 div.sk-label:hover label.sk-toggleable__label {background-color: #d4ebff;}#sk-container-id-2 div.sk-serial::before {content: \"\";position: absolute;border-left: 1px solid gray;box-sizing: border-box;top: 0;bottom: 0;left: 50%;z-index: 0;}#sk-container-id-2 div.sk-serial {display: flex;flex-direction: column;align-items: center;background-color: white;padding-right: 0.2em;padding-left: 0.2em;position: relative;}#sk-container-id-2 div.sk-item {position: relative;z-index: 1;}#sk-container-id-2 div.sk-parallel {display: flex;align-items: stretch;justify-content: center;background-color: white;position: relative;}#sk-container-id-2 div.sk-item::before, #sk-container-id-2 div.sk-parallel-item::before {content: \"\";position: absolute;border-left: 1px solid gray;box-sizing: border-box;top: 0;bottom: 0;left: 50%;z-index: -1;}#sk-container-id-2 div.sk-parallel-item {display: flex;flex-direction: column;z-index: 1;position: relative;background-color: white;}#sk-container-id-2 div.sk-parallel-item:first-child::after {align-self: flex-end;width: 50%;}#sk-container-id-2 div.sk-parallel-item:last-child::after {align-self: flex-start;width: 50%;}#sk-container-id-2 div.sk-parallel-item:only-child::after {width: 0;}#sk-container-id-2 div.sk-dashed-wrapped {border: 1px dashed gray;margin: 0 0.4em 0.5em 0.4em;box-sizing: border-box;padding-bottom: 0.4em;background-color: white;}#sk-container-id-2 div.sk-label label {font-family: monospace;font-weight: bold;display: inline-block;line-height: 1.2em;}#sk-container-id-2 div.sk-label-container {text-align: center;}#sk-container-id-2 div.sk-container {/* jupyter's `normalize.less` sets `[hidden] { display: none; }` but bootstrap.min.css set `[hidden] { display: none !important; }` so we also need the `!important` here to be able to override the default hidden behavior on the sphinx rendered scikit-learn.org. See: https://github.com/scikit-learn/scikit-learn/issues/21755 */display: inline-block !important;position: relative;}#sk-container-id-2 div.sk-text-repr-fallback {display: none;}</style><div id=\"sk-container-id-2\" class=\"sk-top-container\"><div class=\"sk-text-repr-fallback\"><pre>OneVsRestClassifier(estimator=RandomForestClassifier(n_estimators=1000))</pre><b>In a Jupyter environment, please rerun this cell to show the HTML representation or trust the notebook. <br />On GitHub, the HTML representation is unable to render, please try loading this page with nbviewer.org.</b></div><div class=\"sk-container\" hidden><div class=\"sk-item sk-dashed-wrapped\"><div class=\"sk-label-container\"><div class=\"sk-label sk-toggleable\"><input class=\"sk-toggleable__control sk-hidden--visually\" id=\"sk-estimator-id-4\" type=\"checkbox\" ><label for=\"sk-estimator-id-4\" class=\"sk-toggleable__label sk-toggleable__label-arrow\">OneVsRestClassifier</label><div class=\"sk-toggleable__content\"><pre>OneVsRestClassifier(estimator=RandomForestClassifier(n_estimators=1000))</pre></div></div></div><div class=\"sk-parallel\"><div class=\"sk-parallel-item\"><div class=\"sk-item\"><div class=\"sk-label-container\"><div class=\"sk-label sk-toggleable\"><input class=\"sk-toggleable__control sk-hidden--visually\" id=\"sk-estimator-id-5\" type=\"checkbox\" ><label for=\"sk-estimator-id-5\" class=\"sk-toggleable__label sk-toggleable__label-arrow\">estimator: RandomForestClassifier</label><div class=\"sk-toggleable__content\"><pre>RandomForestClassifier(n_estimators=1000)</pre></div></div></div><div class=\"sk-serial\"><div class=\"sk-item\"><div class=\"sk-estimator sk-toggleable\"><input class=\"sk-toggleable__control sk-hidden--visually\" id=\"sk-estimator-id-6\" type=\"checkbox\" ><label for=\"sk-estimator-id-6\" class=\"sk-toggleable__label sk-toggleable__label-arrow\">RandomForestClassifier</label><div class=\"sk-toggleable__content\"><pre>RandomForestClassifier(n_estimators=1000)</pre></div></div></div></div></div></div></div></div></div></div>"
      ],
      "text/plain": [
       "OneVsRestClassifier(estimator=RandomForestClassifier(n_estimators=1000))"
      ]
     },
     "execution_count": 33,
     "metadata": {},
     "output_type": "execute_result"
    }
   ],
   "source": [
    "## Binarization\n",
    "y_test_bin = label_binarize(y_test, classes=[0, 1, 2, 3, 4, 5, 6])\n",
    "\n",
    "## Training OvA classifier (without semicolon \";\" the classifier is shown)\n",
    "ovr = OneVsRestClassifier(rfc)\n",
    "ovr.fit(X_train, y_train) "
   ]
  },
  {
   "cell_type": "markdown",
   "metadata": {},
   "source": [
    "<h3 style=\"color:#0FA345 \"> => ROC </h3>"
   ]
  },
  {
   "cell_type": "code",
   "execution_count": 34,
   "metadata": {},
   "outputs": [
    {
     "name": "stderr",
     "output_type": "stream",
     "text": [
      "/home/notto4/anaconda3/envs/MLearning/lib/python3.10/site-packages/sklearn/metrics/_ranking.py:1029: UndefinedMetricWarning: No positive samples in y_true, true positive value should be meaningless\n",
      "  warnings.warn(\n"
     ]
    }
   ],
   "source": [
    "\"\"\" Get roc_auc\n",
    "N.B.\n",
    "The warning is caused by the fact that a specific class doesn't contain any positive samples, \n",
    "meaning there are no instances of that class in your test data.\n",
    "\"\"\"\n",
    "# ROC curve and area under curve for each class\n",
    "y_score = ovr.predict_proba(X_test)\n",
    "fpr = dict()\n",
    "tpr = dict()\n",
    "roc_auc = dict()\n",
    "for i in range(rfc.n_classes_):\n",
    "    fpr[i], tpr[i], _ = roc_curve(y_test_bin[:, i], y_score[:, i])\n",
    "    roc_auc[i] = auc(fpr[i], tpr[i])\n",
    "\n",
    "## Micro-average ROC curve and area under curve\n",
    "fpr[\"micro\"], tpr[\"micro\"], _ = roc_curve(y_test_bin.ravel(), y_score.ravel())\n",
    "roc_auc[\"micro\"] = auc(fpr[\"micro\"], tpr[\"micro\"])"
   ]
  },
  {
   "cell_type": "code",
   "execution_count": 35,
   "metadata": {},
   "outputs": [
    {
     "data": {
      "image/png": "[encoded data removed]",
      "text/plain": [
       "<Figure size 640x480 with 1 Axes>"
      ]
     },
     "metadata": {},
     "output_type": "display_data"
    }
   ],
   "source": [
    "\"\"\" Plot ROC curve for each class and micro-average.\n",
    "    fpr[\"micro\"] and tpr[\"micro\"] are the false positive rate and true positive rate for the micro-average, respectively, \n",
    "    while roc_auc[\"micro\"] is the area under the ROC curve for the micro-average. \n",
    "\"\"\"\n",
    "plt.figure()\n",
    "lw = 2 #line width\n",
    "plt.plot(fpr[\"micro\"], tpr[\"micro\"], color='deeppink',\n",
    "        lw=lw, label='micro-average ROC curve (area = {0:0.2f})'\n",
    "        ''.format(roc_auc[\"micro\"]))\n",
    "for i in range(rfc.n_classes_):          #ROC curve for each class separately\n",
    "    plt.plot(fpr[i], tpr[i], lw=lw,\n",
    "            label='ROC curve of class {0} (area = {1:0.2f})'\n",
    "            ''.format(i, roc_auc[i]))\n",
    "plt.plot([0, 1], [0, 1], 'k--', lw=lw)   #diagonal line from (0,0) to (1,1) as a reference line for a classifier that randomly guesses the class\n",
    "plt.xlim([0.0, 1.0])\n",
    "plt.ylim([0.0, 1.05])\n",
    "plt.xlabel('False Positive Rate')\n",
    "plt.ylabel('True Positive Rate')\n",
    "plt.title('Receiver operating characteristic for multiclass')\n",
    "plt.legend(loc=\"lower right\", bbox_to_anchor=(1.8, 0.5))\n",
    "plt.show()\n"
   ]
  },
  {
   "attachments": {},
   "cell_type": "markdown",
   "metadata": {},
   "source": [
    "<h2 style=\"color:#0FA345 \"> Comparison with SVM Classifier </h2>"
   ]
  },
  {
   "cell_type": "code",
   "execution_count": 39,
   "metadata": {},
   "outputs": [
    {
     "data": {
      "text/plain": [
       "array([6, 3, 3, 3, 5, 6, 3, 4, 5, 6, 3, 3, 6, 1, 1, 2, 3, 5, 5, 4, 3, 1,\n",
       "       5, 2, 6, 5, 3, 3, 3, 1, 3, 1, 6, 3])"
      ]
     },
     "execution_count": 39,
     "metadata": {},
     "output_type": "execute_result"
    }
   ],
   "source": [
    "clf_svm = SVC()\n",
    "clf_svm.fit(X_train, y_train)\n",
    "pred_clf = clf_svm.predict(X_test)\n",
    "pred_clf"
   ]
  },
  {
   "cell_type": "code",
   "execution_count": 40,
   "metadata": {},
   "outputs": [
    {
     "name": "stdout",
     "output_type": "stream",
     "text": [
      "accuracy 0.6764705882352942\n",
      "precision 0.7879336349924585\n",
      "recall 0.6764705882352942\n",
      "f1 0.6546982429335371\n"
     ]
    }
   ],
   "source": [
    "precision2 = precision_score(y_test, pred_clf, average='weighted', zero_division=1)\n",
    "accuracy2 = accuracy_score(y_test, pred_clf)\n",
    "recall2 = recall_score(y_test, pred_clf, average='weighted')\n",
    "f12 = f1_score(y_test, pred_clf, average='weighted')\n",
    "\n",
    "print(f\"accuracy {accuracy2}\")  \n",
    "print(f\"precision {precision2}\")  \n",
    "print(f\"recall {recall2}\")\n",
    "print(f\"f1 {f12}\")\n"
   ]
  },
  {
   "cell_type": "code",
   "execution_count": 43,
   "metadata": {
    "scrolled": true
   },
   "outputs": [
    {
     "name": "stdout",
     "output_type": "stream",
     "text": [
      "              precision    recall  f1-score   support\n",
      "\n",
      "           1       0.20      1.00      0.33         1\n",
      "           2       1.00      0.33      0.50         6\n",
      "           3       0.62      1.00      0.76         8\n",
      "           4       0.50      0.20      0.29         5\n",
      "           5       1.00      0.75      0.86         8\n",
      "           6       0.83      1.00      0.91         5\n",
      "           7       0.00      0.00      0.00         1\n",
      "\n",
      "    accuracy                           0.68        34\n",
      "   macro avg       0.59      0.61      0.52        34\n",
      "weighted avg       0.76      0.68      0.65        34\n",
      "\n",
      "confusion matrix pred_clf SVM Classificator\n",
      "[[1 0 0 0 0 0 0]\n",
      " [4 2 0 0 0 0 0]\n",
      " [0 0 8 0 0 0 0]\n",
      " [0 0 3 1 0 1 0]\n",
      " [0 0 1 1 6 0 0]\n",
      " [0 0 0 0 0 5 0]\n",
      " [0 0 1 0 0 0 0]]\n"
     ]
    }
   ],
   "source": [
    "\"\"\" Add the zero_division parameter to zero.\n",
    "We are in a case in which there are classes with no predicted samples, to avoid warning in classification report.\n",
    "UndefinedMetricWarning: Precision and F-score are ill-defined and being set to 0.0 in labels with no predicted samples.\n",
    "\"\"\"\n",
    "print(classification_report(y_test, pred_clf, zero_division=0))\n",
    "print(\"confusion matrix pred_clf SVM Classificator\")\n",
    "print(confusion_matrix(y_test, pred_clf))"
   ]
  },
  {
   "cell_type": "markdown",
   "metadata": {},
   "source": [
    "<h2 style=\"color:#0FA345 \"> Comparison with Multi-Layer Perceptron Classifier </h2>"
   ]
  },
  {
   "cell_type": "code",
   "execution_count": 44,
   "metadata": {},
   "outputs": [
    {
     "name": "stderr",
     "output_type": "stream",
     "text": [
      "/home/notto4/anaconda3/envs/MLearning/lib/python3.10/site-packages/sklearn/neural_network/_multilayer_perceptron.py:679: ConvergenceWarning: Stochastic Optimizer: Maximum iterations (100) reached and the optimization hasn't converged yet.\n",
      "  warnings.warn(\n"
     ]
    }
   ],
   "source": [
    "mlpc = MLPClassifier(hidden_layer_sizes=(11,11,11),max_iter=100,random_state=0)\n",
    "mlpc.fit(X_train,y_train)\n",
    "pred_mlpc = mlpc.predict(X_test)"
   ]
  },
  {
   "cell_type": "code",
   "execution_count": 46,
   "metadata": {},
   "outputs": [
    {
     "name": "stdout",
     "output_type": "stream",
     "text": [
      "              precision    recall  f1-score   support\n",
      "\n",
      "           1       0.20      1.00      0.33         1\n",
      "           2       1.00      0.33      0.50         6\n",
      "           3       0.62      1.00      0.76         8\n",
      "           4       0.50      0.20      0.29         5\n",
      "           5       1.00      0.75      0.86         8\n",
      "           6       0.83      1.00      0.91         5\n",
      "           7       0.00      0.00      0.00         1\n",
      "\n",
      "    accuracy                           0.68        34\n",
      "   macro avg       0.59      0.61      0.52        34\n",
      "weighted avg       0.76      0.68      0.65        34\n",
      "\n",
      "[[1 0 0 0 0 0 0]\n",
      " [4 0 2 0 0 0 0]\n",
      " [2 0 6 0 0 0 0]\n",
      " [0 0 4 0 0 1 0]\n",
      " [0 1 4 0 0 3 0]\n",
      " [0 0 0 0 0 5 0]\n",
      " [0 0 1 0 0 0 0]]\n"
     ]
    },
    {
     "data": {
      "text/plain": [
       "array([6, 1, 3, 3, 3, 6, 3, 3, 6, 6, 3, 3, 6, 1, 1, 3, 3, 6, 3, 2, 3, 1,\n",
       "       6, 3, 6, 3, 1, 3, 3, 1, 3, 1, 6, 3])"
      ]
     },
     "execution_count": 46,
     "metadata": {},
     "output_type": "execute_result"
    }
   ],
   "source": [
    "print(classification_report(y_test, pred_clf, zero_division=0))\n",
    "print(confusion_matrix(y_test, pred_mlpc))\n",
    "pred_mlpc"
   ]
  }
 ],
 "metadata": {
  "kernelspec": {
   "display_name": "Python 3 (ipykernel)",
   "language": "python",
   "name": "python3"
  },
  "language_info": {
   "codemirror_mode": {
    "name": "ipython",
    "version": 3
   },
   "file_extension": ".py",
   "mimetype": "text/x-python",
   "name": "python",
   "nbconvert_exporter": "python",
   "pygments_lexer": "ipython3",
   "version": "3.10.9"
  }
 },
 "nbformat": 4,
 "nbformat_minor": 2
}
