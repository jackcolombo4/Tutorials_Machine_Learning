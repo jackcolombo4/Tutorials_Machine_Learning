{
  "cells": [
    {
      "cell_type": "markdown",
      "metadata": {
        "id": "9AYtFmxdGr-B"
      },
      "source": [
        "<div style=\"line-height:0.45\">\n",
        "<h1 style=\"color:#27E36C\"> XGBoost 2 </h1>\n",
        "<div style=\"margin-top: -4px;\">\n",
        "<span style=\"display: inline-block;\">\n",
        "    <h3 style=\"color: lightblue; display: inline;\">Keywords:</h3> VGG16_model + OpenCV + Tensorflow CUDA warnings\n",
        "</span>\n",
        "</div>"
      ]
    },
    {
      "cell_type": "code",
      "execution_count": 1,
      "metadata": {
        "id": "VOnJcwwaGr-L"
      },
      "outputs": [],
      "source": [
        "import os\n",
        "os.environ['TF_CPP_MIN_LOG_LEVEL'] = '2' #to ignore CUDA warnings"
      ]
    },
    {
      "cell_type": "code",
      "execution_count": 2,
      "metadata": {
        "id": "l78aWWnzGr-M"
      },
      "outputs": [],
      "source": [
        "import cv2\n",
        "import glob\n",
        "import pickle\n",
        "import zipfile\n",
        "import numpy as np\n",
        "import pandas as pd\n",
        "import matplotlib.pyplot as plt\n",
        "\n",
        "import xgboost as xgb\n",
        "\n",
        "from keras.models import Model\n",
        "from keras.layers import Conv2D\n",
        "from keras.applications.vgg16 import VGG16\n",
        "from keras.metrics import accuracy_score, MeanIoU\n",
        "\n",
        "from google.colab import files"
      ]
    },
    {
      "cell_type": "code",
      "execution_count": 3,
      "metadata": {
        "colab": {
          "base_uri": "https://localhost:8080/",
          "height": 38
        },
        "id": "hw9q6vzdNTFA",
        "outputId": "36a3835c-0eaa-4b1d-9060-658d7811d4c3"
      },
      "outputs": [
        {
          "data": {
            "text/html": [
              "\n",
              "     <input type=\"file\" id=\"files-0c96b054-17b9-46a4-8e85-88b5ba60255d\" name=\"files[]\" multiple disabled\n",
              "        style=\"border:none\" />\n",
              "     <output id=\"result-0c96b054-17b9-46a4-8e85-88b5ba60255d\">\n",
              "      Upload widget is only available when the cell has been executed in the\n",
              "      current browser session. Please rerun this cell to enable.\n",
              "      </output>\n",
              "      <script>// Copyright 2017 Google LLC\n",
              "//\n",
              "// Licensed under the Apache License, Version 2.0 (the \"License\");\n",
              "// you may not use this file except in compliance with the License.\n",
              "// You may obtain a copy of the License at\n",
              "//\n",
              "//      http://www.apache.org/licenses/LICENSE-2.0\n",
              "//\n",
              "// Unless required by applicable law or agreed to in writing, software\n",
              "// distributed under the License is distributed on an \"AS IS\" BASIS,\n",
              "// WITHOUT WARRANTIES OR CONDITIONS OF ANY KIND, either express or implied.\n",
              "// See the License for the specific language governing permissions and\n",
              "// limitations under the License.\n",
              "\n",
              "/**\n",
              " * @fileoverview Helpers for google.colab Python module.\n",
              " */\n",
              "(function(scope) {\n",
              "function span(text, styleAttributes = {}) {\n",
              "  const element = document.createElement('span');\n",
              "  element.textContent = text;\n",
              "  for (const key of Object.keys(styleAttributes)) {\n",
              "    element.style[key] = styleAttributes[key];\n",
              "  }\n",
              "  return element;\n",
              "}\n",
              "\n",
              "// Max number of bytes which will be uploaded at a time.\n",
              "const MAX_PAYLOAD_SIZE = 100 * 1024;\n",
              "\n",
              "function _uploadFiles(inputId, outputId) {\n",
              "  const steps = uploadFilesStep(inputId, outputId);\n",
              "  const outputElement = document.getElementById(outputId);\n",
              "  // Cache steps on the outputElement to make it available for the next call\n",
              "  // to uploadFilesContinue from Python.\n",
              "  outputElement.steps = steps;\n",
              "\n",
              "  return _uploadFilesContinue(outputId);\n",
              "}\n",
              "\n",
              "// This is roughly an async generator (not supported in the browser yet),\n",
              "// where there are multiple asynchronous steps and the Python side is going\n",
              "// to poll for completion of each step.\n",
              "// This uses a Promise to block the python side on completion of each step,\n",
              "// then passes the result of the previous step as the input to the next step.\n",
              "function _uploadFilesContinue(outputId) {\n",
              "  const outputElement = document.getElementById(outputId);\n",
              "  const steps = outputElement.steps;\n",
              "\n",
              "  const next = steps.next(outputElement.lastPromiseValue);\n",
              "  return Promise.resolve(next.value.promise).then((value) => {\n",
              "    // Cache the last promise value to make it available to the next\n",
              "    // step of the generator.\n",
              "    outputElement.lastPromiseValue = value;\n",
              "    return next.value.response;\n",
              "  });\n",
              "}\n",
              "\n",
              "/**\n",
              " * Generator function which is called between each async step of the upload\n",
              " * process.\n",
              " * @param {string} inputId Element ID of the input file picker element.\n",
              " * @param {string} outputId Element ID of the output display.\n",
              " * @return {!Iterable<!Object>} Iterable of next steps.\n",
              " */\n",
              "function* uploadFilesStep(inputId, outputId) {\n",
              "  const inputElement = document.getElementById(inputId);\n",
              "  inputElement.disabled = false;\n",
              "\n",
              "  const outputElement = document.getElementById(outputId);\n",
              "  outputElement.innerHTML = '';\n",
              "\n",
              "  const pickedPromise = new Promise((resolve) => {\n",
              "    inputElement.addEventListener('change', (e) => {\n",
              "      resolve(e.target.files);\n",
              "    });\n",
              "  });\n",
              "\n",
              "  const cancel = document.createElement('button');\n",
              "  inputElement.parentElement.appendChild(cancel);\n",
              "  cancel.textContent = 'Cancel upload';\n",
              "  const cancelPromise = new Promise((resolve) => {\n",
              "    cancel.onclick = () => {\n",
              "      resolve(null);\n",
              "    };\n",
              "  });\n",
              "\n",
              "  // Wait for the user to pick the files.\n",
              "  const files = yield {\n",
              "    promise: Promise.race([pickedPromise, cancelPromise]),\n",
              "    response: {\n",
              "      action: 'starting',\n",
              "    }\n",
              "  };\n",
              "\n",
              "  cancel.remove();\n",
              "\n",
              "  // Disable the input element since further picks are not allowed.\n",
              "  inputElement.disabled = true;\n",
              "\n",
              "  if (!files) {\n",
              "    return {\n",
              "      response: {\n",
              "        action: 'complete',\n",
              "      }\n",
              "    };\n",
              "  }\n",
              "\n",
              "  for (const file of files) {\n",
              "    const li = document.createElement('li');\n",
              "    li.append(span(file.name, {fontWeight: 'bold'}));\n",
              "    li.append(span(\n",
              "        `(${file.type || 'n/a'}) - ${file.size} bytes, ` +\n",
              "        `last modified: ${\n",
              "            file.lastModifiedDate ? file.lastModifiedDate.toLocaleDateString() :\n",
              "                                    'n/a'} - `));\n",
              "    const percent = span('0% done');\n",
              "    li.appendChild(percent);\n",
              "\n",
              "    outputElement.appendChild(li);\n",
              "\n",
              "    const fileDataPromise = new Promise((resolve) => {\n",
              "      const reader = new FileReader();\n",
              "      reader.onload = (e) => {\n",
              "        resolve(e.target.result);\n",
              "      };\n",
              "      reader.readAsArrayBuffer(file);\n",
              "    });\n",
              "    // Wait for the data to be ready.\n",
              "    let fileData = yield {\n",
              "      promise: fileDataPromise,\n",
              "      response: {\n",
              "        action: 'continue',\n",
              "      }\n",
              "    };\n",
              "\n",
              "    // Use a chunked sending to avoid message size limits. See b/62115660.\n",
              "    let position = 0;\n",
              "    do {\n",
              "      const length = Math.min(fileData.byteLength - position, MAX_PAYLOAD_SIZE);\n",
              "      const chunk = new Uint8Array(fileData, position, length);\n",
              "      position += length;\n",
              "\n",
              "      const base64 = btoa(String.fromCharCode.apply(null, chunk));\n",
              "      yield {\n",
              "        response: {\n",
              "          action: 'append',\n",
              "          file: file.name,\n",
              "          data: base64,\n",
              "        },\n",
              "      };\n",
              "\n",
              "      let percentDone = fileData.byteLength === 0 ?\n",
              "          100 :\n",
              "          Math.round((position / fileData.byteLength) * 100);\n",
              "      percent.textContent = `${percentDone}% done`;\n",
              "\n",
              "    } while (position < fileData.byteLength);\n",
              "  }\n",
              "\n",
              "  // All done.\n",
              "  yield {\n",
              "    response: {\n",
              "      action: 'complete',\n",
              "    }\n",
              "  };\n",
              "}\n",
              "\n",
              "scope.google = scope.google || {};\n",
              "scope.google.colab = scope.google.colab || {};\n",
              "scope.google.colab._files = {\n",
              "  _uploadFiles,\n",
              "  _uploadFilesContinue,\n",
              "};\n",
              "})(self);\n",
              "</script> "
            ],
            "text/plain": [
              "<IPython.core.display.HTML object>"
            ]
          },
          "metadata": {},
          "output_type": "display_data"
        }
      ],
      "source": [
        "#%%script echo Remove comment if Colab in use\n",
        "# Upload the zip archive\n",
        "uploaded_zip = files.upload()"
      ]
    },
    {
      "cell_type": "code",
      "execution_count": 4,
      "metadata": {
        "colab": {
          "base_uri": "https://localhost:8080/",
          "height": 73
        },
        "id": "GRZ-ub3AKHCG",
        "outputId": "581e48cf-0189-4f5f-f5c9-c357ca77f721"
      },
      "outputs": [
        {
          "data": {
            "text/html": [
              "\n",
              "     <input type=\"file\" id=\"files-087292ec-c534-4b46-a2c8-577d2fcf60cb\" name=\"files[]\" multiple disabled\n",
              "        style=\"border:none\" />\n",
              "     <output id=\"result-087292ec-c534-4b46-a2c8-577d2fcf60cb\">\n",
              "      Upload widget is only available when the cell has been executed in the\n",
              "      current browser session. Please rerun this cell to enable.\n",
              "      </output>\n",
              "      <script>// Copyright 2017 Google LLC\n",
              "//\n",
              "// Licensed under the Apache License, Version 2.0 (the \"License\");\n",
              "// you may not use this file except in compliance with the License.\n",
              "// You may obtain a copy of the License at\n",
              "//\n",
              "//      http://www.apache.org/licenses/LICENSE-2.0\n",
              "//\n",
              "// Unless required by applicable law or agreed to in writing, software\n",
              "// distributed under the License is distributed on an \"AS IS\" BASIS,\n",
              "// WITHOUT WARRANTIES OR CONDITIONS OF ANY KIND, either express or implied.\n",
              "// See the License for the specific language governing permissions and\n",
              "// limitations under the License.\n",
              "\n",
              "/**\n",
              " * @fileoverview Helpers for google.colab Python module.\n",
              " */\n",
              "(function(scope) {\n",
              "function span(text, styleAttributes = {}) {\n",
              "  const element = document.createElement('span');\n",
              "  element.textContent = text;\n",
              "  for (const key of Object.keys(styleAttributes)) {\n",
              "    element.style[key] = styleAttributes[key];\n",
              "  }\n",
              "  return element;\n",
              "}\n",
              "\n",
              "// Max number of bytes which will be uploaded at a time.\n",
              "const MAX_PAYLOAD_SIZE = 100 * 1024;\n",
              "\n",
              "function _uploadFiles(inputId, outputId) {\n",
              "  const steps = uploadFilesStep(inputId, outputId);\n",
              "  const outputElement = document.getElementById(outputId);\n",
              "  // Cache steps on the outputElement to make it available for the next call\n",
              "  // to uploadFilesContinue from Python.\n",
              "  outputElement.steps = steps;\n",
              "\n",
              "  return _uploadFilesContinue(outputId);\n",
              "}\n",
              "\n",
              "// This is roughly an async generator (not supported in the browser yet),\n",
              "// where there are multiple asynchronous steps and the Python side is going\n",
              "// to poll for completion of each step.\n",
              "// This uses a Promise to block the python side on completion of each step,\n",
              "// then passes the result of the previous step as the input to the next step.\n",
              "function _uploadFilesContinue(outputId) {\n",
              "  const outputElement = document.getElementById(outputId);\n",
              "  const steps = outputElement.steps;\n",
              "\n",
              "  const next = steps.next(outputElement.lastPromiseValue);\n",
              "  return Promise.resolve(next.value.promise).then((value) => {\n",
              "    // Cache the last promise value to make it available to the next\n",
              "    // step of the generator.\n",
              "    outputElement.lastPromiseValue = value;\n",
              "    return next.value.response;\n",
              "  });\n",
              "}\n",
              "\n",
              "/**\n",
              " * Generator function which is called between each async step of the upload\n",
              " * process.\n",
              " * @param {string} inputId Element ID of the input file picker element.\n",
              " * @param {string} outputId Element ID of the output display.\n",
              " * @return {!Iterable<!Object>} Iterable of next steps.\n",
              " */\n",
              "function* uploadFilesStep(inputId, outputId) {\n",
              "  const inputElement = document.getElementById(inputId);\n",
              "  inputElement.disabled = false;\n",
              "\n",
              "  const outputElement = document.getElementById(outputId);\n",
              "  outputElement.innerHTML = '';\n",
              "\n",
              "  const pickedPromise = new Promise((resolve) => {\n",
              "    inputElement.addEventListener('change', (e) => {\n",
              "      resolve(e.target.files);\n",
              "    });\n",
              "  });\n",
              "\n",
              "  const cancel = document.createElement('button');\n",
              "  inputElement.parentElement.appendChild(cancel);\n",
              "  cancel.textContent = 'Cancel upload';\n",
              "  const cancelPromise = new Promise((resolve) => {\n",
              "    cancel.onclick = () => {\n",
              "      resolve(null);\n",
              "    };\n",
              "  });\n",
              "\n",
              "  // Wait for the user to pick the files.\n",
              "  const files = yield {\n",
              "    promise: Promise.race([pickedPromise, cancelPromise]),\n",
              "    response: {\n",
              "      action: 'starting',\n",
              "    }\n",
              "  };\n",
              "\n",
              "  cancel.remove();\n",
              "\n",
              "  // Disable the input element since further picks are not allowed.\n",
              "  inputElement.disabled = true;\n",
              "\n",
              "  if (!files) {\n",
              "    return {\n",
              "      response: {\n",
              "        action: 'complete',\n",
              "      }\n",
              "    };\n",
              "  }\n",
              "\n",
              "  for (const file of files) {\n",
              "    const li = document.createElement('li');\n",
              "    li.append(span(file.name, {fontWeight: 'bold'}));\n",
              "    li.append(span(\n",
              "        `(${file.type || 'n/a'}) - ${file.size} bytes, ` +\n",
              "        `last modified: ${\n",
              "            file.lastModifiedDate ? file.lastModifiedDate.toLocaleDateString() :\n",
              "                                    'n/a'} - `));\n",
              "    const percent = span('0% done');\n",
              "    li.appendChild(percent);\n",
              "\n",
              "    outputElement.appendChild(li);\n",
              "\n",
              "    const fileDataPromise = new Promise((resolve) => {\n",
              "      const reader = new FileReader();\n",
              "      reader.onload = (e) => {\n",
              "        resolve(e.target.result);\n",
              "      };\n",
              "      reader.readAsArrayBuffer(file);\n",
              "    });\n",
              "    // Wait for the data to be ready.\n",
              "    let fileData = yield {\n",
              "      promise: fileDataPromise,\n",
              "      response: {\n",
              "        action: 'continue',\n",
              "      }\n",
              "    };\n",
              "\n",
              "    // Use a chunked sending to avoid message size limits. See b/62115660.\n",
              "    let position = 0;\n",
              "    do {\n",
              "      const length = Math.min(fileData.byteLength - position, MAX_PAYLOAD_SIZE);\n",
              "      const chunk = new Uint8Array(fileData, position, length);\n",
              "      position += length;\n",
              "\n",
              "      const base64 = btoa(String.fromCharCode.apply(null, chunk));\n",
              "      yield {\n",
              "        response: {\n",
              "          action: 'append',\n",
              "          file: file.name,\n",
              "          data: base64,\n",
              "        },\n",
              "      };\n",
              "\n",
              "      let percentDone = fileData.byteLength === 0 ?\n",
              "          100 :\n",
              "          Math.round((position / fileData.byteLength) * 100);\n",
              "      percent.textContent = `${percentDone}% done`;\n",
              "\n",
              "    } while (position < fileData.byteLength);\n",
              "  }\n",
              "\n",
              "  // All done.\n",
              "  yield {\n",
              "    response: {\n",
              "      action: 'complete',\n",
              "    }\n",
              "  };\n",
              "}\n",
              "\n",
              "scope.google = scope.google || {};\n",
              "scope.google.colab = scope.google.colab || {};\n",
              "scope.google.colab._files = {\n",
              "  _uploadFiles,\n",
              "  _uploadFilesContinue,\n",
              "};\n",
              "})(self);\n",
              "</script> "
            ],
            "text/plain": [
              "<IPython.core.display.HTML object>"
            ]
          },
          "metadata": {},
          "output_type": "display_data"
        },
        {
          "name": "stdout",
          "output_type": "stream",
          "text": [
            "Saving Sandstone_Versa0400.tif to Sandstone_Versa0400.tif\n"
          ]
        }
      ],
      "source": [
        "#%%script echo Remove comment if Colab in use\n",
        "uploaded_sand = files.upload()"
      ]
    },
    {
      "cell_type": "code",
      "execution_count": 4,
      "metadata": {
        "id": "FLLtDVe_Nxgv"
      },
      "outputs": [],
      "source": [
        "# Extract the uploaded zip archive\n",
        "with zipfile.ZipFile('Sandstones_arch.zip', 'r') as zip_ref:\n",
        "    zip_ref.extractall('/content/')"
      ]
    },
    {
      "cell_type": "code",
      "execution_count": 5,
      "metadata": {
        "colab": {
          "base_uri": "https://localhost:8080/"
        },
        "id": "uXDVTdHOGr-N",
        "outputId": "cd8feda8-b0fe-4ecd-f7d0-030af59ca55b"
      },
      "outputs": [
        {
          "name": "stdout",
          "output_type": "stream",
          "text": [
            "Skip when Colab is used instead\n"
          ]
        }
      ],
      "source": [
        "%%script echo Skip when Colab is used instead\n",
        "print(os.listdir(\"./Sandstones/sand_training/\"))"
      ]
    },
    {
      "cell_type": "code",
      "execution_count": 6,
      "metadata": {
        "id": "7ORiYDSPGr-O"
      },
      "outputs": [],
      "source": [
        "# Resize images (height  = X, width = Y)\n",
        "SIZE_X = 1024\n",
        "SIZE_Y = 996"
      ]
    },
    {
      "cell_type": "code",
      "execution_count": 7,
      "metadata": {
        "colab": {
          "base_uri": "https://localhost:8080/"
        },
        "id": "YqHJHSBTGr-O",
        "outputId": "c2c081bc-5954-4944-9827-a6a8c8dfff9f"
      },
      "outputs": [
        {
          "data": {
            "text/plain": [
              "array([[[[0, 0, 0],\n",
              "         [0, 0, 0],\n",
              "         [0, 0, 0],\n",
              "         ...,\n",
              "         [0, 0, 0],\n",
              "         [0, 0, 0],\n",
              "         [0, 0, 0]],\n",
              "\n",
              "        [[0, 0, 0],\n",
              "         [0, 0, 0],\n",
              "         [0, 0, 0],\n",
              "         ...,\n",
              "         [0, 0, 0],\n",
              "         [0, 0, 0],\n",
              "         [0, 0, 0]],\n",
              "\n",
              "        [[0, 0, 0],\n",
              "         [0, 0, 0],\n",
              "         [0, 0, 0],\n",
              "         ...,\n",
              "         [0, 0, 0],\n",
              "         [0, 0, 0],\n",
              "         [0, 0, 0]],\n",
              "\n",
              "        ...,\n",
              "\n",
              "        [[0, 0, 0],\n",
              "         [0, 0, 0],\n",
              "         [0, 0, 0],\n",
              "         ...,\n",
              "         [0, 0, 0],\n",
              "         [0, 0, 0],\n",
              "         [0, 0, 0]],\n",
              "\n",
              "        [[0, 0, 0],\n",
              "         [0, 0, 0],\n",
              "         [0, 0, 0],\n",
              "         ...,\n",
              "         [0, 0, 0],\n",
              "         [0, 0, 0],\n",
              "         [0, 0, 0]],\n",
              "\n",
              "        [[0, 0, 0],\n",
              "         [0, 0, 0],\n",
              "         [0, 0, 0],\n",
              "         ...,\n",
              "         [0, 0, 0],\n",
              "         [0, 0, 0],\n",
              "         [0, 0, 0]]]], dtype=uint8)"
            ]
          },
          "execution_count": 7,
          "metadata": {},
          "output_type": "execute_result"
        }
      ],
      "source": [
        "\"\"\" Capture training image info as a list\n",
        "N.B.\n",
        "Use:\n",
        "\"for directory_path in glob.glob(\"./Sandstones/sand_training/\"):\" if not on Colab\n",
        "\"\"\"\n",
        "\n",
        "train_images = []\n",
        "for directory_path in glob.glob(\"/content/Sandstones/sand_training/\"):\n",
        "    for img_path in glob.glob(os.path.join(directory_path, \"*.tif\")):\n",
        "        img = cv2.imread(img_path, cv2.IMREAD_COLOR)\n",
        "        img = cv2.resize(img, (SIZE_Y, SIZE_X))\n",
        "        img = cv2.cvtColor(img, cv2.COLOR_RGB2BGR)\n",
        "        train_images.append(img)\n",
        "        #train_labels.append(label)\n",
        "\n",
        "# Convert list to array for machine learning processing\n",
        "train_images = np.array(train_images)\n",
        "train_images[:1]"
      ]
    },
    {
      "cell_type": "code",
      "execution_count": 8,
      "metadata": {
        "id": "Bq71-jEEGr-P"
      },
      "outputs": [],
      "source": [
        "############## Capture mask/label info as a list\n",
        "train_masks = []\n",
        "for directory_path in glob.glob(\"/content/Sandstones/sand_masks/\"):\n",
        "    for mask_path in glob.glob(os.path.join(directory_path, \"*.tif\")):\n",
        "        mask = cv2.imread(mask_path, 0)\n",
        "        mask = cv2.resize(mask, (SIZE_Y, SIZE_X))\n",
        "        #mask = cv2.cvtColor(mask, cv2.COLOR_RGB2BGR)\n",
        "        train_masks.append(mask)\n",
        "        #train_labels.append(label)\n",
        "\n",
        "# Convert list to array for machine learning processing\n",
        "train_masks = np.array(train_masks)"
      ]
    },
    {
      "cell_type": "code",
      "execution_count": 9,
      "metadata": {
        "id": "BHBj4fxaGr-Q"
      },
      "outputs": [],
      "source": [
        "\"\"\" Use customary x_train and y_train variables \"\"\"\n",
        "X_train = train_images\n",
        "y_train = train_masks\n",
        "#y_train = np.expand_dims(y_train, axis=3)"
      ]
    },
    {
      "cell_type": "code",
      "execution_count": 10,
      "metadata": {
        "id": "vwO7pBfLGr-R"
      },
      "outputs": [],
      "source": [
        "\"\"\" Load a VGG16 model wothout classifier/fully connected layers \"\"\"\n",
        "\n",
        "# Load imagenet weights that we are going to use as feature generators\n",
        "VGG_model = VGG16(weights='imagenet', include_top=False, input_shape=(SIZE_X, SIZE_Y, 3))\n",
        "## Make loaded layers as non-trainable. This is important to work properly with pre-trained weights\n",
        "for layer in VGG_model.layers:\n",
        "\tlayer.trainable = False"
      ]
    },
    {
      "cell_type": "code",
      "execution_count": 11,
      "metadata": {
        "colab": {
          "base_uri": "https://localhost:8080/"
        },
        "id": "8ELNMFOKGr-S",
        "outputId": "7e21b8db-b018-4d4b-b658-6e024a2554fa"
      },
      "outputs": [
        {
          "name": "stdout",
          "output_type": "stream",
          "text": [
            "Model: \"vgg16\"\n",
            "_________________________________________________________________\n",
            " Layer (type)                Output Shape              Param #   \n",
            "=================================================================\n",
            " input_1 (InputLayer)        [(None, 1024, 996, 3)]    0         \n",
            "                                                                 \n",
            " block1_conv1 (Conv2D)       (None, 1024, 996, 64)     1792      \n",
            "                                                                 \n",
            " block1_conv2 (Conv2D)       (None, 1024, 996, 64)     36928     \n",
            "                                                                 \n",
            " block1_pool (MaxPooling2D)  (None, 512, 498, 64)      0         \n",
            "                                                                 \n",
            " block2_conv1 (Conv2D)       (None, 512, 498, 128)     73856     \n",
            "                                                                 \n",
            " block2_conv2 (Conv2D)       (None, 512, 498, 128)     147584    \n",
            "                                                                 \n",
            " block2_pool (MaxPooling2D)  (None, 256, 249, 128)     0         \n",
            "                                                                 \n",
            " block3_conv1 (Conv2D)       (None, 256, 249, 256)     295168    \n",
            "                                                                 \n",
            " block3_conv2 (Conv2D)       (None, 256, 249, 256)     590080    \n",
            "                                                                 \n",
            " block3_conv3 (Conv2D)       (None, 256, 249, 256)     590080    \n",
            "                                                                 \n",
            " block3_pool (MaxPooling2D)  (None, 128, 124, 256)     0         \n",
            "                                                                 \n",
            " block4_conv1 (Conv2D)       (None, 128, 124, 512)     1180160   \n",
            "                                                                 \n",
            " block4_conv2 (Conv2D)       (None, 128, 124, 512)     2359808   \n",
            "                                                                 \n",
            " block4_conv3 (Conv2D)       (None, 128, 124, 512)     2359808   \n",
            "                                                                 \n",
            " block4_pool (MaxPooling2D)  (None, 64, 62, 512)       0         \n",
            "                                                                 \n",
            " block5_conv1 (Conv2D)       (None, 64, 62, 512)       2359808   \n",
            "                                                                 \n",
            " block5_conv2 (Conv2D)       (None, 64, 62, 512)       2359808   \n",
            "                                                                 \n",
            " block5_conv3 (Conv2D)       (None, 64, 62, 512)       2359808   \n",
            "                                                                 \n",
            " block5_pool (MaxPooling2D)  (None, 32, 31, 512)       0         \n",
            "                                                                 \n",
            "=================================================================\n",
            "Total params: 14714688 (56.13 MB)\n",
            "Trainable params: 0 (0.00 Byte)\n",
            "Non-trainable params: 14714688 (56.13 MB)\n",
            "_________________________________________________________________\n"
          ]
        }
      ],
      "source": [
        "VGG_model.summary()  # => trainable parameters will be 0"
      ]
    },
    {
      "cell_type": "markdown",
      "metadata": {
        "id": "IYDDOGc8GyKI"
      },
      "source": [
        "After the first 2 convolutional layers the image dimension changes. <br>\n",
        "Therefore, for an easy comparison to Y (labels) it is better to just take first 2 convolutional layers and create a new model to extract features.\n"
      ]
    },
    {
      "cell_type": "code",
      "execution_count": 12,
      "metadata": {
        "colab": {
          "base_uri": "https://localhost:8080/"
        },
        "id": "NLdyjiEYGr-S",
        "outputId": "83e4dc22-3390-40a4-aec3-d1d37906c946"
      },
      "outputs": [
        {
          "name": "stdout",
          "output_type": "stream",
          "text": [
            "Model: \"model\"\n",
            "_________________________________________________________________\n",
            " Layer (type)                Output Shape              Param #   \n",
            "=================================================================\n",
            " input_1 (InputLayer)        [(None, 1024, 996, 3)]    0         \n",
            "                                                                 \n",
            " block1_conv1 (Conv2D)       (None, 1024, 996, 64)     1792      \n",
            "                                                                 \n",
            " block1_conv2 (Conv2D)       (None, 1024, 996, 64)     36928     \n",
            "                                                                 \n",
            "=================================================================\n",
            "Total params: 38720 (151.25 KB)\n",
            "Trainable params: 0 (0.00 Byte)\n",
            "Non-trainable params: 38720 (151.25 KB)\n",
            "_________________________________________________________________\n"
          ]
        }
      ],
      "source": [
        "## New model with only first 2 conv layers\n",
        "new_model = Model(inputs=VGG_model.input, outputs=VGG_model.get_layer('block1_conv2').output)\n",
        "new_model.summary()"
      ]
    },
    {
      "cell_type": "code",
      "execution_count": 13,
      "metadata": {
        "colab": {
          "base_uri": "https://localhost:8080/"
        },
        "id": "bz5j2Jw6Gr-T",
        "outputId": "3544f68c-403d-4aec-cef7-1cfaf53ab946"
      },
      "outputs": [
        {
          "name": "stdout",
          "output_type": "stream",
          "text": [
            "1/1 [==============================] - 11s 11s/step\n"
          ]
        }
      ],
      "source": [
        "\"\"\" Apply feature extractor to training data \"\"\"\n",
        "features=new_model.predict(X_train)"
      ]
    },
    {
      "cell_type": "code",
      "execution_count": 14,
      "metadata": {
        "colab": {
          "base_uri": "https://localhost:8080/",
          "height": 406
        },
        "id": "8d4gHT74Gr-T",
        "outputId": "da63a6c8-cce9-4086-ae3e-0127ffcfe28d"
      },
      "outputs": [
        {
          "data": {
            "image/png": "[encoded data removed]",
            "text/plain": [
              "<Figure size 640x480 with 64 Axes>"
            ]
          },
          "metadata": {},
          "output_type": "display_data"
        }
      ],
      "source": [
        "\"\"\" Visualize features \"\"\"\n",
        "square = 8\n",
        "ix=1\n",
        "for _ in range(square):\n",
        "    for _ in range(square):\n",
        "        ax = plt.subplot(square, square, ix)\n",
        "        ax.set_xticks([])\n",
        "        ax.set_yticks([])\n",
        "        plt.imshow(features[0,:,:,ix-1], cmap='gray')\n",
        "        ix +=1\n",
        "plt.show()"
      ]
    },
    {
      "cell_type": "code",
      "execution_count": 15,
      "metadata": {
        "colab": {
          "base_uri": "https://localhost:8080/"
        },
        "id": "620bJsNLQXPL",
        "outputId": "edd903f2-29fe-4dc8-eede-c4baae85d348"
      },
      "outputs": [
        {
          "data": {
            "text/plain": [
              "array([[[29, 29, 29, ..., 29, 29, 29],\n",
              "        [29, 29, 29, ..., 29, 29, 29],\n",
              "        [29, 29, 29, ..., 29, 29, 29],\n",
              "        ...,\n",
              "        [29, 29, 29, ..., 29, 29, 29],\n",
              "        [29, 29, 29, ..., 29, 29, 29],\n",
              "        [29, 29, 29, ..., 29, 29, 29]],\n",
              "\n",
              "       [[29, 29, 29, ..., 29, 29, 29],\n",
              "        [29, 29, 29, ..., 29, 29, 29],\n",
              "        [29, 29, 29, ..., 29, 29, 29],\n",
              "        ...,\n",
              "        [29, 29, 29, ..., 29, 29, 29],\n",
              "        [29, 29, 29, ..., 29, 29, 29],\n",
              "        [29, 29, 29, ..., 29, 29, 29]],\n",
              "\n",
              "       [[29, 29, 29, ..., 29, 29, 29],\n",
              "        [29, 29, 29, ..., 29, 29, 29],\n",
              "        [29, 29, 29, ..., 29, 29, 29],\n",
              "        ...,\n",
              "        [29, 29, 29, ..., 29, 29, 29],\n",
              "        [29, 29, 29, ..., 29, 29, 29],\n",
              "        [29, 29, 29, ..., 29, 29, 29]],\n",
              "\n",
              "       ...,\n",
              "\n",
              "       [[29, 29, 29, ..., 29, 29, 29],\n",
              "        [29, 29, 29, ..., 29, 29, 29],\n",
              "        [29, 29, 29, ..., 29, 29, 29],\n",
              "        ...,\n",
              "        [29, 29, 29, ..., 29, 29, 29],\n",
              "        [29, 29, 29, ..., 29, 29, 29],\n",
              "        [29, 29, 29, ..., 29, 29, 29]],\n",
              "\n",
              "       [[29, 29, 29, ..., 29, 29, 29],\n",
              "        [29, 29, 29, ..., 29, 29, 29],\n",
              "        [29, 29, 29, ..., 29, 29, 29],\n",
              "        ...,\n",
              "        [29, 29, 29, ..., 29, 29, 29],\n",
              "        [29, 29, 29, ..., 29, 29, 29],\n",
              "        [29, 29, 29, ..., 29, 29, 29]],\n",
              "\n",
              "       [[29, 29, 29, ..., 29, 29, 29],\n",
              "        [29, 29, 29, ..., 29, 29, 29],\n",
              "        [29, 29, 29, ..., 29, 29, 29],\n",
              "        ...,\n",
              "        [29, 29, 29, ..., 29, 29, 29],\n",
              "        [29, 29, 29, ..., 29, 29, 29],\n",
              "        [29, 29, 29, ..., 29, 29, 29]]], dtype=uint8)"
            ]
          },
          "execution_count": 15,
          "metadata": {},
          "output_type": "execute_result"
        }
      ],
      "source": [
        "y_train"
      ]
    },
    {
      "cell_type": "code",
      "execution_count": 16,
      "metadata": {
        "id": "c-op6kowI3Ce"
      },
      "outputs": [],
      "source": [
        "# Reassign 'features' as X to make it easy to follow\n",
        "X = features\n",
        "# Make X compatible for Random Forest to match Y labels\n",
        "X = X.reshape(-1, X.shape[3])\n",
        "\n",
        "# Reshape Y to match X\n",
        "Y = y_train.reshape(-1)"
      ]
    },
    {
      "cell_type": "code",
      "execution_count": 17,
      "metadata": {
        "colab": {
          "base_uri": "https://localhost:8080/"
        },
        "id": "1ejpNRswGr-T",
        "outputId": "984be26d-4c86-40db-e434-49ff92700cfe"
      },
      "outputs": [
        {
          "name": "stdout",
          "output_type": "stream",
          "text": [
            "[ 29  76 150 226]\n",
            "\n",
            "29     3974068\n",
            "76     3729575\n",
            "150     320652\n",
            "226     134937\n",
            "Name: Label, dtype: int64\n"
          ]
        }
      ],
      "source": [
        "\"\"\" Combine X and Y into a dataframe to make it easy to drop all rows with Y values 0.\n",
        "N.B. In our labels Y values 0 = unlabeled pixels.\n",
        "\"\"\"\n",
        "dataset = pd.DataFrame(X)\n",
        "dataset['Label'] = Y\n",
        "print(\"{}\\n\".format(dataset['Label'].unique()))\n",
        "print(dataset['Label'].value_counts())"
      ]
    },
    {
      "cell_type": "code",
      "execution_count": 18,
      "metadata": {
        "id": "kKQOaIKMIb8i"
      },
      "outputs": [],
      "source": [
        "\"\"\" Exclude pixels with value 0.\n",
        "N.B.\n",
        "Sometimes unlabeled pixels may be given a value 0.\n",
        "\"\"\"\n",
        "dataset = dataset[dataset['Label'] != 0]"
      ]
    },
    {
      "cell_type": "code",
      "execution_count": 19,
      "metadata": {
        "colab": {
          "base_uri": "https://localhost:8080/"
        },
        "id": "ZSv7RurNbQYf",
        "outputId": "7b68e257-85f7-48d9-b071-3c3e14c38d71"
      },
      "outputs": [
        {
          "data": {
            "text/plain": [
              "6799"
            ]
          },
          "execution_count": 19,
          "metadata": {},
          "output_type": "execute_result"
        }
      ],
      "source": [
        "\"\"\" Drastically Reduce size of dataset to avoid crashing the session, due to RAM limits  \"\"\"\n",
        "desired_size = len(dataset) // 1200\n",
        "desired_size"
      ]
    },
    {
      "cell_type": "code",
      "execution_count": 20,
      "metadata": {
        "id": "q0IadX8gcbqH"
      },
      "outputs": [],
      "source": [
        "reduced_df = dataset.sample(n=desired_size, random_state=42)"
      ]
    },
    {
      "cell_type": "code",
      "execution_count": 21,
      "metadata": {
        "id": "SksO351QGr-U"
      },
      "outputs": [],
      "source": [
        "# Redefine X and Y for Random Forest\n",
        "X_for_training = reduced_df.drop(labels = ['Label'], axis=1)\n",
        "Y_for_training = reduced_df['Label']\n",
        "\n",
        "## Convert to array\n",
        "X_for_training2 = X_for_training.values\n",
        "Y_for_training2 = Y_for_training.values"
      ]
    },
    {
      "cell_type": "markdown",
      "metadata": {
        "id": "ndj4RCLzIAar"
      },
      "source": [
        "**Note:** <br>\n",
        "It is possible to work with pandas dataframes instead of arrays by please beware that <br>\n",
        "xboost drops columns with zero values which creates a mismatch between column names <br>\n",
        "for training and future testing datasets. Then, it is safer to work with arrays."
      ]
    },
    {
      "cell_type": "code",
      "execution_count": 22,
      "metadata": {
        "colab": {
          "base_uri": "https://localhost:8080/"
        },
        "id": "ZDhLvmdLQGOB",
        "outputId": "a3cde3aa-bb5c-4402-88c4-b7f33f28a046"
      },
      "outputs": [
        {
          "data": {
            "text/plain": [
              "2038511    29\n",
              "6614653    76\n",
              "6938129    29\n",
              "5734439    76\n",
              "4314817    29\n",
              "           ..\n",
              "1073425    29\n",
              "5667225    29\n",
              "3128232    29\n",
              "7838185    76\n",
              "4730103    29\n",
              "Name: Label, Length: 6799, dtype: uint8"
            ]
          },
          "execution_count": 22,
          "metadata": {},
          "output_type": "execute_result"
        }
      ],
      "source": [
        "Y_for_training"
      ]
    },
    {
      "cell_type": "code",
      "execution_count": 23,
      "metadata": {
        "id": "2AggkyyhRRTX"
      },
      "outputs": [],
      "source": [
        "\"\"\" Map targets, since XGBoost expects the class labels to be integers\n",
        "starting from 0 and incrementing by 1.\n",
        "\"\"\"\n",
        "class_label_mapping = {label: idx for idx, label in enumerate(set(Y_for_training2))}\n",
        "Y_for_training_mapped = [class_label_mapping[label] for label in Y_for_training2]"
      ]
    },
    {
      "cell_type": "code",
      "execution_count": 24,
      "metadata": {
        "colab": {
          "base_uri": "https://localhost:8080/"
        },
        "id": "Hbm0tqPyRtLt",
        "outputId": "f663846d-87fb-455e-e2d5-a8f33dcf676a"
      },
      "outputs": [
        {
          "name": "stdout",
          "output_type": "stream",
          "text": [
            "0 exists in Y_for_training_mapped\n"
          ]
        }
      ],
      "source": [
        "# Check if any element is equal to 0 in Y_for_training_mapped\n",
        "if any(label == 0 for label in Y_for_training_mapped):\n",
        "    print(\"0 exists in Y_for_training_mapped\")"
      ]
    },
    {
      "cell_type": "code",
      "execution_count": 25,
      "metadata": {
        "colab": {
          "base_uri": "https://localhost:8080/"
        },
        "id": "t7OOO51DR9NN",
        "outputId": "375774b8-355e-40b8-a061-7537b6712e68"
      },
      "outputs": [
        {
          "data": {
            "text/plain": [
              "{0, 1, 2, 3}"
            ]
          },
          "execution_count": 25,
          "metadata": {},
          "output_type": "execute_result"
        }
      ],
      "source": [
        "set(Y_for_training_mapped)"
      ]
    },
    {
      "cell_type": "markdown",
      "metadata": {
        "id": "N0z8tNoPHPfM"
      },
      "source": [
        "<h2 style=\"color:#27E36C\"> XGBOOST model </h2>"
      ]
    },
    {
      "cell_type": "code",
      "execution_count": 26,
      "metadata": {
        "id": "wMlKuB5BGr-U"
      },
      "outputs": [],
      "source": [
        "model = xgb.XGBClassifier()\n",
        "\n",
        "# Train the model on training data\n",
        "model.fit(X_for_training, Y_for_training_mapped)\n",
        "\n",
        "## Save for future use\n",
        "filename = '/content/model_XG.sav'\n",
        "pickle.dump(model, open(filename, 'wb'))"
      ]
    },
    {
      "cell_type": "markdown",
      "metadata": {
        "id": "zGBVFS30Hc16"
      },
      "source": [
        "<h3 style=\"color:#27E36C\"> => Test on a different image </h3>"
      ]
    },
    {
      "cell_type": "code",
      "execution_count": 28,
      "metadata": {
        "colab": {
          "base_uri": "https://localhost:8080/",
          "height": 453
        },
        "id": "kwbPPMmJGr-U",
        "outputId": "fc54265b-7b41-4337-8cbd-92871c9524ac"
      },
      "outputs": [
        {
          "name": "stdout",
          "output_type": "stream",
          "text": [
            "1/1 [==============================] - 0s 37ms/step\n"
          ]
        },
        {
          "data": {
            "image/png": "[encoded data removed]",
            "text/plain": [
              "<Figure size 640x480 with 1 Axes>"
            ]
          },
          "metadata": {},
          "output_type": "display_data"
        }
      ],
      "source": [
        "# Start segmenting future images\n",
        "loaded_model = pickle.load(open(filename, 'rb'))\n",
        "\n",
        "#### Read an external image\n",
        "test_img = cv2.imread('/content/Sandstones/sand_test/Sandstone_Versa0400.tif', cv2.IMREAD_COLOR)\n",
        "test_img = cv2.resize(test_img, (SIZE_Y, SIZE_X))\n",
        "test_img = cv2.cvtColor(test_img, cv2.COLOR_RGB2BGR)\n",
        "test_img = np.expand_dims(test_img, axis=0)\n",
        "\n",
        "### Make predictions\n",
        "X_test_feature = new_model.predict(test_img)\n",
        "X_test_feature = X_test_feature.reshape(-1, X_test_feature.shape[3])\n",
        "prediction = loaded_model.predict(X_test_feature)\n",
        "\n",
        "### View and save segmented image\n",
        "prediction_image = prediction.reshape(mask.shape)\n",
        "plt.imshow(prediction_image, cmap='gray')\n",
        "plt.imsave('/content/ouput_400_segmented.jpg', prediction_image, cmap='gray')"
      ]
    },
    {
      "cell_type": "markdown",
      "metadata": {
        "id": "VgPV23ayHGN_"
      },
      "source": [
        "<h3 style=\"color:#27E36C\"> => Check accuracy and IoU </h3>"
      ]
    },
    {
      "cell_type": "code",
      "execution_count": 33,
      "metadata": {
        "colab": {
          "base_uri": "https://localhost:8080/"
        },
        "id": "OILHgtJfdnMx",
        "outputId": "0367e853-0dbc-4cd3-9b81-c71cfa0cf641"
      },
      "outputs": [
        {
          "data": {
            "text/plain": [
              "array([[[[0, 0, 0],\n",
              "         [0, 0, 0],\n",
              "         [0, 0, 0],\n",
              "         ...,\n",
              "         [0, 0, 0],\n",
              "         [0, 0, 0],\n",
              "         [0, 0, 0]],\n",
              "\n",
              "        [[0, 0, 0],\n",
              "         [0, 0, 0],\n",
              "         [0, 0, 0],\n",
              "         ...,\n",
              "         [0, 0, 0],\n",
              "         [0, 0, 0],\n",
              "         [0, 0, 0]],\n",
              "\n",
              "        [[0, 0, 0],\n",
              "         [0, 0, 0],\n",
              "         [0, 0, 0],\n",
              "         ...,\n",
              "         [0, 0, 0],\n",
              "         [0, 0, 0],\n",
              "         [0, 0, 0]],\n",
              "\n",
              "        ...,\n",
              "\n",
              "        [[0, 0, 0],\n",
              "         [0, 0, 0],\n",
              "         [0, 0, 0],\n",
              "         ...,\n",
              "         [0, 0, 0],\n",
              "         [0, 0, 0],\n",
              "         [0, 0, 0]],\n",
              "\n",
              "        [[0, 0, 0],\n",
              "         [0, 0, 0],\n",
              "         [0, 0, 0],\n",
              "         ...,\n",
              "         [0, 0, 0],\n",
              "         [0, 0, 0],\n",
              "         [0, 0, 0]],\n",
              "\n",
              "        [[0, 0, 0],\n",
              "         [0, 0, 0],\n",
              "         [0, 0, 0],\n",
              "         ...,\n",
              "         [0, 0, 0],\n",
              "         [0, 0, 0],\n",
              "         [0, 0, 0]]]], dtype=uint8)"
            ]
          },
          "execution_count": 33,
          "metadata": {},
          "output_type": "execute_result"
        }
      ],
      "source": [
        "#### Read an external image\n",
        "validation_img = cv2.imread('/content/Sandstones/sand_test/Sandstone_Versa0400.tif', cv2.IMREAD_COLOR)\n",
        "validation_img = cv2.resize(validation_img, (SIZE_Y, SIZE_X))\n",
        "validation_img = cv2.cvtColor(validation_img, cv2.COLOR_RGB2BGR)\n",
        "validation_img = np.expand_dims(validation_img, axis=0)\n",
        "validation_img[:2]"
      ]
    },
    {
      "cell_type": "code",
      "execution_count": 34,
      "metadata": {
        "colab": {
          "base_uri": "https://localhost:8080/"
        },
        "id": "1IxxMxSkd5W7",
        "outputId": "581c05c5-cec5-4a4c-f4b9-e8213a91fa44"
      },
      "outputs": [
        {
          "name": "stdout",
          "output_type": "stream",
          "text": [
            "1/1 [==============================] - 0s 23ms/step\n"
          ]
        },
        {
          "data": {
            "text/plain": [
              "array([2, 2, 2, ..., 2, 2, 2])"
            ]
          },
          "execution_count": 34,
          "metadata": {},
          "output_type": "execute_result"
        }
      ],
      "source": [
        "### Make predictions\n",
        "X_validation_feature = new_model.predict(validation_img)\n",
        "X_validation_feature = X_validation_feature.reshape(-1, X_validation_feature.shape[3])\n",
        "prediction_validation = loaded_model.predict(X_validation_feature)\n",
        "prediction_validation"
      ]
    },
    {
      "cell_type": "code",
      "execution_count": 35,
      "metadata": {
        "colab": {
          "base_uri": "https://localhost:8080/"
        },
        "id": "kFs8KK3Rd-24",
        "outputId": "11da51c7-0e06-4d8f-eed7-31b762014b60"
      },
      "outputs": [
        {
          "data": {
            "text/plain": [
              "{0, 1, 2, 3}"
            ]
          },
          "execution_count": 35,
          "metadata": {},
          "output_type": "execute_result"
        }
      ],
      "source": [
        "set(prediction_validation)"
      ]
    },
    {
      "cell_type": "code",
      "execution_count": 29,
      "metadata": {
        "colab": {
          "base_uri": "https://localhost:8080/"
        },
        "id": "k9j_oZR1Gr-V",
        "outputId": "002dc96b-df17-49d2-e6f2-b4330f6a73b6"
      },
      "outputs": [
        {
          "name": "stdout",
          "output_type": "stream",
          "text": [
            "1/1 [==============================] - 0s 19ms/step\n"
          ]
        }
      ],
      "source": [
        "# Load ground truth image (Mask)\n",
        "truth = cv2.imread('/content/Sandstone_Versa0400.tif', 0).reshape(-1)"
      ]
    },
    {
      "cell_type": "code",
      "execution_count": 36,
      "metadata": {
        "colab": {
          "base_uri": "https://localhost:8080/"
        },
        "id": "U11VDv2DeHru",
        "outputId": "9fb51617-b517-4f93-cd62-2af656e9f0f8"
      },
      "outputs": [
        {
          "data": {
            "text/plain": [
              "{29, 76, 150, 226}"
            ]
          },
          "execution_count": 36,
          "metadata": {},
          "output_type": "execute_result"
        }
      ],
      "source": [
        "set(truth)"
      ]
    },
    {
      "cell_type": "code",
      "execution_count": 37,
      "metadata": {
        "colab": {
          "base_uri": "https://localhost:8080/"
        },
        "id": "0VPi6V4GeN8v",
        "outputId": "bd291c65-b782-486c-d6b5-af1a4fbecf8f"
      },
      "outputs": [
        {
          "data": {
            "text/plain": [
              "{0, 1, 2, 3}"
            ]
          },
          "execution_count": 37,
          "metadata": {},
          "output_type": "execute_result"
        }
      ],
      "source": [
        "\"\"\" Map targets \"\"\"\n",
        "class_label_mapping = {label: idx for idx, label in enumerate(set(truth))}\n",
        "truth_ok = [class_label_mapping[label] for label in truth]\n",
        "set(truth_ok)"
      ]
    },
    {
      "cell_type": "code",
      "execution_count": 39,
      "metadata": {
        "colab": {
          "base_uri": "https://localhost:8080/"
        },
        "id": "SU6aKqpzHswu",
        "outputId": "a322b89b-298d-422b-a8af-23b2f22413bb"
      },
      "outputs": [
        {
          "name": "stdout",
          "output_type": "stream",
          "text": [
            "Accuracy =  0.9666066610190763\n"
          ]
        }
      ],
      "source": [
        "# Pixel accuracy - not a good metric for semantic segmentation!\n",
        "print (\"Accuracy = \", accuracy_score(truth_ok, prediction_validation))"
      ]
    },
    {
      "cell_type": "markdown",
      "metadata": {
        "id": "VYQfw6dsHvBU"
      },
      "source": [
        "**Recap:** <br>\n",
        "IOU = true_positive / (true_positive + false_positive + false_negative)."
      ]
    },
    {
      "cell_type": "code",
      "execution_count": 40,
      "metadata": {
        "colab": {
          "base_uri": "https://localhost:8080/"
        },
        "id": "MeXXmtHQGr-V",
        "outputId": "69353d83-96b5-48e9-8e49-7c13d2fc0633"
      },
      "outputs": [
        {
          "name": "stdout",
          "output_type": "stream",
          "text": [
            "Mean IoU = 0.85246015\n",
            "[[3.23040e+04 3.02000e+02 2.30000e+01 0.00000e+00 0.00000e+00]\n",
            " [1.25100e+03 4.57198e+05 2.96900e+03 8.36800e+03 0.00000e+00]\n",
            " [0.00000e+00 1.55100e+03 4.63975e+05 3.75500e+03 0.00000e+00]\n",
            " [0.00000e+00 1.19680e+04 3.87100e+03 3.23690e+04 0.00000e+00]\n",
            " [0.00000e+00 0.00000e+00 0.00000e+00 0.00000e+00 0.00000e+00]]\n",
            "\n",
            "IoU Class 1 = 0.94843733\n",
            "IoU Class 2 = 0.9713255\n",
            "IoU Class 3 = 0.5365235\n",
            "IoU Class 4 = nan\n"
          ]
        },
        {
          "name": "stderr",
          "output_type": "stream",
          "text": [
            "<ipython-input-40-bb2a4aab67a4>:13: RuntimeWarning: invalid value encountered in float_scalars\n",
            "  class4_IoU = values[4,4]/(values[4,4] + values[4,1] + values[4,2] + values[4,3] + values[1,4]+ values[2,4]+ values[3,4])\n"
          ]
        }
      ],
      "source": [
        "num_classes = 5\n",
        "\n",
        "## Built keras function\n",
        "IOU_keras = MeanIoU(num_classes=num_classes)\n",
        "IOU_keras.update_state(truth_ok, prediction_validation)\n",
        "print(\"Mean IoU =\", IOU_keras.result().numpy())\n",
        "\n",
        "##### Calculate I0U for each class\n",
        "values = np.array(IOU_keras.get_weights()).reshape(num_classes, num_classes)\n",
        "class1_IoU = values[1,1]/(values[1,1] + values[1,2] + values[1,3] + values[1,4] + values[2,1]+ values[3,1]+ values[4,1])\n",
        "class2_IoU = values[2,2]/(values[2,2] + values[2,1] + values[2,1] + values[2,3] + values[1,2]+ values[3,2]+ values[4,2])\n",
        "class3_IoU = values[3,3]/(values[3,3] + values[3,1] + values[3,2] + values[3,4] + values[1,3]+ values[2,3]+ values[4,3])\n",
        "class4_IoU = values[4,4]/(values[4,4] + values[4,1] + values[4,2] + values[4,3] + values[1,4]+ values[2,4]+ values[3,4])\n",
        "\n",
        "print(values)\n",
        "print()\n",
        "print(\"IoU Class 1 =\", class1_IoU)\n",
        "print(\"IoU Class 2 =\", class2_IoU)\n",
        "print(\"IoU Class 3 =\", class3_IoU)\n",
        "print(\"IoU Class 4 =\", class4_IoU)"
      ]
    }
  ],
  "metadata": {
    "accelerator": "GPU",
    "colab": {
      "gpuType": "T4",
      "provenance": []
    },
    "kernelspec": {
      "display_name": "Python 3",
      "name": "python3"
    },
    "language_info": {
      "codemirror_mode": {
        "name": "ipython",
        "version": 3
      },
      "file_extension": ".py",
      "mimetype": "text/x-python",
      "name": "python",
      "nbconvert_exporter": "python",
      "pygments_lexer": "ipython3",
      "version": "3.10.9"
    },
    "orig_nbformat": 4
  },
  "nbformat": 4,
  "nbformat_minor": 0
}
