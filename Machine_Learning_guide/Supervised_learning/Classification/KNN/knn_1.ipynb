{
 "cells": [
  {
   "cell_type": "markdown",
   "metadata": {},
   "source": [
    "<div style=\"line-height:0.45\">\n",
    "<h1 style=\"color:#89B10D  \"> KNN 1 </h1>\n",
    "</div>\n",
    "<div style=\"line-height:0.5\">\n",
    "<h4> K Nearest neighbors algorithm with sklearn.\n",
    "</h4>\n",
    "</div>"
   ]
  },
  {
   "cell_type": "code",
   "execution_count": 25,
   "metadata": {},
   "outputs": [],
   "source": [
    "import numpy as np\n",
    "import pandas as pd\n",
    "from sklearn.datasets import load_digits\n",
    "from sklearn.metrics import accuracy_score\n",
    "from sklearn.neighbors import KNeighborsClassifier\n",
    "from sklearn.model_selection import train_test_split"
   ]
  },
  {
   "cell_type": "markdown",
   "metadata": {},
   "source": [
    "<h3 style=\"color:#89B10D  \"> Example #1 </h3>\n",
    "Using dummy data"
   ]
  },
  {
   "cell_type": "code",
   "execution_count": 19,
   "metadata": {},
   "outputs": [
    {
     "name": "stdout",
     "output_type": "stream",
     "text": [
      "The accuracy is: 45.00%\n"
     ]
    }
   ],
   "source": [
    "# Set a random seed for reproducibility\n",
    "np.random.seed(42)\n",
    "num_features, num_samples = 10, 200\n",
    "\n",
    "# Create a random feature matrix\n",
    "X = np.random.rand(num_samples, num_features)\n",
    "# Create a random target variable (binary classification, 0 or 1)\n",
    "y = np.random.randint(2, size=num_samples)\n",
    "\n",
    "# Split the data into training and testing sets\n",
    "X_train, X_test, y_train, y_test = train_test_split(X, y, test_size=0.2, random_state=42)"
   ]
  },
  {
   "cell_type": "code",
   "execution_count": 20,
   "metadata": {},
   "outputs": [
    {
     "data": {
      "text/plain": [
       "array([[0.1533514 , 0.58622983, 0.50588868, 0.61145424, 0.01811018,\n",
       "        0.87212391, 0.93211828, 0.56513318, 0.69665082, 0.92249938],\n",
       "       [0.02419176, 0.83169704, 0.27307081, 0.51807877, 0.29872557,\n",
       "        0.94067925, 0.25929676, 0.42965681, 0.87273025, 0.84193357],\n",
       "       [0.11816483, 0.69673717, 0.62894285, 0.87747201, 0.73507104,\n",
       "        0.80348093, 0.28203457, 0.17743954, 0.75061475, 0.80683474],\n",
       "       [0.94045858, 0.95392858, 0.91486439, 0.3701587 , 0.01545662,\n",
       "        0.92831856, 0.42818415, 0.96665482, 0.96361998, 0.85300946],\n",
       "       [0.95086356, 0.15105789, 0.4323348 , 0.94361592, 0.41972732,\n",
       "        0.63852595, 0.3975944 , 0.2742152 , 0.98397765, 0.40933401],\n",
       "       [0.08860043, 0.22061195, 0.59822529, 0.73566311, 0.99834751,\n",
       "        0.93311333, 0.6425652 , 0.42124805, 0.63617736, 0.78565162],\n",
       "       [0.03050025, 0.03734819, 0.82260056, 0.36019064, 0.12706051,\n",
       "        0.52224326, 0.76999355, 0.21582103, 0.62289048, 0.08534746],\n",
       "       [0.09310277, 0.89721576, 0.90041806, 0.63310146, 0.33902979,\n",
       "        0.34920957, 0.72595568, 0.89711026, 0.88708642, 0.77987555],\n",
       "       [0.45473986, 0.51559603, 0.48884658, 0.66686426, 0.13965125,\n",
       "        0.02997359, 0.30792994, 0.70468076, 0.20185345, 0.67343243],\n",
       "       [0.77552762, 0.45328883, 0.52439027, 0.44076275, 0.40076306,\n",
       "        0.55964033, 0.15524025, 0.18192813, 0.86178562, 0.94611546]])"
      ]
     },
     "execution_count": 20,
     "metadata": {},
     "output_type": "execute_result"
    }
   ],
   "source": [
    "X_train[:10]"
   ]
  },
  {
   "cell_type": "code",
   "execution_count": 21,
   "metadata": {},
   "outputs": [
    {
     "name": "stdout",
     "output_type": "stream",
     "text": [
      "The accuracy is: 45.00%\n"
     ]
    }
   ],
   "source": [
    "# Create a KNN classifier with k=4\n",
    "knn_classifier = KNeighborsClassifier(n_neighbors=4)\n",
    "\n",
    "# Fit the classifier to the training data\n",
    "knn_classifier.fit(X_train, y_train)\n",
    "# Make predictions on the test data\n",
    "y_pred = knn_classifier.predict(X_test)\n",
    "\n",
    "accuracy = accuracy_score(y_test, y_pred)\n",
    "print(f'The accuracy is: {accuracy * 100:.2f}%')"
   ]
  },
  {
   "cell_type": "code",
   "execution_count": 23,
   "metadata": {},
   "outputs": [
    {
     "name": "stdout",
     "output_type": "stream",
     "text": [
      "The accuracy is: 60.00%\n"
     ]
    }
   ],
   "source": [
    "\"\"\" Increase k to increase accuracy \"\"\"\n",
    "# Create a KNN classifier with k=4\n",
    "knn_classifier = KNeighborsClassifier(n_neighbors=8)\n",
    "\n",
    "# Fit the classifier to the training data\n",
    "knn_classifier.fit(X_train, y_train)\n",
    "# Make predictions on the test data\n",
    "y_pred = knn_classifier.predict(X_test)\n",
    "\n",
    "accuracy = accuracy_score(y_test, y_pred)\n",
    "print(f'The accuracy is: {accuracy * 100:.2f}%')"
   ]
  },
  {
   "cell_type": "markdown",
   "metadata": {},
   "source": [
    "<h3 style=\"color:#89B10D  \"> Example # 2 </h3>\n",
    "Using the \"Digits\" dataset"
   ]
  },
  {
   "cell_type": "code",
   "execution_count": 27,
   "metadata": {},
   "outputs": [
    {
     "name": "stdout",
     "output_type": "stream",
     "text": [
      "Accuracy: 98.33%\n"
     ]
    }
   ],
   "source": [
    "digits = load_digits()\n",
    "X = digits.data\n",
    "y = digits.target\n",
    "\n",
    "# Split the data into training and testing sets\n",
    "X_train, X_test, y_train, y_test = train_test_split(X, y, test_size=0.2, random_state=42)\n",
    "\n",
    "# Create a KNN classifier with k=3\n",
    "knn_classifier = KNeighborsClassifier(n_neighbors=3)\n",
    "\n",
    "# Train\n",
    "knn_classifier.fit(X_train, y_train)\n",
    "# Make predictions \n",
    "y_pred = knn_classifier.predict(X_test)\n",
    "\n",
    "accuracy = accuracy_score(y_test, y_pred)\n",
    "print(f'Accuracy: {accuracy * 100:.2f}%')"
   ]
  }
 ],
 "metadata": {
  "kernelspec": {
   "display_name": "MLearning",
   "language": "python",
   "name": "python3"
  },
  "language_info": {
   "codemirror_mode": {
    "name": "ipython",
    "version": 3
   },
   "file_extension": ".py",
   "mimetype": "text/x-python",
   "name": "python",
   "nbconvert_exporter": "python",
   "pygments_lexer": "ipython3",
   "version": "3.10.9"
  },
  "orig_nbformat": 4
 },
 "nbformat": 4,
 "nbformat_minor": 2
}
