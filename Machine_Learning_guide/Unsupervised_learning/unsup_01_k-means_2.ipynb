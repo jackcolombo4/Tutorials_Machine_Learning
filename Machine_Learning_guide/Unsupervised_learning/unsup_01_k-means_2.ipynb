{
 "cells": [
  {
   "cell_type": "markdown",
   "metadata": {},
   "source": [
    "<div style=\"line-height:0.45\">\n",
    "<h1 style=\"color:#0AE42F  \">  K-means method 2 </h1>\n",
    "</div>\n",
    "<div style=\"line-height:0.4\">\n",
    "<h4> 5 solutions for K-Means with sklearn on the mushroom dataset.\n",
    "</h4>\n",
    "<div style=\"margin-top: 4px;\">\n",
    "<span style=\"display: inline-block;\">\n",
    "    <h3 style=\"color: lightblue; display: inline;\">Keywords:</h3> DBSCAN + PCA + AgglomerativeClustering + Davies-Bouldin Index + Calinski Harabasz Score\n",
    "</span>\n",
    "</div>"
   ]
  },
  {
   "cell_type": "code",
   "execution_count": 54,
   "metadata": {},
   "outputs": [],
   "source": [
    "import sys\n",
    "import seaborn\n",
    "import numpy as np \n",
    "import pandas as pd \n",
    "from matplotlib import pyplot as plt\n",
    "\n",
    "from sklearn import datasets\n",
    "from sklearn.decomposition import PCA\n",
    "from sklearn.preprocessing import LabelEncoder, StandardScaler\n",
    "from sklearn.model_selection import train_test_split, KFold, cross_val_score, cross_val_predict\n",
    "\n",
    "from sklearn.neighbors import KNeighborsClassifier\n",
    "from sklearn.cluster import KMeans, DBSCAN, AgglomerativeClustering\n",
    "\n",
    "from sklearn.metrics import accuracy_score, confusion_matrix, classification_report\n",
    "from sklearn.metrics import silhouette_score\n",
    "from sklearn.metrics import davies_bouldin_score\n",
    "from sklearn.metrics import calinski_harabasz_score\n",
    "from sklearn.metrics.cluster import adjusted_rand_score"
   ]
  },
  {
   "cell_type": "code",
   "execution_count": 3,
   "metadata": {},
   "outputs": [
    {
     "name": "stdout",
     "output_type": "stream",
     "text": [
      "1.2.0\n"
     ]
    }
   ],
   "source": [
    "from sklearn import __version__\n",
    "print(__version__)"
   ]
  },
  {
   "attachments": {},
   "cell_type": "markdown",
   "metadata": {},
   "source": [
    "<h3 style=\"color:#0AE42F  \">  Simple Classification with Knn </h3>"
   ]
  },
  {
   "cell_type": "code",
   "execution_count": 4,
   "metadata": {},
   "outputs": [
    {
     "data": {
      "text/html": [
       "<div>\n",
       "<style scoped>\n",
       "    .dataframe tbody tr th:only-of-type {\n",
       "        vertical-align: middle;\n",
       "    }\n",
       "\n",
       "    .dataframe tbody tr th {\n",
       "        vertical-align: top;\n",
       "    }\n",
       "\n",
       "    .dataframe thead th {\n",
       "        text-align: right;\n",
       "    }\n",
       "</style>\n",
       "<table border=\"1\" class=\"dataframe\">\n",
       "  <thead>\n",
       "    <tr style=\"text-align: right;\">\n",
       "      <th></th>\n",
       "      <th>type</th>\n",
       "      <th>cap_shape</th>\n",
       "      <th>cap_surface</th>\n",
       "      <th>cap_color</th>\n",
       "      <th>bruises</th>\n",
       "      <th>odor</th>\n",
       "      <th>gill_attachment</th>\n",
       "      <th>gill_spacing</th>\n",
       "      <th>gill_size</th>\n",
       "      <th>gill_color</th>\n",
       "      <th>...</th>\n",
       "      <th>stalk_surface_below_ring</th>\n",
       "      <th>stalk_color_above_ring</th>\n",
       "      <th>stalk_color_below_ring</th>\n",
       "      <th>veil_type</th>\n",
       "      <th>veil_color</th>\n",
       "      <th>ring_number</th>\n",
       "      <th>ring_type</th>\n",
       "      <th>spore_print_color</th>\n",
       "      <th>population</th>\n",
       "      <th>habitat</th>\n",
       "    </tr>\n",
       "  </thead>\n",
       "  <tbody>\n",
       "    <tr>\n",
       "      <th>0</th>\n",
       "      <td>p</td>\n",
       "      <td>x</td>\n",
       "      <td>s</td>\n",
       "      <td>n</td>\n",
       "      <td>t</td>\n",
       "      <td>p</td>\n",
       "      <td>f</td>\n",
       "      <td>c</td>\n",
       "      <td>n</td>\n",
       "      <td>k</td>\n",
       "      <td>...</td>\n",
       "      <td>s</td>\n",
       "      <td>w</td>\n",
       "      <td>w</td>\n",
       "      <td>p</td>\n",
       "      <td>w</td>\n",
       "      <td>o</td>\n",
       "      <td>p</td>\n",
       "      <td>k</td>\n",
       "      <td>s</td>\n",
       "      <td>u</td>\n",
       "    </tr>\n",
       "    <tr>\n",
       "      <th>1</th>\n",
       "      <td>e</td>\n",
       "      <td>x</td>\n",
       "      <td>s</td>\n",
       "      <td>y</td>\n",
       "      <td>t</td>\n",
       "      <td>a</td>\n",
       "      <td>f</td>\n",
       "      <td>c</td>\n",
       "      <td>b</td>\n",
       "      <td>k</td>\n",
       "      <td>...</td>\n",
       "      <td>s</td>\n",
       "      <td>w</td>\n",
       "      <td>w</td>\n",
       "      <td>p</td>\n",
       "      <td>w</td>\n",
       "      <td>o</td>\n",
       "      <td>p</td>\n",
       "      <td>n</td>\n",
       "      <td>n</td>\n",
       "      <td>g</td>\n",
       "    </tr>\n",
       "    <tr>\n",
       "      <th>2</th>\n",
       "      <td>e</td>\n",
       "      <td>b</td>\n",
       "      <td>s</td>\n",
       "      <td>w</td>\n",
       "      <td>t</td>\n",
       "      <td>l</td>\n",
       "      <td>f</td>\n",
       "      <td>c</td>\n",
       "      <td>b</td>\n",
       "      <td>n</td>\n",
       "      <td>...</td>\n",
       "      <td>s</td>\n",
       "      <td>w</td>\n",
       "      <td>w</td>\n",
       "      <td>p</td>\n",
       "      <td>w</td>\n",
       "      <td>o</td>\n",
       "      <td>p</td>\n",
       "      <td>n</td>\n",
       "      <td>n</td>\n",
       "      <td>m</td>\n",
       "    </tr>\n",
       "    <tr>\n",
       "      <th>3</th>\n",
       "      <td>p</td>\n",
       "      <td>x</td>\n",
       "      <td>y</td>\n",
       "      <td>w</td>\n",
       "      <td>t</td>\n",
       "      <td>p</td>\n",
       "      <td>f</td>\n",
       "      <td>c</td>\n",
       "      <td>n</td>\n",
       "      <td>n</td>\n",
       "      <td>...</td>\n",
       "      <td>s</td>\n",
       "      <td>w</td>\n",
       "      <td>w</td>\n",
       "      <td>p</td>\n",
       "      <td>w</td>\n",
       "      <td>o</td>\n",
       "      <td>p</td>\n",
       "      <td>k</td>\n",
       "      <td>s</td>\n",
       "      <td>u</td>\n",
       "    </tr>\n",
       "    <tr>\n",
       "      <th>4</th>\n",
       "      <td>e</td>\n",
       "      <td>x</td>\n",
       "      <td>s</td>\n",
       "      <td>g</td>\n",
       "      <td>f</td>\n",
       "      <td>n</td>\n",
       "      <td>f</td>\n",
       "      <td>w</td>\n",
       "      <td>b</td>\n",
       "      <td>k</td>\n",
       "      <td>...</td>\n",
       "      <td>s</td>\n",
       "      <td>w</td>\n",
       "      <td>w</td>\n",
       "      <td>p</td>\n",
       "      <td>w</td>\n",
       "      <td>o</td>\n",
       "      <td>e</td>\n",
       "      <td>n</td>\n",
       "      <td>a</td>\n",
       "      <td>g</td>\n",
       "    </tr>\n",
       "  </tbody>\n",
       "</table>\n",
       "<p>5 rows × 23 columns</p>\n",
       "</div>"
      ],
      "text/plain": [
       "  type cap_shape cap_surface cap_color bruises odor gill_attachment  \\\n",
       "0    p         x           s         n       t    p               f   \n",
       "1    e         x           s         y       t    a               f   \n",
       "2    e         b           s         w       t    l               f   \n",
       "3    p         x           y         w       t    p               f   \n",
       "4    e         x           s         g       f    n               f   \n",
       "\n",
       "  gill_spacing gill_size gill_color  ... stalk_surface_below_ring  \\\n",
       "0            c         n          k  ...                        s   \n",
       "1            c         b          k  ...                        s   \n",
       "2            c         b          n  ...                        s   \n",
       "3            c         n          n  ...                        s   \n",
       "4            w         b          k  ...                        s   \n",
       "\n",
       "  stalk_color_above_ring stalk_color_below_ring veil_type veil_color  \\\n",
       "0                      w                      w         p          w   \n",
       "1                      w                      w         p          w   \n",
       "2                      w                      w         p          w   \n",
       "3                      w                      w         p          w   \n",
       "4                      w                      w         p          w   \n",
       "\n",
       "  ring_number ring_type spore_print_color population habitat  \n",
       "0           o         p                 k          s       u  \n",
       "1           o         p                 n          n       g  \n",
       "2           o         p                 n          n       m  \n",
       "3           o         p                 k          s       u  \n",
       "4           o         e                 n          a       g  \n",
       "\n",
       "[5 rows x 23 columns]"
      ]
     },
     "execution_count": 4,
     "metadata": {},
     "output_type": "execute_result"
    }
   ],
   "source": [
    "mush = pd.read_csv('./data_to_use/mushrooms.csv')\n",
    "mush.head()"
   ]
  },
  {
   "cell_type": "code",
   "execution_count": 5,
   "metadata": {},
   "outputs": [
    {
     "name": "stdout",
     "output_type": "stream",
     "text": [
      "<class 'pandas.core.frame.DataFrame'>\n",
      "RangeIndex: 8124 entries, 0 to 8123\n",
      "Data columns (total 23 columns):\n",
      " #   Column                    Non-Null Count  Dtype \n",
      "---  ------                    --------------  ----- \n",
      " 0   type                      8124 non-null   object\n",
      " 1   cap_shape                 8124 non-null   object\n",
      " 2   cap_surface               8124 non-null   object\n",
      " 3   cap_color                 8124 non-null   object\n",
      " 4   bruises                   8124 non-null   object\n",
      " 5   odor                      8124 non-null   object\n",
      " 6   gill_attachment           8124 non-null   object\n",
      " 7   gill_spacing              8124 non-null   object\n",
      " 8   gill_size                 8124 non-null   object\n",
      " 9   gill_color                8124 non-null   object\n",
      " 10  stalk_shape               8124 non-null   object\n",
      " 11  stalk_root                8124 non-null   object\n",
      " 12  stalk_surface_above_ring  8124 non-null   object\n",
      " 13  stalk_surface_below_ring  8124 non-null   object\n",
      " 14  stalk_color_above_ring    8124 non-null   object\n",
      " 15  stalk_color_below_ring    8124 non-null   object\n",
      " 16  veil_type                 8124 non-null   object\n",
      " 17  veil_color                8124 non-null   object\n",
      " 18  ring_number               8124 non-null   object\n",
      " 19  ring_type                 8124 non-null   object\n",
      " 20  spore_print_color         8124 non-null   object\n",
      " 21  population                8124 non-null   object\n",
      " 22  habitat                   8124 non-null   object\n",
      "dtypes: object(23)\n",
      "memory usage: 1.4+ MB\n"
     ]
    }
   ],
   "source": [
    "mush.info()"
   ]
  },
  {
   "cell_type": "code",
   "execution_count": 6,
   "metadata": {},
   "outputs": [
    {
     "data": {
      "text/plain": [
       "type                        object\n",
       "cap_shape                   object\n",
       "cap_surface                 object\n",
       "cap_color                   object\n",
       "bruises                     object\n",
       "odor                        object\n",
       "gill_attachment             object\n",
       "gill_spacing                object\n",
       "gill_size                   object\n",
       "gill_color                  object\n",
       "stalk_shape                 object\n",
       "stalk_root                  object\n",
       "stalk_surface_above_ring    object\n",
       "stalk_surface_below_ring    object\n",
       "stalk_color_above_ring      object\n",
       "stalk_color_below_ring      object\n",
       "veil_type                   object\n",
       "veil_color                  object\n",
       "ring_number                 object\n",
       "ring_type                   object\n",
       "spore_print_color           object\n",
       "population                  object\n",
       "habitat                     object\n",
       "dtype: object"
      ]
     },
     "execution_count": 6,
     "metadata": {},
     "output_type": "execute_result"
    }
   ],
   "source": [
    "mush.dtypes"
   ]
  },
  {
   "cell_type": "code",
   "execution_count": 7,
   "metadata": {},
   "outputs": [
    {
     "data": {
      "text/plain": [
       "type                        0\n",
       "cap_shape                   0\n",
       "cap_surface                 0\n",
       "cap_color                   0\n",
       "bruises                     0\n",
       "odor                        0\n",
       "gill_attachment             0\n",
       "gill_spacing                0\n",
       "gill_size                   0\n",
       "gill_color                  0\n",
       "stalk_shape                 0\n",
       "stalk_root                  0\n",
       "stalk_surface_above_ring    0\n",
       "stalk_surface_below_ring    0\n",
       "stalk_color_above_ring      0\n",
       "stalk_color_below_ring      0\n",
       "veil_type                   0\n",
       "veil_color                  0\n",
       "ring_number                 0\n",
       "ring_type                   0\n",
       "spore_print_color           0\n",
       "population                  0\n",
       "habitat                     0\n",
       "dtype: int64"
      ]
     },
     "execution_count": 7,
     "metadata": {},
     "output_type": "execute_result"
    }
   ],
   "source": [
    "# Check null data\n",
    "mush.isnull().sum()"
   ]
  },
  {
   "cell_type": "code",
   "execution_count": 8,
   "metadata": {},
   "outputs": [
    {
     "data": {
      "image/png": "[encoded data removed]",
      "text/plain": [
       "<Figure size 700x300 with 1 Axes>"
      ]
     },
     "metadata": {},
     "output_type": "display_data"
    }
   ],
   "source": [
    "# Plotting class in bars\n",
    "plt.figure(figsize=(7, 3))\n",
    "plt.bar(mush['type'].value_counts().index, mush['type'].value_counts().values,color=['orange', 'pink'])\n",
    "plt.show()"
   ]
  },
  {
   "cell_type": "code",
   "execution_count": 9,
   "metadata": {},
   "outputs": [
    {
     "data": {
      "text/html": [
       "<div>\n",
       "<style scoped>\n",
       "    .dataframe tbody tr th:only-of-type {\n",
       "        vertical-align: middle;\n",
       "    }\n",
       "\n",
       "    .dataframe tbody tr th {\n",
       "        vertical-align: top;\n",
       "    }\n",
       "\n",
       "    .dataframe thead th {\n",
       "        text-align: right;\n",
       "    }\n",
       "</style>\n",
       "<table border=\"1\" class=\"dataframe\">\n",
       "  <thead>\n",
       "    <tr style=\"text-align: right;\">\n",
       "      <th></th>\n",
       "      <th>type</th>\n",
       "      <th>cap_shape</th>\n",
       "      <th>cap_surface</th>\n",
       "      <th>cap_color</th>\n",
       "      <th>bruises</th>\n",
       "      <th>odor</th>\n",
       "      <th>gill_attachment</th>\n",
       "      <th>gill_spacing</th>\n",
       "      <th>gill_size</th>\n",
       "      <th>gill_color</th>\n",
       "      <th>...</th>\n",
       "      <th>stalk_surface_below_ring</th>\n",
       "      <th>stalk_color_above_ring</th>\n",
       "      <th>stalk_color_below_ring</th>\n",
       "      <th>veil_type</th>\n",
       "      <th>veil_color</th>\n",
       "      <th>ring_number</th>\n",
       "      <th>ring_type</th>\n",
       "      <th>spore_print_color</th>\n",
       "      <th>population</th>\n",
       "      <th>habitat</th>\n",
       "    </tr>\n",
       "  </thead>\n",
       "  <tbody>\n",
       "    <tr>\n",
       "      <th>0</th>\n",
       "      <td>1</td>\n",
       "      <td>5</td>\n",
       "      <td>2</td>\n",
       "      <td>4</td>\n",
       "      <td>1</td>\n",
       "      <td>6</td>\n",
       "      <td>1</td>\n",
       "      <td>0</td>\n",
       "      <td>1</td>\n",
       "      <td>4</td>\n",
       "      <td>...</td>\n",
       "      <td>2</td>\n",
       "      <td>7</td>\n",
       "      <td>7</td>\n",
       "      <td>0</td>\n",
       "      <td>2</td>\n",
       "      <td>1</td>\n",
       "      <td>4</td>\n",
       "      <td>2</td>\n",
       "      <td>3</td>\n",
       "      <td>5</td>\n",
       "    </tr>\n",
       "    <tr>\n",
       "      <th>1</th>\n",
       "      <td>0</td>\n",
       "      <td>5</td>\n",
       "      <td>2</td>\n",
       "      <td>9</td>\n",
       "      <td>1</td>\n",
       "      <td>0</td>\n",
       "      <td>1</td>\n",
       "      <td>0</td>\n",
       "      <td>0</td>\n",
       "      <td>4</td>\n",
       "      <td>...</td>\n",
       "      <td>2</td>\n",
       "      <td>7</td>\n",
       "      <td>7</td>\n",
       "      <td>0</td>\n",
       "      <td>2</td>\n",
       "      <td>1</td>\n",
       "      <td>4</td>\n",
       "      <td>3</td>\n",
       "      <td>2</td>\n",
       "      <td>1</td>\n",
       "    </tr>\n",
       "    <tr>\n",
       "      <th>2</th>\n",
       "      <td>0</td>\n",
       "      <td>0</td>\n",
       "      <td>2</td>\n",
       "      <td>8</td>\n",
       "      <td>1</td>\n",
       "      <td>3</td>\n",
       "      <td>1</td>\n",
       "      <td>0</td>\n",
       "      <td>0</td>\n",
       "      <td>5</td>\n",
       "      <td>...</td>\n",
       "      <td>2</td>\n",
       "      <td>7</td>\n",
       "      <td>7</td>\n",
       "      <td>0</td>\n",
       "      <td>2</td>\n",
       "      <td>1</td>\n",
       "      <td>4</td>\n",
       "      <td>3</td>\n",
       "      <td>2</td>\n",
       "      <td>3</td>\n",
       "    </tr>\n",
       "    <tr>\n",
       "      <th>3</th>\n",
       "      <td>1</td>\n",
       "      <td>5</td>\n",
       "      <td>3</td>\n",
       "      <td>8</td>\n",
       "      <td>1</td>\n",
       "      <td>6</td>\n",
       "      <td>1</td>\n",
       "      <td>0</td>\n",
       "      <td>1</td>\n",
       "      <td>5</td>\n",
       "      <td>...</td>\n",
       "      <td>2</td>\n",
       "      <td>7</td>\n",
       "      <td>7</td>\n",
       "      <td>0</td>\n",
       "      <td>2</td>\n",
       "      <td>1</td>\n",
       "      <td>4</td>\n",
       "      <td>2</td>\n",
       "      <td>3</td>\n",
       "      <td>5</td>\n",
       "    </tr>\n",
       "    <tr>\n",
       "      <th>4</th>\n",
       "      <td>0</td>\n",
       "      <td>5</td>\n",
       "      <td>2</td>\n",
       "      <td>3</td>\n",
       "      <td>0</td>\n",
       "      <td>5</td>\n",
       "      <td>1</td>\n",
       "      <td>1</td>\n",
       "      <td>0</td>\n",
       "      <td>4</td>\n",
       "      <td>...</td>\n",
       "      <td>2</td>\n",
       "      <td>7</td>\n",
       "      <td>7</td>\n",
       "      <td>0</td>\n",
       "      <td>2</td>\n",
       "      <td>1</td>\n",
       "      <td>0</td>\n",
       "      <td>3</td>\n",
       "      <td>0</td>\n",
       "      <td>1</td>\n",
       "    </tr>\n",
       "  </tbody>\n",
       "</table>\n",
       "<p>5 rows × 23 columns</p>\n",
       "</div>"
      ],
      "text/plain": [
       "   type  cap_shape  cap_surface  cap_color  bruises  odor  gill_attachment  \\\n",
       "0     1          5            2          4        1     6                1   \n",
       "1     0          5            2          9        1     0                1   \n",
       "2     0          0            2          8        1     3                1   \n",
       "3     1          5            3          8        1     6                1   \n",
       "4     0          5            2          3        0     5                1   \n",
       "\n",
       "   gill_spacing  gill_size  gill_color  ...  stalk_surface_below_ring  \\\n",
       "0             0          1           4  ...                         2   \n",
       "1             0          0           4  ...                         2   \n",
       "2             0          0           5  ...                         2   \n",
       "3             0          1           5  ...                         2   \n",
       "4             1          0           4  ...                         2   \n",
       "\n",
       "   stalk_color_above_ring  stalk_color_below_ring  veil_type  veil_color  \\\n",
       "0                       7                       7          0           2   \n",
       "1                       7                       7          0           2   \n",
       "2                       7                       7          0           2   \n",
       "3                       7                       7          0           2   \n",
       "4                       7                       7          0           2   \n",
       "\n",
       "   ring_number  ring_type  spore_print_color  population  habitat  \n",
       "0            1          4                  2           3        5  \n",
       "1            1          4                  3           2        1  \n",
       "2            1          4                  3           2        3  \n",
       "3            1          4                  2           3        5  \n",
       "4            1          0                  3           0        1  \n",
       "\n",
       "[5 rows x 23 columns]"
      ]
     },
     "execution_count": 9,
     "metadata": {},
     "output_type": "execute_result"
    }
   ],
   "source": [
    "\"\"\" Data manipulation \"\"\"\n",
    "df = mush.copy()        #better use a copy\n",
    "Lb = LabelEncoder()     #since data has ordinal attributes\n",
    "\n",
    "## Encode all the attributes (including the y labels)\n",
    "for features in df.columns:\n",
    "    df[features] = Lb.fit_transform(df[features])\n",
    "df.head()"
   ]
  },
  {
   "cell_type": "code",
   "execution_count": 10,
   "metadata": {},
   "outputs": [
    {
     "data": {
      "text/plain": [
       "<Axes: xlabel='type'>"
      ]
     },
     "execution_count": 10,
     "metadata": {},
     "output_type": "execute_result"
    },
    {
     "data": {
      "image/png": "[encoded data removed]",
      "text/plain": [
       "<Figure size 640x480 with 1 Axes>"
      ]
     },
     "metadata": {},
     "output_type": "display_data"
    }
   ],
   "source": [
    "# Plot with pandas\n",
    "df[-100:-1][['type']].value_counts().plot(kind='bar')"
   ]
  },
  {
   "cell_type": "code",
   "execution_count": 11,
   "metadata": {},
   "outputs": [],
   "source": [
    "\"\"\" Training \"\"\"\n",
    "X = df.drop(columns=['type'],axis=1)[:-100]    #training vars\n",
    "Y = df['type'][:-100]                          #training classes\n",
    "x = df.drop(columns=['type'], axis=1)[-100:]   #100 samples\n",
    "y = df['type'][-100:] "
   ]
  },
  {
   "cell_type": "markdown",
   "metadata": {},
   "source": [
    "### => 2-Fold cross-validation"
   ]
  },
  {
   "cell_type": "code",
   "execution_count": 15,
   "metadata": {},
   "outputs": [
    {
     "name": "stdout",
     "output_type": "stream",
     "text": [
      "X_before was: [[5 2 4 1 6 1 0 1 4 0 3 2 2 7 7 0 2 1 4 2 3 5]\n",
      " [5 2 9 1 0 1 0 0 4 0 2 2 2 7 7 0 2 1 4 3 2 1]\n",
      " [0 2 8 1 3 1 0 0 5 0 2 2 2 7 7 0 2 1 4 3 2 3]\n",
      " [5 3 8 1 6 1 0 1 5 0 3 2 2 7 7 0 2 1 4 2 3 5]\n",
      " [5 2 3 0 5 1 1 0 4 1 3 2 2 7 7 0 2 1 0 3 0 1]\n",
      " [5 3 9 1 0 1 0 0 5 0 2 2 2 7 7 0 2 1 4 2 2 1]\n",
      " [0 2 8 1 0 1 0 0 2 0 2 2 2 7 7 0 2 1 4 2 2 3]\n",
      " [0 3 8 1 3 1 0 0 5 0 2 2 2 7 7 0 2 1 4 3 3 3]\n",
      " [5 3 8 1 6 1 0 1 7 0 3 2 2 7 7 0 2 1 4 2 4 1]\n",
      " [0 2 9 1 0 1 0 0 2 0 2 2 2 7 7 0 2 1 4 2 3 3]]\n",
      "X final is : [[5 2 4 1 6 1 0 1 4 0 3 2 2 7 7 0 2 1 4 2 3 5]\n",
      " [5 2 9 1 0 1 0 0 4 0 2 2 2 7 7 0 2 1 4 3 2 1]\n",
      " [0 2 8 1 3 1 0 0 5 0 2 2 2 7 7 0 2 1 4 3 2 3]\n",
      " [5 3 8 1 6 1 0 1 5 0 3 2 2 7 7 0 2 1 4 2 3 5]\n",
      " [5 2 3 0 5 1 1 0 4 1 3 2 2 7 7 0 2 1 0 3 0 1]\n",
      " [5 3 9 1 0 1 0 0 5 0 2 2 2 7 7 0 2 1 4 2 2 1]\n",
      " [0 2 8 1 0 1 0 0 2 0 2 2 2 7 7 0 2 1 4 2 2 3]\n",
      " [0 3 8 1 3 1 0 0 5 0 2 2 2 7 7 0 2 1 4 3 3 3]\n",
      " [5 3 8 1 6 1 0 1 7 0 3 2 2 7 7 0 2 1 4 2 4 1]\n",
      " [0 2 9 1 0 1 0 0 2 0 2 2 2 7 7 0 2 1 4 2 3 3]]\n"
     ]
    },
    {
     "data": {
      "image/png": "[encoded data removed]",
      "text/plain": [
       "<Figure size 640x480 with 1 Axes>"
      ]
     },
     "metadata": {},
     "output_type": "display_data"
    }
   ],
   "source": [
    "\"\"\" \n",
    "N.B.1\n",
    "Common issue in cross-validation: \n",
    "c_contiguous attribute is missing from a Flags object. \n",
    "It is a requirement for cross_val_score method: The c_contiguous attribute is used to check if an array is stored in C-contiguous order (row-major order), \n",
    "Avoid error converting the X array to C-contiguous order using ascontiguousarray() [X = np array]\n",
    "\n",
    "N.B.2\n",
    "Manually suppress the warning to avoid:\n",
    "\"FutureWarning: is_sparse is deprecated and will be removed in a future version. Check `isinstance(dtype, pd.SparseDtype)` instead.\"\n",
    "Check `isinstance(dtype, pd.SparseDtype)`\n",
    "\"\"\"\n",
    "import warnings\n",
    "warnings.simplefilter(action='ignore', category=FutureWarning)\n",
    "\n",
    "kfold = KFold(n_splits=2, random_state=42, shuffle=True)\n",
    "train_scores = []\n",
    "\n",
    "### Convert X to C-contiguous order\n",
    "print(f\"X_before was: {X[:10]}\")\n",
    "X = np.ascontiguousarray(X)\n",
    "print(f\"X final is : {X[:10]}\")\n",
    "\n",
    "### Create the classifiers and score them\n",
    "for i in range(2, 11):\n",
    "    knn = KNeighborsClassifier(n_neighbors=i)\n",
    "    cv_result = cross_val_score(knn, X, Y, cv=kfold, scoring=\"accuracy\")\n",
    "    train_scores.append(cv_result.mean())\n",
    "knn_models_performances = pd.DataFrame({'Mean_training_scores':train_scores},index=range(2,11)) \n",
    "\n",
    "###### Display training scores\n",
    "plt.plot(knn_models_performances.Mean_training_scores, color='purple')\n",
    "plt.ylabel('Mean accuracies')\n",
    "plt.xlabel('n_neighbors')\n",
    "plt.title('Accuricies with respect to number of neighbors')\n",
    "plt.show()\n"
   ]
  },
  {
   "cell_type": "code",
   "execution_count": 16,
   "metadata": {},
   "outputs": [
    {
     "name": "stdout",
     "output_type": "stream",
     "text": [
      "[   1    2    3 ... 8015 8020 8022]\n",
      "[   0    8   12 ... 8019 8021 8023]\n",
      "\n",
      "training_score is: [0.9982552342971087, 0.9992522432701895]\n",
      "testing_score is: [0.9970089730807578, 0.9985044865403788]\n"
     ]
    }
   ],
   "source": [
    "training_score = []\n",
    "testing_score = []\n",
    "# Accuracy has the best result on 2 neighbors\n",
    "knn = KNeighborsClassifier(n_neighbors=2)\n",
    "\n",
    "######## Train the KNN on 2 neighbors\n",
    "for train_index, test_index in kfold.split(X):\n",
    "    print(train_index)\n",
    "    X_train, X_test = X[train_index], X[test_index]     #iloc does not exist in numpy !\n",
    "    Y_train, Y_test = Y[train_index], Y[test_index]\n",
    "    knn.fit(X_train,Y_train)\n",
    "    training_score.append(knn.score(X,Y))\n",
    "    train_predictions = knn.predict(X_test)\n",
    "    testing_score.append(accuracy_score(Y_test, train_predictions))\n",
    "\n",
    "print()\n",
    "print(\"training_score is: {training_score}\".format(training_score=training_score))\n",
    "print(\"testing_score is: {testing_score}\".format(testing_score=testing_score))    "
   ]
  },
  {
   "cell_type": "code",
   "execution_count": 17,
   "metadata": {},
   "outputs": [
    {
     "name": "stdout",
     "output_type": "stream",
     "text": [
      "x before was:       cap_shape  cap_surface  cap_color  bruises  odor  gill_attachment  \\\n",
      "8024          3            3          4        0     2                1   \n",
      "8025          5            2          4        0     5                0   \n",
      "8026          2            2          4        0     5                0   \n",
      "8027          3            3          4        0     2                1   \n",
      "8028          3            2          4        0     2                1   \n",
      "8029          5            0          3        0     5                1   \n",
      "8030          3            2          8        0     5                1   \n",
      "8031          3            3          2        0     2                1   \n",
      "8032          5            2          4        0     2                1   \n",
      "8033          3            3          4        0     2                1   \n",
      "\n",
      "      gill_spacing  gill_size  gill_color  stalk_shape  ...  \\\n",
      "8024             0          1           0            1  ...   \n",
      "8025             0          0          11            0  ...   \n",
      "8026             0          0          11            0  ...   \n",
      "8027             0          1           0            1  ...   \n",
      "8028             0          1           0            1  ...   \n",
      "8029             1          0           2            0  ...   \n",
      "8030             1          0          10            0  ...   \n",
      "8031             0          1           0            1  ...   \n",
      "8032             0          1           0            1  ...   \n",
      "8033             0          1           0            1  ...   \n",
      "\n",
      "      stalk_surface_below_ring  stalk_color_above_ring  \\\n",
      "8024                         2                       6   \n",
      "8025                         2                       5   \n",
      "8026                         2                       5   \n",
      "8027                         2                       6   \n",
      "8028                         2                       6   \n",
      "8029                         2                       7   \n",
      "8030                         1                       7   \n",
      "8031                         1                       6   \n",
      "8032                         2                       7   \n",
      "8033                         2                       6   \n",
      "\n",
      "      stalk_color_below_ring  veil_type  veil_color  ring_number  ring_type  \\\n",
      "8024                       6          0           2            1          0   \n",
      "8025                       5          0           0            1          4   \n",
      "8026                       5          0           0            1          4   \n",
      "8027                       6          0           2            1          0   \n",
      "8028                       7          0           2            1          0   \n",
      "8029                       7          0           2            2          4   \n",
      "8030                       7          0           2            2          4   \n",
      "8031                       6          0           2            1          0   \n",
      "8032                       7          0           2            1          0   \n",
      "8033                       7          0           2            1          0   \n",
      "\n",
      "      spore_print_color  population  habitat  \n",
      "8024                  7           4        0  \n",
      "8025                  8           1        2  \n",
      "8026                  3           4        2  \n",
      "8027                  7           4        2  \n",
      "8028                  7           4        2  \n",
      "8029                  7           2        1  \n",
      "8030                  7           3        1  \n",
      "8031                  7           4        4  \n",
      "8032                  7           4        0  \n",
      "8033                  7           4        2  \n",
      "\n",
      "[10 rows x 22 columns]\n",
      "x final is : [[ 3  3  4  0  2  1  0  1  0  1  0  1  2  6  6  0  2  1  0  7  4  0]\n",
      " [ 5  2  4  0  5  0  0  0 11  0  0  2  2  5  5  0  0  1  4  8  1  2]\n",
      " [ 2  2  4  0  5  0  0  0 11  0  0  2  2  5  5  0  0  1  4  3  4  2]\n",
      " [ 3  3  4  0  2  1  0  1  0  1  0  1  2  6  6  0  2  1  0  7  4  2]\n",
      " [ 3  2  4  0  2  1  0  1  0  1  0  2  2  6  7  0  2  1  0  7  4  2]\n",
      " [ 5  0  3  0  5  1  1  0  2  0  0  2  2  7  7  0  2  2  4  7  2  1]\n",
      " [ 3  2  8  0  5  1  1  0 10  0  0  2  1  7  7  0  2  2  4  7  3  1]\n",
      " [ 3  3  2  0  2  1  0  1  0  1  0  2  1  6  6  0  2  1  0  7  4  4]\n",
      " [ 5  2  4  0  2  1  0  1  0  1  0  2  2  7  7  0  2  1  0  7  4  0]\n",
      " [ 3  3  4  0  2  1  0  1  0  1  0  2  2  6  7  0  2  1  0  7  4  2]]\n",
      "\n",
      "              precision    recall  f1-score   support\n",
      "\n",
      "           0       1.00      1.00      1.00        54\n",
      "           1       1.00      1.00      1.00        46\n",
      "\n",
      "    accuracy                           1.00       100\n",
      "   macro avg       1.00      1.00      1.00       100\n",
      "weighted avg       1.00      1.00      1.00       100\n",
      "\n"
     ]
    },
    {
     "data": {
      "image/png": "[encoded data removed]",
      "text/plain": [
       "<Figure size 640x480 with 2 Axes>"
      ]
     },
     "metadata": {},
     "output_type": "display_data"
    }
   ],
   "source": [
    "\"\"\" Validation \"\"\"\n",
    "### Convert X to C-contiguous order\n",
    "print(f\"x before was: {x[:10]}\")\n",
    "x = np.ascontiguousarray(x)\n",
    "print(f\"x final is : {x[:10]}\")\n",
    "print()\n",
    "\n",
    "# Predict \n",
    "val_predictions = knn.predict(x)\n",
    "# Get Variances and show the confusion_matrix  \n",
    "cm = confusion_matrix(y, val_predictions)\n",
    "seaborn.heatmap(cm, annot=True)\n",
    "# Metrics\n",
    "print(classification_report(y, val_predictions))"
   ]
  },
  {
   "attachments": {},
   "cell_type": "markdown",
   "metadata": {},
   "source": [
    "<h2 style=\"color:#0AE42F  \"> 1) <u> K-means solution </u></h2>"
   ]
  },
  {
   "cell_type": "code",
   "execution_count": 18,
   "metadata": {},
   "outputs": [
    {
     "name": "stdout",
     "output_type": "stream",
     "text": [
      "[[3967  187]\n",
      " [2170 1700]]\n"
     ]
    }
   ],
   "source": [
    "\"\"\" No need to split the data into folds, use training attributes \n",
    "    Params: \n",
    "        * k-means++ : selects initial cluster centroids using sampling based on an empirical probability distribution \n",
    "            of the points’ contribution to the overall inertia. \n",
    "            It speeds up convergence. The implemented algorithm  is “greedy k-means++”. \n",
    "            It differs from the vanilla k-means++ by making several trials at each sampling step and choosing the best centroid among them.\n",
    "            The other options is random : \n",
    "                                choose n_clusters observations (rows) at random from data for the initial centroids.\n",
    "        * n_jobs option has been deprecated after sklearn 0.24.2.. Now all cores are used by default. \n",
    "\"\"\"\n",
    "kmeans = KMeans(2, init='k-means++', n_init=100) # add \"n_jobs = -1\" to use all cpus, if more than one is available\n",
    "\n",
    "# Train ...no Y labels\n",
    "kmeans.fit(X) \n",
    "# Calc the confusion matrix with trained labels + training classes \n",
    "cm_1 = confusion_matrix(Y, kmeans.labels_)\n",
    "\n",
    "print(cm_1)"
   ]
  },
  {
   "cell_type": "code",
   "execution_count": 20,
   "metadata": {},
   "outputs": [
    {
     "data": {
      "image/png": "[encoded data removed]",
      "text/plain": [
       "<Figure size 600x600 with 2 Axes>"
      ]
     },
     "metadata": {},
     "output_type": "display_data"
    }
   ],
   "source": [
    "## Show heatmap\n",
    "plt.figure(figsize=(6,6))\n",
    "seaborn.heatmap(cm_1,annot=True, cmap='PuBu')\n",
    "plt.show()"
   ]
  },
  {
   "cell_type": "code",
   "execution_count": 21,
   "metadata": {},
   "outputs": [
    {
     "name": "stdout",
     "output_type": "stream",
     "text": [
      "              precision    recall  f1-score   support\n",
      "\n",
      "           0       0.65      0.95      0.77      4154\n",
      "           1       0.90      0.44      0.59      3870\n",
      "\n",
      "    accuracy                           0.71      8024\n",
      "   macro avg       0.77      0.70      0.68      8024\n",
      "weighted avg       0.77      0.71      0.68      8024\n",
      "\n"
     ]
    }
   ],
   "source": [
    "# Classification report of training\n",
    "print(classification_report(Y, kmeans.labels_))"
   ]
  },
  {
   "cell_type": "code",
   "execution_count": 24,
   "metadata": {},
   "outputs": [
    {
     "name": "stdout",
     "output_type": "stream",
     "text": [
      "[[49  5]\n",
      " [ 2 44]]\n"
     ]
    },
    {
     "data": {
      "image/png": "[encoded data removed]",
      "text/plain": [
       "<Figure size 640x480 with 2 Axes>"
      ]
     },
     "metadata": {},
     "output_type": "display_data"
    }
   ],
   "source": [
    "# Validation part\n",
    "val_preds = kmeans.predict(x)\n",
    "cm_2 = confusion_matrix(y, val_preds)\n",
    "print(cm_2)\n",
    "\n",
    "seaborn.heatmap(cm_2, annot=True)\n",
    "plt.show()"
   ]
  },
  {
   "cell_type": "code",
   "execution_count": 25,
   "metadata": {},
   "outputs": [
    {
     "name": "stdout",
     "output_type": "stream",
     "text": [
      "              precision    recall  f1-score   support\n",
      "\n",
      "           0       0.96      0.91      0.93        54\n",
      "           1       0.90      0.96      0.93        46\n",
      "\n",
      "    accuracy                           0.93       100\n",
      "   macro avg       0.93      0.93      0.93       100\n",
      "weighted avg       0.93      0.93      0.93       100\n",
      "\n"
     ]
    }
   ],
   "source": [
    "# Validation results\n",
    "print(classification_report(y, val_preds))"
   ]
  },
  {
   "attachments": {},
   "cell_type": "markdown",
   "metadata": {},
   "source": [
    "<div style=\"line-height:0.62\">\n",
    "<h3 style=\"color:#0AE42F  \"> => Conclusions </h3>\n",
    "The K-means algorithm is not performing well on this dataset.   \n",
    "\n",
    "Possible Adjustments:\n",
    "</div>\n",
    "\n",
    "+ Feature engineering ...Means create new features combining existing ones to better capture the underlying structure of the data.   \n",
    "=> can be useful but not what I want now   \n",
    "+ Scaling  => K-means is sensitive to the scale of the input features. If some features have much larger ranges than others, <br> \n",
    "they can dominate the clustering process.   \n",
    "=> Is want I want! See the results.\n",
    "+ Hyperparameters tuning   \n",
    "+ Change clustering algorithm   \n",
    "+ Perform dimensionality reduction    "
   ]
  },
  {
   "attachments": {},
   "cell_type": "markdown",
   "metadata": {},
   "source": [
    "<h2 style=\"color:#0AE42F  \"> 2) <u> Scaling solution </u></h2>"
   ]
  },
  {
   "cell_type": "code",
   "execution_count": 26,
   "metadata": {},
   "outputs": [
    {
     "name": "stdout",
     "output_type": "stream",
     "text": [
      "[[ 187 3967]\n",
      " [1700 2170]]\n"
     ]
    },
    {
     "data": {
      "image/png": "[encoded data removed]",
      "text/plain": [
       "<Figure size 600x600 with 2 Axes>"
      ]
     },
     "metadata": {},
     "output_type": "display_data"
    }
   ],
   "source": [
    "scaler = StandardScaler()\n",
    "X_scaled = scaler.fit_transform(X)\n",
    "\n",
    "kmeans = KMeans(2, init='k-means++', n_init=100)\n",
    "# Train\n",
    "kmeans.fit(X) \n",
    "cm_1 = confusion_matrix(Y, kmeans.labels_)\n",
    "print(cm_1)\n",
    "plt.figure(figsize=(6,6))\n",
    "seaborn.heatmap(cm_1,annot=True, cmap='Blues')\n",
    "plt.show()"
   ]
  },
  {
   "cell_type": "code",
   "execution_count": 27,
   "metadata": {},
   "outputs": [
    {
     "name": "stdout",
     "output_type": "stream",
     "text": [
      "              precision    recall  f1-score   support\n",
      "\n",
      "           0       0.10      0.05      0.06      4154\n",
      "           1       0.35      0.56      0.43      3870\n",
      "\n",
      "    accuracy                           0.29      8024\n",
      "   macro avg       0.23      0.30      0.25      8024\n",
      "weighted avg       0.22      0.29      0.24      8024\n",
      "\n"
     ]
    }
   ],
   "source": [
    "# Classification report of training\n",
    "print(classification_report(Y, kmeans.labels_))"
   ]
  },
  {
   "cell_type": "code",
   "execution_count": 30,
   "metadata": {},
   "outputs": [
    {
     "name": "stdout",
     "output_type": "stream",
     "text": [
      "[[ 5 49]\n",
      " [44  2]]\n"
     ]
    },
    {
     "data": {
      "image/png": "[encoded data removed]",
      "text/plain": [
       "<Figure size 640x480 with 2 Axes>"
      ]
     },
     "metadata": {},
     "output_type": "display_data"
    }
   ],
   "source": [
    "# Validation part\n",
    "val_preds = kmeans.predict(x)\n",
    "cm_2 = confusion_matrix(y,val_preds)\n",
    "print(cm_2)\n",
    "\n",
    "seaborn.heatmap(cm_2, annot=True)\n",
    "plt.show()"
   ]
  },
  {
   "cell_type": "code",
   "execution_count": 31,
   "metadata": {},
   "outputs": [
    {
     "name": "stdout",
     "output_type": "stream",
     "text": [
      "              precision    recall  f1-score   support\n",
      "\n",
      "           0       0.10      0.09      0.10        54\n",
      "           1       0.04      0.04      0.04        46\n",
      "\n",
      "    accuracy                           0.07       100\n",
      "   macro avg       0.07      0.07      0.07       100\n",
      "weighted avg       0.07      0.07      0.07       100\n",
      "\n"
     ]
    }
   ],
   "source": [
    "# Validation results\n",
    "print(classification_report(y, val_preds))"
   ]
  },
  {
   "attachments": {},
   "cell_type": "markdown",
   "metadata": {},
   "source": [
    "### => Tuning hyperparameters"
   ]
  },
  {
   "cell_type": "code",
   "execution_count": 32,
   "metadata": {},
   "outputs": [
    {
     "name": "stdout",
     "output_type": "stream",
     "text": [
      "k=2, inertia=142032.41964564365\n",
      "k=3, inertia=124073.06383934783\n",
      "k=4, inertia=107878.78695865477\n",
      "k=5, inertia=92420.80225531671\n",
      "k=6, inertia=80353.82293874021\n",
      "k=7, inertia=69470.68626651281\n",
      "k=8, inertia=65680.31208312209\n",
      "k=9, inertia=62347.285434789745\n",
      "Inertia with random initialization: 142032.41964564368\n",
      "Inertia with k-means++ initialization: 142032.41964564365\n"
     ]
    }
   ],
   "source": [
    "# Different values of k\n",
    "for k in range(2, 10):\n",
    "    kmeans = KMeans(k, init='k-means++', n_init=100)\n",
    "    kmeans.fit(X_scaled)\n",
    "    print(f\"k={k}, inertia={kmeans.inertia_}\")\n",
    "\n",
    "# try different initialization methods\n",
    "kmeans = KMeans(2, init='random', n_init=100)\n",
    "kmeans.fit(X_scaled)\n",
    "print(f\"Inertia with random initialization: {kmeans.inertia_}\")\n",
    "\n",
    "kmeans = KMeans(2, init='k-means++', n_init=100)\n",
    "kmeans.fit(X_scaled)\n",
    "print(f\"Inertia with k-means++ initialization: {kmeans.inertia_}\")"
   ]
  },
  {
   "attachments": {},
   "cell_type": "markdown",
   "metadata": {},
   "source": [
    "<h2 style=\"color:#0AE42F  \"> 3) <u> Change clustering technique solution </u></h2>"
   ]
  },
  {
   "cell_type": "code",
   "execution_count": 34,
   "metadata": {},
   "outputs": [],
   "source": [
    "\"\"\" Hierarchical clustering \"\"\"\n",
    "hierarchical = AgglomerativeClustering(n_clusters=2)\n",
    "hierarchical.fit(X_scaled);"
   ]
  },
  {
   "cell_type": "code",
   "execution_count": 35,
   "metadata": {},
   "outputs": [
    {
     "name": "stdout",
     "output_type": "stream",
     "text": [
      "[[4154    0]\n",
      " [2186 1684]]\n"
     ]
    },
    {
     "data": {
      "image/png": "[encoded data removed]",
      "text/plain": [
       "<Figure size 600x600 with 2 Axes>"
      ]
     },
     "metadata": {},
     "output_type": "display_data"
    }
   ],
   "source": [
    "# Confusion matrix\n",
    "cm = confusion_matrix(Y, hierarchical.labels_)\n",
    "print(cm)\n",
    "## Plot\n",
    "plt.figure(figsize=(6,6))\n",
    "seaborn.heatmap(cm, annot=True, cmap='YlGnBu')\n",
    "plt.show()"
   ]
  },
  {
   "cell_type": "code",
   "execution_count": 36,
   "metadata": {},
   "outputs": [
    {
     "name": "stdout",
     "output_type": "stream",
     "text": [
      "              precision    recall  f1-score   support\n",
      "\n",
      "           0       0.66      1.00      0.79      4154\n",
      "           1       1.00      0.44      0.61      3870\n",
      "\n",
      "    accuracy                           0.73      8024\n",
      "   macro avg       0.83      0.72      0.70      8024\n",
      "weighted avg       0.82      0.73      0.70      8024\n",
      "\n"
     ]
    }
   ],
   "source": [
    "# Classification report\n",
    "print(classification_report(Y, hierarchical.labels_))"
   ]
  },
  {
   "attachments": {},
   "cell_type": "markdown",
   "metadata": {},
   "source": [
    "<div style=\"line-height:0.65\">\n",
    "<h3> DBSCAN </h3>\n",
    "</div>\n",
    "A density-based clustering algorithm that groups together points that are close to each other in high-density regions,    <br>\n",
    "while marking points in low-density regions as noise."
   ]
  },
  {
   "attachments": {},
   "cell_type": "markdown",
   "metadata": {},
   "source": [
    "    Parameters\n",
    "    ----------\n",
    "    eps : float, default=0.5\n",
    "        The maximum distance between two samples for one to be considered\n",
    "        as in the neighborhood of the other. This is not a maximum bound\n",
    "        on the distances of points within a cluster. This is the most\n",
    "        important DBSCAN parameter to choose appropriately for your data set\n",
    "        and distance function.\n",
    "\n",
    "    min_samples : int, default=5\n",
    "        The number of samples (or total weight) in a neighborhood for a point\n",
    "        to be considered as a core point. This includes the point itself.\n",
    "\n",
    "    metric : str, or callable, default='euclidean'\n",
    "        The metric to use when calculating distance between instances in a\n",
    "        feature array. If metric is a string or callable, it must be one of\n",
    "        the options allowed by :func:`sklearn.metrics.pairwise_distances` for\n",
    "        its metric parameter.\n",
    "        If metric is \"precomputed\", X is assumed to be a distance matrix and\n",
    "        must be square. X may be a :term:`sparse graph`, in which\n",
    "        case only \"nonzero\" elements may be considered neighbors for DBSCAN.\n",
    "\n",
    "        .. versionadded:: 0.17\n",
    "           metric *precomputed* to accept precomputed sparse matrix.\n",
    "\n",
    "    metric_params : dict, default=None\n",
    "        Additional keyword arguments for the metric function.\n",
    "\n",
    "        .. versionadded:: 0.19\n",
    "\n",
    "    algorithm : {'auto', 'ball_tree', 'kd_tree', 'brute'}, default='auto'\n",
    "        The algorithm to be used by the NearestNeighbors module\n",
    "        to compute pointwise distances and find nearest neighbors.\n",
    "        See NearestNeighbors module documentation for details.\n",
    "\n",
    "    leaf_size : int, default=30\n",
    "        Leaf size passed to BallTree or cKDTree. This can affect the speed\n",
    "        of the construction and query, as well as the memory required\n",
    "        to store the tree. The optimal value depends\n",
    "        on the nature of the problem.\n",
    "\n",
    "    p : float, default=None\n",
    "        The power of the Minkowski metric to be used to calculate distance\n",
    "        between points. If None, then ``p=2`` (equivalent to the Euclidean\n",
    "        distance).\n",
    "\n",
    "    n_jobs : int, default=None\n",
    "        The number of parallel jobs to run.\n",
    "        ``None`` means 1 unless in a :obj:`joblib.parallel_backend` context.\n",
    "        ``-1`` means using all processors. See :term:`Glossary <n_jobs>`\n",
    "        for more details."
   ]
  },
  {
   "cell_type": "code",
   "execution_count": 37,
   "metadata": {},
   "outputs": [],
   "source": [
    "\"\"\" DBSCAN clustering (SLOW). \"\"\"\n",
    "dbscan = DBSCAN(eps=0.5, min_samples=5)\n",
    "dbscan.fit(X_scaled); # don't show output"
   ]
  },
  {
   "cell_type": "markdown",
   "metadata": {},
   "source": [
    "<div style=\"line-height:0.45\">\n",
    "<h1 style=\"color:#0AE42F  \">  4) <u> Metrics </u> </h1>\n",
    "</div>"
   ]
  },
  {
   "cell_type": "code",
   "execution_count": 38,
   "metadata": {},
   "outputs": [],
   "source": [
    "# Confusion matrix\n",
    "cm = confusion_matrix(Y, dbscan.labels_)\n",
    "#print(cm) #too long!"
   ]
  },
  {
   "cell_type": "code",
   "execution_count": 42,
   "metadata": {},
   "outputs": [
    {
     "name": "stdout",
     "output_type": "stream",
     "text": [
      "Skipping, just left as a reminder\n"
     ]
    }
   ],
   "source": [
    "%%script echo Skipping, just left as a reminder\n",
    "\"\"\" DBSCAN does not assign all points to a cluster, it is not appropriate to use a confusion matrix to evaluate its performance. \n",
    "The confusion matrix assumes that each data point belongs to exactly one class, which is not the case for DBSCAN. \n",
    "To evaluate the quality of the DBSCAN clustering it is necessary to expoit other metrics, such as the silhouette score or the DB index.\n",
    "\"\"\"\n",
    "plt.figure(figsize=(6,6))\n",
    "seaborn.heatmap(cm, annot=True, cmap='Reds')"
   ]
  },
  {
   "cell_type": "markdown",
   "metadata": {},
   "source": [
    "<h3 style=\"color:#0AE42F \"> Recap: Davies-Bouldin Index </h3>\n",
    "<div style=\"margin-top: -10px;\">\n",
    "\n",
    "The DBI is a metric for evaluating how well a clustering is well-defined. <br>\n",
    "Computes the average similarity measure of each cluster with its most similar cluster. Lower values indicate better clustering solutions.\n",
    "</div>\n",
    "\n",
    "$$ DBI = \\frac{1}{k} \\sum_{i=1}^{k} \\max_{j \\neq i} \\left( \\frac{\\sigma_i + \\sigma_j}{d(c_i, c_j)} \\right) $$\n",
    "\n",
    "Where:\n",
    "- \\( k \\) is the number of clusters\n",
    "- \\( \\sigma_i \\) is the average distance of all points in cluster \\( i \\) to the centroid \\( c_i \\) of cluster \\( i \\)\n",
    "- \\( \\sigma_j \\) is the same for cluster \\( j \\)\n",
    "- \\( d(c_i, c_j) \\) is the distance between centroids \\( c_i \\) and \\( c_j \\)\n"
   ]
  },
  {
   "cell_type": "code",
   "execution_count": 43,
   "metadata": {},
   "outputs": [
    {
     "name": "stdout",
     "output_type": "stream",
     "text": [
      "DBSCAN assigned only one cluster. Cannot compute Silhouette score or DB index.\n"
     ]
    }
   ],
   "source": [
    "\"\"\" Silhouette score metric. (see 'unsup_01_kmeans_1' notebook)\n",
    "N.B.\n",
    "Removed part:\n",
    "# # Calc Silhouette score\n",
    "# score = silhouette_score(X, dbscan.labels_)\n",
    "# # Compute DB index\n",
    "# score = davies_bouldin_score(X, dbscan.labels_)\n",
    "\n",
    "To avoid the \"ValueError: Number of labels is 1. Valid values are 2 to n_samples - 1 (inclusive)\"\n",
    "...check if DBSCAN has assigned more than one cluster before computing the scores.\n",
    "\"\"\"\n",
    "## Fit DBSCAN\n",
    "dbscan = DBSCAN(eps=0.1, min_samples=25)\n",
    "dbscan.fit(X)\n",
    "\n",
    "# Check if DBSCAN assigned more than one cluster (excluding noise)\n",
    "n_clusters = len(set(dbscan.labels_)) - (1 if -1 in dbscan.labels_ else 0)\n",
    "n_noise = list(dbscan.labels_).count(-1)\n",
    "\n",
    "# Check if DBSCAN assigned more than one cluster\n",
    "if len(set(dbscan.labels_)) > 1:\n",
    "    # Compute Silhouette score\n",
    "    silhouette = silhouette_score(X, dbscan.labels_)\n",
    "    # Compute DB index\n",
    "    db_index = davies_bouldin_score(X, dbscan.labels_)\n",
    "    print(\"Silhouette score:\", silhouette)\n",
    "    print(\"DB index:\", db_index)\n",
    "else:\n",
    "    print(\"DBSCAN assigned only one cluster. Cannot compute Silhouette score or DB index.\")\n",
    "    print(f\"DBSCAN found {n_clusters} clusters and {n_noise} noise points.\")"
   ]
  },
  {
   "cell_type": "code",
   "execution_count": 46,
   "metadata": {},
   "outputs": [
    {
     "name": "stdout",
     "output_type": "stream",
     "text": [
      "EPS: 0.1, Min Samples: 5, Clusters: 0, Silhouette: N/A, DB Index: N/A\n",
      "EPS: 0.1, Min Samples: 10, Clusters: 0, Silhouette: N/A, DB Index: N/A\n",
      "EPS: 0.1, Min Samples: 15, Clusters: 0, Silhouette: N/A, DB Index: N/A\n",
      "EPS: 0.1, Min Samples: 20, Clusters: 0, Silhouette: N/A, DB Index: N/A\n",
      "EPS: 0.1, Min Samples: 25, Clusters: 0, Silhouette: N/A, DB Index: N/A\n",
      "EPS: 0.2, Min Samples: 5, Clusters: 0, Silhouette: N/A, DB Index: N/A\n",
      "EPS: 0.2, Min Samples: 10, Clusters: 0, Silhouette: N/A, DB Index: N/A\n",
      "EPS: 0.2, Min Samples: 15, Clusters: 0, Silhouette: N/A, DB Index: N/A\n",
      "EPS: 0.2, Min Samples: 20, Clusters: 0, Silhouette: N/A, DB Index: N/A\n",
      "EPS: 0.2, Min Samples: 25, Clusters: 0, Silhouette: N/A, DB Index: N/A\n",
      "EPS: 0.3, Min Samples: 5, Clusters: 0, Silhouette: N/A, DB Index: N/A\n",
      "EPS: 0.3, Min Samples: 10, Clusters: 0, Silhouette: N/A, DB Index: N/A\n",
      "EPS: 0.3, Min Samples: 15, Clusters: 0, Silhouette: N/A, DB Index: N/A\n",
      "EPS: 0.3, Min Samples: 20, Clusters: 0, Silhouette: N/A, DB Index: N/A\n",
      "EPS: 0.3, Min Samples: 25, Clusters: 0, Silhouette: N/A, DB Index: N/A\n",
      "EPS: 0.5, Min Samples: 5, Clusters: 0, Silhouette: N/A, DB Index: N/A\n",
      "EPS: 0.5, Min Samples: 10, Clusters: 0, Silhouette: N/A, DB Index: N/A\n",
      "EPS: 0.5, Min Samples: 15, Clusters: 0, Silhouette: N/A, DB Index: N/A\n",
      "EPS: 0.5, Min Samples: 20, Clusters: 0, Silhouette: N/A, DB Index: N/A\n",
      "EPS: 0.5, Min Samples: 25, Clusters: 0, Silhouette: N/A, DB Index: N/A\n",
      "EPS: 0.8, Min Samples: 5, Clusters: 0, Silhouette: N/A, DB Index: N/A\n",
      "EPS: 0.8, Min Samples: 10, Clusters: 0, Silhouette: N/A, DB Index: N/A\n",
      "EPS: 0.8, Min Samples: 15, Clusters: 0, Silhouette: N/A, DB Index: N/A\n",
      "EPS: 0.8, Min Samples: 20, Clusters: 0, Silhouette: N/A, DB Index: N/A\n",
      "EPS: 0.8, Min Samples: 25, Clusters: 0, Silhouette: N/A, DB Index: N/A\n",
      "EPS: 1, Min Samples: 5, Clusters: 153, Silhouette: 0.028058801630124794, DB Index: 1.3332768742929322\n",
      "EPS: 1, Min Samples: 10, Clusters: 0, Silhouette: N/A, DB Index: N/A\n",
      "EPS: 1, Min Samples: 15, Clusters: 0, Silhouette: N/A, DB Index: N/A\n",
      "EPS: 1, Min Samples: 20, Clusters: 0, Silhouette: N/A, DB Index: N/A\n",
      "EPS: 1, Min Samples: 25, Clusters: 0, Silhouette: N/A, DB Index: N/A\n",
      "Best Silhouette Score: 0.028058801630124794 with EPS: 1 and Min Samples: 5\n",
      "Best DB Index: 1.3332768742929322 with EPS: 1 and Min Samples: 5\n"
     ]
    }
   ],
   "source": [
    "\"\"\" Use grid search to find better eps and min_samples parameters. \"\"\"\n",
    "eps_values = [0.1, 0.2, 0.3, 0.5, 0.8, 1]\n",
    "min_samples_values = [5, 10, 15, 20, 25]\n",
    "\n",
    "best_silhouette_score = -1\n",
    "best_db_index = float('inf')\n",
    "best_eps = None\n",
    "best_min_samples = None\n",
    "\n",
    "for eps in eps_values:\n",
    "    for min_samples in min_samples_values:\n",
    "        dbscan = DBSCAN(eps=eps, min_samples=min_samples)\n",
    "        dbscan.fit(X)\n",
    "\n",
    "        core_samples_mask = np.zeros_like(dbscan.labels_, dtype=bool)\n",
    "        core_samples_mask[dbscan.core_sample_indices_] = True\n",
    "        labels = dbscan.labels_\n",
    "\n",
    "        # Get the number of clusters in labels, ignoring noise if present.\n",
    "        n_clusters_ = len(set(labels)) - (1 if -1 in labels else 0)\n",
    "        \n",
    "        if n_clusters_ > 1:\n",
    "            silhouette = silhouette_score(X, labels)\n",
    "            db_index = davies_bouldin_score(X, labels)\n",
    "\n",
    "            #### Record the best parameters based on silhouette score\n",
    "            if silhouette > best_silhouette_score:\n",
    "                best_silhouette_score = silhouette\n",
    "                best_eps = eps\n",
    "                best_min_samples = min_samples\n",
    "\n",
    "            #### Record the best parameters based on DB index\n",
    "            if db_index < best_db_index:\n",
    "                best_db_index = db_index\n",
    "                best_eps = eps\n",
    "                best_min_samples = min_samples\n",
    "\n",
    "        print(f'EPS: {eps}, Min Samples: {min_samples}, Clusters: {n_clusters_}, Silhouette: {silhouette if n_clusters_ > 1 else \"N/A\"}, \n",
    "            DB Index: {db_index if n_clusters_ > 1 else \"N/A\"}')\n",
    "\n",
    "print(f'Best Silhouette Score: {best_silhouette_score} with EPS: {best_eps} and Min Samples: {best_min_samples}')\n",
    "print(f'Best DB Index: {best_db_index} with EPS: {best_eps} and Min Samples: {best_min_samples}')"
   ]
  },
  {
   "attachments": {},
   "cell_type": "markdown",
   "metadata": {},
   "source": [
    "If eps param is too large or min_samples is too low,    \n",
    "DBSCAN may assign too many points to the same cluster, resulting in a clustering that is too coarse or granular.\n",
    "\n",
    "\n",
    "\n",
    "If DBSCAN assigned only one cluster, it means that all points are considered as noise or belong to the same cluster     \n",
    "based on the chosen parameters eps and min_samples. This can happen if the data is too sparse or noisy,   \n",
    "or if the parameter values are not appropriate for the data.\n",
    "--> increase min_samples or decrease esp!\n",
    "\n"
   ]
  },
  {
   "cell_type": "markdown",
   "metadata": {},
   "source": [
    "<h3 style=\"color:#0AE42F \"> Recap:  Calinski-Harabasz Score </h3>\n",
    "<div style=\"margin-top: -10px;\">\n",
    "The Calinski-Harabasz score, also known as the Variance Ratio Criterion, is a metric used to evaluate the quality of a clustering. It is a function of the ratio of the sum of between-clusters dispersion and of within-cluster dispersion for all clusters, where dispersion is defined as the sum of distances squared. <br>\n",
    "The score is defined as follows: \n",
    "\n",
    "$$ CH(k) = \\frac{SSB / (k - 1)}{SSW / (n - k)} $$\n",
    "\n",
    "Where:\n",
    "- <b> CH(k) </b>  is the Calinski-Harabasz score for k clusters,\n",
    "- <b> SSB </b>   is the sum of squares between clusters,\n",
    "- <b> SSW </b>   is the sum of squares within clusters,\n",
    "- <b> n </b>  is the number of points in the dataset,\n",
    "- <b> k </b>  is the number of clusters.\n",
    "</div>"
   ]
  },
  {
   "cell_type": "code",
   "execution_count": 49,
   "metadata": {},
   "outputs": [
    {
     "name": "stdout",
     "output_type": "stream",
     "text": [
      "Calinski-Harabasz index: 453.0552420706031\n"
     ]
    }
   ],
   "source": [
    "\"\"\" Try to calculate the 'Calinski-Harabasz index' on another dataset. \"\"\"\n",
    "# Load a dataset\n",
    "X, _ = datasets.make_blobs(n_samples=150, centers=3, cluster_std=0.60, random_state=0)\n",
    "\n",
    "## Perform clustering with KMeans\n",
    "kmeans = KMeans(n_clusters=3, random_state=0).fit(X)\n",
    "labels = kmeans.labels_\n",
    "\n",
    "# Calculate the Calinski-Harabasz index using the labels from KMeans\n",
    "score = calinski_harabasz_score(X, labels)\n",
    "print('Calinski-Harabasz index:', score)\n"
   ]
  },
  {
   "cell_type": "markdown",
   "metadata": {},
   "source": [
    "<h3 style=\"color:#0AE42F \"> Recap: Adjusted Rand Index </h3>\n",
    "<div style=\"margin-top: -10px;\">\n",
    "ARI measures the similarity between two clusters, considering all pairs of samples. \n",
    "It counts pairs that are assigned in the same or different clusters in the predicted and true clusters. <br>\n",
    "The ARI score is then adjusted for chance which makes it suitable for comparing clustering algorithms with a different number of clusters.\n",
    "<br>\n",
    "</div>\n",
    "\n",
    "$$\n",
    "\\text{ARI} = \\frac{\\text{Index} - \\text{Expected Index}}{\\text{Max Index} - \\text{Expected Index}}\n",
    "$$\n",
    "\n",
    "where:\n",
    "\n",
    "$$\n",
    "\\text{Index} = \\sum_{ij} \\binom{n_{ij}}{2}\n",
    "$$\n",
    "\n",
    "$$\n",
    "\\text{Expected Index} = \\frac{\\sum_i \\binom{a_i}{2} \\sum_j \\binom{b_j}{2}}{\\binom{n}{2}}\n",
    "$$\n",
    "\n",
    "$$\n",
    "\\text{Max Index} = \\frac{1}{2} \\left( \\sum_i \\binom{a_i}{2} + \\sum_j \\binom{b_j}{2} \\right)\n",
    "$$\n",
    "\n",
    "$$\n",
    "a_i = \\sum_j n_{ij}, \\quad b_j = \\sum_i n_{ij}, \\quad \\text{and} \\quad \\binom{n}{2} = \\frac{n(n-1)}{2}\n",
    "$$\n",
    "\n",
    "- <b> n_{ij} </b>  is the number of objects that are both in cluster \\( i \\) and in cluster \\( j \\).\n",
    "- <b> a_i </b>  is the number of objects in cluster \\( i \\).\n",
    "- <b> b_j </b>  is the number of objects in cluster \\( j \\).\n",
    "- <b> n </b> is the total number of objects.\n"
   ]
  },
  {
   "cell_type": "code",
   "execution_count": 56,
   "metadata": {},
   "outputs": [
    {
     "name": "stdout",
     "output_type": "stream",
     "text": [
      "Adjusted Rand Index: 0.329\n"
     ]
    }
   ],
   "source": [
    "# Generate a synthetic dataset\n",
    "X, y_true = datasets.make_classification(n_samples=1000, n_features=2, n_informative=2, n_redundant=0, n_clusters_per_class=1, random_state=42)\n",
    "\n",
    "## Apply KMeans clustering \n",
    "kmeans = KMeans(n_clusters=3, random_state=42)\n",
    "y_pred = kmeans.fit_predict(X)\n",
    "\n",
    "# Calculate Adjusted Rand Index (ARI)\n",
    "ari = adjusted_rand_score(y_true, y_pred)\n",
    "print(f\"Adjusted Rand Index: {ari:.3f}\")"
   ]
  },
  {
   "cell_type": "code",
   "execution_count": 57,
   "metadata": {},
   "outputs": [
    {
     "name": "stdout",
     "output_type": "stream",
     "text": [
      "ARI for random labeling: 0.001\n"
     ]
    }
   ],
   "source": [
    "\"\"\" Check how ARI works with a random (not clustered) labeling.\n",
    "When the ARI for random labeling is very close to zero it means that the random labels are almost perfectly random, \n",
    "and any small fluctuations around zero are due to chance. \"\"\"\n",
    "\n",
    "random_labels = np.random.randint(0, 2, size=y_true.shape)\n",
    "ari_random = adjusted_rand_score(y_true, random_labels)\n",
    "print(f\"ARI for random labeling: {ari_random:.3f}\")"
   ]
  },
  {
   "attachments": {},
   "cell_type": "markdown",
   "metadata": {},
   "source": [
    "<div style=\"line-height:0.45\">\n",
    "<h1 style=\"color:#0AE42F  \">  5) <u> PCA solution </u> </h1>\n",
    "</div>\n",
    "Feature extraction"
   ]
  },
  {
   "cell_type": "markdown",
   "metadata": {},
   "source": [
    "<h3 style=\"color:#0AE42F \"> Recap:  PCA </h3>\n",
    "<div style=\"margin-top: -10px;\">\n",
    "Principal Component Analysis, is a dimensionality reduction technique often used to simplify data, improve algorithms’ performance, and remove noise. <br>\n",
    "It transforms a large set of variables into a smaller one that still contains most of the information in the large set by identifying the components that capture the greatest variance in the data. <br> \n",
    "</div>"
   ]
  },
  {
   "cell_type": "code",
   "execution_count": 50,
   "metadata": {},
   "outputs": [
    {
     "data": {
      "text/plain": [
       "array([[-0.56805172, -1.01814435],\n",
       "       [-2.27275249,  0.23691278],\n",
       "       [-1.84584054, -0.30955666],\n",
       "       ...,\n",
       "       [ 3.51264635, -0.75549856],\n",
       "       [ 3.98946466, -0.3610526 ],\n",
       "       [ 3.80284885, -0.96308617]])"
      ]
     },
     "execution_count": 50,
     "metadata": {},
     "output_type": "execute_result"
    }
   ],
   "source": [
    "## Perform PCA\n",
    "pca = PCA(n_components=2)\n",
    "X_pca = pca.fit_transform(X_scaled)\n",
    "X_pca"
   ]
  },
  {
   "cell_type": "code",
   "execution_count": 51,
   "metadata": {},
   "outputs": [
    {
     "data": {
      "image/png": "[encoded data removed]",
      "text/plain": [
       "<Figure size 640x480 with 1 Axes>"
      ]
     },
     "metadata": {},
     "output_type": "display_data"
    }
   ],
   "source": [
    "\"\"\" Perform KMeans on transformed data \n",
    "Pass n_init=10 to KMeans to suppress the FutureWarning: The default value of `n_init` will change from 10 to 'auto' in 1.4. \"\"\"\n",
    "kmeans = KMeans(n_clusters=2, n_init=10)\n",
    "kmeans.fit(X_pca)\n",
    "\n",
    "# Plot results\n",
    "plt.scatter(X_pca[:, 0], X_pca[:, 1], c=kmeans.labels_)\n",
    "plt.scatter(kmeans.cluster_centers_[:, 0], kmeans.cluster_centers_[:, 1], marker='*', s=300, c='r')\n",
    "plt.show()"
   ]
  },
  {
   "cell_type": "code",
   "execution_count": 52,
   "metadata": {},
   "outputs": [
    {
     "name": "stdout",
     "output_type": "stream",
     "text": [
      "[[4034  120]\n",
      " [2166 1704]]\n"
     ]
    },
    {
     "data": {
      "image/png": "[encoded data removed]",
      "text/plain": [
       "<Figure size 600x600 with 2 Axes>"
      ]
     },
     "metadata": {},
     "output_type": "display_data"
    }
   ],
   "source": [
    "# Compute confusion matrix\n",
    "cm = confusion_matrix(Y, kmeans.labels_)\n",
    "print(cm)\n",
    "\n",
    "# Display confusion matrix\n",
    "plt.figure(figsize=(6,6))\n",
    "seaborn.heatmap(cm, annot=True, cmap='coolwarm')\n",
    "plt.show()"
   ]
  },
  {
   "cell_type": "code",
   "execution_count": 53,
   "metadata": {},
   "outputs": [
    {
     "name": "stdout",
     "output_type": "stream",
     "text": [
      "              precision    recall  f1-score   support\n",
      "\n",
      "           0       0.65      0.97      0.78      4154\n",
      "           1       0.93      0.44      0.60      3870\n",
      "\n",
      "    accuracy                           0.72      8024\n",
      "   macro avg       0.79      0.71      0.69      8024\n",
      "weighted avg       0.79      0.72      0.69      8024\n",
      "\n"
     ]
    }
   ],
   "source": [
    "# Compute classification report\n",
    "print(classification_report(Y, kmeans.labels_))"
   ]
  }
 ],
 "metadata": {
  "kernelspec": {
   "display_name": "MLearning",
   "language": "python",
   "name": "python3"
  },
  "language_info": {
   "codemirror_mode": {
    "name": "ipython",
    "version": 3
   },
   "file_extension": ".py",
   "mimetype": "text/x-python",
   "name": "python",
   "nbconvert_exporter": "python",
   "pygments_lexer": "ipython3",
   "version": "3.10.9"
  },
  "orig_nbformat": 4
 },
 "nbformat": 4,
 "nbformat_minor": 2
}
