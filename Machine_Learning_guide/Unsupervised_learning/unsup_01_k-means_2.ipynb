{
 "cells": [
  {
   "cell_type": "markdown",
   "metadata": {},
   "source": [
    "<div style=\"line-height:0.45\">\n",
    "<h1 style=\"color:#0AE42F  \">  K-means method 2 </h1>\n",
    "</div>\n",
    "<div style=\"line-height:0.4\">\n",
    "<h4> 5 solutions for K-Means with sklearn on the mushroom dataset.\n",
    "</h4>\n",
    "<h3 style=\"color:lightblue\"> Keywords: </h3> DBSCAN, AgglomerativeClustering\n",
    "</div>"
   ]
  },
  {
   "cell_type": "code",
   "execution_count": 101,
   "metadata": {},
   "outputs": [],
   "source": [
    "import sys\n",
    "import seaborn\n",
    "import numpy as np \n",
    "import pandas as pd \n",
    "from matplotlib import pyplot as plt\n",
    "\n",
    "from sklearn.preprocessing import LabelEncoder, StandardScaler\n",
    "\n",
    "from sklearn.model_selection import train_test_split\n",
    "from sklearn.model_selection import KFold\n",
    "from sklearn.model_selection import cross_val_score, cross_val_predict\n",
    "\n",
    "from sklearn.neighbors import KNeighborsClassifier\n",
    "from sklearn.cluster import KMeans\n",
    "\n",
    "from sklearn.metrics import accuracy_score\n",
    "from sklearn.metrics import confusion_matrix\n",
    "from sklearn.metrics import silhouette_score\n",
    "from sklearn.metrics import davies_bouldin_score\n",
    "from sklearn.metrics import classification_report\n",
    "\n",
    "from sklearn.cluster import DBSCAN, AgglomerativeClustering\n",
    "\n",
    "from sklearn.decomposition import PCA\n"
   ]
  },
  {
   "cell_type": "code",
   "execution_count": 69,
   "metadata": {},
   "outputs": [
    {
     "name": "stdout",
     "output_type": "stream",
     "text": [
      "1.3.0\n"
     ]
    }
   ],
   "source": [
    "from sklearn import __version__\n",
    "print(__version__)"
   ]
  },
  {
   "attachments": {},
   "cell_type": "markdown",
   "metadata": {},
   "source": [
    "<h3 style=\"color:#0AE42F  \">  Simple Classification with Knn </h3>"
   ]
  },
  {
   "cell_type": "code",
   "execution_count": 70,
   "metadata": {},
   "outputs": [
    {
     "data": {
      "text/html": [
       "<div>\n",
       "<style scoped>\n",
       "    .dataframe tbody tr th:only-of-type {\n",
       "        vertical-align: middle;\n",
       "    }\n",
       "\n",
       "    .dataframe tbody tr th {\n",
       "        vertical-align: top;\n",
       "    }\n",
       "\n",
       "    .dataframe thead th {\n",
       "        text-align: right;\n",
       "    }\n",
       "</style>\n",
       "<table border=\"1\" class=\"dataframe\">\n",
       "  <thead>\n",
       "    <tr style=\"text-align: right;\">\n",
       "      <th></th>\n",
       "      <th>type</th>\n",
       "      <th>cap_shape</th>\n",
       "      <th>cap_surface</th>\n",
       "      <th>cap_color</th>\n",
       "      <th>bruises</th>\n",
       "      <th>odor</th>\n",
       "      <th>gill_attachment</th>\n",
       "      <th>gill_spacing</th>\n",
       "      <th>gill_size</th>\n",
       "      <th>gill_color</th>\n",
       "      <th>...</th>\n",
       "      <th>stalk_surface_below_ring</th>\n",
       "      <th>stalk_color_above_ring</th>\n",
       "      <th>stalk_color_below_ring</th>\n",
       "      <th>veil_type</th>\n",
       "      <th>veil_color</th>\n",
       "      <th>ring_number</th>\n",
       "      <th>ring_type</th>\n",
       "      <th>spore_print_color</th>\n",
       "      <th>population</th>\n",
       "      <th>habitat</th>\n",
       "    </tr>\n",
       "  </thead>\n",
       "  <tbody>\n",
       "    <tr>\n",
       "      <th>0</th>\n",
       "      <td>p</td>\n",
       "      <td>x</td>\n",
       "      <td>s</td>\n",
       "      <td>n</td>\n",
       "      <td>t</td>\n",
       "      <td>p</td>\n",
       "      <td>f</td>\n",
       "      <td>c</td>\n",
       "      <td>n</td>\n",
       "      <td>k</td>\n",
       "      <td>...</td>\n",
       "      <td>s</td>\n",
       "      <td>w</td>\n",
       "      <td>w</td>\n",
       "      <td>p</td>\n",
       "      <td>w</td>\n",
       "      <td>o</td>\n",
       "      <td>p</td>\n",
       "      <td>k</td>\n",
       "      <td>s</td>\n",
       "      <td>u</td>\n",
       "    </tr>\n",
       "    <tr>\n",
       "      <th>1</th>\n",
       "      <td>e</td>\n",
       "      <td>x</td>\n",
       "      <td>s</td>\n",
       "      <td>y</td>\n",
       "      <td>t</td>\n",
       "      <td>a</td>\n",
       "      <td>f</td>\n",
       "      <td>c</td>\n",
       "      <td>b</td>\n",
       "      <td>k</td>\n",
       "      <td>...</td>\n",
       "      <td>s</td>\n",
       "      <td>w</td>\n",
       "      <td>w</td>\n",
       "      <td>p</td>\n",
       "      <td>w</td>\n",
       "      <td>o</td>\n",
       "      <td>p</td>\n",
       "      <td>n</td>\n",
       "      <td>n</td>\n",
       "      <td>g</td>\n",
       "    </tr>\n",
       "    <tr>\n",
       "      <th>2</th>\n",
       "      <td>e</td>\n",
       "      <td>b</td>\n",
       "      <td>s</td>\n",
       "      <td>w</td>\n",
       "      <td>t</td>\n",
       "      <td>l</td>\n",
       "      <td>f</td>\n",
       "      <td>c</td>\n",
       "      <td>b</td>\n",
       "      <td>n</td>\n",
       "      <td>...</td>\n",
       "      <td>s</td>\n",
       "      <td>w</td>\n",
       "      <td>w</td>\n",
       "      <td>p</td>\n",
       "      <td>w</td>\n",
       "      <td>o</td>\n",
       "      <td>p</td>\n",
       "      <td>n</td>\n",
       "      <td>n</td>\n",
       "      <td>m</td>\n",
       "    </tr>\n",
       "    <tr>\n",
       "      <th>3</th>\n",
       "      <td>p</td>\n",
       "      <td>x</td>\n",
       "      <td>y</td>\n",
       "      <td>w</td>\n",
       "      <td>t</td>\n",
       "      <td>p</td>\n",
       "      <td>f</td>\n",
       "      <td>c</td>\n",
       "      <td>n</td>\n",
       "      <td>n</td>\n",
       "      <td>...</td>\n",
       "      <td>s</td>\n",
       "      <td>w</td>\n",
       "      <td>w</td>\n",
       "      <td>p</td>\n",
       "      <td>w</td>\n",
       "      <td>o</td>\n",
       "      <td>p</td>\n",
       "      <td>k</td>\n",
       "      <td>s</td>\n",
       "      <td>u</td>\n",
       "    </tr>\n",
       "    <tr>\n",
       "      <th>4</th>\n",
       "      <td>e</td>\n",
       "      <td>x</td>\n",
       "      <td>s</td>\n",
       "      <td>g</td>\n",
       "      <td>f</td>\n",
       "      <td>n</td>\n",
       "      <td>f</td>\n",
       "      <td>w</td>\n",
       "      <td>b</td>\n",
       "      <td>k</td>\n",
       "      <td>...</td>\n",
       "      <td>s</td>\n",
       "      <td>w</td>\n",
       "      <td>w</td>\n",
       "      <td>p</td>\n",
       "      <td>w</td>\n",
       "      <td>o</td>\n",
       "      <td>e</td>\n",
       "      <td>n</td>\n",
       "      <td>a</td>\n",
       "      <td>g</td>\n",
       "    </tr>\n",
       "  </tbody>\n",
       "</table>\n",
       "<p>5 rows × 23 columns</p>\n",
       "</div>"
      ],
      "text/plain": [
       "  type cap_shape cap_surface cap_color bruises odor gill_attachment  \\\n",
       "0    p         x           s         n       t    p               f   \n",
       "1    e         x           s         y       t    a               f   \n",
       "2    e         b           s         w       t    l               f   \n",
       "3    p         x           y         w       t    p               f   \n",
       "4    e         x           s         g       f    n               f   \n",
       "\n",
       "  gill_spacing gill_size gill_color  ... stalk_surface_below_ring  \\\n",
       "0            c         n          k  ...                        s   \n",
       "1            c         b          k  ...                        s   \n",
       "2            c         b          n  ...                        s   \n",
       "3            c         n          n  ...                        s   \n",
       "4            w         b          k  ...                        s   \n",
       "\n",
       "  stalk_color_above_ring stalk_color_below_ring veil_type veil_color  \\\n",
       "0                      w                      w         p          w   \n",
       "1                      w                      w         p          w   \n",
       "2                      w                      w         p          w   \n",
       "3                      w                      w         p          w   \n",
       "4                      w                      w         p          w   \n",
       "\n",
       "  ring_number ring_type spore_print_color population habitat  \n",
       "0           o         p                 k          s       u  \n",
       "1           o         p                 n          n       g  \n",
       "2           o         p                 n          n       m  \n",
       "3           o         p                 k          s       u  \n",
       "4           o         e                 n          a       g  \n",
       "\n",
       "[5 rows x 23 columns]"
      ]
     },
     "execution_count": 70,
     "metadata": {},
     "output_type": "execute_result"
    }
   ],
   "source": [
    "mush = pd.read_csv('./data_to_use/mushrooms.csv')\n",
    "mush.head()"
   ]
  },
  {
   "cell_type": "code",
   "execution_count": 71,
   "metadata": {},
   "outputs": [
    {
     "name": "stdout",
     "output_type": "stream",
     "text": [
      "<class 'pandas.core.frame.DataFrame'>\n",
      "RangeIndex: 8124 entries, 0 to 8123\n",
      "Data columns (total 23 columns):\n",
      " #   Column                    Non-Null Count  Dtype \n",
      "---  ------                    --------------  ----- \n",
      " 0   type                      8124 non-null   object\n",
      " 1   cap_shape                 8124 non-null   object\n",
      " 2   cap_surface               8124 non-null   object\n",
      " 3   cap_color                 8124 non-null   object\n",
      " 4   bruises                   8124 non-null   object\n",
      " 5   odor                      8124 non-null   object\n",
      " 6   gill_attachment           8124 non-null   object\n",
      " 7   gill_spacing              8124 non-null   object\n",
      " 8   gill_size                 8124 non-null   object\n",
      " 9   gill_color                8124 non-null   object\n",
      " 10  stalk_shape               8124 non-null   object\n",
      " 11  stalk_root                8124 non-null   object\n",
      " 12  stalk_surface_above_ring  8124 non-null   object\n",
      " 13  stalk_surface_below_ring  8124 non-null   object\n",
      " 14  stalk_color_above_ring    8124 non-null   object\n",
      " 15  stalk_color_below_ring    8124 non-null   object\n",
      " 16  veil_type                 8124 non-null   object\n",
      " 17  veil_color                8124 non-null   object\n",
      " 18  ring_number               8124 non-null   object\n",
      " 19  ring_type                 8124 non-null   object\n",
      " 20  spore_print_color         8124 non-null   object\n",
      " 21  population                8124 non-null   object\n",
      " 22  habitat                   8124 non-null   object\n",
      "dtypes: object(23)\n",
      "memory usage: 1.4+ MB\n"
     ]
    }
   ],
   "source": [
    "mush.info()"
   ]
  },
  {
   "cell_type": "code",
   "execution_count": 72,
   "metadata": {},
   "outputs": [
    {
     "data": {
      "text/plain": [
       "type                        object\n",
       "cap_shape                   object\n",
       "cap_surface                 object\n",
       "cap_color                   object\n",
       "bruises                     object\n",
       "odor                        object\n",
       "gill_attachment             object\n",
       "gill_spacing                object\n",
       "gill_size                   object\n",
       "gill_color                  object\n",
       "stalk_shape                 object\n",
       "stalk_root                  object\n",
       "stalk_surface_above_ring    object\n",
       "stalk_surface_below_ring    object\n",
       "stalk_color_above_ring      object\n",
       "stalk_color_below_ring      object\n",
       "veil_type                   object\n",
       "veil_color                  object\n",
       "ring_number                 object\n",
       "ring_type                   object\n",
       "spore_print_color           object\n",
       "population                  object\n",
       "habitat                     object\n",
       "dtype: object"
      ]
     },
     "execution_count": 72,
     "metadata": {},
     "output_type": "execute_result"
    }
   ],
   "source": [
    "mush.dtypes"
   ]
  },
  {
   "cell_type": "code",
   "execution_count": 73,
   "metadata": {},
   "outputs": [
    {
     "data": {
      "text/plain": [
       "type                        0\n",
       "cap_shape                   0\n",
       "cap_surface                 0\n",
       "cap_color                   0\n",
       "bruises                     0\n",
       "odor                        0\n",
       "gill_attachment             0\n",
       "gill_spacing                0\n",
       "gill_size                   0\n",
       "gill_color                  0\n",
       "stalk_shape                 0\n",
       "stalk_root                  0\n",
       "stalk_surface_above_ring    0\n",
       "stalk_surface_below_ring    0\n",
       "stalk_color_above_ring      0\n",
       "stalk_color_below_ring      0\n",
       "veil_type                   0\n",
       "veil_color                  0\n",
       "ring_number                 0\n",
       "ring_type                   0\n",
       "spore_print_color           0\n",
       "population                  0\n",
       "habitat                     0\n",
       "dtype: int64"
      ]
     },
     "execution_count": 73,
     "metadata": {},
     "output_type": "execute_result"
    }
   ],
   "source": [
    "# Check null data\n",
    "mush.isnull().sum()"
   ]
  },
  {
   "cell_type": "code",
   "execution_count": 74,
   "metadata": {},
   "outputs": [
    {
     "data": {
      "image/png": "[encoded data removed]",
      "text/plain": [
       "<Figure size 700x300 with 1 Axes>"
      ]
     },
     "metadata": {},
     "output_type": "display_data"
    }
   ],
   "source": [
    "# Plotting class in bars\n",
    "plt.figure(figsize=(7, 3))\n",
    "plt.bar(mush['type'].value_counts().index, mush['type'].value_counts().values,color=['orange', 'pink'])\n",
    "plt.show()"
   ]
  },
  {
   "cell_type": "code",
   "execution_count": 75,
   "metadata": {},
   "outputs": [
    {
     "data": {
      "text/html": [
       "<div>\n",
       "<style scoped>\n",
       "    .dataframe tbody tr th:only-of-type {\n",
       "        vertical-align: middle;\n",
       "    }\n",
       "\n",
       "    .dataframe tbody tr th {\n",
       "        vertical-align: top;\n",
       "    }\n",
       "\n",
       "    .dataframe thead th {\n",
       "        text-align: right;\n",
       "    }\n",
       "</style>\n",
       "<table border=\"1\" class=\"dataframe\">\n",
       "  <thead>\n",
       "    <tr style=\"text-align: right;\">\n",
       "      <th></th>\n",
       "      <th>type</th>\n",
       "      <th>cap_shape</th>\n",
       "      <th>cap_surface</th>\n",
       "      <th>cap_color</th>\n",
       "      <th>bruises</th>\n",
       "      <th>odor</th>\n",
       "      <th>gill_attachment</th>\n",
       "      <th>gill_spacing</th>\n",
       "      <th>gill_size</th>\n",
       "      <th>gill_color</th>\n",
       "      <th>...</th>\n",
       "      <th>stalk_surface_below_ring</th>\n",
       "      <th>stalk_color_above_ring</th>\n",
       "      <th>stalk_color_below_ring</th>\n",
       "      <th>veil_type</th>\n",
       "      <th>veil_color</th>\n",
       "      <th>ring_number</th>\n",
       "      <th>ring_type</th>\n",
       "      <th>spore_print_color</th>\n",
       "      <th>population</th>\n",
       "      <th>habitat</th>\n",
       "    </tr>\n",
       "  </thead>\n",
       "  <tbody>\n",
       "    <tr>\n",
       "      <th>0</th>\n",
       "      <td>1</td>\n",
       "      <td>5</td>\n",
       "      <td>2</td>\n",
       "      <td>4</td>\n",
       "      <td>1</td>\n",
       "      <td>6</td>\n",
       "      <td>1</td>\n",
       "      <td>0</td>\n",
       "      <td>1</td>\n",
       "      <td>4</td>\n",
       "      <td>...</td>\n",
       "      <td>2</td>\n",
       "      <td>7</td>\n",
       "      <td>7</td>\n",
       "      <td>0</td>\n",
       "      <td>2</td>\n",
       "      <td>1</td>\n",
       "      <td>4</td>\n",
       "      <td>2</td>\n",
       "      <td>3</td>\n",
       "      <td>5</td>\n",
       "    </tr>\n",
       "    <tr>\n",
       "      <th>1</th>\n",
       "      <td>0</td>\n",
       "      <td>5</td>\n",
       "      <td>2</td>\n",
       "      <td>9</td>\n",
       "      <td>1</td>\n",
       "      <td>0</td>\n",
       "      <td>1</td>\n",
       "      <td>0</td>\n",
       "      <td>0</td>\n",
       "      <td>4</td>\n",
       "      <td>...</td>\n",
       "      <td>2</td>\n",
       "      <td>7</td>\n",
       "      <td>7</td>\n",
       "      <td>0</td>\n",
       "      <td>2</td>\n",
       "      <td>1</td>\n",
       "      <td>4</td>\n",
       "      <td>3</td>\n",
       "      <td>2</td>\n",
       "      <td>1</td>\n",
       "    </tr>\n",
       "    <tr>\n",
       "      <th>2</th>\n",
       "      <td>0</td>\n",
       "      <td>0</td>\n",
       "      <td>2</td>\n",
       "      <td>8</td>\n",
       "      <td>1</td>\n",
       "      <td>3</td>\n",
       "      <td>1</td>\n",
       "      <td>0</td>\n",
       "      <td>0</td>\n",
       "      <td>5</td>\n",
       "      <td>...</td>\n",
       "      <td>2</td>\n",
       "      <td>7</td>\n",
       "      <td>7</td>\n",
       "      <td>0</td>\n",
       "      <td>2</td>\n",
       "      <td>1</td>\n",
       "      <td>4</td>\n",
       "      <td>3</td>\n",
       "      <td>2</td>\n",
       "      <td>3</td>\n",
       "    </tr>\n",
       "    <tr>\n",
       "      <th>3</th>\n",
       "      <td>1</td>\n",
       "      <td>5</td>\n",
       "      <td>3</td>\n",
       "      <td>8</td>\n",
       "      <td>1</td>\n",
       "      <td>6</td>\n",
       "      <td>1</td>\n",
       "      <td>0</td>\n",
       "      <td>1</td>\n",
       "      <td>5</td>\n",
       "      <td>...</td>\n",
       "      <td>2</td>\n",
       "      <td>7</td>\n",
       "      <td>7</td>\n",
       "      <td>0</td>\n",
       "      <td>2</td>\n",
       "      <td>1</td>\n",
       "      <td>4</td>\n",
       "      <td>2</td>\n",
       "      <td>3</td>\n",
       "      <td>5</td>\n",
       "    </tr>\n",
       "    <tr>\n",
       "      <th>4</th>\n",
       "      <td>0</td>\n",
       "      <td>5</td>\n",
       "      <td>2</td>\n",
       "      <td>3</td>\n",
       "      <td>0</td>\n",
       "      <td>5</td>\n",
       "      <td>1</td>\n",
       "      <td>1</td>\n",
       "      <td>0</td>\n",
       "      <td>4</td>\n",
       "      <td>...</td>\n",
       "      <td>2</td>\n",
       "      <td>7</td>\n",
       "      <td>7</td>\n",
       "      <td>0</td>\n",
       "      <td>2</td>\n",
       "      <td>1</td>\n",
       "      <td>0</td>\n",
       "      <td>3</td>\n",
       "      <td>0</td>\n",
       "      <td>1</td>\n",
       "    </tr>\n",
       "  </tbody>\n",
       "</table>\n",
       "<p>5 rows × 23 columns</p>\n",
       "</div>"
      ],
      "text/plain": [
       "   type  cap_shape  cap_surface  cap_color  bruises  odor  gill_attachment  \\\n",
       "0     1          5            2          4        1     6                1   \n",
       "1     0          5            2          9        1     0                1   \n",
       "2     0          0            2          8        1     3                1   \n",
       "3     1          5            3          8        1     6                1   \n",
       "4     0          5            2          3        0     5                1   \n",
       "\n",
       "   gill_spacing  gill_size  gill_color  ...  stalk_surface_below_ring  \\\n",
       "0             0          1           4  ...                         2   \n",
       "1             0          0           4  ...                         2   \n",
       "2             0          0           5  ...                         2   \n",
       "3             0          1           5  ...                         2   \n",
       "4             1          0           4  ...                         2   \n",
       "\n",
       "   stalk_color_above_ring  stalk_color_below_ring  veil_type  veil_color  \\\n",
       "0                       7                       7          0           2   \n",
       "1                       7                       7          0           2   \n",
       "2                       7                       7          0           2   \n",
       "3                       7                       7          0           2   \n",
       "4                       7                       7          0           2   \n",
       "\n",
       "   ring_number  ring_type  spore_print_color  population  habitat  \n",
       "0            1          4                  2           3        5  \n",
       "1            1          4                  3           2        1  \n",
       "2            1          4                  3           2        3  \n",
       "3            1          4                  2           3        5  \n",
       "4            1          0                  3           0        1  \n",
       "\n",
       "[5 rows x 23 columns]"
      ]
     },
     "execution_count": 75,
     "metadata": {},
     "output_type": "execute_result"
    }
   ],
   "source": [
    "\"\"\" Data manipulation \"\"\"\n",
    "df = mush.copy()        #better use a copy\n",
    "Lb = LabelEncoder()     #since data has ordinal attributes\n",
    "\n",
    "## Encode all the attributes (including the y labels)\n",
    "for features in df.columns:\n",
    "    df[features] = Lb.fit_transform(df[features])\n",
    "df.head()"
   ]
  },
  {
   "cell_type": "code",
   "execution_count": 76,
   "metadata": {},
   "outputs": [
    {
     "data": {
      "text/plain": [
       "<Axes: xlabel='type'>"
      ]
     },
     "execution_count": 76,
     "metadata": {},
     "output_type": "execute_result"
    },
    {
     "data": {
      "image/png": "[encoded data removed]",
      "text/plain": [
       "<Figure size 640x480 with 1 Axes>"
      ]
     },
     "metadata": {},
     "output_type": "display_data"
    }
   ],
   "source": [
    "# Plot with pandas\n",
    "df[-100:-1][['type']].value_counts().plot(kind='bar')"
   ]
  },
  {
   "cell_type": "code",
   "execution_count": 77,
   "metadata": {},
   "outputs": [],
   "source": [
    "\"\"\" Training \"\"\"\n",
    "X = df.drop(columns=['type'],axis=1)[:-100]    #training vars\n",
    "Y = df['type'][:-100]                          #training classes\n",
    "x = df.drop(columns=['type'], axis=1)[-100:]   #100 samples\n",
    "y = df['type'][-100:] "
   ]
  },
  {
   "cell_type": "markdown",
   "metadata": {},
   "source": [
    "### => 2-Fold cross-validation"
   ]
  },
  {
   "cell_type": "code",
   "execution_count": 78,
   "metadata": {},
   "outputs": [
    {
     "name": "stdout",
     "output_type": "stream",
     "text": [
      "X_before was:    cap_shape  cap_surface  cap_color  bruises  odor  gill_attachment  \\\n",
      "0          5            2          4        1     6                1   \n",
      "1          5            2          9        1     0                1   \n",
      "2          0            2          8        1     3                1   \n",
      "3          5            3          8        1     6                1   \n",
      "4          5            2          3        0     5                1   \n",
      "5          5            3          9        1     0                1   \n",
      "6          0            2          8        1     0                1   \n",
      "7          0            3          8        1     3                1   \n",
      "8          5            3          8        1     6                1   \n",
      "9          0            2          9        1     0                1   \n",
      "\n",
      "   gill_spacing  gill_size  gill_color  stalk_shape  ...  \\\n",
      "0             0          1           4            0  ...   \n",
      "1             0          0           4            0  ...   \n",
      "2             0          0           5            0  ...   \n",
      "3             0          1           5            0  ...   \n",
      "4             1          0           4            1  ...   \n",
      "5             0          0           5            0  ...   \n",
      "6             0          0           2            0  ...   \n",
      "7             0          0           5            0  ...   \n",
      "8             0          1           7            0  ...   \n",
      "9             0          0           2            0  ...   \n",
      "\n",
      "   stalk_surface_below_ring  stalk_color_above_ring  stalk_color_below_ring  \\\n",
      "0                         2                       7                       7   \n",
      "1                         2                       7                       7   \n",
      "2                         2                       7                       7   \n",
      "3                         2                       7                       7   \n",
      "4                         2                       7                       7   \n",
      "5                         2                       7                       7   \n",
      "6                         2                       7                       7   \n",
      "7                         2                       7                       7   \n",
      "8                         2                       7                       7   \n",
      "9                         2                       7                       7   \n",
      "\n",
      "   veil_type  veil_color  ring_number  ring_type  spore_print_color  \\\n",
      "0          0           2            1          4                  2   \n",
      "1          0           2            1          4                  3   \n",
      "2          0           2            1          4                  3   \n",
      "3          0           2            1          4                  2   \n",
      "4          0           2            1          0                  3   \n",
      "5          0           2            1          4                  2   \n",
      "6          0           2            1          4                  2   \n",
      "7          0           2            1          4                  3   \n",
      "8          0           2            1          4                  2   \n",
      "9          0           2            1          4                  2   \n",
      "\n",
      "   population  habitat  \n",
      "0           3        5  \n",
      "1           2        1  \n",
      "2           2        3  \n",
      "3           3        5  \n",
      "4           0        1  \n",
      "5           2        1  \n",
      "6           2        3  \n",
      "7           3        3  \n",
      "8           4        1  \n",
      "9           3        3  \n",
      "\n",
      "[10 rows x 22 columns]\n",
      "X final is : [[5 2 4 1 6 1 0 1 4 0 3 2 2 7 7 0 2 1 4 2 3 5]\n",
      " [5 2 9 1 0 1 0 0 4 0 2 2 2 7 7 0 2 1 4 3 2 1]\n",
      " [0 2 8 1 3 1 0 0 5 0 2 2 2 7 7 0 2 1 4 3 2 3]\n",
      " [5 3 8 1 6 1 0 1 5 0 3 2 2 7 7 0 2 1 4 2 3 5]\n",
      " [5 2 3 0 5 1 1 0 4 1 3 2 2 7 7 0 2 1 0 3 0 1]\n",
      " [5 3 9 1 0 1 0 0 5 0 2 2 2 7 7 0 2 1 4 2 2 1]\n",
      " [0 2 8 1 0 1 0 0 2 0 2 2 2 7 7 0 2 1 4 2 2 3]\n",
      " [0 3 8 1 3 1 0 0 5 0 2 2 2 7 7 0 2 1 4 3 3 3]\n",
      " [5 3 8 1 6 1 0 1 7 0 3 2 2 7 7 0 2 1 4 2 4 1]\n",
      " [0 2 9 1 0 1 0 0 2 0 2 2 2 7 7 0 2 1 4 2 3 3]]\n"
     ]
    },
    {
     "data": {
      "image/png": "[encoded data removed]",
      "text/plain": [
       "<Figure size 640x480 with 1 Axes>"
      ]
     },
     "metadata": {},
     "output_type": "display_data"
    }
   ],
   "source": [
    "\"\"\" Common issue in cross-validation: \n",
    "c_contiguous attribute is missing from a Flags object. \n",
    "It is a requirement for cross_val_score method: The c_contiguous attribute is used to check if an array is stored in C-contiguous order (row-major order), \n",
    "Avoid error converting the X array to C-contiguous order using ascontiguousarray() [X = np array]\n",
    "\"\"\"\n",
    "kfold = KFold(n_splits=2, random_state=42, shuffle=True)\n",
    "train_scores = []\n",
    "\n",
    "### Convert X to C-contiguous order\n",
    "print(f\"X_before was: {X[:10]}\")\n",
    "X = np.ascontiguousarray(X)\n",
    "print(f\"X final is : {X[:10]}\")\n",
    "\n",
    "### Create the classifiers and score them\n",
    "for i in range(2, 11):\n",
    "    knn = KNeighborsClassifier(n_neighbors=i)\n",
    "    cv_result = cross_val_score(knn, X, Y, cv=kfold, scoring=\"accuracy\")\n",
    "    train_scores.append(cv_result.mean())\n",
    "knn_models_performances = pd.DataFrame({'Mean_training_scores':train_scores},index=range(2,11)) \n",
    "\n",
    "###### Display training scores\n",
    "plt.plot(knn_models_performances.Mean_training_scores, color='purple')\n",
    "plt.ylabel('Mean accuracies')\n",
    "plt.xlabel('n_neighbors')\n",
    "plt.title('Accuricies with respect to number of neighbors')\n",
    "plt.show()"
   ]
  },
  {
   "cell_type": "code",
   "execution_count": 79,
   "metadata": {},
   "outputs": [
    {
     "name": "stdout",
     "output_type": "stream",
     "text": [
      "[   1    2    3 ... 8015 8020 8022]\n",
      "[   0    8   12 ... 8019 8021 8023]\n",
      "\n",
      "training_score is: [0.9982552342971087, 0.9992522432701895]\n",
      "testing_score is: [0.9970089730807578, 0.9985044865403788]\n"
     ]
    }
   ],
   "source": [
    "training_score = []\n",
    "testing_score = []\n",
    "# Accuracy has the best result on 2 neighbors\n",
    "knn = KNeighborsClassifier(n_neighbors=2)\n",
    "\n",
    "######## Train the KNN on 2 neighbors\n",
    "for train_index, test_index in kfold.split(X):\n",
    "    print(train_index)\n",
    "    X_train, X_test = X[train_index], X[test_index]     #iloc does not exist in numpy !\n",
    "    Y_train, Y_test = Y[train_index], Y[test_index]\n",
    "    knn.fit(X_train,Y_train)\n",
    "    training_score.append(knn.score(X,Y))\n",
    "    train_predictions = knn.predict(X_test)\n",
    "    testing_score.append(accuracy_score(Y_test, train_predictions))\n",
    "\n",
    "print()\n",
    "print(\"training_score is: {training_score}\".format(training_score=training_score))\n",
    "print(\"testing_score is: {testing_score}\".format(testing_score=testing_score))    "
   ]
  },
  {
   "cell_type": "code",
   "execution_count": 80,
   "metadata": {},
   "outputs": [
    {
     "name": "stdout",
     "output_type": "stream",
     "text": [
      "x before was:       cap_shape  cap_surface  cap_color  bruises  odor  gill_attachment  \\\n",
      "8024          3            3          4        0     2                1   \n",
      "8025          5            2          4        0     5                0   \n",
      "8026          2            2          4        0     5                0   \n",
      "8027          3            3          4        0     2                1   \n",
      "8028          3            2          4        0     2                1   \n",
      "8029          5            0          3        0     5                1   \n",
      "8030          3            2          8        0     5                1   \n",
      "8031          3            3          2        0     2                1   \n",
      "8032          5            2          4        0     2                1   \n",
      "8033          3            3          4        0     2                1   \n",
      "\n",
      "      gill_spacing  gill_size  gill_color  stalk_shape  ...  \\\n",
      "8024             0          1           0            1  ...   \n",
      "8025             0          0          11            0  ...   \n",
      "8026             0          0          11            0  ...   \n",
      "8027             0          1           0            1  ...   \n",
      "8028             0          1           0            1  ...   \n",
      "8029             1          0           2            0  ...   \n",
      "8030             1          0          10            0  ...   \n",
      "8031             0          1           0            1  ...   \n",
      "8032             0          1           0            1  ...   \n",
      "8033             0          1           0            1  ...   \n",
      "\n",
      "      stalk_surface_below_ring  stalk_color_above_ring  \\\n",
      "8024                         2                       6   \n",
      "8025                         2                       5   \n",
      "8026                         2                       5   \n",
      "8027                         2                       6   \n",
      "8028                         2                       6   \n",
      "8029                         2                       7   \n",
      "8030                         1                       7   \n",
      "8031                         1                       6   \n",
      "8032                         2                       7   \n",
      "8033                         2                       6   \n",
      "\n",
      "      stalk_color_below_ring  veil_type  veil_color  ring_number  ring_type  \\\n",
      "8024                       6          0           2            1          0   \n",
      "8025                       5          0           0            1          4   \n",
      "8026                       5          0           0            1          4   \n",
      "8027                       6          0           2            1          0   \n",
      "8028                       7          0           2            1          0   \n",
      "8029                       7          0           2            2          4   \n",
      "8030                       7          0           2            2          4   \n",
      "8031                       6          0           2            1          0   \n",
      "8032                       7          0           2            1          0   \n",
      "8033                       7          0           2            1          0   \n",
      "\n",
      "      spore_print_color  population  habitat  \n",
      "8024                  7           4        0  \n",
      "8025                  8           1        2  \n",
      "8026                  3           4        2  \n",
      "8027                  7           4        2  \n",
      "8028                  7           4        2  \n",
      "8029                  7           2        1  \n",
      "8030                  7           3        1  \n",
      "8031                  7           4        4  \n",
      "8032                  7           4        0  \n",
      "8033                  7           4        2  \n",
      "\n",
      "[10 rows x 22 columns]\n",
      "x final is : [[ 3  3  4  0  2  1  0  1  0  1  0  1  2  6  6  0  2  1  0  7  4  0]\n",
      " [ 5  2  4  0  5  0  0  0 11  0  0  2  2  5  5  0  0  1  4  8  1  2]\n",
      " [ 2  2  4  0  5  0  0  0 11  0  0  2  2  5  5  0  0  1  4  3  4  2]\n",
      " [ 3  3  4  0  2  1  0  1  0  1  0  1  2  6  6  0  2  1  0  7  4  2]\n",
      " [ 3  2  4  0  2  1  0  1  0  1  0  2  2  6  7  0  2  1  0  7  4  2]\n",
      " [ 5  0  3  0  5  1  1  0  2  0  0  2  2  7  7  0  2  2  4  7  2  1]\n",
      " [ 3  2  8  0  5  1  1  0 10  0  0  2  1  7  7  0  2  2  4  7  3  1]\n",
      " [ 3  3  2  0  2  1  0  1  0  1  0  2  1  6  6  0  2  1  0  7  4  4]\n",
      " [ 5  2  4  0  2  1  0  1  0  1  0  2  2  7  7  0  2  1  0  7  4  0]\n",
      " [ 3  3  4  0  2  1  0  1  0  1  0  2  2  6  7  0  2  1  0  7  4  2]]\n",
      "\n",
      "              precision    recall  f1-score   support\n",
      "\n",
      "           0       1.00      1.00      1.00        54\n",
      "           1       1.00      1.00      1.00        46\n",
      "\n",
      "    accuracy                           1.00       100\n",
      "   macro avg       1.00      1.00      1.00       100\n",
      "weighted avg       1.00      1.00      1.00       100\n",
      "\n"
     ]
    },
    {
     "data": {
      "image/png": "[encoded data removed]",
      "text/plain": [
       "<Figure size 640x480 with 2 Axes>"
      ]
     },
     "metadata": {},
     "output_type": "display_data"
    }
   ],
   "source": [
    "\"\"\" Validation \"\"\"\n",
    "### Convert X to C-contiguous order\n",
    "print(f\"x before was: {x[:10]}\")\n",
    "x = np.ascontiguousarray(x)\n",
    "print(f\"x final is : {x[:10]}\")\n",
    "print()\n",
    "\n",
    "# Predict \n",
    "val_predictions = knn.predict(x)\n",
    "# Get Variances and show the confusion_matrix  \n",
    "cm = confusion_matrix(y, val_predictions)\n",
    "seaborn.heatmap(cm, annot=True)\n",
    "# Metrics\n",
    "print(classification_report(y, val_predictions))"
   ]
  },
  {
   "attachments": {},
   "cell_type": "markdown",
   "metadata": {},
   "source": [
    "<h2 style=\"color:#0AE42F  \"> 1) <u> K-means solution </u></h2>"
   ]
  },
  {
   "cell_type": "code",
   "execution_count": 81,
   "metadata": {},
   "outputs": [
    {
     "name": "stdout",
     "output_type": "stream",
     "text": [
      "[[ 187 3967]\n",
      " [1700 2170]]\n"
     ]
    },
    {
     "data": {
      "image/png": "[encoded data removed]",
      "text/plain": [
       "<Figure size 600x600 with 2 Axes>"
      ]
     },
     "metadata": {},
     "output_type": "display_data"
    }
   ],
   "source": [
    "\"\"\" No need to split the data into folds, use training attributes \n",
    "    Params: \n",
    "        * k-means++ : selects initial cluster centroids using sampling based on an empirical probability distribution \n",
    "            of the points’ contribution to the overall inertia. \n",
    "            It speeds up convergence. The implemented algorithm  is “greedy k-means++”. \n",
    "            It differs from the vanilla k-means++ by making several trials at each sampling step and choosing the best centroid among them.\n",
    "            The other options is random : \n",
    "                                choose n_clusters observations (rows) at random from data for the initial centroids.\n",
    "        * n_jobs option has been deprecated after sklearn 0.24.2.. Now all cores are used by default. \n",
    "\"\"\"\n",
    "#kmeans = KMeans(2, init='k-means++', n_init=100, n_jobs=-1) #n_jobs = -1 use all cpus\n",
    "kmeans = KMeans(2, init='k-means++', n_init=100)\n",
    "\n",
    "# Train ...no Y labels\n",
    "kmeans.fit(X) \n",
    "# Calc the confusion matrix with trained labels + training classes \n",
    "cm_1 = confusion_matrix(Y, kmeans.labels_)\n",
    "\n",
    "print(cm_1)"
   ]
  },
  {
   "cell_type": "code",
   "execution_count": null,
   "metadata": {},
   "outputs": [],
   "source": [
    "## Plot\n",
    "plt.figure(figsize=(6,6))\n",
    "seaborn.heatmap(cm_1,annot=True, cmap='PuBu')\n",
    "#plt.show()"
   ]
  },
  {
   "cell_type": "code",
   "execution_count": 82,
   "metadata": {},
   "outputs": [
    {
     "name": "stdout",
     "output_type": "stream",
     "text": [
      "              precision    recall  f1-score   support\n",
      "\n",
      "           0       0.10      0.05      0.06      4154\n",
      "           1       0.35      0.56      0.43      3870\n",
      "\n",
      "    accuracy                           0.29      8024\n",
      "   macro avg       0.23      0.30      0.25      8024\n",
      "weighted avg       0.22      0.29      0.24      8024\n",
      "\n"
     ]
    }
   ],
   "source": [
    "# Classification report of training\n",
    "print(classification_report(Y, kmeans.labels_))"
   ]
  },
  {
   "cell_type": "code",
   "execution_count": 83,
   "metadata": {},
   "outputs": [
    {
     "name": "stdout",
     "output_type": "stream",
     "text": [
      "[[ 5 49]\n",
      " [44  2]]\n"
     ]
    },
    {
     "data": {
      "text/plain": [
       "<Axes: >"
      ]
     },
     "execution_count": 83,
     "metadata": {},
     "output_type": "execute_result"
    },
    {
     "data": {
      "image/png": "[encoded data removed]",
      "text/plain": [
       "<Figure size 640x480 with 2 Axes>"
      ]
     },
     "metadata": {},
     "output_type": "display_data"
    }
   ],
   "source": [
    "# Validation part\n",
    "val_preds = kmeans.predict(x)\n",
    "cm_2 = confusion_matrix(y, val_preds)\n",
    "print(cm_2)\n",
    "\n",
    "seaborn.heatmap(cm_2, annot=True)"
   ]
  },
  {
   "cell_type": "code",
   "execution_count": 84,
   "metadata": {},
   "outputs": [
    {
     "name": "stdout",
     "output_type": "stream",
     "text": [
      "              precision    recall  f1-score   support\n",
      "\n",
      "           0       0.10      0.09      0.10        54\n",
      "           1       0.04      0.04      0.04        46\n",
      "\n",
      "    accuracy                           0.07       100\n",
      "   macro avg       0.07      0.07      0.07       100\n",
      "weighted avg       0.07      0.07      0.07       100\n",
      "\n"
     ]
    }
   ],
   "source": [
    "# Validation results\n",
    "print(classification_report(y, val_preds))"
   ]
  },
  {
   "attachments": {},
   "cell_type": "markdown",
   "metadata": {},
   "source": [
    "<div style=\"line-height:0.62\">\n",
    "<h3 style=\"color:#0AE42F  \"> => Conclusions </h3>\n",
    "The K-means algorithm is not performing well on this dataset.   \n",
    "\n",
    "Possible Adjustments:\n",
    "</div>\n",
    "\n",
    "+ Feature engineering ...Means create new features combining existing ones to better capture the underlying structure of the data.   \n",
    "=> can be useful but not what I want now   \n",
    "+ Scaling  => K-means is sensitive to the scale of the input features. If some features have much larger ranges than others, <br> \n",
    "they can dominate the clustering process.   \n",
    "=> Is want I want! See the results.\n",
    "+ Hyperparameters tuning   \n",
    "+ Change clustering algorithm   \n",
    "+ Perform dimensionality reduction    "
   ]
  },
  {
   "attachments": {},
   "cell_type": "markdown",
   "metadata": {},
   "source": [
    "<h2 style=\"color:#0AE42F  \"> 2) <u> Scaling solution </u></h2>"
   ]
  },
  {
   "cell_type": "code",
   "execution_count": 85,
   "metadata": {},
   "outputs": [
    {
     "name": "stdout",
     "output_type": "stream",
     "text": [
      "[[ 187 3967]\n",
      " [1700 2170]]\n"
     ]
    },
    {
     "data": {
      "image/png": "[encoded data removed]",
      "text/plain": [
       "<Figure size 600x600 with 2 Axes>"
      ]
     },
     "metadata": {},
     "output_type": "display_data"
    }
   ],
   "source": [
    "scaler = StandardScaler()\n",
    "X_scaled = scaler.fit_transform(X)\n",
    "\n",
    "kmeans = KMeans(2, init='k-means++', n_init=100)\n",
    "# Train\n",
    "kmeans.fit(X) \n",
    "cm_1 = confusion_matrix(Y, kmeans.labels_)\n",
    "print(cm_1)\n",
    "plt.figure(figsize=(6,6))\n",
    "seaborn.heatmap(cm_1,annot=True, cmap='Blues')\n",
    "plt.show()"
   ]
  },
  {
   "cell_type": "code",
   "execution_count": 86,
   "metadata": {},
   "outputs": [
    {
     "name": "stdout",
     "output_type": "stream",
     "text": [
      "              precision    recall  f1-score   support\n",
      "\n",
      "           0       0.10      0.05      0.06      4154\n",
      "           1       0.35      0.56      0.43      3870\n",
      "\n",
      "    accuracy                           0.29      8024\n",
      "   macro avg       0.23      0.30      0.25      8024\n",
      "weighted avg       0.22      0.29      0.24      8024\n",
      "\n"
     ]
    }
   ],
   "source": [
    "# Classification report of training\n",
    "print(classification_report(Y, kmeans.labels_))"
   ]
  },
  {
   "cell_type": "code",
   "execution_count": 87,
   "metadata": {},
   "outputs": [
    {
     "name": "stdout",
     "output_type": "stream",
     "text": [
      "[[ 5 49]\n",
      " [44  2]]\n"
     ]
    },
    {
     "data": {
      "text/plain": [
       "<Axes: >"
      ]
     },
     "execution_count": 87,
     "metadata": {},
     "output_type": "execute_result"
    },
    {
     "data": {
      "image/png": "[encoded data removed]",
      "text/plain": [
       "<Figure size 640x480 with 2 Axes>"
      ]
     },
     "metadata": {},
     "output_type": "display_data"
    }
   ],
   "source": [
    "# Validation part\n",
    "val_preds = kmeans.predict(x)\n",
    "cm_2 = confusion_matrix(y,val_preds)\n",
    "print(cm_2)\n",
    "\n",
    "seaborn.heatmap(cm_2, annot=True)"
   ]
  },
  {
   "cell_type": "code",
   "execution_count": 88,
   "metadata": {},
   "outputs": [
    {
     "name": "stdout",
     "output_type": "stream",
     "text": [
      "              precision    recall  f1-score   support\n",
      "\n",
      "           0       0.10      0.09      0.10        54\n",
      "           1       0.04      0.04      0.04        46\n",
      "\n",
      "    accuracy                           0.07       100\n",
      "   macro avg       0.07      0.07      0.07       100\n",
      "weighted avg       0.07      0.07      0.07       100\n",
      "\n"
     ]
    }
   ],
   "source": [
    "# Validation results\n",
    "print(classification_report(y, val_preds))"
   ]
  },
  {
   "attachments": {},
   "cell_type": "markdown",
   "metadata": {},
   "source": [
    "### => Tuning hyperparameters"
   ]
  },
  {
   "cell_type": "code",
   "execution_count": 89,
   "metadata": {},
   "outputs": [
    {
     "name": "stdout",
     "output_type": "stream",
     "text": [
      "k=2, inertia=142032.41964564382\n",
      "k=3, inertia=124073.063839348\n",
      "k=4, inertia=107879.31458723165\n",
      "k=5, inertia=92420.76845975118\n",
      "k=6, inertia=80353.82098090247\n",
      "k=7, inertia=69470.68626651274\n",
      "k=8, inertia=65680.27929786338\n",
      "k=9, inertia=62418.70749402074\n",
      "Inertia with random initialization: 142032.41964564382\n",
      "Inertia with k-means++ initialization: 142032.41964564382\n"
     ]
    }
   ],
   "source": [
    "# Different values of k\n",
    "for k in range(2, 10):\n",
    "    kmeans = KMeans(k, init='k-means++', n_init=100)\n",
    "    kmeans.fit(X_scaled)\n",
    "    print(f\"k={k}, inertia={kmeans.inertia_}\")\n",
    "\n",
    "# try different initialization methods\n",
    "kmeans = KMeans(2, init='random', n_init=100)\n",
    "kmeans.fit(X_scaled)\n",
    "print(f\"Inertia with random initialization: {kmeans.inertia_}\")\n",
    "\n",
    "kmeans = KMeans(2, init='k-means++', n_init=100)\n",
    "kmeans.fit(X_scaled)\n",
    "print(f\"Inertia with k-means++ initialization: {kmeans.inertia_}\")"
   ]
  },
  {
   "attachments": {},
   "cell_type": "markdown",
   "metadata": {},
   "source": [
    "<h2 style=\"color:#0AE42F  \"> 3) <u> Change clustering technique solution </u></h2>"
   ]
  },
  {
   "cell_type": "code",
   "execution_count": 90,
   "metadata": {},
   "outputs": [
    {
     "data": {
      "text/html": [
       "<style>#sk-container-id-2 {color: black;}#sk-container-id-2 pre{padding: 0;}#sk-container-id-2 div.sk-toggleable {background-color: white;}#sk-container-id-2 label.sk-toggleable__label {cursor: pointer;display: block;width: 100%;margin-bottom: 0;padding: 0.3em;box-sizing: border-box;text-align: center;}#sk-container-id-2 label.sk-toggleable__label-arrow:before {content: \"▸\";float: left;margin-right: 0.25em;color: #696969;}#sk-container-id-2 label.sk-toggleable__label-arrow:hover:before {color: black;}#sk-container-id-2 div.sk-estimator:hover label.sk-toggleable__label-arrow:before {color: black;}#sk-container-id-2 div.sk-toggleable__content {max-height: 0;max-width: 0;overflow: hidden;text-align: left;background-color: #f0f8ff;}#sk-container-id-2 div.sk-toggleable__content pre {margin: 0.2em;color: black;border-radius: 0.25em;background-color: #f0f8ff;}#sk-container-id-2 input.sk-toggleable__control:checked~div.sk-toggleable__content {max-height: 200px;max-width: 100%;overflow: auto;}#sk-container-id-2 input.sk-toggleable__control:checked~label.sk-toggleable__label-arrow:before {content: \"▾\";}#sk-container-id-2 div.sk-estimator input.sk-toggleable__control:checked~label.sk-toggleable__label {background-color: #d4ebff;}#sk-container-id-2 div.sk-label input.sk-toggleable__control:checked~label.sk-toggleable__label {background-color: #d4ebff;}#sk-container-id-2 input.sk-hidden--visually {border: 0;clip: rect(1px 1px 1px 1px);clip: rect(1px, 1px, 1px, 1px);height: 1px;margin: -1px;overflow: hidden;padding: 0;position: absolute;width: 1px;}#sk-container-id-2 div.sk-estimator {font-family: monospace;background-color: #f0f8ff;border: 1px dotted black;border-radius: 0.25em;box-sizing: border-box;margin-bottom: 0.5em;}#sk-container-id-2 div.sk-estimator:hover {background-color: #d4ebff;}#sk-container-id-2 div.sk-parallel-item::after {content: \"\";width: 100%;border-bottom: 1px solid gray;flex-grow: 1;}#sk-container-id-2 div.sk-label:hover label.sk-toggleable__label {background-color: #d4ebff;}#sk-container-id-2 div.sk-serial::before {content: \"\";position: absolute;border-left: 1px solid gray;box-sizing: border-box;top: 0;bottom: 0;left: 50%;z-index: 0;}#sk-container-id-2 div.sk-serial {display: flex;flex-direction: column;align-items: center;background-color: white;padding-right: 0.2em;padding-left: 0.2em;position: relative;}#sk-container-id-2 div.sk-item {position: relative;z-index: 1;}#sk-container-id-2 div.sk-parallel {display: flex;align-items: stretch;justify-content: center;background-color: white;position: relative;}#sk-container-id-2 div.sk-item::before, #sk-container-id-2 div.sk-parallel-item::before {content: \"\";position: absolute;border-left: 1px solid gray;box-sizing: border-box;top: 0;bottom: 0;left: 50%;z-index: -1;}#sk-container-id-2 div.sk-parallel-item {display: flex;flex-direction: column;z-index: 1;position: relative;background-color: white;}#sk-container-id-2 div.sk-parallel-item:first-child::after {align-self: flex-end;width: 50%;}#sk-container-id-2 div.sk-parallel-item:last-child::after {align-self: flex-start;width: 50%;}#sk-container-id-2 div.sk-parallel-item:only-child::after {width: 0;}#sk-container-id-2 div.sk-dashed-wrapped {border: 1px dashed gray;margin: 0 0.4em 0.5em 0.4em;box-sizing: border-box;padding-bottom: 0.4em;background-color: white;}#sk-container-id-2 div.sk-label label {font-family: monospace;font-weight: bold;display: inline-block;line-height: 1.2em;}#sk-container-id-2 div.sk-label-container {text-align: center;}#sk-container-id-2 div.sk-container {/* jupyter's `normalize.less` sets `[hidden] { display: none; }` but bootstrap.min.css set `[hidden] { display: none !important; }` so we also need the `!important` here to be able to override the default hidden behavior on the sphinx rendered scikit-learn.org. See: https://github.com/scikit-learn/scikit-learn/issues/21755 */display: inline-block !important;position: relative;}#sk-container-id-2 div.sk-text-repr-fallback {display: none;}</style><div id=\"sk-container-id-2\" class=\"sk-top-container\"><div class=\"sk-text-repr-fallback\"><pre>AgglomerativeClustering()</pre><b>In a Jupyter environment, please rerun this cell to show the HTML representation or trust the notebook. <br />On GitHub, the HTML representation is unable to render, please try loading this page with nbviewer.org.</b></div><div class=\"sk-container\" hidden><div class=\"sk-item\"><div class=\"sk-estimator sk-toggleable\"><input class=\"sk-toggleable__control sk-hidden--visually\" id=\"sk-estimator-id-2\" type=\"checkbox\" checked><label for=\"sk-estimator-id-2\" class=\"sk-toggleable__label sk-toggleable__label-arrow\">AgglomerativeClustering</label><div class=\"sk-toggleable__content\"><pre>AgglomerativeClustering()</pre></div></div></div></div></div>"
      ],
      "text/plain": [
       "AgglomerativeClustering()"
      ]
     },
     "execution_count": 90,
     "metadata": {},
     "output_type": "execute_result"
    }
   ],
   "source": [
    "\"\"\" Hierarchical clustering \"\"\"\n",
    "hierarchical = AgglomerativeClustering(n_clusters=2)\n",
    "hierarchical.fit(X_scaled)"
   ]
  },
  {
   "cell_type": "code",
   "execution_count": 91,
   "metadata": {},
   "outputs": [
    {
     "name": "stdout",
     "output_type": "stream",
     "text": [
      "[[4154    0]\n",
      " [2186 1684]]\n"
     ]
    },
    {
     "data": {
      "text/plain": [
       "<Axes: >"
      ]
     },
     "execution_count": 91,
     "metadata": {},
     "output_type": "execute_result"
    },
    {
     "data": {
      "image/png": "[encoded data removed]",
      "text/plain": [
       "<Figure size 600x600 with 2 Axes>"
      ]
     },
     "metadata": {},
     "output_type": "display_data"
    }
   ],
   "source": [
    "# Confusion matrix\n",
    "cm = confusion_matrix(Y, hierarchical.labels_)\n",
    "print(cm)\n",
    "## Plot\n",
    "plt.figure(figsize=(6,6))\n",
    "seaborn.heatmap(cm, annot=True, cmap='YlGnBu')\n",
    "#plt.show()"
   ]
  },
  {
   "cell_type": "code",
   "execution_count": 92,
   "metadata": {},
   "outputs": [
    {
     "name": "stdout",
     "output_type": "stream",
     "text": [
      "              precision    recall  f1-score   support\n",
      "\n",
      "           0       0.66      1.00      0.79      4154\n",
      "           1       1.00      0.44      0.61      3870\n",
      "\n",
      "    accuracy                           0.73      8024\n",
      "   macro avg       0.83      0.72      0.70      8024\n",
      "weighted avg       0.82      0.73      0.70      8024\n",
      "\n"
     ]
    }
   ],
   "source": [
    "# Classification report\n",
    "print(classification_report(Y, hierarchical.labels_))"
   ]
  },
  {
   "attachments": {},
   "cell_type": "markdown",
   "metadata": {},
   "source": [
    "<div style=\"line-height:0.65\">\n",
    "<h3> DBSCAN </h3>\n",
    "</div>\n",
    "A density-based clustering algorithm that groups together points that are close to each other in high-density regions,    <br>\n",
    "while marking points in low-density regions as noise."
   ]
  },
  {
   "attachments": {},
   "cell_type": "markdown",
   "metadata": {},
   "source": [
    "    Parameters\n",
    "    ----------\n",
    "    eps : float, default=0.5\n",
    "        The maximum distance between two samples for one to be considered\n",
    "        as in the neighborhood of the other. This is not a maximum bound\n",
    "        on the distances of points within a cluster. This is the most\n",
    "        important DBSCAN parameter to choose appropriately for your data set\n",
    "        and distance function.\n",
    "\n",
    "    min_samples : int, default=5\n",
    "        The number of samples (or total weight) in a neighborhood for a point\n",
    "        to be considered as a core point. This includes the point itself.\n",
    "\n",
    "    metric : str, or callable, default='euclidean'\n",
    "        The metric to use when calculating distance between instances in a\n",
    "        feature array. If metric is a string or callable, it must be one of\n",
    "        the options allowed by :func:`sklearn.metrics.pairwise_distances` for\n",
    "        its metric parameter.\n",
    "        If metric is \"precomputed\", X is assumed to be a distance matrix and\n",
    "        must be square. X may be a :term:`sparse graph`, in which\n",
    "        case only \"nonzero\" elements may be considered neighbors for DBSCAN.\n",
    "\n",
    "        .. versionadded:: 0.17\n",
    "           metric *precomputed* to accept precomputed sparse matrix.\n",
    "\n",
    "    metric_params : dict, default=None\n",
    "        Additional keyword arguments for the metric function.\n",
    "\n",
    "        .. versionadded:: 0.19\n",
    "\n",
    "    algorithm : {'auto', 'ball_tree', 'kd_tree', 'brute'}, default='auto'\n",
    "        The algorithm to be used by the NearestNeighbors module\n",
    "        to compute pointwise distances and find nearest neighbors.\n",
    "        See NearestNeighbors module documentation for details.\n",
    "\n",
    "    leaf_size : int, default=30\n",
    "        Leaf size passed to BallTree or cKDTree. This can affect the speed\n",
    "        of the construction and query, as well as the memory required\n",
    "        to store the tree. The optimal value depends\n",
    "        on the nature of the problem.\n",
    "\n",
    "    p : float, default=None\n",
    "        The power of the Minkowski metric to be used to calculate distance\n",
    "        between points. If None, then ``p=2`` (equivalent to the Euclidean\n",
    "        distance).\n",
    "\n",
    "    n_jobs : int, default=None\n",
    "        The number of parallel jobs to run.\n",
    "        ``None`` means 1 unless in a :obj:`joblib.parallel_backend` context.\n",
    "        ``-1`` means using all processors. See :term:`Glossary <n_jobs>`\n",
    "        for more details."
   ]
  },
  {
   "cell_type": "code",
   "execution_count": 93,
   "metadata": {},
   "outputs": [],
   "source": [
    "\"\"\" DBSCAN clustering (SLOW) \"\"\"\n",
    "dbscan = DBSCAN(eps=0.5, min_samples=5)\n",
    "dbscan.fit(X_scaled); #dont show output"
   ]
  },
  {
   "cell_type": "code",
   "execution_count": 94,
   "metadata": {},
   "outputs": [
    {
     "name": "stdout",
     "output_type": "stream",
     "text": [
      "[[   0    0    0 ...    0    0    0]\n",
      " [2578    8    8 ...    6    6    6]\n",
      " [3870    0    0 ...    0    0    0]\n",
      " ...\n",
      " [   0    0    0 ...    0    0    0]\n",
      " [   0    0    0 ...    0    0    0]\n",
      " [   0    0    0 ...    0    0    0]]\n"
     ]
    },
    {
     "data": {
      "text/plain": [
       "<Axes: >"
      ]
     },
     "execution_count": 94,
     "metadata": {},
     "output_type": "execute_result"
    },
    {
     "data": {
      "image/png": "[encoded data removed]",
      "text/plain": [
       "<Figure size 600x600 with 2 Axes>"
      ]
     },
     "metadata": {},
     "output_type": "display_data"
    }
   ],
   "source": [
    "# Confusion matrix\n",
    "cm = confusion_matrix(Y, dbscan.labels_)\n",
    "#print(cm) #too long!"
   ]
  },
  {
   "cell_type": "code",
   "execution_count": null,
   "metadata": {},
   "outputs": [],
   "source": [
    "\"\"\" DBSCAN does not assign all points to a cluster, it is not appropriate to use a confusion matrix to evaluate its performance. \n",
    "The confusion matrix assumes that each data point belongs to exactly one class, which is not the case for DBSCAN. \n",
    "To evaluate the quality of the DBSCAN clustering it is necessary to expoit other metrics, such as the silhouette score or the DB index.\n",
    "\"\"\"\n",
    "#plt.figure(figsize=(6,6))\n",
    "#seaborn.heatmap(cm, annot=True, cmap='Reds')"
   ]
  },
  {
   "cell_type": "code",
   "execution_count": 111,
   "metadata": {},
   "outputs": [
    {
     "name": "stdout",
     "output_type": "stream",
     "text": [
      "DBSCAN assigned only one cluster. Cannot compute Silhouette score or DB index.\n"
     ]
    }
   ],
   "source": [
    "# Silhouette score \n",
    "\"\"\" Silhouette score measures the similarity of each point to its own cluster compared to other clusters,   \n",
    "and ranges from -1 to 1, with higher values indicating better clustering. \n",
    "The DB index measures the compactness and separation of the clusters, and lower values indicate better clustering.\n",
    "\n",
    "Commented block: \n",
    "    To avoid the \"ValueError: Number of labels is 1. Valid values are 2 to n_samples - 1 (inclusive)\"\n",
    "    ...check if DBSCAN has assigned more than one cluster before computing the scores.\n",
    "\"\"\"\n",
    "## Fit DBSCAN\n",
    "dbscan = DBSCAN(eps=0.1, min_samples=25)\n",
    "dbscan.fit(X)\n",
    "\n",
    "# # Calc Silhouette score\n",
    "# score = silhouette_score(X, dbscan.labels_)\n",
    "# # Compute DB index\n",
    "# score = davies_bouldin_score(X, dbscan.labels_)\n",
    "\n",
    "# Check if DBSCAN assigned more than one cluster\n",
    "if len(set(dbscan.labels_)) > 1:\n",
    "    # Compute Silhouette score\n",
    "    silhouette = silhouette_score(X, dbscan.labels_)\n",
    "    # Compute DB index\n",
    "    db_index = davies_bouldin_score(X, dbscan.labels_)\n",
    "    print(\"Silhouette score:\", silhouette)\n",
    "    print(\"DB index:\", db_index)\n",
    "else:\n",
    "    print(\"DBSCAN assigned only one cluster. Cannot compute Silhouette score or DB index.\")"
   ]
  },
  {
   "attachments": {},
   "cell_type": "markdown",
   "metadata": {},
   "source": [
    "If eps param is too large or min_samples is too low,    \n",
    "DBSCAN may assign too many points to the same cluster, resulting in a clustering that is too coarse or granular.\n",
    "\n",
    "\n",
    "\n",
    "If DBSCAN assigned only one cluster, it means that all points are considered as noise or belong to the same cluster     \n",
    "based on the chosen parameters eps and min_samples. This can happen if the data is too sparse or noisy,   \n",
    "or if the parameter values are not appropriate for the data.\n",
    "--> increase min_samples or decrease esp!\n",
    "\n"
   ]
  },
  {
   "attachments": {},
   "cell_type": "markdown",
   "metadata": {},
   "source": [
    "<div style=\"line-height:0.45\">\n",
    "<h1 style=\"color:#0AE42F  \">  5) <u> PCA solution </u> </h1>\n",
    "</div>\n",
    "Feature extraction"
   ]
  },
  {
   "cell_type": "code",
   "execution_count": 96,
   "metadata": {},
   "outputs": [
    {
     "data": {
      "text/plain": [
       "array([[-0.5680522 , -1.0181292 ],\n",
       "       [-2.27275178,  0.23689489],\n",
       "       [-1.84584035, -0.30955972],\n",
       "       ...,\n",
       "       [ 3.51264583, -0.75548067],\n",
       "       [ 3.98946419, -0.36103844],\n",
       "       [ 3.80284877, -0.96308231]])"
      ]
     },
     "execution_count": 96,
     "metadata": {},
     "output_type": "execute_result"
    }
   ],
   "source": [
    "## Perform PCA\n",
    "pca = PCA(n_components=2)\n",
    "X_pca = pca.fit_transform(X_scaled)\n",
    "X_pca"
   ]
  },
  {
   "cell_type": "code",
   "execution_count": 97,
   "metadata": {},
   "outputs": [
    {
     "data": {
      "image/png": "[encoded data removed]",
      "text/plain": [
       "<Figure size 640x480 with 1 Axes>"
      ]
     },
     "metadata": {},
     "output_type": "display_data"
    }
   ],
   "source": [
    "\"\"\" Perform KMeans on transformed data \n",
    "Pass n_init=10 to KMeans to suppress the FutureWarning: The default value of `n_init` will change from 10 to 'auto' in 1.4. \"\"\"\n",
    "kmeans = KMeans(n_clusters=2, n_init=10)\n",
    "kmeans.fit(X_pca)\n",
    "\n",
    "# Plot results\n",
    "plt.scatter(X_pca[:, 0], X_pca[:, 1], c=kmeans.labels_)\n",
    "plt.scatter(kmeans.cluster_centers_[:, 0], kmeans.cluster_centers_[:, 1], marker='*', s=300, c='r')\n",
    "plt.show()"
   ]
  },
  {
   "cell_type": "code",
   "execution_count": 102,
   "metadata": {},
   "outputs": [
    {
     "name": "stdout",
     "output_type": "stream",
     "text": [
      "[[4034  120]\n",
      " [2166 1704]]\n"
     ]
    },
    {
     "data": {
      "image/png": "[encoded data removed]",
      "text/plain": [
       "<Figure size 600x600 with 2 Axes>"
      ]
     },
     "metadata": {},
     "output_type": "display_data"
    }
   ],
   "source": [
    "# Compute confusion matrix\n",
    "cm = confusion_matrix(Y, kmeans.labels_)\n",
    "print(cm)\n",
    "\n",
    "# Display confusion matrix\n",
    "plt.figure(figsize=(6,6))\n",
    "seaborn.heatmap(cm, annot=True, cmap='coolwarm')\n",
    "plt.show()"
   ]
  },
  {
   "cell_type": "code",
   "execution_count": 99,
   "metadata": {},
   "outputs": [
    {
     "name": "stdout",
     "output_type": "stream",
     "text": [
      "              precision    recall  f1-score   support\n",
      "\n",
      "           0       0.65      0.97      0.78      4154\n",
      "           1       0.93      0.44      0.60      3870\n",
      "\n",
      "    accuracy                           0.72      8024\n",
      "   macro avg       0.79      0.71      0.69      8024\n",
      "weighted avg       0.79      0.72      0.69      8024\n",
      "\n"
     ]
    }
   ],
   "source": [
    "# Compute classification report\n",
    "print(classification_report(Y, kmeans.labels_))"
   ]
  }
 ],
 "metadata": {
  "kernelspec": {
   "display_name": "MLearning",
   "language": "python",
   "name": "python3"
  },
  "language_info": {
   "codemirror_mode": {
    "name": "ipython",
    "version": 3
   },
   "file_extension": ".py",
   "mimetype": "text/x-python",
   "name": "python",
   "nbconvert_exporter": "python",
   "pygments_lexer": "ipython3",
   "version": "3.10.11"
  },
  "orig_nbformat": 4
 },
 "nbformat": 4,
 "nbformat_minor": 2
}
