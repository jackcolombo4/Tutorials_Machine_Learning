{
 "cells": [
  {
   "attachments": {},
   "cell_type": "markdown",
   "metadata": {},
   "source": [
    "<div style=\"line-height:0.4\">\n",
    "<h1 style=\"color:#0FCBC6\"> PySpark 2: Datasets, models and regression </h1>\n",
    "<span style=\"display: inline-block;\">\n",
    "    <h3 style=\"color: lightblue; display: inline;\">Keywords:</h3> Encoding + LinearRegression\n",
    "</span>\n",
    "</div>"
   ]
  },
  {
   "cell_type": "code",
   "execution_count": 1,
   "metadata": {},
   "outputs": [],
   "source": [
    "from pyspark.sql import SparkSession\n",
    "from pyspark.ml.feature import StringIndexer, OneHotEncoder, VectorAssembler, StandardScaler\n",
    "from pyspark.ml.classification import LogisticRegression\n",
    "from pyspark.ml import Pipeline\n",
    "from pyspark.sql.functions import isnan, col, when, rand\n",
    "from pyspark.ml.regression import LinearRegression"
   ]
  },
  {
   "cell_type": "code",
   "execution_count": 2,
   "metadata": {},
   "outputs": [
    {
     "name": "stderr",
     "output_type": "stream",
     "text": [
      "23/10/20 23:09:36 WARN Utils: Your hostname, hpmint resolves to a loopback address: 127.0.1.1; using 192.168.1.81 instead (on interface eno1)\n",
      "23/10/20 23:09:36 WARN Utils: Set SPARK_LOCAL_IP if you need to bind to another address\n",
      "Setting default log level to \"WARN\".\n",
      "To adjust logging level use sc.setLogLevel(newLevel). For SparkR, use setLogLevel(newLevel).\n",
      "23/10/20 23:09:37 WARN NativeCodeLoader: Unable to load native-hadoop library for your platform... using builtin-java classes where applicable\n"
     ]
    }
   ],
   "source": [
    "# Create a Spark session\n",
    "spark = SparkSession.builder \\\n",
    "    .appName(\"MLExample2\") \\\n",
    "    .getOrCreate()"
   ]
  },
  {
   "cell_type": "code",
   "execution_count": 5,
   "metadata": {},
   "outputs": [
    {
     "data": {
      "text/plain": [
       "Row(_c0=0, date=datetime.datetime(2020, 2, 24, 18, 0), state='ITA', region_code=13, region='Abruzzo', province_code=69, province='Chieti', province_ISO='CH', lat=42.35103167, long=14.16754574, total_cases=0, note_it=None, note_en=None)"
      ]
     },
     "execution_count": 5,
     "metadata": {},
     "output_type": "execute_result"
    }
   ],
   "source": [
    "# Load data\n",
    "dataset_covid = spark.read.csv(\"./datasets_for_pyspark/covid19-ita-province.csv\", header=True, inferSchema=True)\n",
    "dataset_covid.head()"
   ]
  },
  {
   "cell_type": "code",
   "execution_count": 140,
   "metadata": {},
   "outputs": [],
   "source": [
    "# Remove the first ID column which is useless\n",
    "dataset_covid = dataset_covid.drop(\"_c0\")"
   ]
  },
  {
   "cell_type": "code",
   "execution_count": 141,
   "metadata": {},
   "outputs": [
    {
     "name": "stdout",
     "output_type": "stream",
     "text": [
      "+-------------------+-----+-----------+------------+-------------+--------------------+------------+-----------+------------------+-----------+-------+-------+\n",
      "|               date|state|region_code|      region|province_code|            province|province_ISO|        lat|              long|total_cases|note_it|note_en|\n",
      "+-------------------+-----+-----------+------------+-------------+--------------------+------------+-----------+------------------+-----------+-------+-------+\n",
      "|2020-02-24 18:00:00|  ITA|         13|     Abruzzo|           69|              Chieti|          CH|42.35103167|       14.16754574|          0|   null|   null|\n",
      "|2020-02-24 18:00:00|  ITA|         13|     Abruzzo|           66|            L'Aquila|          AQ|42.35122196|       13.39843823|          0|   null|   null|\n",
      "|2020-02-24 18:00:00|  ITA|         13|     Abruzzo|           68|             Pescara|          PE|42.46458398|       14.21364822|          0|   null|   null|\n",
      "|2020-02-24 18:00:00|  ITA|         13|     Abruzzo|           67|              Teramo|          TE| 42.6589177|       13.70439971|          0|   null|   null|\n",
      "|2020-02-24 18:00:00|  ITA|         13|     Abruzzo|          979|In fase di defini...|        null|        0.0|               0.0|          0|   null|   null|\n",
      "|2020-02-24 18:00:00|  ITA|         17|  Basilicata|           77|              Matera|          MT|40.66751177|       16.59792442|          0|   null|   null|\n",
      "|2020-02-24 18:00:00|  ITA|         17|  Basilicata|           76|             Potenza|          PZ|40.63947052|       15.80514834|          0|   null|   null|\n",
      "|2020-02-24 18:00:00|  ITA|         17|  Basilicata|          980|In fase di defini...|        null|        0.0|               0.0|          0|   null|   null|\n",
      "|2020-02-24 18:00:00|  ITA|          4|P.A. Bolzano|           21|             Bolzano|          BZ|46.49933453|       11.35662422|          0|   null|   null|\n",
      "|2020-02-24 18:00:00|  ITA|          4|P.A. Bolzano|          981|In fase di defini...|        null|        0.0|               0.0|          0|   null|   null|\n",
      "|2020-02-24 18:00:00|  ITA|         18|    Calabria|           79|           Catanzaro|          CZ|38.90597598|       16.59440194|          0|   null|   null|\n",
      "|2020-02-24 18:00:00|  ITA|         18|    Calabria|           78|             Cosenza|          CS|39.29308681|       16.25609692|          0|   null|   null|\n",
      "|2020-02-24 18:00:00|  ITA|         18|    Calabria|          101|             Crotone|          KR|39.08036878|       17.12538864|          0|   null|   null|\n",
      "|2020-02-24 18:00:00|  ITA|         18|    Calabria|           80|  Reggio di Calabria|          RC|38.10922769|15.643452700000001|          0|   null|   null|\n",
      "|2020-02-24 18:00:00|  ITA|         18|    Calabria|          102|       Vibo Valentia|          VV|38.67624147|       16.10157414|          0|   null|   null|\n",
      "|2020-02-24 18:00:00|  ITA|         18|    Calabria|          982|In fase di defini...|        null|        0.0|               0.0|          0|   null|   null|\n",
      "|2020-02-24 18:00:00|  ITA|         15|    Campania|           64|            Avellino|          AV|40.91404699|       14.79528803|          0|   null|   null|\n",
      "|2020-02-24 18:00:00|  ITA|         15|    Campania|           62|           Benevento|          BN|41.12969987|       14.78151683|          0|   null|   null|\n",
      "|2020-02-24 18:00:00|  ITA|         15|    Campania|           61|             Caserta|          CE|41.07465878|       14.33240464|          0|   null|   null|\n",
      "|2020-02-24 18:00:00|  ITA|         15|    Campania|           63|              Napoli|        null|40.83956555|       14.25084984|          0|   null|   null|\n",
      "+-------------------+-----+-----------+------------+-------------+--------------------+------------+-----------+------------------+-----------+-------+-------+\n",
      "only showing top 20 rows\n",
      "\n"
     ]
    }
   ],
   "source": [
    "dataset_covid.show()"
   ]
  },
  {
   "attachments": {},
   "cell_type": "markdown",
   "metadata": {},
   "source": [
    "<h3 style=\"color:#0FCBC6\"> => Prepare features </h3>"
   ]
  },
  {
   "cell_type": "code",
   "execution_count": 142,
   "metadata": {},
   "outputs": [
    {
     "name": "stdout",
     "output_type": "stream",
     "text": [
      "+-------------------+-----+-----------+------------+-------------+--------------------+------------+-----------+------------------+-----------+-------+-------+------------+\n",
      "|               date|state|region_code|      region|province_code|            province|province_ISO|        lat|              long|total_cases|note_it|note_en|    features|\n",
      "+-------------------+-----+-----------+------------+-------------+--------------------+------------+-----------+------------------+-----------+-------+-------+------------+\n",
      "|2020-02-24 18:00:00|  ITA|         13|     Abruzzo|           69|              Chieti|          CH|42.35103167|       14.16754574|          0|   null|   null| [13.0,69.0]|\n",
      "|2020-02-24 18:00:00|  ITA|         13|     Abruzzo|           66|            L'Aquila|          AQ|42.35122196|       13.39843823|          0|   null|   null| [13.0,66.0]|\n",
      "|2020-02-24 18:00:00|  ITA|         13|     Abruzzo|           68|             Pescara|          PE|42.46458398|       14.21364822|          0|   null|   null| [13.0,68.0]|\n",
      "|2020-02-24 18:00:00|  ITA|         13|     Abruzzo|           67|              Teramo|          TE| 42.6589177|       13.70439971|          0|   null|   null| [13.0,67.0]|\n",
      "|2020-02-24 18:00:00|  ITA|         13|     Abruzzo|          979|In fase di defini...|        null|        0.0|               0.0|          0|   null|   null|[13.0,979.0]|\n",
      "|2020-02-24 18:00:00|  ITA|         17|  Basilicata|           77|              Matera|          MT|40.66751177|       16.59792442|          0|   null|   null| [17.0,77.0]|\n",
      "|2020-02-24 18:00:00|  ITA|         17|  Basilicata|           76|             Potenza|          PZ|40.63947052|       15.80514834|          0|   null|   null| [17.0,76.0]|\n",
      "|2020-02-24 18:00:00|  ITA|         17|  Basilicata|          980|In fase di defini...|        null|        0.0|               0.0|          0|   null|   null|[17.0,980.0]|\n",
      "|2020-02-24 18:00:00|  ITA|          4|P.A. Bolzano|           21|             Bolzano|          BZ|46.49933453|       11.35662422|          0|   null|   null|  [4.0,21.0]|\n",
      "|2020-02-24 18:00:00|  ITA|          4|P.A. Bolzano|          981|In fase di defini...|        null|        0.0|               0.0|          0|   null|   null| [4.0,981.0]|\n",
      "|2020-02-24 18:00:00|  ITA|         18|    Calabria|           79|           Catanzaro|          CZ|38.90597598|       16.59440194|          0|   null|   null| [18.0,79.0]|\n",
      "|2020-02-24 18:00:00|  ITA|         18|    Calabria|           78|             Cosenza|          CS|39.29308681|       16.25609692|          0|   null|   null| [18.0,78.0]|\n",
      "|2020-02-24 18:00:00|  ITA|         18|    Calabria|          101|             Crotone|          KR|39.08036878|       17.12538864|          0|   null|   null|[18.0,101.0]|\n",
      "|2020-02-24 18:00:00|  ITA|         18|    Calabria|           80|  Reggio di Calabria|          RC|38.10922769|15.643452700000001|          0|   null|   null| [18.0,80.0]|\n",
      "|2020-02-24 18:00:00|  ITA|         18|    Calabria|          102|       Vibo Valentia|          VV|38.67624147|       16.10157414|          0|   null|   null|[18.0,102.0]|\n",
      "|2020-02-24 18:00:00|  ITA|         18|    Calabria|          982|In fase di defini...|        null|        0.0|               0.0|          0|   null|   null|[18.0,982.0]|\n",
      "|2020-02-24 18:00:00|  ITA|         15|    Campania|           64|            Avellino|          AV|40.91404699|       14.79528803|          0|   null|   null| [15.0,64.0]|\n",
      "|2020-02-24 18:00:00|  ITA|         15|    Campania|           62|           Benevento|          BN|41.12969987|       14.78151683|          0|   null|   null| [15.0,62.0]|\n",
      "|2020-02-24 18:00:00|  ITA|         15|    Campania|           61|             Caserta|          CE|41.07465878|       14.33240464|          0|   null|   null| [15.0,61.0]|\n",
      "|2020-02-24 18:00:00|  ITA|         15|    Campania|           63|              Napoli|        null|40.83956555|       14.25084984|          0|   null|   null| [15.0,63.0]|\n",
      "+-------------------+-----+-----------+------------+-------------+--------------------+------------+-----------+------------------+-----------+-------+-------+------------+\n",
      "only showing top 20 rows\n",
      "\n"
     ]
    }
   ],
   "source": [
    "\"\"\" Combine 2 features into a single feature vector into a single one. Add the new column as last one.\n",
    "N.B.\n",
    "The VectorAssembler is a transformer that takes a set of input columns and combines their values into a single vector column.\n",
    "\"\"\" \n",
    "assembler = VectorAssembler(inputCols=[\"region_code\", \"province_code\"], outputCol=\"features\")\n",
    "dataset_ass = assembler.transform(dataset_covid)\n",
    "\n",
    "dataset_ass.show()"
   ]
  },
  {
   "cell_type": "code",
   "execution_count": 143,
   "metadata": {},
   "outputs": [
    {
     "name": "stdout",
     "output_type": "stream",
     "text": [
      "+-------------------+-----+-----------+------------+-------------+--------------------+------------+-----------+------------------+-----------+-------+-------+\n",
      "|               date|state|region_code|      region|province_code|            province|province_ISO|        lat|              long|total_cases|note_it|note_en|\n",
      "+-------------------+-----+-----------+------------+-------------+--------------------+------------+-----------+------------------+-----------+-------+-------+\n",
      "|2020-02-24 18:00:00|  ITA|         13|     Abruzzo|           69|              Chieti|          CH|42.35103167|       14.16754574|          0|   null|   null|\n",
      "|2020-02-24 18:00:00|  ITA|         13|     Abruzzo|           66|            L'Aquila|          AQ|42.35122196|       13.39843823|          0|   null|   null|\n",
      "|2020-02-24 18:00:00|  ITA|         13|     Abruzzo|           68|             Pescara|          PE|42.46458398|       14.21364822|          0|   null|   null|\n",
      "|2020-02-24 18:00:00|  ITA|         13|     Abruzzo|           67|              Teramo|          TE| 42.6589177|       13.70439971|          0|   null|   null|\n",
      "|2020-02-24 18:00:00|  ITA|         13|     Abruzzo|          979|In fase di defini...|        null|        0.0|               0.0|          0|   null|   null|\n",
      "|2020-02-24 18:00:00|  ITA|         17|  Basilicata|           77|              Matera|          MT|40.66751177|       16.59792442|          0|   null|   null|\n",
      "|2020-02-24 18:00:00|  ITA|         17|  Basilicata|           76|             Potenza|          PZ|40.63947052|       15.80514834|          0|   null|   null|\n",
      "|2020-02-24 18:00:00|  ITA|         17|  Basilicata|          980|In fase di defini...|        null|        0.0|               0.0|          0|   null|   null|\n",
      "|2020-02-24 18:00:00|  ITA|          4|P.A. Bolzano|           21|             Bolzano|          BZ|46.49933453|       11.35662422|          0|   null|   null|\n",
      "|2020-02-24 18:00:00|  ITA|          4|P.A. Bolzano|          981|In fase di defini...|        null|        0.0|               0.0|          0|   null|   null|\n",
      "|2020-02-24 18:00:00|  ITA|         18|    Calabria|           79|           Catanzaro|          CZ|38.90597598|       16.59440194|          0|   null|   null|\n",
      "|2020-02-24 18:00:00|  ITA|         18|    Calabria|           78|             Cosenza|          CS|39.29308681|       16.25609692|          0|   null|   null|\n",
      "|2020-02-24 18:00:00|  ITA|         18|    Calabria|          101|             Crotone|          KR|39.08036878|       17.12538864|          0|   null|   null|\n",
      "|2020-02-24 18:00:00|  ITA|         18|    Calabria|           80|  Reggio di Calabria|          RC|38.10922769|15.643452700000001|          0|   null|   null|\n",
      "|2020-02-24 18:00:00|  ITA|         18|    Calabria|          102|       Vibo Valentia|          VV|38.67624147|       16.10157414|          0|   null|   null|\n",
      "|2020-02-24 18:00:00|  ITA|         18|    Calabria|          982|In fase di defini...|        null|        0.0|               0.0|          0|   null|   null|\n",
      "|2020-02-24 18:00:00|  ITA|         15|    Campania|           64|            Avellino|          AV|40.91404699|       14.79528803|          0|   null|   null|\n",
      "|2020-02-24 18:00:00|  ITA|         15|    Campania|           62|           Benevento|          BN|41.12969987|       14.78151683|          0|   null|   null|\n",
      "|2020-02-24 18:00:00|  ITA|         15|    Campania|           61|             Caserta|          CE|41.07465878|       14.33240464|          0|   null|   null|\n",
      "|2020-02-24 18:00:00|  ITA|         15|    Campania|           63|              Napoli|        null|40.83956555|       14.25084984|          0|   null|   null|\n",
      "+-------------------+-----+-----------+------------+-------------+--------------------+------------+-----------+------------------+-----------+-------+-------+\n",
      "only showing top 20 rows\n",
      "\n"
     ]
    }
   ],
   "source": [
    "# Create a copy of Dataframe\n",
    "copied_covid = dataset_covid.alias(\"copying_data\")\n",
    "copied_covid.show()"
   ]
  },
  {
   "cell_type": "code",
   "execution_count": 144,
   "metadata": {},
   "outputs": [
    {
     "name": "stdout",
     "output_type": "stream",
     "text": [
      "+-----+-----------+-------+-------------+--------+------------+-----------+-----------+-----------+\n",
      "|state|region_code| region|province_code|province|province_ISO|        lat|       long|total_cases|\n",
      "+-----+-----------+-------+-------------+--------+------------+-----------+-----------+-----------+\n",
      "|  ITA|         13|Abruzzo|           69|  Chieti|          CH|42.35103167|14.16754574|          0|\n",
      "|  ITA|         13|Abruzzo|           66|L'Aquila|          AQ|42.35122196|13.39843823|          0|\n",
      "|  ITA|         13|Abruzzo|           68| Pescara|          PE|42.46458398|14.21364822|          0|\n",
      "+-----+-----------+-------+-------------+--------+------------+-----------+-----------+-----------+\n",
      "only showing top 3 rows\n",
      "\n"
     ]
    }
   ],
   "source": [
    "\"\"\" Remove useless columns => note that elements in list that does not exist in the dataframe (like _c0) are ignored. \"\"\"\n",
    "columns_to_exclude = [\"_c0\", \"date\", \"note_it\", \"note_en\"]\n",
    "df_covid = copied_covid.drop(*columns_to_exclude)\n",
    "df_covid.show(n=3)"
   ]
  },
  {
   "attachments": {},
   "cell_type": "markdown",
   "metadata": {},
   "source": [
    "<h3 style=\"color:#0FCBC6\"> => Encoding </h3>\n",
    "<div style=\"margin-top: -17px;\">\n",
    "\n",
    "+ StringIndexer assigns a unique numerical index to each distinct category in a categorical column.    \n",
    "+ OneHotEncoder converts categorical variables into binary vectors (0s and 1s). "
   ]
  },
  {
   "cell_type": "code",
   "execution_count": 145,
   "metadata": {},
   "outputs": [
    {
     "name": "stdout",
     "output_type": "stream",
     "text": [
      "+-----+-----------+------------+-------------+--------------------+------------+-----------+------------------+-----------+----------+\n",
      "|state|region_code|      region|province_code|            province|province_ISO|        lat|              long|total_cases|stateIndex|\n",
      "+-----+-----------+------------+-------------+--------------------+------------+-----------+------------------+-----------+----------+\n",
      "|  ITA|         13|     Abruzzo|           69|              Chieti|          CH|42.35103167|       14.16754574|          0|       0.0|\n",
      "|  ITA|         13|     Abruzzo|           66|            L'Aquila|          AQ|42.35122196|       13.39843823|          0|       0.0|\n",
      "|  ITA|         13|     Abruzzo|           68|             Pescara|          PE|42.46458398|       14.21364822|          0|       0.0|\n",
      "|  ITA|         13|     Abruzzo|           67|              Teramo|          TE| 42.6589177|       13.70439971|          0|       0.0|\n",
      "|  ITA|         13|     Abruzzo|          979|In fase di defini...|        null|        0.0|               0.0|          0|       0.0|\n",
      "|  ITA|         17|  Basilicata|           77|              Matera|          MT|40.66751177|       16.59792442|          0|       0.0|\n",
      "|  ITA|         17|  Basilicata|           76|             Potenza|          PZ|40.63947052|       15.80514834|          0|       0.0|\n",
      "|  ITA|         17|  Basilicata|          980|In fase di defini...|        null|        0.0|               0.0|          0|       0.0|\n",
      "|  ITA|          4|P.A. Bolzano|           21|             Bolzano|          BZ|46.49933453|       11.35662422|          0|       0.0|\n",
      "|  ITA|          4|P.A. Bolzano|          981|In fase di defini...|        null|        0.0|               0.0|          0|       0.0|\n",
      "|  ITA|         18|    Calabria|           79|           Catanzaro|          CZ|38.90597598|       16.59440194|          0|       0.0|\n",
      "|  ITA|         18|    Calabria|           78|             Cosenza|          CS|39.29308681|       16.25609692|          0|       0.0|\n",
      "|  ITA|         18|    Calabria|          101|             Crotone|          KR|39.08036878|       17.12538864|          0|       0.0|\n",
      "|  ITA|         18|    Calabria|           80|  Reggio di Calabria|          RC|38.10922769|15.643452700000001|          0|       0.0|\n",
      "|  ITA|         18|    Calabria|          102|       Vibo Valentia|          VV|38.67624147|       16.10157414|          0|       0.0|\n",
      "|  ITA|         18|    Calabria|          982|In fase di defini...|        null|        0.0|               0.0|          0|       0.0|\n",
      "|  ITA|         15|    Campania|           64|            Avellino|          AV|40.91404699|       14.79528803|          0|       0.0|\n",
      "|  ITA|         15|    Campania|           62|           Benevento|          BN|41.12969987|       14.78151683|          0|       0.0|\n",
      "|  ITA|         15|    Campania|           61|             Caserta|          CE|41.07465878|       14.33240464|          0|       0.0|\n",
      "|  ITA|         15|    Campania|           63|              Napoli|        null|40.83956555|       14.25084984|          0|       0.0|\n",
      "+-----+-----------+------------+-------------+--------------------+------------+-----------+------------------+-----------+----------+\n",
      "only showing top 20 rows\n",
      "\n"
     ]
    }
   ],
   "source": [
    "\"\"\" StringIndexer \"\"\"\n",
    "string_indexer = StringIndexer(inputCol=\"state\", outputCol=\"stateIndex\")\n",
    "# Fit and transform the DataFrame with StringIndexer\n",
    "indexed_df = string_indexer.fit(df_covid).transform(df_covid)\n",
    "indexed_df.show()"
   ]
  },
  {
   "cell_type": "code",
   "execution_count": 146,
   "metadata": {},
   "outputs": [
    {
     "name": "stdout",
     "output_type": "stream",
     "text": [
      "+-----+-----------+-------+-------------+--------+------------+-----------+-----------+-----------+-----------+------------+--------------+------------------+\n",
      "|state|region_code| region|province_code|province|province_ISO|        lat|       long|total_cases|state_index|region_index|province_index|province_ISO_index|\n",
      "+-----+-----------+-------+-------------+--------+------------+-----------+-----------+-----------+-----------+------------+--------------+------------------+\n",
      "|  ITA|         13|Abruzzo|           69|  Chieti|          CH|42.35103167|14.16754574|          0|        0.0|        12.0|          25.0|              22.0|\n",
      "|  ITA|         13|Abruzzo|           66|L'Aquila|          AQ|42.35122196|13.39843823|          0|        0.0|        12.0|          43.0|               5.0|\n",
      "+-----+-----------+-------+-------------+--------+------------+-----------+-----------+-----------+-----------+------------+--------------+------------------+\n",
      "only showing top 2 rows\n",
      "\n"
     ]
    }
   ],
   "source": [
    "# Create a StringIndexer for multiple columns\n",
    "columns_to_index = [\"state\", \"region\", \"province\", \"province_ISO\"]\n",
    "\n",
    "# Create a list of StringIndexer stages\n",
    "indexer_stages = [StringIndexer(inputCol=col, outputCol=col + \"_index\") for col in columns_to_index]\n",
    "\n",
    "# Create a pipeline that applies the StringIndexer stages\n",
    "pipeline = Pipeline(stages=indexer_stages)\n",
    "\n",
    "# Fit and transform the DataFrame using the pipeline\n",
    "indexed_df2 = pipeline.fit(df_covid).transform(df_covid)\n",
    "\n",
    "indexed_df2.show(n=2)"
   ]
  },
  {
   "attachments": {},
   "cell_type": "markdown",
   "metadata": {},
   "source": [
    "<h3 style=\"color:#0FCBC6\"> Recap: </h3>\n",
    "<div style=\"margin-top: -17px;\">\n",
    "\n",
    "Note that, even if the code seem to works, when showing the whole dataframe an error is generated! Due to null values!     \n",
    "`ERROR TaskSetManager: Task 0 in stage 114.0 failed 1 times; aborting job`\n",
    "\n",
    "In this case, we can REPLACE the rows with NULL values in the \"province_ISO\" column for rows with province in \"In fase di definition\" with a dummy value \n"
   ]
  },
  {
   "cell_type": "code",
   "execution_count": 147,
   "metadata": {},
   "outputs": [
    {
     "name": "stdout",
     "output_type": "stream",
     "text": [
      "Columns with NaN values: ['province_ISO']\n"
     ]
    }
   ],
   "source": [
    "nan_columns = [col_name for col_name in df_covid.columns if df_covid.filter(col(col_name).isNull()).count() > 0]\n",
    "print(\"Columns with NaN values:\", nan_columns)"
   ]
  },
  {
   "cell_type": "code",
   "execution_count": 148,
   "metadata": {},
   "outputs": [],
   "source": [
    "dummy_value = \"NA\"\n",
    "df_covid_ok = df_covid.fillna(dummy_value, subset=[\"province_ISO\"])"
   ]
  },
  {
   "cell_type": "code",
   "execution_count": 149,
   "metadata": {},
   "outputs": [
    {
     "name": "stdout",
     "output_type": "stream",
     "text": [
      "Columns with NaN values: []\n"
     ]
    }
   ],
   "source": [
    "nan_columns = [col_name for col_name in df_covid_ok.columns if df_covid_ok.filter(col(col_name).isNull()).count() > 0]\n",
    "print(\"Columns with NaN values:\", nan_columns)"
   ]
  },
  {
   "attachments": {},
   "cell_type": "markdown",
   "metadata": {},
   "source": [
    "<h3 style=\"color:#0FCBC6\"> => Encoding categorical columns </h3>\n",
    "<div style=\"margin-top: -17px;\">\n",
    "StringIndexer is an additive process. <br>\n",
    "It adds new columns with indexed values, but it doesn't automatically drop the original columns. <br>\n",
    "The original columns must be dropped manually."
   ]
  },
  {
   "cell_type": "code",
   "execution_count": 150,
   "metadata": {},
   "outputs": [
    {
     "name": "stdout",
     "output_type": "stream",
     "text": [
      "+-----+-----------+------------+-------------+--------------------+------------+-----------+------------------+-----------+-----------+------------+--------------+------------------+\n",
      "|state|region_code|      region|province_code|            province|province_ISO|        lat|              long|total_cases|state_index|region_index|province_index|province_ISO_index|\n",
      "+-----+-----------+------------+-------------+--------------------+------------+-----------+------------------+-----------+-----------+------------+--------------+------------------+\n",
      "|  ITA|         13|     Abruzzo|           69|              Chieti|          CH|42.35103167|       14.16754574|          0|        0.0|        12.0|          25.0|              23.0|\n",
      "|  ITA|         13|     Abruzzo|           66|            L'Aquila|          AQ|42.35122196|       13.39843823|          0|        0.0|        12.0|          43.0|               6.0|\n",
      "|  ITA|         13|     Abruzzo|           68|             Pescara|          PE|42.46458398|       14.21364822|          0|        0.0|        12.0|          69.0|              64.0|\n",
      "|  ITA|         13|     Abruzzo|           67|              Teramo|          TE| 42.6589177|       13.70439971|          0|        0.0|        12.0|          92.0|              91.0|\n",
      "|  ITA|         13|     Abruzzo|          979|In fase di defini...|          NA|        0.0|               0.0|          0|        0.0|        12.0|           0.0|               0.0|\n",
      "|  ITA|         17|  Basilicata|           77|              Matera|          MT|40.66751177|       16.59792442|          0|        0.0|        15.0|          54.0|              57.0|\n",
      "|  ITA|         17|  Basilicata|           76|             Potenza|          PZ|40.63947052|       15.80514834|          0|        0.0|        15.0|          74.0|              73.0|\n",
      "|  ITA|         17|  Basilicata|          980|In fase di defini...|          NA|        0.0|               0.0|          0|        0.0|        15.0|           0.0|               0.0|\n",
      "|  ITA|          4|P.A. Bolzano|           21|             Bolzano|          BZ|46.49933453|       11.35662422|          0|        0.0|        18.0|          16.0|              19.0|\n",
      "|  ITA|          4|P.A. Bolzano|          981|In fase di defini...|          NA|        0.0|               0.0|          0|        0.0|        18.0|           0.0|               0.0|\n",
      "|  ITA|         18|    Calabria|           79|           Catanzaro|          CZ|38.90597598|       16.59440194|          0|        0.0|         7.0|          24.0|              30.0|\n",
      "|  ITA|         18|    Calabria|           78|             Cosenza|          CS|39.29308681|       16.25609692|          0|        0.0|         7.0|          27.0|              28.0|\n",
      "|  ITA|         18|    Calabria|          101|             Crotone|          KR|39.08036878|       17.12538864|          0|        0.0|         7.0|          29.0|              43.0|\n",
      "|  ITA|         18|    Calabria|           80|  Reggio di Calabria|          RC|38.10922769|15.643452700000001|          0|        0.0|         7.0|          78.0|              75.0|\n",
      "|  ITA|         18|    Calabria|          102|       Vibo Valentia|          VV|38.67624147|       16.10157414|          0|        0.0|         7.0|         105.0|             106.0|\n",
      "|  ITA|         18|    Calabria|          982|In fase di defini...|          NA|        0.0|               0.0|          0|        0.0|         7.0|           0.0|               0.0|\n",
      "|  ITA|         15|    Campania|           64|            Avellino|          AV|40.91404699|       14.79528803|          0|        0.0|         8.0|           8.0|               9.0|\n",
      "|  ITA|         15|    Campania|           62|           Benevento|          BN|41.12969987|       14.78151683|          0|        0.0|         8.0|          12.0|              14.0|\n",
      "|  ITA|         15|    Campania|           61|             Caserta|          CE|41.07465878|       14.33240464|          0|        0.0|         8.0|          22.0|              22.0|\n",
      "|  ITA|         15|    Campania|           63|              Napoli|          NA|40.83956555|       14.25084984|          0|        0.0|         8.0|          59.0|               0.0|\n",
      "+-----+-----------+------------+-------------+--------------------+------------+-----------+------------------+-----------+-----------+------------+--------------+------------------+\n",
      "only showing top 20 rows\n",
      "\n"
     ]
    }
   ],
   "source": [
    "\"\"\" OK now it works! \"\"\"\n",
    "# Create a StringIndexer for multiple columns\n",
    "columns_to_index = [\"state\", \"region\", \"province\", \"province_ISO\"]\n",
    "\n",
    "# Create a list of StringIndexer stages\n",
    "indexer_stages = [StringIndexer(inputCol=col, outputCol=col + \"_index\") for col in columns_to_index]\n",
    "\n",
    "# Create a pipeline that applies the StringIndexer stages\n",
    "pipeline = Pipeline(stages=indexer_stages)\n",
    "\n",
    "# Fit and transform the DataFrame using the pipeline\n",
    "indexed_df2 = pipeline.fit(df_covid_ok).transform(df_covid_ok)\n",
    "\n",
    "indexed_df2.show()"
   ]
  },
  {
   "cell_type": "code",
   "execution_count": 151,
   "metadata": {},
   "outputs": [
    {
     "name": "stdout",
     "output_type": "stream",
     "text": [
      "+-----------+-------------+-----------+------------------+-----------+-----------+------------+--------------+------------------+\n",
      "|region_code|province_code|        lat|              long|total_cases|state_index|region_index|province_index|province_ISO_index|\n",
      "+-----------+-------------+-----------+------------------+-----------+-----------+------------+--------------+------------------+\n",
      "|         13|           69|42.35103167|       14.16754574|          0|        0.0|        12.0|          25.0|              23.0|\n",
      "|         13|           66|42.35122196|       13.39843823|          0|        0.0|        12.0|          43.0|               6.0|\n",
      "|         13|           68|42.46458398|       14.21364822|          0|        0.0|        12.0|          69.0|              64.0|\n",
      "|         13|           67| 42.6589177|       13.70439971|          0|        0.0|        12.0|          92.0|              91.0|\n",
      "|         13|          979|        0.0|               0.0|          0|        0.0|        12.0|           0.0|               0.0|\n",
      "|         17|           77|40.66751177|       16.59792442|          0|        0.0|        15.0|          54.0|              57.0|\n",
      "|         17|           76|40.63947052|       15.80514834|          0|        0.0|        15.0|          74.0|              73.0|\n",
      "|         17|          980|        0.0|               0.0|          0|        0.0|        15.0|           0.0|               0.0|\n",
      "|          4|           21|46.49933453|       11.35662422|          0|        0.0|        18.0|          16.0|              19.0|\n",
      "|          4|          981|        0.0|               0.0|          0|        0.0|        18.0|           0.0|               0.0|\n",
      "|         18|           79|38.90597598|       16.59440194|          0|        0.0|         7.0|          24.0|              30.0|\n",
      "|         18|           78|39.29308681|       16.25609692|          0|        0.0|         7.0|          27.0|              28.0|\n",
      "|         18|          101|39.08036878|       17.12538864|          0|        0.0|         7.0|          29.0|              43.0|\n",
      "|         18|           80|38.10922769|15.643452700000001|          0|        0.0|         7.0|          78.0|              75.0|\n",
      "|         18|          102|38.67624147|       16.10157414|          0|        0.0|         7.0|         105.0|             106.0|\n",
      "|         18|          982|        0.0|               0.0|          0|        0.0|         7.0|           0.0|               0.0|\n",
      "|         15|           64|40.91404699|       14.79528803|          0|        0.0|         8.0|           8.0|               9.0|\n",
      "|         15|           62|41.12969987|       14.78151683|          0|        0.0|         8.0|          12.0|              14.0|\n",
      "|         15|           61|41.07465878|       14.33240464|          0|        0.0|         8.0|          22.0|              22.0|\n",
      "|         15|           63|40.83956555|       14.25084984|          0|        0.0|         8.0|          59.0|               0.0|\n",
      "+-----------+-------------+-----------+------------------+-----------+-----------+------------+--------------+------------------+\n",
      "only showing top 20 rows\n",
      "\n"
     ]
    }
   ],
   "source": [
    "df_to_use = indexed_df2.drop(*columns_to_index)\n",
    "df_to_use.show()"
   ]
  },
  {
   "cell_type": "code",
   "execution_count": 152,
   "metadata": {},
   "outputs": [
    {
     "name": "stdout",
     "output_type": "stream",
     "text": [
      "+-----------+-------------+-----------+------------------+-----------+-----------+------------+--------------+------------------+---------------+\n",
      "|region_code|province_code|        lat|              long|total_cases|state_index|region_index|province_index|province_ISO_index| region_code_ok|\n",
      "+-----------+-------------+-----------+------------------+-----------+-----------+------------+--------------+------------------+---------------+\n",
      "|         13|           69|42.35103167|       14.16754574|          0|        0.0|        12.0|          25.0|              23.0|(21,[13],[1.0])|\n",
      "|         13|           66|42.35122196|       13.39843823|          0|        0.0|        12.0|          43.0|               6.0|(21,[13],[1.0])|\n",
      "|         13|           68|42.46458398|       14.21364822|          0|        0.0|        12.0|          69.0|              64.0|(21,[13],[1.0])|\n",
      "|         13|           67| 42.6589177|       13.70439971|          0|        0.0|        12.0|          92.0|              91.0|(21,[13],[1.0])|\n",
      "|         13|          979|        0.0|               0.0|          0|        0.0|        12.0|           0.0|               0.0|(21,[13],[1.0])|\n",
      "|         17|           77|40.66751177|       16.59792442|          0|        0.0|        15.0|          54.0|              57.0|(21,[17],[1.0])|\n",
      "|         17|           76|40.63947052|       15.80514834|          0|        0.0|        15.0|          74.0|              73.0|(21,[17],[1.0])|\n",
      "|         17|          980|        0.0|               0.0|          0|        0.0|        15.0|           0.0|               0.0|(21,[17],[1.0])|\n",
      "|          4|           21|46.49933453|       11.35662422|          0|        0.0|        18.0|          16.0|              19.0| (21,[4],[1.0])|\n",
      "|          4|          981|        0.0|               0.0|          0|        0.0|        18.0|           0.0|               0.0| (21,[4],[1.0])|\n",
      "|         18|           79|38.90597598|       16.59440194|          0|        0.0|         7.0|          24.0|              30.0|(21,[18],[1.0])|\n",
      "|         18|           78|39.29308681|       16.25609692|          0|        0.0|         7.0|          27.0|              28.0|(21,[18],[1.0])|\n",
      "|         18|          101|39.08036878|       17.12538864|          0|        0.0|         7.0|          29.0|              43.0|(21,[18],[1.0])|\n",
      "|         18|           80|38.10922769|15.643452700000001|          0|        0.0|         7.0|          78.0|              75.0|(21,[18],[1.0])|\n",
      "|         18|          102|38.67624147|       16.10157414|          0|        0.0|         7.0|         105.0|             106.0|(21,[18],[1.0])|\n",
      "|         18|          982|        0.0|               0.0|          0|        0.0|         7.0|           0.0|               0.0|(21,[18],[1.0])|\n",
      "|         15|           64|40.91404699|       14.79528803|          0|        0.0|         8.0|           8.0|               9.0|(21,[15],[1.0])|\n",
      "|         15|           62|41.12969987|       14.78151683|          0|        0.0|         8.0|          12.0|              14.0|(21,[15],[1.0])|\n",
      "|         15|           61|41.07465878|       14.33240464|          0|        0.0|         8.0|          22.0|              22.0|(21,[15],[1.0])|\n",
      "|         15|           63|40.83956555|       14.25084984|          0|        0.0|         8.0|          59.0|               0.0|(21,[15],[1.0])|\n",
      "+-----------+-------------+-----------+------------------+-----------+-----------+------------+--------------+------------------+---------------+\n",
      "only showing top 20 rows\n",
      "\n"
     ]
    }
   ],
   "source": [
    "\"\"\" OneHotEncoder.\n",
    "Before applying it, you need to convert the categorical string column into a numeric column using StringIndexer.\n",
    "\"\"\"\n",
    "onehot_encoder = OneHotEncoder(inputCol=\"region_code\", outputCol=\"region_code_ok\")\n",
    "onehot_encoder.setDropLast(False)\n",
    "# Fit \n",
    "ohe = onehot_encoder.fit(df_to_use)\n",
    "encoded_df = ohe.transform(df_to_use)\n",
    "\n",
    "encoded_df.show()"
   ]
  },
  {
   "cell_type": "code",
   "execution_count": 153,
   "metadata": {},
   "outputs": [
    {
     "name": "stdout",
     "output_type": "stream",
     "text": [
      "+-----------+-------------+-----------+------------------+-----------+------------+--------------+------------------+-----------+\n",
      "|region_code|province_code|        lat|              long|state_index|region_index|province_index|province_ISO_index|total_cases|\n",
      "+-----------+-------------+-----------+------------------+-----------+------------+--------------+------------------+-----------+\n",
      "|         13|           69|42.35103167|       14.16754574|        0.0|        12.0|          25.0|              23.0|          0|\n",
      "|         13|           66|42.35122196|       13.39843823|        0.0|        12.0|          43.0|               6.0|          0|\n",
      "|         13|           68|42.46458398|       14.21364822|        0.0|        12.0|          69.0|              64.0|          0|\n",
      "|         13|           67| 42.6589177|       13.70439971|        0.0|        12.0|          92.0|              91.0|          0|\n",
      "|         13|          979|        0.0|               0.0|        0.0|        12.0|           0.0|               0.0|          0|\n",
      "|         17|           77|40.66751177|       16.59792442|        0.0|        15.0|          54.0|              57.0|          0|\n",
      "|         17|           76|40.63947052|       15.80514834|        0.0|        15.0|          74.0|              73.0|          0|\n",
      "|         17|          980|        0.0|               0.0|        0.0|        15.0|           0.0|               0.0|          0|\n",
      "|          4|           21|46.49933453|       11.35662422|        0.0|        18.0|          16.0|              19.0|          0|\n",
      "|          4|          981|        0.0|               0.0|        0.0|        18.0|           0.0|               0.0|          0|\n",
      "|         18|           79|38.90597598|       16.59440194|        0.0|         7.0|          24.0|              30.0|          0|\n",
      "|         18|           78|39.29308681|       16.25609692|        0.0|         7.0|          27.0|              28.0|          0|\n",
      "|         18|          101|39.08036878|       17.12538864|        0.0|         7.0|          29.0|              43.0|          0|\n",
      "|         18|           80|38.10922769|15.643452700000001|        0.0|         7.0|          78.0|              75.0|          0|\n",
      "|         18|          102|38.67624147|       16.10157414|        0.0|         7.0|         105.0|             106.0|          0|\n",
      "|         18|          982|        0.0|               0.0|        0.0|         7.0|           0.0|               0.0|          0|\n",
      "|         15|           64|40.91404699|       14.79528803|        0.0|         8.0|           8.0|               9.0|          0|\n",
      "|         15|           62|41.12969987|       14.78151683|        0.0|         8.0|          12.0|              14.0|          0|\n",
      "|         15|           61|41.07465878|       14.33240464|        0.0|         8.0|          22.0|              22.0|          0|\n",
      "|         15|           63|40.83956555|       14.25084984|        0.0|         8.0|          59.0|               0.0|          0|\n",
      "+-----------+-------------+-----------+------------------+-----------+------------+--------------+------------------+-----------+\n",
      "only showing top 20 rows\n",
      "\n"
     ]
    }
   ],
   "source": [
    "# Move label feature to the last position\n",
    "\n",
    "column_to_move = \"total_cases\"\n",
    "# Select columns in the desired order\n",
    "ordered_columns = [col for col in df_to_use.columns if col != column_to_move] + [column_to_move]\n",
    "# Reorder the columns\n",
    "df_to_use = df_to_use.select(*ordered_columns)\n",
    "df_to_use.show()"
   ]
  },
  {
   "cell_type": "code",
   "execution_count": 154,
   "metadata": {},
   "outputs": [
    {
     "name": "stderr",
     "output_type": "stream",
     "text": [
      "                                                                                \r"
     ]
    },
    {
     "data": {
      "text/plain": [
       "[496, 148, 2122, 463, 833, 471, 1645, 1591, 2142, 1088]"
      ]
     },
     "execution_count": 154,
     "metadata": {},
     "output_type": "execute_result"
    }
   ],
   "source": [
    "# Get unique values of the specified column\n",
    "col_to_look = \"total_cases\"\n",
    "unique_values_total_case = df_to_use.select(col_to_look).distinct()\n",
    "\n",
    "unique_values_list = unique_values_total_case.rdd.flatMap(lambda x: x).collect()\n",
    "\n",
    "unique_values_list[:10]"
   ]
  },
  {
   "cell_type": "code",
   "execution_count": 155,
   "metadata": {},
   "outputs": [],
   "source": [
    "# Split the DataFrame into train and test sets\n",
    "train_ratio = 0.8  # Ratio for the train set\n",
    "test_ratio = 1 - train_ratio  # Ratio for the test set\n",
    "\n",
    "train_df, test_df = df_to_use.randomSplit([train_ratio, test_ratio], seed=42)"
   ]
  },
  {
   "cell_type": "code",
   "execution_count": 156,
   "metadata": {},
   "outputs": [
    {
     "name": "stdout",
     "output_type": "stream",
     "text": [
      "+-----------+-------------+----------+-----------+-----------+------------+--------------+------------------+-----------+\n",
      "|region_code|province_code|       lat|       long|state_index|region_index|province_index|province_ISO_index|total_cases|\n",
      "+-----------+-------------+----------+-----------+-----------+------------+--------------+------------------+-----------+\n",
      "|          1|            1|45.0732745|7.680687483|        0.0|         4.0|          94.0|              93.0|          0|\n",
      "|          1|            1|45.0732745|7.680687483|        0.0|         4.0|          94.0|              93.0|          2|\n",
      "|          1|            1|45.0732745|7.680687483|        0.0|         4.0|          94.0|              93.0|          3|\n",
      "|          1|            1|45.0732745|7.680687483|        0.0|         4.0|          94.0|              93.0|          6|\n",
      "|          1|            1|45.0732745|7.680687483|        0.0|         4.0|          94.0|              93.0|          7|\n",
      "|          1|            1|45.0732745|7.680687483|        0.0|         4.0|          94.0|              93.0|         11|\n",
      "|          1|            1|45.0732745|7.680687483|        0.0|         4.0|          94.0|              93.0|         19|\n",
      "|          1|            1|45.0732745|7.680687483|        0.0|         4.0|          94.0|              93.0|         34|\n",
      "|          1|            1|45.0732745|7.680687483|        0.0|         4.0|          94.0|              93.0|         49|\n",
      "|          1|            1|45.0732745|7.680687483|        0.0|         4.0|          94.0|              93.0|         55|\n",
      "|          1|            1|45.0732745|7.680687483|        0.0|         4.0|          94.0|              93.0|         89|\n",
      "|          1|            1|45.0732745|7.680687483|        0.0|         4.0|          94.0|              93.0|        111|\n",
      "|          1|            1|45.0732745|7.680687483|        0.0|         4.0|          94.0|              93.0|        159|\n",
      "|          1|            1|45.0732745|7.680687483|        0.0|         4.0|          94.0|              93.0|        187|\n",
      "|          1|            1|45.0732745|7.680687483|        0.0|         4.0|          94.0|              93.0|        305|\n",
      "|          1|            1|45.0732745|7.680687483|        0.0|         4.0|          94.0|              93.0|        359|\n",
      "|          1|            1|45.0732745|7.680687483|        0.0|         4.0|          94.0|              93.0|        542|\n",
      "|          1|            1|45.0732745|7.680687483|        0.0|         4.0|          94.0|              93.0|        749|\n",
      "|          1|            1|45.0732745|7.680687483|        0.0|         4.0|          94.0|              93.0|       1042|\n",
      "|          1|            1|45.0732745|7.680687483|        0.0|         4.0|          94.0|              93.0|       1556|\n",
      "+-----------+-------------+----------+-----------+-----------+------------+--------------+------------------+-----------+\n",
      "only showing top 20 rows\n",
      "\n"
     ]
    }
   ],
   "source": [
    "train_df.show()"
   ]
  },
  {
   "cell_type": "code",
   "execution_count": 157,
   "metadata": {},
   "outputs": [
    {
     "data": {
      "text/plain": [
       "['region_code',\n",
       " 'province_code',\n",
       " 'lat',\n",
       " 'long',\n",
       " 'state_index',\n",
       " 'region_index',\n",
       " 'province_index',\n",
       " 'province_ISO_index',\n",
       " 'total_cases']"
      ]
     },
     "execution_count": 157,
     "metadata": {},
     "output_type": "execute_result"
    }
   ],
   "source": [
    "col_names_feat = train_df.columns\n",
    "col_names_feat"
   ]
  },
  {
   "cell_type": "code",
   "execution_count": 158,
   "metadata": {},
   "outputs": [
    {
     "data": {
      "text/plain": [
       "['region_code',\n",
       " 'province_code',\n",
       " 'lat',\n",
       " 'long',\n",
       " 'state_index',\n",
       " 'region_index',\n",
       " 'province_index',\n",
       " 'province_ISO_index']"
      ]
     },
     "execution_count": 158,
     "metadata": {},
     "output_type": "execute_result"
    }
   ],
   "source": [
    "# Remove target column => total_cases\n",
    "del(col_names_feat[8])\n",
    "col_names_feat\n"
   ]
  },
  {
   "attachments": {},
   "cell_type": "markdown",
   "metadata": {},
   "source": [
    "<h3 style=\"color:#0FCBC6\"> => Linear Regression </h3>\n",
    "<div style=\"margin-top: -17px;\">\n",
    "\n",
    "In PySpark's it is necessary to create the input featuresCol parameter => as a single column containing a vector of values     \n",
    "This is designed to work with Spark's DataFrame structure, where each feature vector is often represented as a single column containing a vector of values.          \n",
    "This approach is consistent with the way Spark handles distributed data processing and allows for more flexibility in data preparation and transformation.    \n",
    "\n",
    "The outputCol you specify in the VectorAssembler is the name of the column that will contain the assembled feature vectors.                       \n",
    "It doesn't necessarily need to already exist in the DataFrame. The new column is created by the VectorAssembler.\n"
   ]
  },
  {
   "cell_type": "code",
   "execution_count": 159,
   "metadata": {},
   "outputs": [
    {
     "name": "stdout",
     "output_type": "stream",
     "text": [
      "+-----------+-------------+----------+-----------+-----------+------------+--------------+------------------+-----------+---------------------+\n",
      "|region_code|province_code|       lat|       long|state_index|region_index|province_index|province_ISO_index|total_cases|new_assembled_feature|\n",
      "+-----------+-------------+----------+-----------+-----------+------------+--------------+------------------+-----------+---------------------+\n",
      "|          1|            1|45.0732745|7.680687483|        0.0|         4.0|          94.0|              93.0|          0| [1.0,1.0,45.07327...|\n",
      "|          1|            1|45.0732745|7.680687483|        0.0|         4.0|          94.0|              93.0|          2| [1.0,1.0,45.07327...|\n",
      "|          1|            1|45.0732745|7.680687483|        0.0|         4.0|          94.0|              93.0|          3| [1.0,1.0,45.07327...|\n",
      "|          1|            1|45.0732745|7.680687483|        0.0|         4.0|          94.0|              93.0|          6| [1.0,1.0,45.07327...|\n",
      "|          1|            1|45.0732745|7.680687483|        0.0|         4.0|          94.0|              93.0|          7| [1.0,1.0,45.07327...|\n",
      "|          1|            1|45.0732745|7.680687483|        0.0|         4.0|          94.0|              93.0|         11| [1.0,1.0,45.07327...|\n",
      "|          1|            1|45.0732745|7.680687483|        0.0|         4.0|          94.0|              93.0|         19| [1.0,1.0,45.07327...|\n",
      "|          1|            1|45.0732745|7.680687483|        0.0|         4.0|          94.0|              93.0|         34| [1.0,1.0,45.07327...|\n",
      "|          1|            1|45.0732745|7.680687483|        0.0|         4.0|          94.0|              93.0|         49| [1.0,1.0,45.07327...|\n",
      "|          1|            1|45.0732745|7.680687483|        0.0|         4.0|          94.0|              93.0|         55| [1.0,1.0,45.07327...|\n",
      "|          1|            1|45.0732745|7.680687483|        0.0|         4.0|          94.0|              93.0|         89| [1.0,1.0,45.07327...|\n",
      "|          1|            1|45.0732745|7.680687483|        0.0|         4.0|          94.0|              93.0|        111| [1.0,1.0,45.07327...|\n",
      "|          1|            1|45.0732745|7.680687483|        0.0|         4.0|          94.0|              93.0|        159| [1.0,1.0,45.07327...|\n",
      "|          1|            1|45.0732745|7.680687483|        0.0|         4.0|          94.0|              93.0|        187| [1.0,1.0,45.07327...|\n",
      "|          1|            1|45.0732745|7.680687483|        0.0|         4.0|          94.0|              93.0|        305| [1.0,1.0,45.07327...|\n",
      "|          1|            1|45.0732745|7.680687483|        0.0|         4.0|          94.0|              93.0|        359| [1.0,1.0,45.07327...|\n",
      "|          1|            1|45.0732745|7.680687483|        0.0|         4.0|          94.0|              93.0|        542| [1.0,1.0,45.07327...|\n",
      "|          1|            1|45.0732745|7.680687483|        0.0|         4.0|          94.0|              93.0|        749| [1.0,1.0,45.07327...|\n",
      "|          1|            1|45.0732745|7.680687483|        0.0|         4.0|          94.0|              93.0|       1042| [1.0,1.0,45.07327...|\n",
      "|          1|            1|45.0732745|7.680687483|        0.0|         4.0|          94.0|              93.0|       1556| [1.0,1.0,45.07327...|\n",
      "+-----------+-------------+----------+-----------+-----------+------------+--------------+------------------+-----------+---------------------+\n",
      "only showing top 20 rows\n",
      "\n"
     ]
    }
   ],
   "source": [
    "assembler = VectorAssembler(inputCols=['region_code',\n",
    "    'province_code',\n",
    "    'lat',\n",
    "    'long',\n",
    "    'state_index',\n",
    "    'region_index',\n",
    "    'province_index',\n",
    "    'province_ISO_index'],\n",
    "    \n",
    "    outputCol=\"new_assembled_feature\")\n",
    "\n",
    "X_train_assembled = assembler.transform(train_df)\n",
    "X_train_assembled.show()"
   ]
  },
  {
   "cell_type": "code",
   "execution_count": 160,
   "metadata": {},
   "outputs": [
    {
     "name": "stdout",
     "output_type": "stream",
     "text": [
      "+---------------------+-----------+\n",
      "|new_assembled_feature|total_cases|\n",
      "+---------------------+-----------+\n",
      "| [1.0,1.0,45.07327...|          0|\n",
      "| [1.0,1.0,45.07327...|          2|\n",
      "| [1.0,1.0,45.07327...|          3|\n",
      "| [1.0,1.0,45.07327...|          6|\n",
      "| [1.0,1.0,45.07327...|          7|\n",
      "| [1.0,1.0,45.07327...|         11|\n",
      "| [1.0,1.0,45.07327...|         19|\n",
      "| [1.0,1.0,45.07327...|         34|\n",
      "| [1.0,1.0,45.07327...|         49|\n",
      "| [1.0,1.0,45.07327...|         55|\n",
      "| [1.0,1.0,45.07327...|         89|\n",
      "| [1.0,1.0,45.07327...|        111|\n",
      "| [1.0,1.0,45.07327...|        159|\n",
      "| [1.0,1.0,45.07327...|        187|\n",
      "| [1.0,1.0,45.07327...|        305|\n",
      "| [1.0,1.0,45.07327...|        359|\n",
      "| [1.0,1.0,45.07327...|        542|\n",
      "| [1.0,1.0,45.07327...|        749|\n",
      "| [1.0,1.0,45.07327...|       1042|\n",
      "| [1.0,1.0,45.07327...|       1556|\n",
      "+---------------------+-----------+\n",
      "only showing top 20 rows\n",
      "\n"
     ]
    }
   ],
   "source": [
    "# Drop the original columns and keep only the features and target columns\n",
    "selected_columns = [\"new_assembled_feature\", \"total_cases\"]\n",
    "train_df_ok = X_train_assembled.select(selected_columns)\n",
    "train_df_ok.show()"
   ]
  },
  {
   "cell_type": "code",
   "execution_count": 161,
   "metadata": {},
   "outputs": [
    {
     "name": "stderr",
     "output_type": "stream",
     "text": [
      "23/08/16 16:24:25 WARN Instrumentation: [165f46f2] regParam is zero, which might cause numerical instability and overfitting.\n",
      "23/08/16 16:24:26 WARN Instrumentation: [165f46f2] Cholesky solver failed due to singular covariance matrix. Retrying with Quasi-Newton solver.\n"
     ]
    }
   ],
   "source": [
    "\"\"\" Create a LinearRegression model \"\"\"\n",
    "#lr = LinearRegression(labelCol=\"total_cases\") #I need to pass andthe target \n",
    "lr = LinearRegression(featuresCol=\"new_assembled_feature\", labelCol=\"total_cases\")\n",
    "#lr = LinearRegression(featuresCol=\"new_assembled_feature\", labelCol=\"total_cases\", regParam=0.01))\n",
    "\n",
    "# Train the model on the training data\n",
    "lr_model = lr.fit(train_df_ok)"
   ]
  },
  {
   "cell_type": "code",
   "execution_count": 162,
   "metadata": {},
   "outputs": [
    {
     "name": "stdout",
     "output_type": "stream",
     "text": [
      "+-----------+-------------+----------+-----------+-----------+------------+--------------+------------------+---------------------+-----------------+\n",
      "|region_code|province_code|       lat|       long|state_index|region_index|province_index|province_ISO_index|new_assembled_feature|       prediction|\n",
      "+-----------+-------------+----------+-----------+-----------+------------+--------------+------------------+---------------------+-----------------+\n",
      "|          1|            2|43.1325615|8.680687483|        0.0|         5.0|          89.0|              88.0| [1.0,2.0,43.13256...|1902.715534136977|\n",
      "+-----------+-------------+----------+-----------+-----------+------------+--------------+------------------+---------------------+-----------------+\n",
      "\n"
     ]
    }
   ],
   "source": [
    "# Make predictions on new data\n",
    "new_data = spark.createDataFrame([(1, 2, 43.1325615, 8.680687483, 0.0, 5.0, 89.0, 88.0)], col_names_feat)\n",
    "new_assembled_data = assembler.transform(new_data)\n",
    "predictions = lr_model.transform(new_assembled_data)\n",
    "\n",
    "# Show the predictions\n",
    "predictions.show()"
   ]
  },
  {
   "cell_type": "code",
   "execution_count": 163,
   "metadata": {},
   "outputs": [
    {
     "name": "stdout",
     "output_type": "stream",
     "text": [
      "+---------------------+-----------+------------------+\n",
      "|new_assembled_feature|total_cases|        prediction|\n",
      "+---------------------+-----------+------------------+\n",
      "| [1.0,1.0,45.07327...|          0|1947.9802392847282|\n",
      "| [1.0,1.0,45.07327...|          2|1947.9802392847282|\n",
      "| [1.0,1.0,45.07327...|          3|1947.9802392847282|\n",
      "| [1.0,1.0,45.07327...|          6|1947.9802392847282|\n",
      "| [1.0,1.0,45.07327...|          7|1947.9802392847282|\n",
      "| [1.0,1.0,45.07327...|         11|1947.9802392847282|\n",
      "| [1.0,1.0,45.07327...|         19|1947.9802392847282|\n",
      "| [1.0,1.0,45.07327...|         34|1947.9802392847282|\n",
      "| [1.0,1.0,45.07327...|         49|1947.9802392847282|\n",
      "| [1.0,1.0,45.07327...|         55|1947.9802392847282|\n",
      "| [1.0,1.0,45.07327...|         89|1947.9802392847282|\n",
      "| [1.0,1.0,45.07327...|        111|1947.9802392847282|\n",
      "| [1.0,1.0,45.07327...|        159|1947.9802392847282|\n",
      "| [1.0,1.0,45.07327...|        187|1947.9802392847282|\n",
      "| [1.0,1.0,45.07327...|        305|1947.9802392847282|\n",
      "| [1.0,1.0,45.07327...|        359|1947.9802392847282|\n",
      "| [1.0,1.0,45.07327...|        542|1947.9802392847282|\n",
      "| [1.0,1.0,45.07327...|        749|1947.9802392847282|\n",
      "| [1.0,1.0,45.07327...|       1042|1947.9802392847282|\n",
      "| [1.0,1.0,45.07327...|       1556|1947.9802392847282|\n",
      "+---------------------+-----------+------------------+\n",
      "only showing top 20 rows\n",
      "\n"
     ]
    }
   ],
   "source": [
    "# Make predictions on the test data\n",
    "predictions = lr_model.transform(train_df_ok)\n",
    "\n",
    "# Show the predictions\n",
    "predictions.show()"
   ]
  },
  {
   "attachments": {},
   "cell_type": "markdown",
   "metadata": {},
   "source": [
    "<h3 style=\"color:#0FCBC6\"> => Retry with Normalization </h3>"
   ]
  },
  {
   "cell_type": "code",
   "execution_count": 168,
   "metadata": {},
   "outputs": [
    {
     "data": {
      "text/plain": [
       "pyspark.ml.feature.StandardScaler"
      ]
     },
     "execution_count": 168,
     "metadata": {},
     "output_type": "execute_result"
    }
   ],
   "source": [
    "scaler = StandardScaler(inputCol=\"new_assembled_feature\", outputCol=\"scaled_assembled_features\", withStd=True, withMean=True)\n",
    "type(scaler)"
   ]
  },
  {
   "cell_type": "code",
   "execution_count": 169,
   "metadata": {},
   "outputs": [],
   "source": [
    "pipeline = Pipeline(stages=[assembler, scaler])"
   ]
  },
  {
   "cell_type": "code",
   "execution_count": 170,
   "metadata": {},
   "outputs": [
    {
     "name": "stdout",
     "output_type": "stream",
     "text": [
      "+-----------+-------------+----------+-----------+-----------+------------+--------------+------------------+-----------+---------------------+-------------------------+\n",
      "|region_code|province_code|       lat|       long|state_index|region_index|province_index|province_ISO_index|total_cases|new_assembled_feature|scaled_assembled_features|\n",
      "+-----------+-------------+----------+-----------+-----------+------------+--------------+------------------+-----------+---------------------+-------------------------+\n",
      "|          1|            1|45.0732745|7.680687483|        0.0|         4.0|          94.0|              93.0|          0| [1.0,1.0,45.07327...|     [-1.5339445285816...|\n",
      "|          1|            1|45.0732745|7.680687483|        0.0|         4.0|          94.0|              93.0|          2| [1.0,1.0,45.07327...|     [-1.5339445285816...|\n",
      "|          1|            1|45.0732745|7.680687483|        0.0|         4.0|          94.0|              93.0|          3| [1.0,1.0,45.07327...|     [-1.5339445285816...|\n",
      "|          1|            1|45.0732745|7.680687483|        0.0|         4.0|          94.0|              93.0|          6| [1.0,1.0,45.07327...|     [-1.5339445285816...|\n",
      "|          1|            1|45.0732745|7.680687483|        0.0|         4.0|          94.0|              93.0|          7| [1.0,1.0,45.07327...|     [-1.5339445285816...|\n",
      "|          1|            1|45.0732745|7.680687483|        0.0|         4.0|          94.0|              93.0|         11| [1.0,1.0,45.07327...|     [-1.5339445285816...|\n",
      "|          1|            1|45.0732745|7.680687483|        0.0|         4.0|          94.0|              93.0|         19| [1.0,1.0,45.07327...|     [-1.5339445285816...|\n",
      "|          1|            1|45.0732745|7.680687483|        0.0|         4.0|          94.0|              93.0|         34| [1.0,1.0,45.07327...|     [-1.5339445285816...|\n",
      "|          1|            1|45.0732745|7.680687483|        0.0|         4.0|          94.0|              93.0|         49| [1.0,1.0,45.07327...|     [-1.5339445285816...|\n",
      "|          1|            1|45.0732745|7.680687483|        0.0|         4.0|          94.0|              93.0|         55| [1.0,1.0,45.07327...|     [-1.5339445285816...|\n",
      "|          1|            1|45.0732745|7.680687483|        0.0|         4.0|          94.0|              93.0|         89| [1.0,1.0,45.07327...|     [-1.5339445285816...|\n",
      "|          1|            1|45.0732745|7.680687483|        0.0|         4.0|          94.0|              93.0|        111| [1.0,1.0,45.07327...|     [-1.5339445285816...|\n",
      "|          1|            1|45.0732745|7.680687483|        0.0|         4.0|          94.0|              93.0|        159| [1.0,1.0,45.07327...|     [-1.5339445285816...|\n",
      "|          1|            1|45.0732745|7.680687483|        0.0|         4.0|          94.0|              93.0|        187| [1.0,1.0,45.07327...|     [-1.5339445285816...|\n",
      "|          1|            1|45.0732745|7.680687483|        0.0|         4.0|          94.0|              93.0|        305| [1.0,1.0,45.07327...|     [-1.5339445285816...|\n",
      "|          1|            1|45.0732745|7.680687483|        0.0|         4.0|          94.0|              93.0|        359| [1.0,1.0,45.07327...|     [-1.5339445285816...|\n",
      "|          1|            1|45.0732745|7.680687483|        0.0|         4.0|          94.0|              93.0|        542| [1.0,1.0,45.07327...|     [-1.5339445285816...|\n",
      "|          1|            1|45.0732745|7.680687483|        0.0|         4.0|          94.0|              93.0|        749| [1.0,1.0,45.07327...|     [-1.5339445285816...|\n",
      "|          1|            1|45.0732745|7.680687483|        0.0|         4.0|          94.0|              93.0|       1042| [1.0,1.0,45.07327...|     [-1.5339445285816...|\n",
      "|          1|            1|45.0732745|7.680687483|        0.0|         4.0|          94.0|              93.0|       1556| [1.0,1.0,45.07327...|     [-1.5339445285816...|\n",
      "+-----------+-------------+----------+-----------+-----------+------------+--------------+------------------+-----------+---------------------+-------------------------+\n",
      "only showing top 20 rows\n",
      "\n"
     ]
    }
   ],
   "source": [
    "normalized_df = pipeline.fit(train_df).transform(train_df)\n",
    "normalized_df.show()"
   ]
  },
  {
   "cell_type": "code",
   "execution_count": 171,
   "metadata": {},
   "outputs": [
    {
     "name": "stdout",
     "output_type": "stream",
     "text": [
      "+-------------------------+-----------+\n",
      "|scaled_assembled_features|total_cases|\n",
      "+-------------------------+-----------+\n",
      "|     [-1.5339445285816...|          0|\n",
      "|     [-1.5339445285816...|          2|\n",
      "|     [-1.5339445285816...|          3|\n",
      "|     [-1.5339445285816...|          6|\n",
      "|     [-1.5339445285816...|          7|\n",
      "|     [-1.5339445285816...|         11|\n",
      "|     [-1.5339445285816...|         19|\n",
      "|     [-1.5339445285816...|         34|\n",
      "|     [-1.5339445285816...|         49|\n",
      "|     [-1.5339445285816...|         55|\n",
      "|     [-1.5339445285816...|         89|\n",
      "|     [-1.5339445285816...|        111|\n",
      "|     [-1.5339445285816...|        159|\n",
      "|     [-1.5339445285816...|        187|\n",
      "|     [-1.5339445285816...|        305|\n",
      "|     [-1.5339445285816...|        359|\n",
      "|     [-1.5339445285816...|        542|\n",
      "|     [-1.5339445285816...|        749|\n",
      "|     [-1.5339445285816...|       1042|\n",
      "|     [-1.5339445285816...|       1556|\n",
      "+-------------------------+-----------+\n",
      "only showing top 20 rows\n",
      "\n"
     ]
    }
   ],
   "source": [
    "# Select only the relevant columns for regression\n",
    "selected_columns = [\"scaled_assembled_features\", \"total_cases\"]\n",
    "regression_df = normalized_df.select(selected_columns)\n",
    "\n",
    "regression_df.show()"
   ]
  },
  {
   "cell_type": "markdown",
   "metadata": {},
   "source": [
    "<h3 style=\"color:#0FCBC6\"> Recap: </h3>\n",
    "<div style=\"margin-top: -20px;\">\n",
    "A solver corresponds to the optimization techniques to find the optimal parameter values that minimize the chosen objective function => reduce the Loss. <br>\n",
    "\n",
    "For instance, a LinearRegression model with Limited-memory Broyden-Fletcher-Goldfarb-Shanno \"l-bfgs\" solver. <br>\n",
    "=> instead of default  \"auto\", that usually leads to warnings. <br>\n",
    "Quasi-Newton solver called \"normal\" is another available option. <br>"
   ]
  },
  {
   "cell_type": "code",
   "execution_count": 174,
   "metadata": {},
   "outputs": [
    {
     "name": "stdout",
     "output_type": "stream",
     "text": [
      "+-------------------------+-----------+-----------------+\n",
      "|scaled_assembled_features|total_cases|       prediction|\n",
      "+-------------------------+-----------+-----------------+\n",
      "|     [-1.5339445285816...|          0|1947.980239281093|\n",
      "|     [-1.5339445285816...|          2|1947.980239281093|\n",
      "|     [-1.5339445285816...|          3|1947.980239281093|\n",
      "|     [-1.5339445285816...|          6|1947.980239281093|\n",
      "|     [-1.5339445285816...|          7|1947.980239281093|\n",
      "|     [-1.5339445285816...|         11|1947.980239281093|\n",
      "|     [-1.5339445285816...|         19|1947.980239281093|\n",
      "|     [-1.5339445285816...|         34|1947.980239281093|\n",
      "|     [-1.5339445285816...|         49|1947.980239281093|\n",
      "|     [-1.5339445285816...|         55|1947.980239281093|\n",
      "|     [-1.5339445285816...|         89|1947.980239281093|\n",
      "|     [-1.5339445285816...|        111|1947.980239281093|\n",
      "|     [-1.5339445285816...|        159|1947.980239281093|\n",
      "|     [-1.5339445285816...|        187|1947.980239281093|\n",
      "|     [-1.5339445285816...|        305|1947.980239281093|\n",
      "|     [-1.5339445285816...|        359|1947.980239281093|\n",
      "|     [-1.5339445285816...|        542|1947.980239281093|\n",
      "|     [-1.5339445285816...|        749|1947.980239281093|\n",
      "|     [-1.5339445285816...|       1042|1947.980239281093|\n",
      "|     [-1.5339445285816...|       1556|1947.980239281093|\n",
      "+-------------------------+-----------+-----------------+\n",
      "only showing top 20 rows\n",
      "\n"
     ]
    }
   ],
   "source": [
    "\"\"\" Define LinearRegression model \"\"\"\n",
    "lr = LinearRegression(featuresCol=\"scaled_assembled_features\", labelCol=\"total_cases\", solver=\"l-bfgs\")\n",
    "\n",
    "# Train the model on the regression data\n",
    "lr_model = lr.fit(regression_df)\n",
    "\n",
    "# Make predictions on the regression data\n",
    "predictions = lr_model.transform(regression_df)\n",
    "\n",
    "# Show the predictions\n",
    "predictions.show()"
   ]
  }
 ],
 "metadata": {
  "kernelspec": {
   "display_name": "MLearning",
   "language": "python",
   "name": "python3"
  },
  "language_info": {
   "codemirror_mode": {
    "name": "ipython",
    "version": 3
   },
   "file_extension": ".py",
   "mimetype": "text/x-python",
   "name": "python",
   "nbconvert_exporter": "python",
   "pygments_lexer": "ipython3",
   "version": "3.10.9"
  },
  "orig_nbformat": 4
 },
 "nbformat": 4,
 "nbformat_minor": 2
}
