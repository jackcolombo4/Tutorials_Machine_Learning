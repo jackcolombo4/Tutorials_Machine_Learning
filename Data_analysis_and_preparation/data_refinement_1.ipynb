{
 "cells": [
  {
   "cell_type": "markdown",
   "metadata": {},
   "source": [
    "<div style=\"line-height:0.5\">\n",
    "<h1 style=\"color:#E74C3C\"> Data exploration 1 </h1>\n",
    "</div>\n",
    "<div style=\"line-height:1.5\">\n",
    "<div style=\"margin-top: -10px;\">\n",
    "<span style=\"display: inline-block;\">\n",
    "    <h3 style=\"color: lightblue; display: inline;\">Keywords:</h3> csv + scipy.signal + startswith\n",
    "</span>\n",
    "</div>\n",
    "</div>"
   ]
  },
  {
   "cell_type": "code",
   "execution_count": 53,
   "metadata": {},
   "outputs": [],
   "source": [
    "import csv\n",
    "import random\n",
    "import numpy as np\n",
    "from copy import copy\n",
    "from pprint import pprint\n",
    "from matplotlib import pyplot as plt\n",
    "\n",
    "import pandas as pd\n",
    "from pandas import Series as se\n",
    "from pandas import DataFrame as da\n",
    "\n",
    "from scipy.signal import find_peaks, peak_prominences, peak_widths, argrelextrema"
   ]
  },
  {
   "cell_type": "code",
   "execution_count": 17,
   "metadata": {},
   "outputs": [],
   "source": [
    "\"\"\" Open both input and output files \"\"\"\n",
    "with open('./datasets_used/hug_acquis.csv', 'r') as f_input, open('./datasets_used/hug_acquisitions_22.csv', 'w', newline='') as f_output:\n",
    "    ## Create CSV reader and writer objects\n",
    "    reader = csv.reader(f_input, delimiter=';')\n",
    "    writer = csv.writer(f_output, delimiter=';')\n",
    "    for row in reader:\n",
    "        if not row or row[0].startswith('LOOP'): #blank or starts with \"LOOP\"?\n",
    "            continue  \n",
    "        # Write the row to output\n",
    "        writer.writerow(row) "
   ]
  },
  {
   "cell_type": "code",
   "execution_count": 18,
   "metadata": {},
   "outputs": [
    {
     "name": "stdout",
     "output_type": "stream",
     "text": [
      "int64\n"
     ]
    },
    {
     "data": {
      "text/html": [
       "<div>\n",
       "<style scoped>\n",
       "    .dataframe tbody tr th:only-of-type {\n",
       "        vertical-align: middle;\n",
       "    }\n",
       "\n",
       "    .dataframe tbody tr th {\n",
       "        vertical-align: top;\n",
       "    }\n",
       "\n",
       "    .dataframe thead th {\n",
       "        text-align: right;\n",
       "    }\n",
       "</style>\n",
       "<table border=\"1\" class=\"dataframe\">\n",
       "  <thead>\n",
       "    <tr style=\"text-align: right;\">\n",
       "      <th></th>\n",
       "      <th>front_left_pressure_voltage</th>\n",
       "      <th>front_right_pressure_voltage</th>\n",
       "      <th>right_pressure_voltage</th>\n",
       "      <th>back_pressure_voltage</th>\n",
       "      <th>left_pressure_voltage</th>\n",
       "      <th>gyroscope_1_voltage</th>\n",
       "      <th>gyroscope_2_voltage</th>\n",
       "    </tr>\n",
       "  </thead>\n",
       "  <tbody>\n",
       "    <tr>\n",
       "      <th>0</th>\n",
       "      <td>0.42</td>\n",
       "      <td>0.43</td>\n",
       "      <td>0.38</td>\n",
       "      <td>0.28</td>\n",
       "      <td>0.30</td>\n",
       "      <td>35</td>\n",
       "      <td>-136</td>\n",
       "    </tr>\n",
       "    <tr>\n",
       "      <th>1</th>\n",
       "      <td>0.44</td>\n",
       "      <td>0.44</td>\n",
       "      <td>0.41</td>\n",
       "      <td>0.30</td>\n",
       "      <td>0.63</td>\n",
       "      <td>49</td>\n",
       "      <td>-107</td>\n",
       "    </tr>\n",
       "    <tr>\n",
       "      <th>2</th>\n",
       "      <td>0.48</td>\n",
       "      <td>0.46</td>\n",
       "      <td>0.47</td>\n",
       "      <td>0.31</td>\n",
       "      <td>0.36</td>\n",
       "      <td>-62</td>\n",
       "      <td>-206</td>\n",
       "    </tr>\n",
       "    <tr>\n",
       "      <th>3</th>\n",
       "      <td>0.51</td>\n",
       "      <td>0.47</td>\n",
       "      <td>0.52</td>\n",
       "      <td>0.31</td>\n",
       "      <td>0.47</td>\n",
       "      <td>-30</td>\n",
       "      <td>-220</td>\n",
       "    </tr>\n",
       "    <tr>\n",
       "      <th>4</th>\n",
       "      <td>0.50</td>\n",
       "      <td>0.47</td>\n",
       "      <td>0.51</td>\n",
       "      <td>0.31</td>\n",
       "      <td>0.39</td>\n",
       "      <td>52</td>\n",
       "      <td>-153</td>\n",
       "    </tr>\n",
       "  </tbody>\n",
       "</table>\n",
       "</div>"
      ],
      "text/plain": [
       "   front_left_pressure_voltage  front_right_pressure_voltage  \\\n",
       "0                         0.42                          0.43   \n",
       "1                         0.44                          0.44   \n",
       "2                         0.48                          0.46   \n",
       "3                         0.51                          0.47   \n",
       "4                         0.50                          0.47   \n",
       "\n",
       "   right_pressure_voltage  back_pressure_voltage  left_pressure_voltage  \\\n",
       "0                    0.38                   0.28                   0.30   \n",
       "1                    0.41                   0.30                   0.63   \n",
       "2                    0.47                   0.31                   0.36   \n",
       "3                    0.52                   0.31                   0.47   \n",
       "4                    0.51                   0.31                   0.39   \n",
       "\n",
       "   gyroscope_1_voltage  gyroscope_2_voltage  \n",
       "0                   35                 -136  \n",
       "1                   49                 -107  \n",
       "2                  -62                 -206  \n",
       "3                  -30                 -220  \n",
       "4                   52                 -153  "
      ]
     },
     "execution_count": 18,
     "metadata": {},
     "output_type": "execute_result"
    }
   ],
   "source": [
    "\"\"\" Read csv \"\"\"\n",
    "df_hug = pd.read_csv(\"./datasets_used/hug_acquisitions_22.csv\", header=None, skiprows=None, sep=';')\n",
    "df_hug.head()\n",
    "df_hug.columns = ['front_left_pressure_voltage', 'front_right_pressure_voltage', 'right_pressure_voltage', \n",
    "                'back_pressure_voltage', 'left_pressure_voltage', 'gyroscope_1_voltage', 'gyroscope_2_voltage']\n",
    "\n",
    "df_hug.iloc[:, :5] = df_hug.iloc[:, :5].astype(float)\n",
    "\n",
    "col_dtype = df_hug['gyroscope_1_voltage'].dtype\n",
    "\n",
    "print(col_dtype)\n",
    "df_hug.head()"
   ]
  },
  {
   "cell_type": "code",
   "execution_count": 19,
   "metadata": {},
   "outputs": [
    {
     "name": "stdout",
     "output_type": "stream",
     "text": [
      "[1047, 963, 693, 1317, 514, 883, 903, 1211, 849, 1195, 1044, 1011, 496, 703, 1048, 1239, 1070, 1236, 1358, 831, 225, 643, 220, 1232, 211, 17, 1251, 871, 394, 709]\n"
     ]
    },
    {
     "data": {
      "text/html": [
       "<div>\n",
       "<style scoped>\n",
       "    .dataframe tbody tr th:only-of-type {\n",
       "        vertical-align: middle;\n",
       "    }\n",
       "\n",
       "    .dataframe tbody tr th {\n",
       "        vertical-align: top;\n",
       "    }\n",
       "\n",
       "    .dataframe thead th {\n",
       "        text-align: right;\n",
       "    }\n",
       "</style>\n",
       "<table border=\"1\" class=\"dataframe\">\n",
       "  <thead>\n",
       "    <tr style=\"text-align: right;\">\n",
       "      <th></th>\n",
       "      <th>front_left_pressure_voltage</th>\n",
       "      <th>front_right_pressure_voltage</th>\n",
       "      <th>right_pressure_voltage</th>\n",
       "      <th>back_pressure_voltage</th>\n",
       "      <th>left_pressure_voltage</th>\n",
       "      <th>gyroscope_1_voltage</th>\n",
       "      <th>gyroscope_2_voltage</th>\n",
       "    </tr>\n",
       "  </thead>\n",
       "  <tbody>\n",
       "    <tr>\n",
       "      <th>1047</th>\n",
       "      <td>0.41</td>\n",
       "      <td>0.30</td>\n",
       "      <td>0.43</td>\n",
       "      <td>0.22</td>\n",
       "      <td>0.31</td>\n",
       "      <td>52</td>\n",
       "      <td>-146</td>\n",
       "    </tr>\n",
       "    <tr>\n",
       "      <th>963</th>\n",
       "      <td>0.33</td>\n",
       "      <td>0.29</td>\n",
       "      <td>0.45</td>\n",
       "      <td>0.21</td>\n",
       "      <td>0.27</td>\n",
       "      <td>55</td>\n",
       "      <td>-148</td>\n",
       "    </tr>\n",
       "    <tr>\n",
       "      <th>693</th>\n",
       "      <td>0.43</td>\n",
       "      <td>0.33</td>\n",
       "      <td>0.46</td>\n",
       "      <td>0.23</td>\n",
       "      <td>0.33</td>\n",
       "      <td>53</td>\n",
       "      <td>-152</td>\n",
       "    </tr>\n",
       "    <tr>\n",
       "      <th>1317</th>\n",
       "      <td>0.32</td>\n",
       "      <td>0.29</td>\n",
       "      <td>0.51</td>\n",
       "      <td>0.21</td>\n",
       "      <td>0.32</td>\n",
       "      <td>55</td>\n",
       "      <td>-148</td>\n",
       "    </tr>\n",
       "    <tr>\n",
       "      <th>514</th>\n",
       "      <td>0.39</td>\n",
       "      <td>0.32</td>\n",
       "      <td>0.51</td>\n",
       "      <td>0.26</td>\n",
       "      <td>0.38</td>\n",
       "      <td>54</td>\n",
       "      <td>-148</td>\n",
       "    </tr>\n",
       "  </tbody>\n",
       "</table>\n",
       "</div>"
      ],
      "text/plain": [
       "      front_left_pressure_voltage  front_right_pressure_voltage  \\\n",
       "1047                         0.41                          0.30   \n",
       "963                          0.33                          0.29   \n",
       "693                          0.43                          0.33   \n",
       "1317                         0.32                          0.29   \n",
       "514                          0.39                          0.32   \n",
       "\n",
       "      right_pressure_voltage  back_pressure_voltage  left_pressure_voltage  \\\n",
       "1047                    0.43                   0.22                   0.31   \n",
       "963                     0.45                   0.21                   0.27   \n",
       "693                     0.46                   0.23                   0.33   \n",
       "1317                    0.51                   0.21                   0.32   \n",
       "514                     0.51                   0.26                   0.38   \n",
       "\n",
       "      gyroscope_1_voltage  gyroscope_2_voltage  \n",
       "1047                   52                 -146  \n",
       "963                    55                 -148  \n",
       "693                    53                 -152  \n",
       "1317                   55                 -148  \n",
       "514                    54                 -148  "
      ]
     },
     "execution_count": 19,
     "metadata": {},
     "output_type": "execute_result"
    }
   ],
   "source": [
    "# Get a list of 30 random row indexes\n",
    "random_ind = [random.randint(0, len(df_hug)-1) for i in range(30)] \n",
    "print(random_ind)\n",
    "# Get df rows of found indexes \n",
    "df = df_hug.loc[random_ind]\n",
    "df.head()"
   ]
  },
  {
   "cell_type": "code",
   "execution_count": 20,
   "metadata": {},
   "outputs": [
    {
     "name": "stdout",
     "output_type": "stream",
     "text": [
      "\n",
      "front_left_pressure_voltage       0.35\n",
      "front_right_pressure_voltage      0.30\n",
      "right_pressure_voltage            0.42\n",
      "back_pressure_voltage             0.22\n",
      "left_pressure_voltage             0.24\n",
      "gyroscope_1_voltage              56.00\n",
      "gyroscope_2_voltage            -145.00\n",
      "Name: 709, dtype: float64\n"
     ]
    }
   ],
   "source": [
    "# Get the last sample\n",
    "if 1022 in df.index:\n",
    "    print(df.loc[1022])\n",
    "print()\n",
    "print(df.iloc[-1])"
   ]
  },
  {
   "cell_type": "code",
   "execution_count": 21,
   "metadata": {},
   "outputs": [
    {
     "data": {
      "text/plain": [
       "array([   3,   21,   24,   28,   32,   55,   79,   90,   92,   94,  111,\n",
       "        128,  131,  136,  144,  151,  154,  159,  167,  170,  176,  184,\n",
       "        187,  190,  192,  195,  205,  212,  228,  239,  250,  255,  266,\n",
       "        275,  285,  288,  297,  308,  320,  343,  359,  366,  382,  396,\n",
       "        419,  435,  440,  444,  453,  467,  474,  480,  483,  502,  515,\n",
       "        518,  520,  522,  531,  533,  545,  554,  556,  561,  573,  579,\n",
       "        590,  595,  613,  617,  619,  627,  630,  638,  646,  655,  659,\n",
       "        674,  691,  698,  703,  706,  711,  718,  721,  725,  730,  735,\n",
       "        738,  743,  752,  755,  761,  777,  783,  797,  817,  821,  839,\n",
       "        845,  857,  867,  873,  886,  901,  906,  912,  916,  918,  921,\n",
       "        932,  935,  943,  949,  954,  966,  973,  983,  988,  993, 1000,\n",
       "       1007, 1012, 1019, 1027, 1030, 1061, 1066, 1071, 1074, 1077, 1079,\n",
       "       1082, 1091, 1097, 1100, 1105, 1107, 1110, 1120, 1136, 1142, 1152,\n",
       "       1160, 1165, 1183, 1186, 1207, 1214, 1217, 1219, 1230, 1236, 1245,\n",
       "       1254, 1261, 1264, 1274, 1286, 1289, 1292, 1296, 1302, 1310, 1313,\n",
       "       1315, 1318, 1324, 1329, 1338, 1341, 1344, 1348, 1353, 1361, 1364,\n",
       "       1368])"
      ]
     },
     "execution_count": 21,
     "metadata": {},
     "output_type": "execute_result"
    }
   ],
   "source": [
    "\"\"\" Find peaks inside a signal based on peak properties. \n",
    "It takes a 1D array and finds all local maxima by simple comparison of neighboring values. \n",
    "\"\"\"\n",
    "pp, _ = (find_peaks(df_hug['front_left_pressure_voltage'], threshold=-0.15))\n",
    "pp"
   ]
  },
  {
   "cell_type": "code",
   "execution_count": 22,
   "metadata": {},
   "outputs": [
    {
     "name": "stdout",
     "output_type": "stream",
     "text": [
      "(array([   3,   21,   24,   28,   79,   90,   92,   94,  111,  128,  151,\n",
      "        154,  159,  170,  176,  184,  187,  190,  192,  212,  228,  239,\n",
      "        275,  285,  308,  320,  343,  435,  444,  467,  474,  480,  518,\n",
      "        520,  531,  533,  554,  556,  579,  590,  613,  617,  619,  646,\n",
      "        655,  674,  691,  703,  738,  743,  752,  821,  839,  857,  873,\n",
      "        916,  918,  935,  943,  983,  988,  993, 1000, 1012, 1019, 1030,\n",
      "       1061, 1066, 1074, 1077, 1082, 1091, 1100, 1105, 1110, 1120, 1165,\n",
      "       1207, 1217, 1236, 1245, 1254, 1286, 1289, 1313, 1318, 1324, 1329,\n",
      "       1361, 1364, 1368]),)\n",
      "\n",
      "[   3   21   24   28   79   90   92   94  111  128  151  154  159  170\n",
      "  176  184  187  190  192  212  228  239  275  285  308  320  343  435\n",
      "  444  467  474  480  518  520  531  533  554  556  579  590  613  617\n",
      "  619  646  655  674  691  703  738  743  752  821  839  857  873  916\n",
      "  918  935  943  983  988  993 1000 1012 1019 1030 1061 1066 1074 1077\n",
      " 1082 1091 1100 1105 1110 1120 1165 1207 1217 1236 1245 1254 1286 1289\n",
      " 1313 1318 1324 1329 1361 1364 1368]\n"
     ]
    }
   ],
   "source": [
    "\"\"\" Calculate the relative extrema of data colums \"\"\"\n",
    "peak_indexes = argrelextrema(df_hug['front_left_pressure_voltage'].values, np.greater)\n",
    "#peak_indexes = peak_indexes[0]\n",
    "\n",
    "#print(df_hug['front_left_pressure_voltage'][110:120])\n",
    "print(peak_indexes)\n",
    "print()\n",
    "peak_indexes = peak_indexes[0]\n",
    "print(peak_indexes)"
   ]
  },
  {
   "cell_type": "code",
   "execution_count": 23,
   "metadata": {},
   "outputs": [
    {
     "name": "stdout",
     "output_type": "stream",
     "text": [
      "Local maxima indices: (array([   1,    4,    7,   10,   14,   16,   21,   33,   35,   37,   41,\n",
      "         43,   45,   49,   51,   54,   60,   66,   69,   72,   74,   77,\n",
      "         82,   87,   92,   96,  101,  105,  107,  109,  114,  121,  125,\n",
      "        127,  130,  132,  136,  142,  152,  157,  159,  163,  165,  173,\n",
      "        176,  179,  182,  186,  188,  191,  195,  200,  204,  207,  211,\n",
      "        214,  216,  219,  226,  229,  231,  234,  236,  238,  243,  246,\n",
      "        248,  250,  256,  258,  261,  263,  267,  271,  274,  276,  278,\n",
      "        281,  291,  293,  295,  299,  314,  316,  318,  323,  326,  328,\n",
      "        332,  334,  340,  343,  345,  347,  350,  355,  361,  363,  367,\n",
      "        371,  373,  376,  381,  384,  386,  389,  392,  395,  398,  403,\n",
      "        406,  409,  415,  418,  422,  429,  431,  433,  436,  440,  448,\n",
      "        450,  455,  459,  462,  464,  466,  470,  474,  476,  485,  489,\n",
      "        492,  495,  497,  500,  503,  505,  507,  514,  516,  518,  522,\n",
      "        524,  526,  529,  534,  536,  540,  542,  545,  547,  554,  557,\n",
      "        559,  562,  565,  567,  571,  573,  577,  585,  587,  589,  594,\n",
      "        596,  599,  601,  603,  607,  610,  617,  621,  627,  630,  633,\n",
      "        636,  639,  643,  649,  651,  654,  657,  661,  663,  665,  668,\n",
      "        670,  675,  678,  687,  689,  691,  694,  698,  702,  704,  709,\n",
      "        713,  715,  719,  723,  726,  728,  732,  739,  742,  744,  748,\n",
      "        751,  754,  756,  759,  763,  770,  773,  779,  782,  785,  790,\n",
      "        792,  796,  799,  801,  804,  808,  811,  815,  818,  821,  823,\n",
      "        828,  831,  833,  835,  839,  841,  846,  849,  851,  855,  857,\n",
      "        864,  870,  873,  876,  881,  884,  887,  896,  898,  900,  903,\n",
      "        905,  908,  911,  914,  918,  921,  923,  927,  930,  936,  940,\n",
      "        942,  945,  949,  951,  955,  967,  969,  971,  973,  975,  979,\n",
      "        984,  988,  991,  993,  996,  998, 1004, 1007, 1009, 1012, 1015,\n",
      "       1020, 1023, 1026, 1029, 1031, 1035, 1038, 1041, 1048, 1050, 1059,\n",
      "       1066, 1068, 1070, 1074, 1079, 1082, 1091, 1099, 1102, 1106, 1108,\n",
      "       1111, 1114, 1117, 1121, 1123, 1125, 1128, 1130, 1132, 1134, 1142,\n",
      "       1144, 1146, 1148, 1151, 1154, 1157, 1162, 1164, 1166, 1169, 1175,\n",
      "       1181, 1183, 1187, 1189, 1193, 1196, 1199, 1202, 1204, 1207, 1209,\n",
      "       1212, 1214, 1216, 1218, 1220, 1222, 1226, 1230, 1232, 1235, 1237,\n",
      "       1240, 1243, 1245, 1247, 1250, 1255, 1257, 1260, 1263, 1267, 1269,\n",
      "       1272, 1274, 1279, 1281, 1283, 1287, 1290, 1296, 1298, 1301, 1304,\n",
      "       1307, 1309, 1312, 1315, 1318, 1320, 1324, 1337, 1340, 1342, 1346,\n",
      "       1350, 1352, 1355, 1362, 1364, 1368]),)\n"
     ]
    }
   ],
   "source": [
    "\"\"\" Find local max.\n",
    "N.B.\n",
    "Using 'np.argmax' will lead to the TypeError: only integer scalar arrays can be converted to a scalar index\n",
    "\"\"\"\n",
    "x = np.array(df_hug['gyroscope_1_voltage'], dtype=np.int64)\n",
    "maxima_indices = argrelextrema(x, np.greater) \n",
    "print('Local maxima indices:', maxima_indices)"
   ]
  },
  {
   "cell_type": "code",
   "execution_count": 24,
   "metadata": {},
   "outputs": [],
   "source": [
    "ar_hugs_0 = np.array(df_hug['front_left_pressure_voltage'])\n",
    "ar_hugs_1 = np.array(df_hug['front_right_pressure_voltage'])\n",
    "ar_hugs_2 = np.array(df_hug['right_pressure_voltage'])\n",
    "ar_hugs_3 = np.array(df_hug['back_pressure_voltage'])\n",
    "ar_hugs_4 = np.array(df_hug['left_pressure_voltage'])\n"
   ]
  },
  {
   "cell_type": "markdown",
   "metadata": {},
   "source": [
    "<h3 style=\"color:#E74C3C\"> => Divide list into chunks </h3>"
   ]
  },
  {
   "cell_type": "code",
   "execution_count": 25,
   "metadata": {},
   "outputs": [],
   "source": [
    "def chunks(l, n):\n",
    "    \"\"\" Split a list into smaller chunks of a specified size.\n",
    "\n",
    "    Parameters:\n",
    "        - List to be divided into chunks\n",
    "        - Size of each chunk\n",
    "\n",
    "    Returns:\n",
    "        Generator that yields the chunks of the original list\n",
    "    \"\"\" \n",
    "    n = max(1, n)\n",
    "    return (l[i:i+n] for i in range(0, len(l), n))"
   ]
  },
  {
   "cell_type": "code",
   "execution_count": 26,
   "metadata": {},
   "outputs": [
    {
     "data": {
      "text/plain": [
       "([array([0.42, 0.44, 0.48, 0.51, 0.5 , 0.5 , 0.5 , 0.5 , 0.49, 0.49, 0.49,\n",
       "         0.49, 0.49, 0.48, 0.47, 0.47, 0.46, 0.46, 0.46, 0.46, 0.46, 0.47,\n",
       "         0.46, 0.46, 0.47, 0.46, 0.46, 0.45, 0.46]),\n",
       "  array([0.45, 0.45, 0.47, 0.48, 0.48, 0.47, 0.47, 0.46, 0.45, 0.45, 0.45,\n",
       "         0.44, 0.43, 0.43, 0.42, 0.43, 0.43, 0.43, 0.43, 0.43, 0.43, 0.43,\n",
       "         0.43, 0.43, 0.43, 0.43, 0.43, 0.43, 0.43]),\n",
       "  array([0.43, 0.43, 0.43, 0.43, 0.43, 0.43, 0.43, 0.43, 0.43, 0.42, 0.41,\n",
       "         0.39, 0.34, 0.25, 0.23, 0.23, 0.26, 0.28, 0.29, 0.31, 0.31, 0.32,\n",
       "         0.31, 0.31, 0.31, 0.31, 0.31, 0.31, 0.3 ])],\n",
       " 48)"
      ]
     },
     "execution_count": 26,
     "metadata": {},
     "output_type": "execute_result"
    }
   ],
   "source": [
    "listone_hugs_scans0 = list(chunks(ar_hugs_0, 29))\n",
    "listone_hugs_scans1 = list(chunks(ar_hugs_1, 29))\n",
    "listone_hugs_scans2 = list(chunks(ar_hugs_2, 29))\n",
    "listone_hugs_scans3 = list(chunks(ar_hugs_3, 29))\n",
    "listone_hugs_scans4 = list(chunks(ar_hugs_4, 29))\n",
    "\n",
    "listone_hugs_scans0[:3], len(listone_hugs_scans0)"
   ]
  },
  {
   "cell_type": "code",
   "execution_count": 27,
   "metadata": {},
   "outputs": [
    {
     "name": "stdout",
     "output_type": "stream",
     "text": [
      "len(all_hugs) => 5\n"
     ]
    },
    {
     "data": {
      "text/plain": [
       "array([0.42, 0.44, 0.48, 0.51, 0.5 , 0.5 , 0.5 , 0.5 , 0.49, 0.49, 0.49,\n",
       "       0.49, 0.49, 0.48, 0.47, 0.47, 0.46, 0.46, 0.46, 0.46, 0.46, 0.47,\n",
       "       0.46, 0.46, 0.47, 0.46, 0.46, 0.45, 0.46])"
      ]
     },
     "execution_count": 27,
     "metadata": {},
     "output_type": "execute_result"
    }
   ],
   "source": [
    "whole_hugs = [[listone_hugs_scans0],[listone_hugs_scans1],[listone_hugs_scans2],[listone_hugs_scans3],[listone_hugs_scans4]]\n",
    "all_hugs = []\n",
    "all_hugs.append(listone_hugs_scans0)\n",
    "all_hugs.append(listone_hugs_scans1)\n",
    "all_hugs.append(listone_hugs_scans2)\n",
    "all_hugs.append(listone_hugs_scans3)\n",
    "all_hugs.append(listone_hugs_scans4)\n",
    "\n",
    "print(f\"len(all_hugs) => {len(all_hugs)}\")\n",
    "whole_hugs[0][0][0]\n"
   ]
  },
  {
   "cell_type": "markdown",
   "metadata": {},
   "source": [
    "<h3 style=\"color:#E74C3C\"> => Various operations on lists </h3>"
   ]
  },
  {
   "cell_type": "code",
   "execution_count": 28,
   "metadata": {},
   "outputs": [],
   "source": [
    "means_hugs = [[],[],[],[],[]]\n",
    "stds_hugs = [[],[],[],[],[]]\n",
    "maxs_hugs = [[],[],[],[],[]]\n",
    "mins_hugs = [[],[],[],[],[]]\n",
    "mods_hugs = [[],[],[],[],[]]\n",
    "modes_hugs = [[],[],[],[],[]]\n",
    "peaks_hugs = [[],[],[],[],[]]\n",
    "num_of_peaks_hugs = [[],[],[],[],[]]\n",
    "inters_hugs = [[],[],[],[],[]]\n",
    "promi_hugs = [[],[],[],[],[]]\n",
    "plateau_hugs = [[],[],[],[],[]]\n",
    "max_promi_hugs = [[],[],[],[],[]]\n",
    "width_hugs = [[],[],[],[],[]]\n",
    "max_width_hugs = [[],[],[],[],[]]"
   ]
  },
  {
   "cell_type": "code",
   "execution_count": 35,
   "metadata": {},
   "outputs": [
    {
     "data": {
      "text/plain": [
       "array([5])"
      ]
     },
     "execution_count": 35,
     "metadata": {},
     "output_type": "execute_result"
    }
   ],
   "source": [
    "for i in range(len(all_hugs)):\n",
    "    for j in range(len(all_hugs[i])):\n",
    "            peaks_hugs, _ = (find_peaks(all_hugs[i][j], threshold=0.01))\n",
    "        \n",
    "peaks_hugs"
   ]
  },
  {
   "cell_type": "code",
   "execution_count": 36,
   "metadata": {},
   "outputs": [
    {
     "data": {
      "text/plain": [
       "0.473"
      ]
     },
     "execution_count": 36,
     "metadata": {},
     "output_type": "execute_result"
    }
   ],
   "source": [
    "for i in range(len(all_hugs)):\n",
    "    for j in range(len(all_hugs[i])):\n",
    "            means_hugs[i].append(all_hugs[i][j].mean().round(3))    \n",
    "            stds_hugs[i].append(all_hugs[i][j].std().round(3))\n",
    "            maxs_hugs[i].append(all_hugs[i][j].max())\n",
    "            mins_hugs[i].append(all_hugs[i][j].min())\n",
    "            peaks_hugs, _ = (find_peaks(all_hugs[i][j], threshold=0.2))\n",
    "            prominences_hugs = peak_prominences(all_hugs[i][j], peaks_hugs)[0]\n",
    "\n",
    "means_hugs[0][0]"
   ]
  },
  {
   "cell_type": "code",
   "execution_count": 37,
   "metadata": {},
   "outputs": [],
   "source": [
    "for i in listone_hugs_scans0:\n",
    "    means_hugs.append(i.mean().round(3))\n",
    "    stds_hugs.append(i.std().round(3))\n",
    "    maxs_hugs.append(i.max())\n",
    "    mins_hugs.append(i.min())\n",
    "    pp_hugs, _ = (find_peaks(i, threshold=0.2))\n",
    "    prominences_hugs = peak_prominences(i, pp_hugs)[0]\n",
    "    plateau_hugs.append(pp_hugs)\n",
    "    promi_hugs.append(prominences_hugs)\n",
    "    if np.size(promi_hugs) > 0:\n",
    "        max_promi_hugs = max(promi_hugs)\n",
    "    else :\n",
    "        max_promi_hugs = 0\n",
    "    width_hugs = peak_widths(i, pp_hugs, rel_height=0.5)\n",
    "    if np.size(promi_hugs) > 0:\n",
    "        max_width_hugs = max(width_hugs)\n",
    "    else : \n",
    "        max_width_hugs = 0"
   ]
  },
  {
   "cell_type": "code",
   "execution_count": 40,
   "metadata": {},
   "outputs": [
    {
     "name": "stdout",
     "output_type": "stream",
     "text": [
      "=> promi_hugs:\n",
      "[[],\n",
      " [],\n",
      " [],\n",
      " [],\n",
      " [],\n",
      " array([], dtype=float64),\n",
      " array([], dtype=float64),\n",
      " array([], dtype=float64),\n",
      " array([], dtype=float64),\n",
      " array([], dtype=float64),\n",
      " array([], dtype=float64),\n",
      " array([], dtype=float64),\n",
      " array([], dtype=float64),\n",
      " array([], dtype=float64),\n",
      " array([], dtype=float64),\n",
      " array([], dtype=float64),\n",
      " array([], dtype=float64),\n",
      " array([], dtype=float64),\n",
      " array([], dtype=float64),\n",
      " array([], dtype=float64),\n",
      " array([], dtype=float64),\n",
      " array([], dtype=float64),\n",
      " array([], dtype=float64),\n",
      " array([], dtype=float64),\n",
      " array([], dtype=float64),\n",
      " array([], dtype=float64),\n",
      " array([], dtype=float64),\n",
      " array([], dtype=float64),\n",
      " array([], dtype=float64),\n",
      " array([], dtype=float64),\n",
      " array([], dtype=float64),\n",
      " array([], dtype=float64),\n",
      " array([], dtype=float64),\n",
      " array([], dtype=float64),\n",
      " array([], dtype=float64),\n",
      " array([], dtype=float64),\n",
      " array([], dtype=float64),\n",
      " array([], dtype=float64),\n",
      " array([], dtype=float64),\n",
      " array([], dtype=float64),\n",
      " array([], dtype=float64),\n",
      " array([], dtype=float64),\n",
      " array([], dtype=float64),\n",
      " array([], dtype=float64),\n",
      " array([], dtype=float64),\n",
      " array([], dtype=float64),\n",
      " array([], dtype=float64),\n",
      " array([], dtype=float64),\n",
      " array([], dtype=float64),\n",
      " array([], dtype=float64),\n",
      " array([], dtype=float64),\n",
      " array([], dtype=float64),\n",
      " array([], dtype=float64)]\n",
      "=> plateau_hugs:\n",
      "[[],\n",
      " [],\n",
      " [],\n",
      " [],\n",
      " [],\n",
      " array([], dtype=int64),\n",
      " array([], dtype=int64),\n",
      " array([], dtype=int64),\n",
      " array([], dtype=int64),\n",
      " array([], dtype=int64),\n",
      " array([], dtype=int64),\n",
      " array([], dtype=int64),\n",
      " array([], dtype=int64),\n",
      " array([], dtype=int64),\n",
      " array([], dtype=int64),\n",
      " array([], dtype=int64),\n",
      " array([], dtype=int64),\n",
      " array([], dtype=int64),\n",
      " array([], dtype=int64),\n",
      " array([], dtype=int64),\n",
      " array([], dtype=int64),\n",
      " array([], dtype=int64),\n",
      " array([], dtype=int64),\n",
      " array([], dtype=int64),\n",
      " array([], dtype=int64),\n",
      " array([], dtype=int64),\n",
      " array([], dtype=int64),\n",
      " array([], dtype=int64),\n",
      " array([], dtype=int64),\n",
      " array([], dtype=int64),\n",
      " array([], dtype=int64),\n",
      " array([], dtype=int64),\n",
      " array([], dtype=int64),\n",
      " array([], dtype=int64),\n",
      " array([], dtype=int64),\n",
      " array([], dtype=int64),\n",
      " array([], dtype=int64),\n",
      " array([], dtype=int64),\n",
      " array([], dtype=int64),\n",
      " array([], dtype=int64),\n",
      " array([], dtype=int64),\n",
      " array([], dtype=int64),\n",
      " array([], dtype=int64),\n",
      " array([], dtype=int64),\n",
      " array([], dtype=int64),\n",
      " array([], dtype=int64),\n",
      " array([], dtype=int64),\n",
      " array([], dtype=int64),\n",
      " array([], dtype=int64),\n",
      " array([], dtype=int64),\n",
      " array([], dtype=int64),\n",
      " array([], dtype=int64),\n",
      " array([], dtype=int64)]\n",
      "=> max_promi_hugs:\n",
      "0\n",
      "=> width_hugs:\n",
      "(array([], dtype=float64),\n",
      " array([], dtype=float64),\n",
      " array([], dtype=float64),\n",
      " array([], dtype=float64))\n",
      "=> max_width_hugs:\n",
      "0\n"
     ]
    }
   ],
   "source": [
    "print(\"=> promi_hugs:\")\n",
    "pprint(promi_hugs)\n",
    "print(\"=> plateau_hugs:\")\n",
    "pprint(plateau_hugs)\n",
    "print(\"=> max_promi_hugs:\")\n",
    "pprint(max_promi_hugs)\n",
    "print(\"=> width_hugs:\")\n",
    "pprint(width_hugs)\n",
    "print(\"=> max_width_hugs:\")\n",
    "pprint(max_width_hugs)"
   ]
  }
 ],
 "metadata": {
  "kernelspec": {
   "display_name": "MLearning",
   "language": "python",
   "name": "python3"
  },
  "language_info": {
   "codemirror_mode": {
    "name": "ipython",
    "version": 3
   },
   "file_extension": ".py",
   "mimetype": "text/x-python",
   "name": "python",
   "nbconvert_exporter": "python",
   "pygments_lexer": "ipython3",
   "version": "3.10.9"
  },
  "orig_nbformat": 4
 },
 "nbformat": 4,
 "nbformat_minor": 2
}
