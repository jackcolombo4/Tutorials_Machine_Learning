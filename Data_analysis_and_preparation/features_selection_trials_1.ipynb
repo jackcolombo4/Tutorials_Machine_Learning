{
 "cells": [
  {
   "cell_type": "markdown",
   "metadata": {},
   "source": [
    "<div style=\"line-height:0.5\">\n",
    "<h1 style=\"color:#214fa2\"> Feature selection 1 </h1>\n",
    "</div>\n",
    "<div style=\"line-height:1.5\">\n",
    "<div style=\"margin-top: -10px;\">\n",
    "<span style=\"display: inline-block;\">\n",
    "    <h3 style=\"color: lightblue; display: inline;\">Keywords:</h3> feature_engine \n",
    "</span>\n",
    "</div>\n",
    "</div>"
   ]
  },
  {
   "cell_type": "code",
   "execution_count": 20,
   "metadata": {},
   "outputs": [],
   "source": [
    "import pandas as pd\n",
    "from sklearn.model_selection import train_test_split\n",
    "from feature_engine.datasets import load_titanic\n",
    "from feature_engine.selection import DropConstantFeatures, DropDuplicateFeatures"
   ]
  },
  {
   "attachments": {},
   "cell_type": "markdown",
   "metadata": {},
   "source": [
    "<h2 style=\"color:#214fa2\"> Example #1 </h2>\n",
    "Drop Constant Features "
   ]
  },
  {
   "cell_type": "code",
   "execution_count": 11,
   "metadata": {},
   "outputs": [],
   "source": [
    "X, y = load_titanic(return_X_y_frame=True, handle_missing=True)\n",
    "X_train, X_test, y_train, y_test = train_test_split(X, y, test_size=0.3, random_state=0,)"
   ]
  },
  {
   "cell_type": "code",
   "execution_count": 12,
   "metadata": {},
   "outputs": [],
   "source": [
    "# Set up the transformer\n",
    "transformer = DropConstantFeatures(tol=0.7)"
   ]
  },
  {
   "cell_type": "code",
   "execution_count": 13,
   "metadata": {},
   "outputs": [],
   "source": [
    "# Train\n",
    "transformer.fit(X_train);"
   ]
  },
  {
   "cell_type": "code",
   "execution_count": 14,
   "metadata": {},
   "outputs": [
    {
     "data": {
      "text/plain": [
       "['parch', 'cabin', 'embarked', 'body']"
      ]
     },
     "execution_count": 14,
     "metadata": {},
     "output_type": "execute_result"
    }
   ],
   "source": [
    "# Get useless features\n",
    "transformer.features_to_drop_"
   ]
  },
  {
   "cell_type": "code",
   "execution_count": 15,
   "metadata": {},
   "outputs": [
    {
     "data": {
      "text/plain": [
       "S          0.711790\n",
       "C          0.195415\n",
       "Q          0.090611\n",
       "Missing    0.002183\n",
       "Name: embarked, dtype: float64"
      ]
     },
     "execution_count": 15,
     "metadata": {},
     "output_type": "execute_result"
    }
   ],
   "source": [
    "X_train['embarked'].value_counts(normalize = True)"
   ]
  },
  {
   "cell_type": "code",
   "execution_count": 16,
   "metadata": {},
   "outputs": [
    {
     "data": {
      "text/plain": [
       "0    0.771834\n",
       "1    0.125546\n",
       "2    0.086245\n",
       "3    0.005459\n",
       "4    0.004367\n",
       "5    0.003275\n",
       "6    0.002183\n",
       "9    0.001092\n",
       "Name: parch, dtype: float64"
      ]
     },
     "execution_count": 16,
     "metadata": {},
     "output_type": "execute_result"
    }
   ],
   "source": [
    "X_train['parch'].value_counts(normalize = True)"
   ]
  },
  {
   "cell_type": "code",
   "execution_count": 17,
   "metadata": {},
   "outputs": [
    {
     "name": "stdout",
     "output_type": "stream",
     "text": [
      "      pclass                               name     sex        age  sibsp  \\\n",
      "501        2  Mellinger, Miss. Madeleine Violet  female  13.000000      0   \n",
      "588        2                  Wells, Miss. Joan  female   4.000000      1   \n",
      "402        2     Duran y More, Miss. Florentina  female  30.000000      1   \n",
      "1193       3                 Scanlan, Mr. James    male  29.881135      0   \n",
      "686        3       Bradley, Miss. Bridget Delia  female  22.000000      0   \n",
      "\n",
      "             ticket     fare     boat  \\\n",
      "501          250644  19.5000       14   \n",
      "588           29103  23.0000       14   \n",
      "402   SC/PARIS 2148  13.8583       12   \n",
      "1193          36209   7.7250  Missing   \n",
      "686          334914   7.7250       13   \n",
      "\n",
      "                                              home.dest  \n",
      "501                            England / Bennington, VT  \n",
      "588                                Cornwall / Akron, OH  \n",
      "402                     Barcelona, Spain / Havana, Cuba  \n",
      "1193                                            Missing  \n",
      "686   Kingwilliamstown, Co Cork, Ireland Glens Falls...  \n"
     ]
    }
   ],
   "source": [
    "train_t = transformer.transform(X_train)\n",
    "test_t = transformer.transform(X_test)\n",
    "\n",
    "print(train_t.head())"
   ]
  },
  {
   "attachments": {},
   "cell_type": "markdown",
   "metadata": {},
   "source": [
    "<h2 style=\"color:#214fa2\"> Example #2 </h2>\n",
    "Drop Duplicate Features "
   ]
  },
  {
   "cell_type": "code",
   "execution_count": 18,
   "metadata": {},
   "outputs": [
    {
     "name": "stdout",
     "output_type": "stream",
     "text": [
      "      pclass     sex        age  sibsp  parch     fare    cabin embarked  \\\n",
      "501        2  female  13.000000      0      1  19.5000  Missing        S   \n",
      "588        2  female   4.000000      1      1  23.0000  Missing        S   \n",
      "402        2  female  30.000000      1      0  13.8583  Missing        C   \n",
      "1193       3    male  29.881135      0      0   7.7250  Missing        Q   \n",
      "686        3  female  22.000000      0      0   7.7250  Missing        Q   \n",
      "\n",
      "     sex_dup    age_dup  sibsp_dup  \n",
      "501   female  13.000000          0  \n",
      "588   female   4.000000          1  \n",
      "402   female  30.000000          1  \n",
      "1193    male  29.881135          0  \n",
      "686   female  22.000000          0  \n"
     ]
    }
   ],
   "source": [
    "data = load_titanic(handle_missing=True, predictors_only=True)\n",
    "\n",
    "#### Duplicate some columns\n",
    "data = pd.concat([data, data[['sex', 'age', 'sibsp']]], axis=1)\n",
    "data.columns = ['pclass', 'survived', 'sex', 'age',\n",
    "                'sibsp', 'parch', 'fare','cabin', 'embarked',\n",
    "                'sex_dup', 'age_dup', 'sibsp_dup']\n",
    "\n",
    "# Split dataset in training and test sets\n",
    "X_train, X_test, y_train, y_test = train_test_split(data.drop(['survived'], axis=1), \n",
    "                                                    data['survived'], test_size=0.3, random_state=0)\n",
    "\n",
    "print(X_train.head())"
   ]
  },
  {
   "cell_type": "code",
   "execution_count": null,
   "metadata": {},
   "outputs": [],
   "source": [
    "duplicate_remover = DropDuplicateFeatures()"
   ]
  },
  {
   "cell_type": "code",
   "execution_count": 26,
   "metadata": {},
   "outputs": [],
   "source": [
    "# Training \n",
    "duplicate_remover.fit(X_train);"
   ]
  },
  {
   "cell_type": "code",
   "execution_count": 27,
   "metadata": {},
   "outputs": [],
   "source": [
    "duplicate_features = duplicate_remover.features_to_drop_    #need to be fitted first!\n",
    "duplicate_features"
   ]
  },
  {
   "cell_type": "code",
   "execution_count": 29,
   "metadata": {},
   "outputs": [],
   "source": [
    "train_t = duplicate_remover.transform(X_train)\n",
    "test_t = duplicate_remover.transform(X_test)"
   ]
  },
  {
   "cell_type": "code",
   "execution_count": 30,
   "metadata": {},
   "outputs": [
    {
     "data": {
      "text/plain": [
       "Index(['pclass', 'sex', 'age', 'sibsp', 'parch', 'fare', 'cabin', 'embarked'], dtype='object')"
      ]
     },
     "execution_count": 30,
     "metadata": {},
     "output_type": "execute_result"
    }
   ],
   "source": [
    "train_t.columns\n"
   ]
  },
  {
   "cell_type": "code",
   "execution_count": 31,
   "metadata": {},
   "outputs": [
    {
     "data": {
      "text/plain": [
       "[{'sex', 'sex_dup'}, {'age', 'age_dup'}, {'sibsp', 'sibsp_dup'}]"
      ]
     },
     "execution_count": 31,
     "metadata": {},
     "output_type": "execute_result"
    }
   ],
   "source": [
    "duplicate_remover.duplicated_feature_sets_\n"
   ]
  }
 ],
 "metadata": {
  "kernelspec": {
   "display_name": "MLearning",
   "language": "python",
   "name": "python3"
  },
  "language_info": {
   "codemirror_mode": {
    "name": "ipython",
    "version": 3
   },
   "file_extension": ".py",
   "mimetype": "text/x-python",
   "name": "python",
   "nbconvert_exporter": "python",
   "pygments_lexer": "ipython3",
   "version": "3.10.9"
  },
  "orig_nbformat": 4
 },
 "nbformat": 4,
 "nbformat_minor": 2
}
