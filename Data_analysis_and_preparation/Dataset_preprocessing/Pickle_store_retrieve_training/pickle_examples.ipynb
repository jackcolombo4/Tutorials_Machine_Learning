{
 "cells": [
  {
   "attachments": {},
   "cell_type": "markdown",
   "metadata": {},
   "source": [
    "<div style=\"line-height:0.45\">\n",
    "<h1 style=\"color:#C512E9\"> Pickle (dump and load) examples  </h1>\n",
    "</div>"
   ]
  },
  {
   "cell_type": "code",
   "execution_count": 2,
   "metadata": {},
   "outputs": [],
   "source": [
    "import pickle"
   ]
  },
  {
   "attachments": {},
   "cell_type": "markdown",
   "metadata": {},
   "source": [
    "<h2 style=\"color:#C512E9\"> <u> Example #1 </u></h2>"
   ]
  },
  {
   "cell_type": "code",
   "execution_count": 6,
   "metadata": {},
   "outputs": [],
   "source": [
    "class Person:\n",
    "\tdef __init__(self, name, age):\n",
    "\t\tself.name = name\n",
    "\t\tself.age = age\n",
    "\t\tself.add_nums()\n",
    "\tdef myfunc(self):\n",
    "\t\tprint(\"Hello my name is \" + self.name)\n",
    "\n",
    "\tdef add_nums(self):\n",
    "\t\tself.numbers = []\n",
    "\t\tfor i in range(5):\n",
    "\t\t\tself.numbers.append(i)"
   ]
  },
  {
   "cell_type": "code",
   "execution_count": 7,
   "metadata": {},
   "outputs": [],
   "source": [
    "def store_jobs(x):\n",
    "\tfilename_pk = './mypickle_giacomo.pk'\n",
    "\twith open(filename_pk, 'wb') as fi:\n",
    "\t# dump your data into the file\n",
    "\t\tpickle.dump(x, fi)\n",
    "\n",
    "class Giacomo(Person):\n",
    "\tdef add_nums(self):\n",
    "\t\tself.numbers = []\n",
    "\t\tfor i in range(5,10):\n",
    "\t\t\tself.numbers.append(i)"
   ]
  },
  {
   "cell_type": "code",
   "execution_count": 8,
   "metadata": {},
   "outputs": [
    {
     "name": "stdout",
     "output_type": "stream",
     "text": [
      "33\n",
      "Giacomo\n",
      "[5, 6, 7, 8, 9]\n"
     ]
    }
   ],
   "source": [
    "p1 = Person(\"John\", 10)\n",
    "g1 = Giacomo(\"Giacomo\", 33)\n",
    "\n",
    "store_jobs(g1)\n",
    "\n",
    "with open('./mypickle_giacomo.pk', 'rb') as f:\n",
    "\ty = pickle.load(f)\n",
    "\n",
    "print(y.age)\n",
    "print(y.name)\n",
    "print(y.numbers)"
   ]
  },
  {
   "attachments": {},
   "cell_type": "markdown",
   "metadata": {},
   "source": [
    "<h2 style=\"color:#C512E9\"> <u> Example #2 </u></h2>"
   ]
  },
  {
   "cell_type": "code",
   "execution_count": 3,
   "metadata": {},
   "outputs": [
    {
     "name": "stdout",
     "output_type": "stream",
     "text": [
      "Serialized Data: b'\\x80\\x04\\x95\\x1f\\x00\\x00\\x00\\x00\\x00\\x00\\x00}\\x94(\\x8c\\x04name\\x94\\x8c\\x08John Doe\\x94\\x8c\\x03age\\x94K\\x1eu.'\n"
     ]
    }
   ],
   "source": [
    "\"\"\" Serialize the data to a string. \"\"\"\n",
    "data = {'name': 'John Doe', 'age': 30}\n",
    "\n",
    "serialized_data = pickle.dumps(data)\n",
    "# Specify also the highest protocol version available for serialization\n",
    "#serialized_data = pickle.dumps(data, protocol=pickle.HIGHEST_PROTOCOL) \n",
    "print(\"Serialized Data:\", serialized_data)"
   ]
  },
  {
   "cell_type": "code",
   "execution_count": 4,
   "metadata": {},
   "outputs": [
    {
     "name": "stdout",
     "output_type": "stream",
     "text": [
      "Deserialized Data: {'name': 'John Doe', 'age': 30}\n"
     ]
    }
   ],
   "source": [
    "\"\"\"  Deserialize the data from the string. \"\"\"\n",
    "deserialized_data = pickle.loads(serialized_data)\n",
    "print(\"Deserialized Data:\", deserialized_data)"
   ]
  }
 ],
 "metadata": {
  "kernelspec": {
   "display_name": "MLearning",
   "language": "python",
   "name": "python3"
  },
  "language_info": {
   "codemirror_mode": {
    "name": "ipython",
    "version": 3
   },
   "file_extension": ".py",
   "mimetype": "text/x-python",
   "name": "python",
   "nbconvert_exporter": "python",
   "pygments_lexer": "ipython3",
   "version": "3.10.9"
  },
  "orig_nbformat": 4
 },
 "nbformat": 4,
 "nbformat_minor": 2
}
